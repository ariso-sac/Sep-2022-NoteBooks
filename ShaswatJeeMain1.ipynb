{
  "nbformat": 4,
  "nbformat_minor": 0,
  "metadata": {
    "colab": {
      "provenance": [],
      "include_colab_link": true
    },
    "kernelspec": {
      "display_name": "Python 3",
      "language": "python",
      "name": "python3"
    },
    "language_info": {
      "codemirror_mode": {
        "name": "ipython",
        "version": 3
      },
      "file_extension": ".py",
      "mimetype": "text/x-python",
      "name": "python",
      "nbconvert_exporter": "python",
      "pygments_lexer": "ipython3",
      "version": "3.7.7"
    }
  },
  "cells": [
    {
      "cell_type": "markdown",
      "metadata": {
        "id": "view-in-github",
        "colab_type": "text"
      },
      "source": [
        "<a href=\"https://colab.research.google.com/github/ariso-sac/Sep-2022-NoteBooks/blob/colab-week-2/ShaswatJeeMain1.ipynb\" target=\"_parent\"><img src=\"https://colab.research.google.com/assets/colab-badge.svg\" alt=\"Open In Colab\"/></a>"
      ]
    },
    {
      "cell_type": "code",
      "source": [
        "from bs4 import BeautifulSoup\n",
        "import pandas as pd\n",
        "\n",
        "# Opening the html file\n",
        "HTMLFile = open(\"index.html\", \"r\")\n",
        "  \n",
        "# Reading the file\n",
        "index = HTMLFile.read()\n",
        "  \n",
        "# Creating a BeautifulSoup object and specifying the parser\n",
        "soup = BeautifulSoup(index, 'html.parser')\n",
        "\n",
        "tables = soup.find_all(\"table\", {\"class\": \"questionPnlTbl\"})\n",
        "\n",
        "qids=[]\n",
        "qans=[]\n",
        "q_Answer_Id=[]\n",
        "qstatus=[]\n",
        "\n",
        "def ans_id(data):\n",
        "  ch=data[-1]\n",
        "  if ch=='1':\n",
        "    return data[5]\n",
        "  if ch=='2':\n",
        "    return data[7]\n",
        "  if ch=='3':\n",
        "    return data[9]\n",
        "  if ch=='4':\n",
        "    return data[11]\n",
        "\n",
        "for table in tables:\n",
        "  data=[]\n",
        "  flag=False\n",
        "  tops = table.find(\"table\", {\"class\": \"menu-tbl\"})\n",
        "  cols = tops.find_all('td')\n",
        "  cols = [ele.text.strip() for ele in cols]\n",
        "  data.append([ele for ele in cols if ele])\n",
        "  data=data[0]\n",
        "  if data[1]=='SA':\n",
        "    flag=True\n",
        "  else:\n",
        "      qids.append(data[3])\n",
        "      qans.append(data[-1])\n",
        "      qstatus.append(data[13])\n",
        "      q_Answer_Id.append(ans_id(data))\n",
        "      # print(data)\n",
        "  if flag:\n",
        "    # print(data)\n",
        "    store=[]\n",
        "    tab = table.find(\"table\", {\"class\": \"questionRowTbl\"})\n",
        "    cols = tab.find_all('td',{'class':\"bold\"})\n",
        "    val=cols[-1]\n",
        "    val=val.text.strip()\n",
        "    qids.append(data[3])\n",
        "    qans.append(val)\n",
        "    qstatus.append(data[5])\n",
        "    q_Answer_Id.append('NA')\n",
        "\n",
        "df=pd.DataFrame()\n",
        "\n",
        "df['Question_IDs']=qids\n",
        "df['Question_ANs']=qans\n",
        "df['Question_ANSWER_Id']=q_Answer_Id\n",
        "df['Question_Status']=qstatus\n",
        "\n",
        "df.to_csv('marks.csv',index=False)\n"
      ],
      "metadata": {
        "id": "0GkdRQvsZssz"
      },
      "execution_count": 1,
      "outputs": []
    },
    {
      "cell_type": "code",
      "source": [
        "from bs4 import BeautifulSoup\n",
        "import pandas as pd\n",
        "\n",
        "# Opening the html file\n",
        "HTMLFile = open(\"claim.html\", \"r\")\n",
        "  \n",
        "# Reading the file\n",
        "index = HTMLFile.read()\n",
        "  \n",
        "# Creating a BeautifulSoup object and specifying the parser\n",
        "soup = BeautifulSoup(index, 'html.parser')\n",
        "\n",
        "tops = soup.find(\"table\", {\"class\": \"table table-bordered table-condensed\"})\n",
        "\n",
        "rows=tops.find_all(\"tr\")\n",
        "\n",
        "len(rows)\n",
        "\n",
        "q_section=[]\n",
        "q_type=[]\n",
        "q_ids=[]\n",
        "q_correct=[]\n",
        "\n",
        "for row in rows:\n",
        "    data=[]\n",
        "    cols = row.find_all('td')\n",
        "    cols = [ele.text.strip() for ele in cols]\n",
        "    data.append([ele for ele in cols if ele]) # Get rid of empty values\n",
        "    if len(data[0])>1 and data[0][0][0]=='B':\n",
        "      # print(data[0][0])\n",
        "      q_section.append(data[0][0])\n",
        "      q_type.append(data[0][1])\n",
        "      q_ids.append(data[0][2])\n",
        "      q_correct.append(data[0][3])\n",
        "\n",
        "df=pd.DataFrame()\n",
        "\n",
        "df['Question_IDs']=q_ids\n",
        "df['Question_Section']=q_section\n",
        "df['Question_type']=q_type\n",
        "df['Question_Correct_Answer']=q_correct\n",
        "\n",
        "df.to_csv('correct.csv',index=False)"
      ],
      "metadata": {
        "id": "0koV8kS-Zsf8"
      },
      "execution_count": 2,
      "outputs": []
    },
    {
      "cell_type": "code",
      "source": [
        "import pandas as pd\n",
        "import seaborn as sns\n",
        "import matplotlib.pyplot as plt"
      ],
      "metadata": {
        "id": "8V5oCHnUXgWJ"
      },
      "execution_count": 3,
      "outputs": []
    },
    {
      "cell_type": "code",
      "source": [
        "resp=pd.read_csv('marks.csv')\n",
        "correct=pd.read_csv('correct.csv')"
      ],
      "metadata": {
        "id": "mUhKm0qwXgTM"
      },
      "execution_count": 4,
      "outputs": []
    },
    {
      "cell_type": "code",
      "source": [
        "resp.head()"
      ],
      "metadata": {
        "colab": {
          "base_uri": "https://localhost:8080/",
          "height": 206
        },
        "id": "ensZRCgVXgQM",
        "outputId": "6b4aaf7a-ceed-4fdc-989c-ecc6c3e5a4d8"
      },
      "execution_count": 5,
      "outputs": [
        {
          "output_type": "execute_result",
          "data": {
            "text/plain": [
              "   Question_IDs Question_ANs  Question_ANSWER_Id Question_Status\n",
              "0    3666941171            4        3.666944e+09        Answered\n",
              "1    3666941189           --                 NaN    Not Answered\n",
              "2    3666941185            4        3.666944e+09        Answered\n",
              "3    3666941184            2        3.666944e+09        Answered\n",
              "4    3666941176           --                 NaN    Not Answered"
            ],
            "text/html": [
              "\n",
              "  <div id=\"df-4b2ccedd-df8a-4031-b74c-2503fdfe70f6\">\n",
              "    <div class=\"colab-df-container\">\n",
              "      <div>\n",
              "<style scoped>\n",
              "    .dataframe tbody tr th:only-of-type {\n",
              "        vertical-align: middle;\n",
              "    }\n",
              "\n",
              "    .dataframe tbody tr th {\n",
              "        vertical-align: top;\n",
              "    }\n",
              "\n",
              "    .dataframe thead th {\n",
              "        text-align: right;\n",
              "    }\n",
              "</style>\n",
              "<table border=\"1\" class=\"dataframe\">\n",
              "  <thead>\n",
              "    <tr style=\"text-align: right;\">\n",
              "      <th></th>\n",
              "      <th>Question_IDs</th>\n",
              "      <th>Question_ANs</th>\n",
              "      <th>Question_ANSWER_Id</th>\n",
              "      <th>Question_Status</th>\n",
              "    </tr>\n",
              "  </thead>\n",
              "  <tbody>\n",
              "    <tr>\n",
              "      <th>0</th>\n",
              "      <td>3666941171</td>\n",
              "      <td>4</td>\n",
              "      <td>3.666944e+09</td>\n",
              "      <td>Answered</td>\n",
              "    </tr>\n",
              "    <tr>\n",
              "      <th>1</th>\n",
              "      <td>3666941189</td>\n",
              "      <td>--</td>\n",
              "      <td>NaN</td>\n",
              "      <td>Not Answered</td>\n",
              "    </tr>\n",
              "    <tr>\n",
              "      <th>2</th>\n",
              "      <td>3666941185</td>\n",
              "      <td>4</td>\n",
              "      <td>3.666944e+09</td>\n",
              "      <td>Answered</td>\n",
              "    </tr>\n",
              "    <tr>\n",
              "      <th>3</th>\n",
              "      <td>3666941184</td>\n",
              "      <td>2</td>\n",
              "      <td>3.666944e+09</td>\n",
              "      <td>Answered</td>\n",
              "    </tr>\n",
              "    <tr>\n",
              "      <th>4</th>\n",
              "      <td>3666941176</td>\n",
              "      <td>--</td>\n",
              "      <td>NaN</td>\n",
              "      <td>Not Answered</td>\n",
              "    </tr>\n",
              "  </tbody>\n",
              "</table>\n",
              "</div>\n",
              "      <button class=\"colab-df-convert\" onclick=\"convertToInteractive('df-4b2ccedd-df8a-4031-b74c-2503fdfe70f6')\"\n",
              "              title=\"Convert this dataframe to an interactive table.\"\n",
              "              style=\"display:none;\">\n",
              "        \n",
              "  <svg xmlns=\"http://www.w3.org/2000/svg\" height=\"24px\"viewBox=\"0 0 24 24\"\n",
              "       width=\"24px\">\n",
              "    <path d=\"M0 0h24v24H0V0z\" fill=\"none\"/>\n",
              "    <path d=\"M18.56 5.44l.94 2.06.94-2.06 2.06-.94-2.06-.94-.94-2.06-.94 2.06-2.06.94zm-11 1L8.5 8.5l.94-2.06 2.06-.94-2.06-.94L8.5 2.5l-.94 2.06-2.06.94zm10 10l.94 2.06.94-2.06 2.06-.94-2.06-.94-.94-2.06-.94 2.06-2.06.94z\"/><path d=\"M17.41 7.96l-1.37-1.37c-.4-.4-.92-.59-1.43-.59-.52 0-1.04.2-1.43.59L10.3 9.45l-7.72 7.72c-.78.78-.78 2.05 0 2.83L4 21.41c.39.39.9.59 1.41.59.51 0 1.02-.2 1.41-.59l7.78-7.78 2.81-2.81c.8-.78.8-2.07 0-2.86zM5.41 20L4 18.59l7.72-7.72 1.47 1.35L5.41 20z\"/>\n",
              "  </svg>\n",
              "      </button>\n",
              "      \n",
              "  <style>\n",
              "    .colab-df-container {\n",
              "      display:flex;\n",
              "      flex-wrap:wrap;\n",
              "      gap: 12px;\n",
              "    }\n",
              "\n",
              "    .colab-df-convert {\n",
              "      background-color: #E8F0FE;\n",
              "      border: none;\n",
              "      border-radius: 50%;\n",
              "      cursor: pointer;\n",
              "      display: none;\n",
              "      fill: #1967D2;\n",
              "      height: 32px;\n",
              "      padding: 0 0 0 0;\n",
              "      width: 32px;\n",
              "    }\n",
              "\n",
              "    .colab-df-convert:hover {\n",
              "      background-color: #E2EBFA;\n",
              "      box-shadow: 0px 1px 2px rgba(60, 64, 67, 0.3), 0px 1px 3px 1px rgba(60, 64, 67, 0.15);\n",
              "      fill: #174EA6;\n",
              "    }\n",
              "\n",
              "    [theme=dark] .colab-df-convert {\n",
              "      background-color: #3B4455;\n",
              "      fill: #D2E3FC;\n",
              "    }\n",
              "\n",
              "    [theme=dark] .colab-df-convert:hover {\n",
              "      background-color: #434B5C;\n",
              "      box-shadow: 0px 1px 3px 1px rgba(0, 0, 0, 0.15);\n",
              "      filter: drop-shadow(0px 1px 2px rgba(0, 0, 0, 0.3));\n",
              "      fill: #FFFFFF;\n",
              "    }\n",
              "  </style>\n",
              "\n",
              "      <script>\n",
              "        const buttonEl =\n",
              "          document.querySelector('#df-4b2ccedd-df8a-4031-b74c-2503fdfe70f6 button.colab-df-convert');\n",
              "        buttonEl.style.display =\n",
              "          google.colab.kernel.accessAllowed ? 'block' : 'none';\n",
              "\n",
              "        async function convertToInteractive(key) {\n",
              "          const element = document.querySelector('#df-4b2ccedd-df8a-4031-b74c-2503fdfe70f6');\n",
              "          const dataTable =\n",
              "            await google.colab.kernel.invokeFunction('convertToInteractive',\n",
              "                                                     [key], {});\n",
              "          if (!dataTable) return;\n",
              "\n",
              "          const docLinkHtml = 'Like what you see? Visit the ' +\n",
              "            '<a target=\"_blank\" href=https://colab.research.google.com/notebooks/data_table.ipynb>data table notebook</a>'\n",
              "            + ' to learn more about interactive tables.';\n",
              "          element.innerHTML = '';\n",
              "          dataTable['output_type'] = 'display_data';\n",
              "          await google.colab.output.renderOutput(dataTable, element);\n",
              "          const docLink = document.createElement('div');\n",
              "          docLink.innerHTML = docLinkHtml;\n",
              "          element.appendChild(docLink);\n",
              "        }\n",
              "      </script>\n",
              "    </div>\n",
              "  </div>\n",
              "  "
            ]
          },
          "metadata": {},
          "execution_count": 5
        }
      ]
    },
    {
      "cell_type": "code",
      "source": [
        "correct.head()"
      ],
      "metadata": {
        "colab": {
          "base_uri": "https://localhost:8080/",
          "height": 206
        },
        "id": "MepTgSdPXgN4",
        "outputId": "813c6731-8f2e-4150-bb96-bb0b0169b9b4"
      },
      "execution_count": 6,
      "outputs": [
        {
          "output_type": "execute_result",
          "data": {
            "text/plain": [
              "   Question_IDs            Question_Section Question_type  \\\n",
              "0    3666941171  B TECH - Physics Section A     Objective   \n",
              "1    3666941172  B TECH - Physics Section A     Objective   \n",
              "2    3666941173  B TECH - Physics Section A     Objective   \n",
              "3    3666941174  B TECH - Physics Section A     Objective   \n",
              "4    3666941175  B TECH - Physics Section A     Objective   \n",
              "\n",
              "   Question_Correct_Answer  \n",
              "0               3666943514  \n",
              "1               3666943518  \n",
              "2               3666943521  \n",
              "3               3666943526  \n",
              "4               3666943528  "
            ],
            "text/html": [
              "\n",
              "  <div id=\"df-dc86fe15-e60d-44da-a442-6abcd7b882c1\">\n",
              "    <div class=\"colab-df-container\">\n",
              "      <div>\n",
              "<style scoped>\n",
              "    .dataframe tbody tr th:only-of-type {\n",
              "        vertical-align: middle;\n",
              "    }\n",
              "\n",
              "    .dataframe tbody tr th {\n",
              "        vertical-align: top;\n",
              "    }\n",
              "\n",
              "    .dataframe thead th {\n",
              "        text-align: right;\n",
              "    }\n",
              "</style>\n",
              "<table border=\"1\" class=\"dataframe\">\n",
              "  <thead>\n",
              "    <tr style=\"text-align: right;\">\n",
              "      <th></th>\n",
              "      <th>Question_IDs</th>\n",
              "      <th>Question_Section</th>\n",
              "      <th>Question_type</th>\n",
              "      <th>Question_Correct_Answer</th>\n",
              "    </tr>\n",
              "  </thead>\n",
              "  <tbody>\n",
              "    <tr>\n",
              "      <th>0</th>\n",
              "      <td>3666941171</td>\n",
              "      <td>B TECH - Physics Section A</td>\n",
              "      <td>Objective</td>\n",
              "      <td>3666943514</td>\n",
              "    </tr>\n",
              "    <tr>\n",
              "      <th>1</th>\n",
              "      <td>3666941172</td>\n",
              "      <td>B TECH - Physics Section A</td>\n",
              "      <td>Objective</td>\n",
              "      <td>3666943518</td>\n",
              "    </tr>\n",
              "    <tr>\n",
              "      <th>2</th>\n",
              "      <td>3666941173</td>\n",
              "      <td>B TECH - Physics Section A</td>\n",
              "      <td>Objective</td>\n",
              "      <td>3666943521</td>\n",
              "    </tr>\n",
              "    <tr>\n",
              "      <th>3</th>\n",
              "      <td>3666941174</td>\n",
              "      <td>B TECH - Physics Section A</td>\n",
              "      <td>Objective</td>\n",
              "      <td>3666943526</td>\n",
              "    </tr>\n",
              "    <tr>\n",
              "      <th>4</th>\n",
              "      <td>3666941175</td>\n",
              "      <td>B TECH - Physics Section A</td>\n",
              "      <td>Objective</td>\n",
              "      <td>3666943528</td>\n",
              "    </tr>\n",
              "  </tbody>\n",
              "</table>\n",
              "</div>\n",
              "      <button class=\"colab-df-convert\" onclick=\"convertToInteractive('df-dc86fe15-e60d-44da-a442-6abcd7b882c1')\"\n",
              "              title=\"Convert this dataframe to an interactive table.\"\n",
              "              style=\"display:none;\">\n",
              "        \n",
              "  <svg xmlns=\"http://www.w3.org/2000/svg\" height=\"24px\"viewBox=\"0 0 24 24\"\n",
              "       width=\"24px\">\n",
              "    <path d=\"M0 0h24v24H0V0z\" fill=\"none\"/>\n",
              "    <path d=\"M18.56 5.44l.94 2.06.94-2.06 2.06-.94-2.06-.94-.94-2.06-.94 2.06-2.06.94zm-11 1L8.5 8.5l.94-2.06 2.06-.94-2.06-.94L8.5 2.5l-.94 2.06-2.06.94zm10 10l.94 2.06.94-2.06 2.06-.94-2.06-.94-.94-2.06-.94 2.06-2.06.94z\"/><path d=\"M17.41 7.96l-1.37-1.37c-.4-.4-.92-.59-1.43-.59-.52 0-1.04.2-1.43.59L10.3 9.45l-7.72 7.72c-.78.78-.78 2.05 0 2.83L4 21.41c.39.39.9.59 1.41.59.51 0 1.02-.2 1.41-.59l7.78-7.78 2.81-2.81c.8-.78.8-2.07 0-2.86zM5.41 20L4 18.59l7.72-7.72 1.47 1.35L5.41 20z\"/>\n",
              "  </svg>\n",
              "      </button>\n",
              "      \n",
              "  <style>\n",
              "    .colab-df-container {\n",
              "      display:flex;\n",
              "      flex-wrap:wrap;\n",
              "      gap: 12px;\n",
              "    }\n",
              "\n",
              "    .colab-df-convert {\n",
              "      background-color: #E8F0FE;\n",
              "      border: none;\n",
              "      border-radius: 50%;\n",
              "      cursor: pointer;\n",
              "      display: none;\n",
              "      fill: #1967D2;\n",
              "      height: 32px;\n",
              "      padding: 0 0 0 0;\n",
              "      width: 32px;\n",
              "    }\n",
              "\n",
              "    .colab-df-convert:hover {\n",
              "      background-color: #E2EBFA;\n",
              "      box-shadow: 0px 1px 2px rgba(60, 64, 67, 0.3), 0px 1px 3px 1px rgba(60, 64, 67, 0.15);\n",
              "      fill: #174EA6;\n",
              "    }\n",
              "\n",
              "    [theme=dark] .colab-df-convert {\n",
              "      background-color: #3B4455;\n",
              "      fill: #D2E3FC;\n",
              "    }\n",
              "\n",
              "    [theme=dark] .colab-df-convert:hover {\n",
              "      background-color: #434B5C;\n",
              "      box-shadow: 0px 1px 3px 1px rgba(0, 0, 0, 0.15);\n",
              "      filter: drop-shadow(0px 1px 2px rgba(0, 0, 0, 0.3));\n",
              "      fill: #FFFFFF;\n",
              "    }\n",
              "  </style>\n",
              "\n",
              "      <script>\n",
              "        const buttonEl =\n",
              "          document.querySelector('#df-dc86fe15-e60d-44da-a442-6abcd7b882c1 button.colab-df-convert');\n",
              "        buttonEl.style.display =\n",
              "          google.colab.kernel.accessAllowed ? 'block' : 'none';\n",
              "\n",
              "        async function convertToInteractive(key) {\n",
              "          const element = document.querySelector('#df-dc86fe15-e60d-44da-a442-6abcd7b882c1');\n",
              "          const dataTable =\n",
              "            await google.colab.kernel.invokeFunction('convertToInteractive',\n",
              "                                                     [key], {});\n",
              "          if (!dataTable) return;\n",
              "\n",
              "          const docLinkHtml = 'Like what you see? Visit the ' +\n",
              "            '<a target=\"_blank\" href=https://colab.research.google.com/notebooks/data_table.ipynb>data table notebook</a>'\n",
              "            + ' to learn more about interactive tables.';\n",
              "          element.innerHTML = '';\n",
              "          dataTable['output_type'] = 'display_data';\n",
              "          await google.colab.output.renderOutput(dataTable, element);\n",
              "          const docLink = document.createElement('div');\n",
              "          docLink.innerHTML = docLinkHtml;\n",
              "          element.appendChild(docLink);\n",
              "        }\n",
              "      </script>\n",
              "    </div>\n",
              "  </div>\n",
              "  "
            ]
          },
          "metadata": {},
          "execution_count": 6
        }
      ]
    },
    {
      "cell_type": "code",
      "source": [
        "df = pd.merge(correct, resp, on=\"Question_IDs\")"
      ],
      "metadata": {
        "id": "ke_31sW1XgLP"
      },
      "execution_count": 7,
      "outputs": []
    },
    {
      "cell_type": "code",
      "source": [
        "df.head()"
      ],
      "metadata": {
        "colab": {
          "base_uri": "https://localhost:8080/",
          "height": 206
        },
        "id": "mL3Ido9fXgHe",
        "outputId": "a72048ba-b58d-4958-cd6d-388777fe1831"
      },
      "execution_count": 8,
      "outputs": [
        {
          "output_type": "execute_result",
          "data": {
            "text/plain": [
              "   Question_IDs            Question_Section Question_type  \\\n",
              "0    3666941171  B TECH - Physics Section A     Objective   \n",
              "1    3666941172  B TECH - Physics Section A     Objective   \n",
              "2    3666941173  B TECH - Physics Section A     Objective   \n",
              "3    3666941174  B TECH - Physics Section A     Objective   \n",
              "4    3666941175  B TECH - Physics Section A     Objective   \n",
              "\n",
              "   Question_Correct_Answer Question_ANs  Question_ANSWER_Id  \\\n",
              "0               3666943514            4        3.666944e+09   \n",
              "1               3666943518            3        3.666944e+09   \n",
              "2               3666943521            1        3.666944e+09   \n",
              "3               3666943526           --                 NaN   \n",
              "4               3666943528            4        3.666944e+09   \n",
              "\n",
              "                       Question_Status  \n",
              "0                             Answered  \n",
              "1                             Answered  \n",
              "2                             Answered  \n",
              "3  Not Attempted and Marked For Review  \n",
              "4                             Answered  "
            ],
            "text/html": [
              "\n",
              "  <div id=\"df-d54d4ec7-d34b-4590-a74f-4cb8d9fd8c27\">\n",
              "    <div class=\"colab-df-container\">\n",
              "      <div>\n",
              "<style scoped>\n",
              "    .dataframe tbody tr th:only-of-type {\n",
              "        vertical-align: middle;\n",
              "    }\n",
              "\n",
              "    .dataframe tbody tr th {\n",
              "        vertical-align: top;\n",
              "    }\n",
              "\n",
              "    .dataframe thead th {\n",
              "        text-align: right;\n",
              "    }\n",
              "</style>\n",
              "<table border=\"1\" class=\"dataframe\">\n",
              "  <thead>\n",
              "    <tr style=\"text-align: right;\">\n",
              "      <th></th>\n",
              "      <th>Question_IDs</th>\n",
              "      <th>Question_Section</th>\n",
              "      <th>Question_type</th>\n",
              "      <th>Question_Correct_Answer</th>\n",
              "      <th>Question_ANs</th>\n",
              "      <th>Question_ANSWER_Id</th>\n",
              "      <th>Question_Status</th>\n",
              "    </tr>\n",
              "  </thead>\n",
              "  <tbody>\n",
              "    <tr>\n",
              "      <th>0</th>\n",
              "      <td>3666941171</td>\n",
              "      <td>B TECH - Physics Section A</td>\n",
              "      <td>Objective</td>\n",
              "      <td>3666943514</td>\n",
              "      <td>4</td>\n",
              "      <td>3.666944e+09</td>\n",
              "      <td>Answered</td>\n",
              "    </tr>\n",
              "    <tr>\n",
              "      <th>1</th>\n",
              "      <td>3666941172</td>\n",
              "      <td>B TECH - Physics Section A</td>\n",
              "      <td>Objective</td>\n",
              "      <td>3666943518</td>\n",
              "      <td>3</td>\n",
              "      <td>3.666944e+09</td>\n",
              "      <td>Answered</td>\n",
              "    </tr>\n",
              "    <tr>\n",
              "      <th>2</th>\n",
              "      <td>3666941173</td>\n",
              "      <td>B TECH - Physics Section A</td>\n",
              "      <td>Objective</td>\n",
              "      <td>3666943521</td>\n",
              "      <td>1</td>\n",
              "      <td>3.666944e+09</td>\n",
              "      <td>Answered</td>\n",
              "    </tr>\n",
              "    <tr>\n",
              "      <th>3</th>\n",
              "      <td>3666941174</td>\n",
              "      <td>B TECH - Physics Section A</td>\n",
              "      <td>Objective</td>\n",
              "      <td>3666943526</td>\n",
              "      <td>--</td>\n",
              "      <td>NaN</td>\n",
              "      <td>Not Attempted and Marked For Review</td>\n",
              "    </tr>\n",
              "    <tr>\n",
              "      <th>4</th>\n",
              "      <td>3666941175</td>\n",
              "      <td>B TECH - Physics Section A</td>\n",
              "      <td>Objective</td>\n",
              "      <td>3666943528</td>\n",
              "      <td>4</td>\n",
              "      <td>3.666944e+09</td>\n",
              "      <td>Answered</td>\n",
              "    </tr>\n",
              "  </tbody>\n",
              "</table>\n",
              "</div>\n",
              "      <button class=\"colab-df-convert\" onclick=\"convertToInteractive('df-d54d4ec7-d34b-4590-a74f-4cb8d9fd8c27')\"\n",
              "              title=\"Convert this dataframe to an interactive table.\"\n",
              "              style=\"display:none;\">\n",
              "        \n",
              "  <svg xmlns=\"http://www.w3.org/2000/svg\" height=\"24px\"viewBox=\"0 0 24 24\"\n",
              "       width=\"24px\">\n",
              "    <path d=\"M0 0h24v24H0V0z\" fill=\"none\"/>\n",
              "    <path d=\"M18.56 5.44l.94 2.06.94-2.06 2.06-.94-2.06-.94-.94-2.06-.94 2.06-2.06.94zm-11 1L8.5 8.5l.94-2.06 2.06-.94-2.06-.94L8.5 2.5l-.94 2.06-2.06.94zm10 10l.94 2.06.94-2.06 2.06-.94-2.06-.94-.94-2.06-.94 2.06-2.06.94z\"/><path d=\"M17.41 7.96l-1.37-1.37c-.4-.4-.92-.59-1.43-.59-.52 0-1.04.2-1.43.59L10.3 9.45l-7.72 7.72c-.78.78-.78 2.05 0 2.83L4 21.41c.39.39.9.59 1.41.59.51 0 1.02-.2 1.41-.59l7.78-7.78 2.81-2.81c.8-.78.8-2.07 0-2.86zM5.41 20L4 18.59l7.72-7.72 1.47 1.35L5.41 20z\"/>\n",
              "  </svg>\n",
              "      </button>\n",
              "      \n",
              "  <style>\n",
              "    .colab-df-container {\n",
              "      display:flex;\n",
              "      flex-wrap:wrap;\n",
              "      gap: 12px;\n",
              "    }\n",
              "\n",
              "    .colab-df-convert {\n",
              "      background-color: #E8F0FE;\n",
              "      border: none;\n",
              "      border-radius: 50%;\n",
              "      cursor: pointer;\n",
              "      display: none;\n",
              "      fill: #1967D2;\n",
              "      height: 32px;\n",
              "      padding: 0 0 0 0;\n",
              "      width: 32px;\n",
              "    }\n",
              "\n",
              "    .colab-df-convert:hover {\n",
              "      background-color: #E2EBFA;\n",
              "      box-shadow: 0px 1px 2px rgba(60, 64, 67, 0.3), 0px 1px 3px 1px rgba(60, 64, 67, 0.15);\n",
              "      fill: #174EA6;\n",
              "    }\n",
              "\n",
              "    [theme=dark] .colab-df-convert {\n",
              "      background-color: #3B4455;\n",
              "      fill: #D2E3FC;\n",
              "    }\n",
              "\n",
              "    [theme=dark] .colab-df-convert:hover {\n",
              "      background-color: #434B5C;\n",
              "      box-shadow: 0px 1px 3px 1px rgba(0, 0, 0, 0.15);\n",
              "      filter: drop-shadow(0px 1px 2px rgba(0, 0, 0, 0.3));\n",
              "      fill: #FFFFFF;\n",
              "    }\n",
              "  </style>\n",
              "\n",
              "      <script>\n",
              "        const buttonEl =\n",
              "          document.querySelector('#df-d54d4ec7-d34b-4590-a74f-4cb8d9fd8c27 button.colab-df-convert');\n",
              "        buttonEl.style.display =\n",
              "          google.colab.kernel.accessAllowed ? 'block' : 'none';\n",
              "\n",
              "        async function convertToInteractive(key) {\n",
              "          const element = document.querySelector('#df-d54d4ec7-d34b-4590-a74f-4cb8d9fd8c27');\n",
              "          const dataTable =\n",
              "            await google.colab.kernel.invokeFunction('convertToInteractive',\n",
              "                                                     [key], {});\n",
              "          if (!dataTable) return;\n",
              "\n",
              "          const docLinkHtml = 'Like what you see? Visit the ' +\n",
              "            '<a target=\"_blank\" href=https://colab.research.google.com/notebooks/data_table.ipynb>data table notebook</a>'\n",
              "            + ' to learn more about interactive tables.';\n",
              "          element.innerHTML = '';\n",
              "          dataTable['output_type'] = 'display_data';\n",
              "          await google.colab.output.renderOutput(dataTable, element);\n",
              "          const docLink = document.createElement('div');\n",
              "          docLink.innerHTML = docLinkHtml;\n",
              "          element.appendChild(docLink);\n",
              "        }\n",
              "      </script>\n",
              "    </div>\n",
              "  </div>\n",
              "  "
            ]
          },
          "metadata": {},
          "execution_count": 8
        }
      ]
    },
    {
      "cell_type": "code",
      "source": [
        "df['Question_Status'].value_counts()"
      ],
      "metadata": {
        "colab": {
          "base_uri": "https://localhost:8080/"
        },
        "id": "Y-JMkCbFmkT3",
        "outputId": "58db2ab1-2b8e-4c8b-dfb1-b72f9fcfbc66"
      },
      "execution_count": 9,
      "outputs": [
        {
          "output_type": "execute_result",
          "data": {
            "text/plain": [
              "Answered                               41\n",
              "Not Answered                           32\n",
              "Not Attempted and Marked For Review    15\n",
              "Marked For Review                       2\n",
              "Name: Question_Status, dtype: int64"
            ]
          },
          "metadata": {},
          "execution_count": 9
        }
      ]
    },
    {
      "cell_type": "code",
      "source": [
        "# c=0\n",
        "# d=0\n",
        "sco=[]\n",
        "for index, row in df.iterrows():\n",
        "#   # print(row['Question_Status'])\n",
        "#   if row['Question_Status']=='Answered':\n",
        "#     c+=1\n",
        "#   else:\n",
        "#     d+=1\n",
        "# print(c,d)\n",
        "  if row['Question_type']=='Objective':\n",
        "    if row['Question_Status']=='Answered':\n",
        "      if row['Question_Correct_Answer']==row['Question_ANSWER_Id']:\n",
        "        sco.append('Correct')\n",
        "      else:\n",
        "        sco.append('Wrong')\n",
        "    else:\n",
        "      sco.append('Not Attempt')\n",
        "  else:\n",
        "      if row['Question_Status']=='Answered':\n",
        "        if row['Question_Correct_Answer']==row['Question_ANs']:\n",
        "          sco.append('Correct')\n",
        "        else:\n",
        "          sco.append('Wrong')\n",
        "      else:\n",
        "        sco.append('Not Attempt')"
      ],
      "metadata": {
        "id": "xJk8r95ijcZS"
      },
      "execution_count": 10,
      "outputs": []
    },
    {
      "cell_type": "code",
      "source": [
        "df['Evaluate']=sco"
      ],
      "metadata": {
        "id": "JXB8yqgBoluo"
      },
      "execution_count": 11,
      "outputs": []
    },
    {
      "cell_type": "code",
      "source": [
        "df.head()"
      ],
      "metadata": {
        "colab": {
          "base_uri": "https://localhost:8080/",
          "height": 206
        },
        "id": "kYB3BnyCXgBv",
        "outputId": "ec58662f-e68f-4176-c73c-49bdc7a7c778"
      },
      "execution_count": 12,
      "outputs": [
        {
          "output_type": "execute_result",
          "data": {
            "text/plain": [
              "   Question_IDs            Question_Section Question_type  \\\n",
              "0    3666941171  B TECH - Physics Section A     Objective   \n",
              "1    3666941172  B TECH - Physics Section A     Objective   \n",
              "2    3666941173  B TECH - Physics Section A     Objective   \n",
              "3    3666941174  B TECH - Physics Section A     Objective   \n",
              "4    3666941175  B TECH - Physics Section A     Objective   \n",
              "\n",
              "   Question_Correct_Answer Question_ANs  Question_ANSWER_Id  \\\n",
              "0               3666943514            4        3.666944e+09   \n",
              "1               3666943518            3        3.666944e+09   \n",
              "2               3666943521            1        3.666944e+09   \n",
              "3               3666943526           --                 NaN   \n",
              "4               3666943528            4        3.666944e+09   \n",
              "\n",
              "                       Question_Status     Evaluate  \n",
              "0                             Answered      Correct  \n",
              "1                             Answered      Correct  \n",
              "2                             Answered      Correct  \n",
              "3  Not Attempted and Marked For Review  Not Attempt  \n",
              "4                             Answered      Correct  "
            ],
            "text/html": [
              "\n",
              "  <div id=\"df-0ed96cd6-c4af-4723-bef7-36312302d51d\">\n",
              "    <div class=\"colab-df-container\">\n",
              "      <div>\n",
              "<style scoped>\n",
              "    .dataframe tbody tr th:only-of-type {\n",
              "        vertical-align: middle;\n",
              "    }\n",
              "\n",
              "    .dataframe tbody tr th {\n",
              "        vertical-align: top;\n",
              "    }\n",
              "\n",
              "    .dataframe thead th {\n",
              "        text-align: right;\n",
              "    }\n",
              "</style>\n",
              "<table border=\"1\" class=\"dataframe\">\n",
              "  <thead>\n",
              "    <tr style=\"text-align: right;\">\n",
              "      <th></th>\n",
              "      <th>Question_IDs</th>\n",
              "      <th>Question_Section</th>\n",
              "      <th>Question_type</th>\n",
              "      <th>Question_Correct_Answer</th>\n",
              "      <th>Question_ANs</th>\n",
              "      <th>Question_ANSWER_Id</th>\n",
              "      <th>Question_Status</th>\n",
              "      <th>Evaluate</th>\n",
              "    </tr>\n",
              "  </thead>\n",
              "  <tbody>\n",
              "    <tr>\n",
              "      <th>0</th>\n",
              "      <td>3666941171</td>\n",
              "      <td>B TECH - Physics Section A</td>\n",
              "      <td>Objective</td>\n",
              "      <td>3666943514</td>\n",
              "      <td>4</td>\n",
              "      <td>3.666944e+09</td>\n",
              "      <td>Answered</td>\n",
              "      <td>Correct</td>\n",
              "    </tr>\n",
              "    <tr>\n",
              "      <th>1</th>\n",
              "      <td>3666941172</td>\n",
              "      <td>B TECH - Physics Section A</td>\n",
              "      <td>Objective</td>\n",
              "      <td>3666943518</td>\n",
              "      <td>3</td>\n",
              "      <td>3.666944e+09</td>\n",
              "      <td>Answered</td>\n",
              "      <td>Correct</td>\n",
              "    </tr>\n",
              "    <tr>\n",
              "      <th>2</th>\n",
              "      <td>3666941173</td>\n",
              "      <td>B TECH - Physics Section A</td>\n",
              "      <td>Objective</td>\n",
              "      <td>3666943521</td>\n",
              "      <td>1</td>\n",
              "      <td>3.666944e+09</td>\n",
              "      <td>Answered</td>\n",
              "      <td>Correct</td>\n",
              "    </tr>\n",
              "    <tr>\n",
              "      <th>3</th>\n",
              "      <td>3666941174</td>\n",
              "      <td>B TECH - Physics Section A</td>\n",
              "      <td>Objective</td>\n",
              "      <td>3666943526</td>\n",
              "      <td>--</td>\n",
              "      <td>NaN</td>\n",
              "      <td>Not Attempted and Marked For Review</td>\n",
              "      <td>Not Attempt</td>\n",
              "    </tr>\n",
              "    <tr>\n",
              "      <th>4</th>\n",
              "      <td>3666941175</td>\n",
              "      <td>B TECH - Physics Section A</td>\n",
              "      <td>Objective</td>\n",
              "      <td>3666943528</td>\n",
              "      <td>4</td>\n",
              "      <td>3.666944e+09</td>\n",
              "      <td>Answered</td>\n",
              "      <td>Correct</td>\n",
              "    </tr>\n",
              "  </tbody>\n",
              "</table>\n",
              "</div>\n",
              "      <button class=\"colab-df-convert\" onclick=\"convertToInteractive('df-0ed96cd6-c4af-4723-bef7-36312302d51d')\"\n",
              "              title=\"Convert this dataframe to an interactive table.\"\n",
              "              style=\"display:none;\">\n",
              "        \n",
              "  <svg xmlns=\"http://www.w3.org/2000/svg\" height=\"24px\"viewBox=\"0 0 24 24\"\n",
              "       width=\"24px\">\n",
              "    <path d=\"M0 0h24v24H0V0z\" fill=\"none\"/>\n",
              "    <path d=\"M18.56 5.44l.94 2.06.94-2.06 2.06-.94-2.06-.94-.94-2.06-.94 2.06-2.06.94zm-11 1L8.5 8.5l.94-2.06 2.06-.94-2.06-.94L8.5 2.5l-.94 2.06-2.06.94zm10 10l.94 2.06.94-2.06 2.06-.94-2.06-.94-.94-2.06-.94 2.06-2.06.94z\"/><path d=\"M17.41 7.96l-1.37-1.37c-.4-.4-.92-.59-1.43-.59-.52 0-1.04.2-1.43.59L10.3 9.45l-7.72 7.72c-.78.78-.78 2.05 0 2.83L4 21.41c.39.39.9.59 1.41.59.51 0 1.02-.2 1.41-.59l7.78-7.78 2.81-2.81c.8-.78.8-2.07 0-2.86zM5.41 20L4 18.59l7.72-7.72 1.47 1.35L5.41 20z\"/>\n",
              "  </svg>\n",
              "      </button>\n",
              "      \n",
              "  <style>\n",
              "    .colab-df-container {\n",
              "      display:flex;\n",
              "      flex-wrap:wrap;\n",
              "      gap: 12px;\n",
              "    }\n",
              "\n",
              "    .colab-df-convert {\n",
              "      background-color: #E8F0FE;\n",
              "      border: none;\n",
              "      border-radius: 50%;\n",
              "      cursor: pointer;\n",
              "      display: none;\n",
              "      fill: #1967D2;\n",
              "      height: 32px;\n",
              "      padding: 0 0 0 0;\n",
              "      width: 32px;\n",
              "    }\n",
              "\n",
              "    .colab-df-convert:hover {\n",
              "      background-color: #E2EBFA;\n",
              "      box-shadow: 0px 1px 2px rgba(60, 64, 67, 0.3), 0px 1px 3px 1px rgba(60, 64, 67, 0.15);\n",
              "      fill: #174EA6;\n",
              "    }\n",
              "\n",
              "    [theme=dark] .colab-df-convert {\n",
              "      background-color: #3B4455;\n",
              "      fill: #D2E3FC;\n",
              "    }\n",
              "\n",
              "    [theme=dark] .colab-df-convert:hover {\n",
              "      background-color: #434B5C;\n",
              "      box-shadow: 0px 1px 3px 1px rgba(0, 0, 0, 0.15);\n",
              "      filter: drop-shadow(0px 1px 2px rgba(0, 0, 0, 0.3));\n",
              "      fill: #FFFFFF;\n",
              "    }\n",
              "  </style>\n",
              "\n",
              "      <script>\n",
              "        const buttonEl =\n",
              "          document.querySelector('#df-0ed96cd6-c4af-4723-bef7-36312302d51d button.colab-df-convert');\n",
              "        buttonEl.style.display =\n",
              "          google.colab.kernel.accessAllowed ? 'block' : 'none';\n",
              "\n",
              "        async function convertToInteractive(key) {\n",
              "          const element = document.querySelector('#df-0ed96cd6-c4af-4723-bef7-36312302d51d');\n",
              "          const dataTable =\n",
              "            await google.colab.kernel.invokeFunction('convertToInteractive',\n",
              "                                                     [key], {});\n",
              "          if (!dataTable) return;\n",
              "\n",
              "          const docLinkHtml = 'Like what you see? Visit the ' +\n",
              "            '<a target=\"_blank\" href=https://colab.research.google.com/notebooks/data_table.ipynb>data table notebook</a>'\n",
              "            + ' to learn more about interactive tables.';\n",
              "          element.innerHTML = '';\n",
              "          dataTable['output_type'] = 'display_data';\n",
              "          await google.colab.output.renderOutput(dataTable, element);\n",
              "          const docLink = document.createElement('div');\n",
              "          docLink.innerHTML = docLinkHtml;\n",
              "          element.appendChild(docLink);\n",
              "        }\n",
              "      </script>\n",
              "    </div>\n",
              "  </div>\n",
              "  "
            ]
          },
          "metadata": {},
          "execution_count": 12
        }
      ]
    },
    {
      "cell_type": "code",
      "source": [
        "sns.countplot(x=df['Evaluate'])"
      ],
      "metadata": {
        "colab": {
          "base_uri": "https://localhost:8080/",
          "height": 296
        },
        "id": "DZu_AKzsa8PI",
        "outputId": "f15e007c-3eca-44a8-92d2-84437cf7612e"
      },
      "execution_count": 13,
      "outputs": [
        {
          "output_type": "execute_result",
          "data": {
            "text/plain": [
              "<matplotlib.axes._subplots.AxesSubplot at 0x7f1a6811f4f0>"
            ]
          },
          "metadata": {},
          "execution_count": 13
        },
        {
          "output_type": "display_data",
          "data": {
            "text/plain": [
              "<Figure size 432x288 with 1 Axes>"
            ],
            "image/png": "[encoded data removed]"
          },
          "metadata": {
            "needs_background": "light"
          }
        }
      ]
    },
    {
      "cell_type": "code",
      "source": [
        "temp=df[df['Question_Section']=='B TECH - Physics Section A']\n",
        "sns.countplot(x=temp['Evaluate'])"
      ],
      "metadata": {
        "colab": {
          "base_uri": "https://localhost:8080/",
          "height": 296
        },
        "id": "Pnkjy8aHa8Mp",
        "outputId": "0bfcf919-8d9e-439b-c2d8-e45171fbe8ba"
      },
      "execution_count": 14,
      "outputs": [
        {
          "output_type": "execute_result",
          "data": {
            "text/plain": [
              "<matplotlib.axes._subplots.AxesSubplot at 0x7f1a68108280>"
            ]
          },
          "metadata": {},
          "execution_count": 14
        },
        {
          "output_type": "display_data",
          "data": {
            "text/plain": [
              "<Figure size 432x288 with 1 Axes>"
            ],
            "image/png": "[encoded data removed]"
          },
          "metadata": {
            "needs_background": "light"
          }
        }
      ]
    },
    {
      "cell_type": "code",
      "source": [
        "temp=df[df['Question_Section']=='B TECH - Physics Section B']\n",
        "sns.countplot(x=temp['Evaluate'])"
      ],
      "metadata": {
        "colab": {
          "base_uri": "https://localhost:8080/",
          "height": 296
        },
        "id": "zclckQUha8Gq",
        "outputId": "e66c6678-c840-4b49-d337-ef06503b60f5"
      },
      "execution_count": 15,
      "outputs": [
        {
          "output_type": "execute_result",
          "data": {
            "text/plain": [
              "<matplotlib.axes._subplots.AxesSubplot at 0x7f1a67be1730>"
            ]
          },
          "metadata": {},
          "execution_count": 15
        },
        {
          "output_type": "display_data",
          "data": {
            "text/plain": [
              "<Figure size 432x288 with 1 Axes>"
            ],
            "image/png": "[encoded data removed]"
          },
          "metadata": {
            "needs_background": "light"
          }
        }
      ]
    },
    {
      "cell_type": "code",
      "source": [
        "temp=df[df['Question_Section']=='B TECH - Mathematics Section A']\n",
        "sns.countplot(x=temp['Evaluate'])"
      ],
      "metadata": {
        "colab": {
          "base_uri": "https://localhost:8080/",
          "height": 296
        },
        "id": "h1VoNFcSfFWr",
        "outputId": "3b6725bf-b203-417f-ef03-25cf18ae7354"
      },
      "execution_count": 16,
      "outputs": [
        {
          "output_type": "execute_result",
          "data": {
            "text/plain": [
              "<matplotlib.axes._subplots.AxesSubplot at 0x7f1a67b364c0>"
            ]
          },
          "metadata": {},
          "execution_count": 16
        },
        {
          "output_type": "display_data",
          "data": {
            "text/plain": [
              "<Figure size 432x288 with 1 Axes>"
            ],
            "image/png": "[encoded data removed]"
          },
          "metadata": {
            "needs_background": "light"
          }
        }
      ]
    },
    {
      "cell_type": "code",
      "source": [
        "temp=df[df['Question_Section']=='B TECH - Mathematics Section B']\n",
        "sns.countplot(x=temp['Evaluate'])"
      ],
      "metadata": {
        "colab": {
          "base_uri": "https://localhost:8080/",
          "height": 296
        },
        "id": "sIKrsJ2ma8Ee",
        "outputId": "87f1d207-e978-40c7-dbce-7e732c8c968a"
      },
      "execution_count": 17,
      "outputs": [
        {
          "output_type": "execute_result",
          "data": {
            "text/plain": [
              "<matplotlib.axes._subplots.AxesSubplot at 0x7f1a67b091f0>"
            ]
          },
          "metadata": {},
          "execution_count": 17
        },
        {
          "output_type": "display_data",
          "data": {
            "text/plain": [
              "<Figure size 432x288 with 1 Axes>"
            ],
            "image/png": "[encoded data removed]"
          },
          "metadata": {
            "needs_background": "light"
          }
        }
      ]
    },
    {
      "cell_type": "code",
      "source": [
        "temp=df[df['Question_Section']=='B TECH - Chemistry Section A']\n",
        "sns.countplot(x=temp['Evaluate'])"
      ],
      "metadata": {
        "colab": {
          "base_uri": "https://localhost:8080/",
          "height": 296
        },
        "id": "H79BoSL7fN1l",
        "outputId": "28e5e21b-c910-4c66-bd20-db0241ac3b6c"
      },
      "execution_count": 18,
      "outputs": [
        {
          "output_type": "execute_result",
          "data": {
            "text/plain": [
              "<matplotlib.axes._subplots.AxesSubplot at 0x7f1a67ad9190>"
            ]
          },
          "metadata": {},
          "execution_count": 18
        },
        {
          "output_type": "display_data",
          "data": {
            "text/plain": [
              "<Figure size 432x288 with 1 Axes>"
            ],
            "image/png": "[encoded data removed]"
          },
          "metadata": {
            "needs_background": "light"
          }
        }
      ]
    },
    {
      "cell_type": "code",
      "source": [
        "temp=df[df['Question_Section']=='B TECH - Chemistry Section B']\n",
        "sns.countplot(x=temp['Evaluate'])"
      ],
      "metadata": {
        "colab": {
          "base_uri": "https://localhost:8080/",
          "height": 296
        },
        "id": "Q2zHDUX7a8BF",
        "outputId": "ea5cbd22-2db0-4aa4-c28b-2cf0d928a985"
      },
      "execution_count": 19,
      "outputs": [
        {
          "output_type": "execute_result",
          "data": {
            "text/plain": [
              "<matplotlib.axes._subplots.AxesSubplot at 0x7f1a67aa95b0>"
            ]
          },
          "metadata": {},
          "execution_count": 19
        },
        {
          "output_type": "display_data",
          "data": {
            "text/plain": [
              "<Figure size 432x288 with 1 Axes>"
            ],
            "image/png": "[encoded data removed]"
          },
          "metadata": {
            "needs_background": "light"
          }
        }
      ]
    },
    {
      "cell_type": "code",
      "source": [],
      "metadata": {
        "id": "zVSeSiI6a78f"
      },
      "execution_count": 19,
      "outputs": []
    },
    {
      "cell_type": "code",
      "source": [],
      "metadata": {
        "id": "I0zsR4T4a74j"
      },
      "execution_count": 19,
      "outputs": []
    },
    {
      "cell_type": "code",
      "source": [],
      "metadata": {
        "id": "J0ugmLYpa716"
      },
      "execution_count": 19,
      "outputs": []
    },
    {
      "cell_type": "code",
      "source": [],
      "metadata": {
        "id": "e_wcSJkmo5dt"
      },
      "execution_count": 19,
      "outputs": []
    },
    {
      "cell_type": "code",
      "source": [],
      "metadata": {
        "id": "5MZ_jukuo5bX"
      },
      "execution_count": 19,
      "outputs": []
    },
    {
      "cell_type": "code",
      "source": [],
      "metadata": {
        "id": "iOmAAogFo5ZG"
      },
      "execution_count": 19,
      "outputs": []
    },
    {
      "cell_type": "code",
      "source": [],
      "metadata": {
        "id": "XMnzu88ko5Xi"
      },
      "execution_count": 19,
      "outputs": []
    },
    {
      "cell_type": "code",
      "source": [],
      "metadata": {
        "id": "gOPbA_Aco5WB"
      },
      "execution_count": 19,
      "outputs": []
    },
    {
      "cell_type": "code",
      "source": [],
      "metadata": {
        "id": "UK8VoMeeo5QN"
      },
      "execution_count": 19,
      "outputs": []
    }
  ]
}