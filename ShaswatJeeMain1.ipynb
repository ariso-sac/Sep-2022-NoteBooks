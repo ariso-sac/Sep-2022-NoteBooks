{
  "nbformat": 4,
  "nbformat_minor": 0,
  "metadata": {
    "colab": {
      "provenance": [],
      "include_colab_link": true
    },
    "kernelspec": {
      "display_name": "Python 3",
      "language": "python",
      "name": "python3"
    },
    "language_info": {
      "codemirror_mode": {
        "name": "ipython",
        "version": 3
      },
      "file_extension": ".py",
      "mimetype": "text/x-python",
      "name": "python",
      "nbconvert_exporter": "python",
      "pygments_lexer": "ipython3",
      "version": "3.7.7"
    }
  },
  "cells": [
    {
      "cell_type": "markdown",
      "metadata": {
        "id": "view-in-github",
        "colab_type": "text"
      },
      "source": [
        "<a href=\"https://colab.research.google.com/github/ariso-sac/Sep-2022-NoteBooks/blob/colab-week-2/ShaswatJeeMain1.ipynb\" target=\"_parent\"><img src=\"https://colab.research.google.com/assets/colab-badge.svg\" alt=\"Open In Colab\"/></a>"
      ]
    },
    {
      "cell_type": "code",
      "source": [
        "from bs4 import BeautifulSoup\n",
        "import pandas as pd\n",
        "\n",
        "# Opening the html file\n",
        "HTMLFile = open(\"index.html\", \"r\")\n",
        "  \n",
        "# Reading the file\n",
        "index = HTMLFile.read()\n",
        "  \n",
        "# Creating a BeautifulSoup object and specifying the parser\n",
        "soup = BeautifulSoup(index, 'html.parser')\n",
        "\n",
        "tables = soup.find_all(\"table\", {\"class\": \"questionPnlTbl\"})\n",
        "\n",
        "qids=[]\n",
        "qans=[]\n",
        "q_Answer_Id=[]\n",
        "qstatus=[]\n",
        "\n",
        "def ans_id(data):\n",
        "  ch=data[-1]\n",
        "  if ch=='1':\n",
        "    return data[5]\n",
        "  if ch=='2':\n",
        "    return data[7]\n",
        "  if ch=='3':\n",
        "    return data[9]\n",
        "  if ch=='4':\n",
        "    return data[11]\n",
        "\n",
        "for table in tables:\n",
        "  data=[]\n",
        "  flag=False\n",
        "  tops = table.find(\"table\", {\"class\": \"menu-tbl\"})\n",
        "  cols = tops.find_all('td')\n",
        "  cols = [ele.text.strip() for ele in cols]\n",
        "  data.append([ele for ele in cols if ele])\n",
        "  data=data[0]\n",
        "  if data[1]=='SA':\n",
        "    flag=True\n",
        "  else:\n",
        "      qids.append(data[3])\n",
        "      qans.append(data[-1])\n",
        "      qstatus.append(data[13])\n",
        "      q_Answer_Id.append(ans_id(data))\n",
        "      # print(data)\n",
        "  if flag:\n",
        "    # print(data)\n",
        "    store=[]\n",
        "    tab = table.find(\"table\", {\"class\": \"questionRowTbl\"})\n",
        "    cols = tab.find_all('td',{'class':\"bold\"})\n",
        "    val=cols[-1]\n",
        "    val=val.text.strip()\n",
        "    qids.append(data[3])\n",
        "    qans.append(val)\n",
        "    qstatus.append(data[5])\n",
        "    q_Answer_Id.append('NA')\n",
        "\n",
        "df=pd.DataFrame()\n",
        "\n",
        "df['Question_IDs']=qids\n",
        "df['Question_ANs']=qans\n",
        "df['Question_ANSWER_Id']=q_Answer_Id\n",
        "df['Question_Status']=qstatus\n",
        "\n",
        "df.to_csv('marks.csv',index=False)\n"
      ],
      "metadata": {
        "id": "0GkdRQvsZssz"
      },
      "execution_count": 1,
      "outputs": []
    },
    {
      "cell_type": "code",
      "source": [
        "from bs4 import BeautifulSoup\n",
        "import pandas as pd\n",
        "\n",
        "# Opening the html file\n",
        "HTMLFile = open(\"claim.html\", \"r\")\n",
        "  \n",
        "# Reading the file\n",
        "index = HTMLFile.read()\n",
        "  \n",
        "# Creating a BeautifulSoup object and specifying the parser\n",
        "soup = BeautifulSoup(index, 'html.parser')\n",
        "\n",
        "tops = soup.find(\"table\", {\"class\": \"table table-bordered table-condensed\"})\n",
        "\n",
        "rows=tops.find_all(\"tr\")\n",
        "\n",
        "len(rows)\n",
        "\n",
        "q_section=[]\n",
        "q_type=[]\n",
        "q_ids=[]\n",
        "q_correct=[]\n",
        "\n",
        "for row in rows:\n",
        "    data=[]\n",
        "    cols = row.find_all('td')\n",
        "    cols = [ele.text.strip() for ele in cols]\n",
        "    data.append([ele for ele in cols if ele]) # Get rid of empty values\n",
        "    if len(data[0])>1 and data[0][0][0]=='B':\n",
        "      # print(data[0][0])\n",
        "      q_section.append(data[0][0])\n",
        "      q_type.append(data[0][1])\n",
        "      q_ids.append(data[0][2])\n",
        "      q_correct.append(data[0][3])\n",
        "\n",
        "df=pd.DataFrame()\n",
        "\n",
        "df['Question_IDs']=q_ids\n",
        "df['Question_Section']=q_section\n",
        "df['Question_type']=q_type\n",
        "df['Question_Correct_Answer']=q_correct\n",
        "\n",
        "df.to_csv('correct.csv',index=False)"
      ],
      "metadata": {
        "id": "0koV8kS-Zsf8"
      },
      "execution_count": 2,
      "outputs": []
    },
    {
      "cell_type": "code",
      "source": [
        "import pandas as pd\n",
        "import seaborn as sns\n",
        "import matplotlib.pyplot as plt"
      ],
      "metadata": {
        "id": "8V5oCHnUXgWJ"
      },
      "execution_count": 3,
      "outputs": []
    },
    {
      "cell_type": "code",
      "source": [
        "resp=pd.read_csv('marks.csv')\n",
        "correct=pd.read_csv('correct.csv')"
      ],
      "metadata": {
        "id": "mUhKm0qwXgTM"
      },
      "execution_count": 4,
      "outputs": []
    },
    {
      "cell_type": "code",
      "source": [
        "resp = resp.astype(str)\n",
        "correct = correct.astype(str)"
      ],
      "metadata": {
        "id": "TnZUQfFkqQVD"
      },
      "execution_count": 5,
      "outputs": []
    },
    {
      "cell_type": "code",
      "source": [
        "resp.head()"
      ],
      "metadata": {
        "colab": {
          "base_uri": "https://localhost:8080/",
          "height": 206
        },
        "id": "ensZRCgVXgQM",
        "outputId": "7d0c601d-03ad-47a9-d408-4f9f4ba932bd"
      },
      "execution_count": 6,
      "outputs": [
        {
          "output_type": "execute_result",
          "data": {
            "text/plain": [
              "  Question_IDs Question_ANs Question_ANSWER_Id Question_Status\n",
              "0   3666941171            4       3666943514.0        Answered\n",
              "1   3666941189           --                nan    Not Answered\n",
              "2   3666941185            4       3666943567.0        Answered\n",
              "3   3666941184            2       3666943564.0        Answered\n",
              "4   3666941176           --                nan    Not Answered"
            ],
            "text/html": [
              "\n",
              "  <div id=\"df-b5492163-0960-4787-ad8c-c168a4f12bec\">\n",
              "    <div class=\"colab-df-container\">\n",
              "      <div>\n",
              "<style scoped>\n",
              "    .dataframe tbody tr th:only-of-type {\n",
              "        vertical-align: middle;\n",
              "    }\n",
              "\n",
              "    .dataframe tbody tr th {\n",
              "        vertical-align: top;\n",
              "    }\n",
              "\n",
              "    .dataframe thead th {\n",
              "        text-align: right;\n",
              "    }\n",
              "</style>\n",
              "<table border=\"1\" class=\"dataframe\">\n",
              "  <thead>\n",
              "    <tr style=\"text-align: right;\">\n",
              "      <th></th>\n",
              "      <th>Question_IDs</th>\n",
              "      <th>Question_ANs</th>\n",
              "      <th>Question_ANSWER_Id</th>\n",
              "      <th>Question_Status</th>\n",
              "    </tr>\n",
              "  </thead>\n",
              "  <tbody>\n",
              "    <tr>\n",
              "      <th>0</th>\n",
              "      <td>3666941171</td>\n",
              "      <td>4</td>\n",
              "      <td>3666943514.0</td>\n",
              "      <td>Answered</td>\n",
              "    </tr>\n",
              "    <tr>\n",
              "      <th>1</th>\n",
              "      <td>3666941189</td>\n",
              "      <td>--</td>\n",
              "      <td>nan</td>\n",
              "      <td>Not Answered</td>\n",
              "    </tr>\n",
              "    <tr>\n",
              "      <th>2</th>\n",
              "      <td>3666941185</td>\n",
              "      <td>4</td>\n",
              "      <td>3666943567.0</td>\n",
              "      <td>Answered</td>\n",
              "    </tr>\n",
              "    <tr>\n",
              "      <th>3</th>\n",
              "      <td>3666941184</td>\n",
              "      <td>2</td>\n",
              "      <td>3666943564.0</td>\n",
              "      <td>Answered</td>\n",
              "    </tr>\n",
              "    <tr>\n",
              "      <th>4</th>\n",
              "      <td>3666941176</td>\n",
              "      <td>--</td>\n",
              "      <td>nan</td>\n",
              "      <td>Not Answered</td>\n",
              "    </tr>\n",
              "  </tbody>\n",
              "</table>\n",
              "</div>\n",
              "      <button class=\"colab-df-convert\" onclick=\"convertToInteractive('df-b5492163-0960-4787-ad8c-c168a4f12bec')\"\n",
              "              title=\"Convert this dataframe to an interactive table.\"\n",
              "              style=\"display:none;\">\n",
              "        \n",
              "  <svg xmlns=\"http://www.w3.org/2000/svg\" height=\"24px\"viewBox=\"0 0 24 24\"\n",
              "       width=\"24px\">\n",
              "    <path d=\"M0 0h24v24H0V0z\" fill=\"none\"/>\n",
              "    <path d=\"M18.56 5.44l.94 2.06.94-2.06 2.06-.94-2.06-.94-.94-2.06-.94 2.06-2.06.94zm-11 1L8.5 8.5l.94-2.06 2.06-.94-2.06-.94L8.5 2.5l-.94 2.06-2.06.94zm10 10l.94 2.06.94-2.06 2.06-.94-2.06-.94-.94-2.06-.94 2.06-2.06.94z\"/><path d=\"M17.41 7.96l-1.37-1.37c-.4-.4-.92-.59-1.43-.59-.52 0-1.04.2-1.43.59L10.3 9.45l-7.72 7.72c-.78.78-.78 2.05 0 2.83L4 21.41c.39.39.9.59 1.41.59.51 0 1.02-.2 1.41-.59l7.78-7.78 2.81-2.81c.8-.78.8-2.07 0-2.86zM5.41 20L4 18.59l7.72-7.72 1.47 1.35L5.41 20z\"/>\n",
              "  </svg>\n",
              "      </button>\n",
              "      \n",
              "  <style>\n",
              "    .colab-df-container {\n",
              "      display:flex;\n",
              "      flex-wrap:wrap;\n",
              "      gap: 12px;\n",
              "    }\n",
              "\n",
              "    .colab-df-convert {\n",
              "      background-color: #E8F0FE;\n",
              "      border: none;\n",
              "      border-radius: 50%;\n",
              "      cursor: pointer;\n",
              "      display: none;\n",
              "      fill: #1967D2;\n",
              "      height: 32px;\n",
              "      padding: 0 0 0 0;\n",
              "      width: 32px;\n",
              "    }\n",
              "\n",
              "    .colab-df-convert:hover {\n",
              "      background-color: #E2EBFA;\n",
              "      box-shadow: 0px 1px 2px rgba(60, 64, 67, 0.3), 0px 1px 3px 1px rgba(60, 64, 67, 0.15);\n",
              "      fill: #174EA6;\n",
              "    }\n",
              "\n",
              "    [theme=dark] .colab-df-convert {\n",
              "      background-color: #3B4455;\n",
              "      fill: #D2E3FC;\n",
              "    }\n",
              "\n",
              "    [theme=dark] .colab-df-convert:hover {\n",
              "      background-color: #434B5C;\n",
              "      box-shadow: 0px 1px 3px 1px rgba(0, 0, 0, 0.15);\n",
              "      filter: drop-shadow(0px 1px 2px rgba(0, 0, 0, 0.3));\n",
              "      fill: #FFFFFF;\n",
              "    }\n",
              "  </style>\n",
              "\n",
              "      <script>\n",
              "        const buttonEl =\n",
              "          document.querySelector('#df-b5492163-0960-4787-ad8c-c168a4f12bec button.colab-df-convert');\n",
              "        buttonEl.style.display =\n",
              "          google.colab.kernel.accessAllowed ? 'block' : 'none';\n",
              "\n",
              "        async function convertToInteractive(key) {\n",
              "          const element = document.querySelector('#df-b5492163-0960-4787-ad8c-c168a4f12bec');\n",
              "          const dataTable =\n",
              "            await google.colab.kernel.invokeFunction('convertToInteractive',\n",
              "                                                     [key], {});\n",
              "          if (!dataTable) return;\n",
              "\n",
              "          const docLinkHtml = 'Like what you see? Visit the ' +\n",
              "            '<a target=\"_blank\" href=https://colab.research.google.com/notebooks/data_table.ipynb>data table notebook</a>'\n",
              "            + ' to learn more about interactive tables.';\n",
              "          element.innerHTML = '';\n",
              "          dataTable['output_type'] = 'display_data';\n",
              "          await google.colab.output.renderOutput(dataTable, element);\n",
              "          const docLink = document.createElement('div');\n",
              "          docLink.innerHTML = docLinkHtml;\n",
              "          element.appendChild(docLink);\n",
              "        }\n",
              "      </script>\n",
              "    </div>\n",
              "  </div>\n",
              "  "
            ]
          },
          "metadata": {},
          "execution_count": 6
        }
      ]
    },
    {
      "cell_type": "code",
      "source": [
        "correct.head()"
      ],
      "metadata": {
        "colab": {
          "base_uri": "https://localhost:8080/",
          "height": 206
        },
        "id": "MepTgSdPXgN4",
        "outputId": "fd81fa99-b7ef-43aa-ad4e-0af4308236ff"
      },
      "execution_count": 7,
      "outputs": [
        {
          "output_type": "execute_result",
          "data": {
            "text/plain": [
              "  Question_IDs            Question_Section Question_type  \\\n",
              "0   3666941171  B TECH - Physics Section A     Objective   \n",
              "1   3666941172  B TECH - Physics Section A     Objective   \n",
              "2   3666941173  B TECH - Physics Section A     Objective   \n",
              "3   3666941174  B TECH - Physics Section A     Objective   \n",
              "4   3666941175  B TECH - Physics Section A     Objective   \n",
              "\n",
              "  Question_Correct_Answer  \n",
              "0              3666943514  \n",
              "1              3666943518  \n",
              "2              3666943521  \n",
              "3              3666943526  \n",
              "4              3666943528  "
            ],
            "text/html": [
              "\n",
              "  <div id=\"df-5aba57d5-d934-43c4-80a4-ec331876d576\">\n",
              "    <div class=\"colab-df-container\">\n",
              "      <div>\n",
              "<style scoped>\n",
              "    .dataframe tbody tr th:only-of-type {\n",
              "        vertical-align: middle;\n",
              "    }\n",
              "\n",
              "    .dataframe tbody tr th {\n",
              "        vertical-align: top;\n",
              "    }\n",
              "\n",
              "    .dataframe thead th {\n",
              "        text-align: right;\n",
              "    }\n",
              "</style>\n",
              "<table border=\"1\" class=\"dataframe\">\n",
              "  <thead>\n",
              "    <tr style=\"text-align: right;\">\n",
              "      <th></th>\n",
              "      <th>Question_IDs</th>\n",
              "      <th>Question_Section</th>\n",
              "      <th>Question_type</th>\n",
              "      <th>Question_Correct_Answer</th>\n",
              "    </tr>\n",
              "  </thead>\n",
              "  <tbody>\n",
              "    <tr>\n",
              "      <th>0</th>\n",
              "      <td>3666941171</td>\n",
              "      <td>B TECH - Physics Section A</td>\n",
              "      <td>Objective</td>\n",
              "      <td>3666943514</td>\n",
              "    </tr>\n",
              "    <tr>\n",
              "      <th>1</th>\n",
              "      <td>3666941172</td>\n",
              "      <td>B TECH - Physics Section A</td>\n",
              "      <td>Objective</td>\n",
              "      <td>3666943518</td>\n",
              "    </tr>\n",
              "    <tr>\n",
              "      <th>2</th>\n",
              "      <td>3666941173</td>\n",
              "      <td>B TECH - Physics Section A</td>\n",
              "      <td>Objective</td>\n",
              "      <td>3666943521</td>\n",
              "    </tr>\n",
              "    <tr>\n",
              "      <th>3</th>\n",
              "      <td>3666941174</td>\n",
              "      <td>B TECH - Physics Section A</td>\n",
              "      <td>Objective</td>\n",
              "      <td>3666943526</td>\n",
              "    </tr>\n",
              "    <tr>\n",
              "      <th>4</th>\n",
              "      <td>3666941175</td>\n",
              "      <td>B TECH - Physics Section A</td>\n",
              "      <td>Objective</td>\n",
              "      <td>3666943528</td>\n",
              "    </tr>\n",
              "  </tbody>\n",
              "</table>\n",
              "</div>\n",
              "      <button class=\"colab-df-convert\" onclick=\"convertToInteractive('df-5aba57d5-d934-43c4-80a4-ec331876d576')\"\n",
              "              title=\"Convert this dataframe to an interactive table.\"\n",
              "              style=\"display:none;\">\n",
              "        \n",
              "  <svg xmlns=\"http://www.w3.org/2000/svg\" height=\"24px\"viewBox=\"0 0 24 24\"\n",
              "       width=\"24px\">\n",
              "    <path d=\"M0 0h24v24H0V0z\" fill=\"none\"/>\n",
              "    <path d=\"M18.56 5.44l.94 2.06.94-2.06 2.06-.94-2.06-.94-.94-2.06-.94 2.06-2.06.94zm-11 1L8.5 8.5l.94-2.06 2.06-.94-2.06-.94L8.5 2.5l-.94 2.06-2.06.94zm10 10l.94 2.06.94-2.06 2.06-.94-2.06-.94-.94-2.06-.94 2.06-2.06.94z\"/><path d=\"M17.41 7.96l-1.37-1.37c-.4-.4-.92-.59-1.43-.59-.52 0-1.04.2-1.43.59L10.3 9.45l-7.72 7.72c-.78.78-.78 2.05 0 2.83L4 21.41c.39.39.9.59 1.41.59.51 0 1.02-.2 1.41-.59l7.78-7.78 2.81-2.81c.8-.78.8-2.07 0-2.86zM5.41 20L4 18.59l7.72-7.72 1.47 1.35L5.41 20z\"/>\n",
              "  </svg>\n",
              "      </button>\n",
              "      \n",
              "  <style>\n",
              "    .colab-df-container {\n",
              "      display:flex;\n",
              "      flex-wrap:wrap;\n",
              "      gap: 12px;\n",
              "    }\n",
              "\n",
              "    .colab-df-convert {\n",
              "      background-color: #E8F0FE;\n",
              "      border: none;\n",
              "      border-radius: 50%;\n",
              "      cursor: pointer;\n",
              "      display: none;\n",
              "      fill: #1967D2;\n",
              "      height: 32px;\n",
              "      padding: 0 0 0 0;\n",
              "      width: 32px;\n",
              "    }\n",
              "\n",
              "    .colab-df-convert:hover {\n",
              "      background-color: #E2EBFA;\n",
              "      box-shadow: 0px 1px 2px rgba(60, 64, 67, 0.3), 0px 1px 3px 1px rgba(60, 64, 67, 0.15);\n",
              "      fill: #174EA6;\n",
              "    }\n",
              "\n",
              "    [theme=dark] .colab-df-convert {\n",
              "      background-color: #3B4455;\n",
              "      fill: #D2E3FC;\n",
              "    }\n",
              "\n",
              "    [theme=dark] .colab-df-convert:hover {\n",
              "      background-color: #434B5C;\n",
              "      box-shadow: 0px 1px 3px 1px rgba(0, 0, 0, 0.15);\n",
              "      filter: drop-shadow(0px 1px 2px rgba(0, 0, 0, 0.3));\n",
              "      fill: #FFFFFF;\n",
              "    }\n",
              "  </style>\n",
              "\n",
              "      <script>\n",
              "        const buttonEl =\n",
              "          document.querySelector('#df-5aba57d5-d934-43c4-80a4-ec331876d576 button.colab-df-convert');\n",
              "        buttonEl.style.display =\n",
              "          google.colab.kernel.accessAllowed ? 'block' : 'none';\n",
              "\n",
              "        async function convertToInteractive(key) {\n",
              "          const element = document.querySelector('#df-5aba57d5-d934-43c4-80a4-ec331876d576');\n",
              "          const dataTable =\n",
              "            await google.colab.kernel.invokeFunction('convertToInteractive',\n",
              "                                                     [key], {});\n",
              "          if (!dataTable) return;\n",
              "\n",
              "          const docLinkHtml = 'Like what you see? Visit the ' +\n",
              "            '<a target=\"_blank\" href=https://colab.research.google.com/notebooks/data_table.ipynb>data table notebook</a>'\n",
              "            + ' to learn more about interactive tables.';\n",
              "          element.innerHTML = '';\n",
              "          dataTable['output_type'] = 'display_data';\n",
              "          await google.colab.output.renderOutput(dataTable, element);\n",
              "          const docLink = document.createElement('div');\n",
              "          docLink.innerHTML = docLinkHtml;\n",
              "          element.appendChild(docLink);\n",
              "        }\n",
              "      </script>\n",
              "    </div>\n",
              "  </div>\n",
              "  "
            ]
          },
          "metadata": {},
          "execution_count": 7
        }
      ]
    },
    {
      "cell_type": "code",
      "source": [
        "df = pd.merge(correct, resp, on=\"Question_IDs\")"
      ],
      "metadata": {
        "id": "ke_31sW1XgLP"
      },
      "execution_count": 8,
      "outputs": []
    },
    {
      "cell_type": "code",
      "source": [
        "df.head()"
      ],
      "metadata": {
        "colab": {
          "base_uri": "https://localhost:8080/",
          "height": 206
        },
        "id": "mL3Ido9fXgHe",
        "outputId": "ce2c8ce7-f2c8-4adc-8997-e2eab18be72c"
      },
      "execution_count": 9,
      "outputs": [
        {
          "output_type": "execute_result",
          "data": {
            "text/plain": [
              "  Question_IDs            Question_Section Question_type  \\\n",
              "0   3666941171  B TECH - Physics Section A     Objective   \n",
              "1   3666941172  B TECH - Physics Section A     Objective   \n",
              "2   3666941173  B TECH - Physics Section A     Objective   \n",
              "3   3666941174  B TECH - Physics Section A     Objective   \n",
              "4   3666941175  B TECH - Physics Section A     Objective   \n",
              "\n",
              "  Question_Correct_Answer Question_ANs Question_ANSWER_Id  \\\n",
              "0              3666943514            4       3666943514.0   \n",
              "1              3666943518            3       3666943518.0   \n",
              "2              3666943521            1       3666943521.0   \n",
              "3              3666943526           --                nan   \n",
              "4              3666943528            4       3666943528.0   \n",
              "\n",
              "                       Question_Status  \n",
              "0                             Answered  \n",
              "1                             Answered  \n",
              "2                             Answered  \n",
              "3  Not Attempted and Marked For Review  \n",
              "4                             Answered  "
            ],
            "text/html": [
              "\n",
              "  <div id=\"df-86594a33-12f8-4d04-9b36-5f87893d3abc\">\n",
              "    <div class=\"colab-df-container\">\n",
              "      <div>\n",
              "<style scoped>\n",
              "    .dataframe tbody tr th:only-of-type {\n",
              "        vertical-align: middle;\n",
              "    }\n",
              "\n",
              "    .dataframe tbody tr th {\n",
              "        vertical-align: top;\n",
              "    }\n",
              "\n",
              "    .dataframe thead th {\n",
              "        text-align: right;\n",
              "    }\n",
              "</style>\n",
              "<table border=\"1\" class=\"dataframe\">\n",
              "  <thead>\n",
              "    <tr style=\"text-align: right;\">\n",
              "      <th></th>\n",
              "      <th>Question_IDs</th>\n",
              "      <th>Question_Section</th>\n",
              "      <th>Question_type</th>\n",
              "      <th>Question_Correct_Answer</th>\n",
              "      <th>Question_ANs</th>\n",
              "      <th>Question_ANSWER_Id</th>\n",
              "      <th>Question_Status</th>\n",
              "    </tr>\n",
              "  </thead>\n",
              "  <tbody>\n",
              "    <tr>\n",
              "      <th>0</th>\n",
              "      <td>3666941171</td>\n",
              "      <td>B TECH - Physics Section A</td>\n",
              "      <td>Objective</td>\n",
              "      <td>3666943514</td>\n",
              "      <td>4</td>\n",
              "      <td>3666943514.0</td>\n",
              "      <td>Answered</td>\n",
              "    </tr>\n",
              "    <tr>\n",
              "      <th>1</th>\n",
              "      <td>3666941172</td>\n",
              "      <td>B TECH - Physics Section A</td>\n",
              "      <td>Objective</td>\n",
              "      <td>3666943518</td>\n",
              "      <td>3</td>\n",
              "      <td>3666943518.0</td>\n",
              "      <td>Answered</td>\n",
              "    </tr>\n",
              "    <tr>\n",
              "      <th>2</th>\n",
              "      <td>3666941173</td>\n",
              "      <td>B TECH - Physics Section A</td>\n",
              "      <td>Objective</td>\n",
              "      <td>3666943521</td>\n",
              "      <td>1</td>\n",
              "      <td>3666943521.0</td>\n",
              "      <td>Answered</td>\n",
              "    </tr>\n",
              "    <tr>\n",
              "      <th>3</th>\n",
              "      <td>3666941174</td>\n",
              "      <td>B TECH - Physics Section A</td>\n",
              "      <td>Objective</td>\n",
              "      <td>3666943526</td>\n",
              "      <td>--</td>\n",
              "      <td>nan</td>\n",
              "      <td>Not Attempted and Marked For Review</td>\n",
              "    </tr>\n",
              "    <tr>\n",
              "      <th>4</th>\n",
              "      <td>3666941175</td>\n",
              "      <td>B TECH - Physics Section A</td>\n",
              "      <td>Objective</td>\n",
              "      <td>3666943528</td>\n",
              "      <td>4</td>\n",
              "      <td>3666943528.0</td>\n",
              "      <td>Answered</td>\n",
              "    </tr>\n",
              "  </tbody>\n",
              "</table>\n",
              "</div>\n",
              "      <button class=\"colab-df-convert\" onclick=\"convertToInteractive('df-86594a33-12f8-4d04-9b36-5f87893d3abc')\"\n",
              "              title=\"Convert this dataframe to an interactive table.\"\n",
              "              style=\"display:none;\">\n",
              "        \n",
              "  <svg xmlns=\"http://www.w3.org/2000/svg\" height=\"24px\"viewBox=\"0 0 24 24\"\n",
              "       width=\"24px\">\n",
              "    <path d=\"M0 0h24v24H0V0z\" fill=\"none\"/>\n",
              "    <path d=\"M18.56 5.44l.94 2.06.94-2.06 2.06-.94-2.06-.94-.94-2.06-.94 2.06-2.06.94zm-11 1L8.5 8.5l.94-2.06 2.06-.94-2.06-.94L8.5 2.5l-.94 2.06-2.06.94zm10 10l.94 2.06.94-2.06 2.06-.94-2.06-.94-.94-2.06-.94 2.06-2.06.94z\"/><path d=\"M17.41 7.96l-1.37-1.37c-.4-.4-.92-.59-1.43-.59-.52 0-1.04.2-1.43.59L10.3 9.45l-7.72 7.72c-.78.78-.78 2.05 0 2.83L4 21.41c.39.39.9.59 1.41.59.51 0 1.02-.2 1.41-.59l7.78-7.78 2.81-2.81c.8-.78.8-2.07 0-2.86zM5.41 20L4 18.59l7.72-7.72 1.47 1.35L5.41 20z\"/>\n",
              "  </svg>\n",
              "      </button>\n",
              "      \n",
              "  <style>\n",
              "    .colab-df-container {\n",
              "      display:flex;\n",
              "      flex-wrap:wrap;\n",
              "      gap: 12px;\n",
              "    }\n",
              "\n",
              "    .colab-df-convert {\n",
              "      background-color: #E8F0FE;\n",
              "      border: none;\n",
              "      border-radius: 50%;\n",
              "      cursor: pointer;\n",
              "      display: none;\n",
              "      fill: #1967D2;\n",
              "      height: 32px;\n",
              "      padding: 0 0 0 0;\n",
              "      width: 32px;\n",
              "    }\n",
              "\n",
              "    .colab-df-convert:hover {\n",
              "      background-color: #E2EBFA;\n",
              "      box-shadow: 0px 1px 2px rgba(60, 64, 67, 0.3), 0px 1px 3px 1px rgba(60, 64, 67, 0.15);\n",
              "      fill: #174EA6;\n",
              "    }\n",
              "\n",
              "    [theme=dark] .colab-df-convert {\n",
              "      background-color: #3B4455;\n",
              "      fill: #D2E3FC;\n",
              "    }\n",
              "\n",
              "    [theme=dark] .colab-df-convert:hover {\n",
              "      background-color: #434B5C;\n",
              "      box-shadow: 0px 1px 3px 1px rgba(0, 0, 0, 0.15);\n",
              "      filter: drop-shadow(0px 1px 2px rgba(0, 0, 0, 0.3));\n",
              "      fill: #FFFFFF;\n",
              "    }\n",
              "  </style>\n",
              "\n",
              "      <script>\n",
              "        const buttonEl =\n",
              "          document.querySelector('#df-86594a33-12f8-4d04-9b36-5f87893d3abc button.colab-df-convert');\n",
              "        buttonEl.style.display =\n",
              "          google.colab.kernel.accessAllowed ? 'block' : 'none';\n",
              "\n",
              "        async function convertToInteractive(key) {\n",
              "          const element = document.querySelector('#df-86594a33-12f8-4d04-9b36-5f87893d3abc');\n",
              "          const dataTable =\n",
              "            await google.colab.kernel.invokeFunction('convertToInteractive',\n",
              "                                                     [key], {});\n",
              "          if (!dataTable) return;\n",
              "\n",
              "          const docLinkHtml = 'Like what you see? Visit the ' +\n",
              "            '<a target=\"_blank\" href=https://colab.research.google.com/notebooks/data_table.ipynb>data table notebook</a>'\n",
              "            + ' to learn more about interactive tables.';\n",
              "          element.innerHTML = '';\n",
              "          dataTable['output_type'] = 'display_data';\n",
              "          await google.colab.output.renderOutput(dataTable, element);\n",
              "          const docLink = document.createElement('div');\n",
              "          docLink.innerHTML = docLinkHtml;\n",
              "          element.appendChild(docLink);\n",
              "        }\n",
              "      </script>\n",
              "    </div>\n",
              "  </div>\n",
              "  "
            ]
          },
          "metadata": {},
          "execution_count": 9
        }
      ]
    },
    {
      "cell_type": "code",
      "source": [
        "df['Question_Status'].value_counts()"
      ],
      "metadata": {
        "colab": {
          "base_uri": "https://localhost:8080/"
        },
        "id": "Y-JMkCbFmkT3",
        "outputId": "fea14c54-f478-4619-e0aa-5de5e4b42638"
      },
      "execution_count": 10,
      "outputs": [
        {
          "output_type": "execute_result",
          "data": {
            "text/plain": [
              "Answered                               41\n",
              "Not Answered                           32\n",
              "Not Attempted and Marked For Review    15\n",
              "Marked For Review                       2\n",
              "Name: Question_Status, dtype: int64"
            ]
          },
          "metadata": {},
          "execution_count": 10
        }
      ]
    },
    {
      "cell_type": "code",
      "source": [
        "# c=0\n",
        "# d=0\n",
        "sco=[]\n",
        "for index, row in df.iterrows():\n",
        "#   # print(row['Question_Status'])\n",
        "#   if row['Question_Status']=='Answered':\n",
        "#     c+=1\n",
        "#   else:\n",
        "#     d+=1\n",
        "# print(c,d)\n",
        "  if row['Question_type']=='Objective':\n",
        "    if row['Question_Status']=='Answered' or row['Question_Status']=='Marked For Review':\n",
        "      if float(row['Question_Correct_Answer'])==float(row['Question_ANSWER_Id']):\n",
        "        sco.append('Correct')\n",
        "      else:\n",
        "        sco.append('Wrong')\n",
        "    else:\n",
        "      sco.append('Not Attempt')\n",
        "  else:\n",
        "      if row['Question_Status']=='Answered' or row['Question_Status']=='Marked For Review':\n",
        "        if float(row['Question_Correct_Answer'])==float(row['Question_ANs']):\n",
        "          sco.append('Correct')\n",
        "        else:\n",
        "          sco.append('Wrong')\n",
        "      else:\n",
        "        sco.append('Not Attempt')"
      ],
      "metadata": {
        "id": "xJk8r95ijcZS"
      },
      "execution_count": 11,
      "outputs": []
    },
    {
      "cell_type": "code",
      "source": [
        "df['Evaluate']=sco"
      ],
      "metadata": {
        "id": "JXB8yqgBoluo"
      },
      "execution_count": 12,
      "outputs": []
    },
    {
      "cell_type": "code",
      "source": [
        "df.head()"
      ],
      "metadata": {
        "colab": {
          "base_uri": "https://localhost:8080/",
          "height": 206
        },
        "id": "kYB3BnyCXgBv",
        "outputId": "569b6767-ca10-479e-b73a-40cbc4a6edc4"
      },
      "execution_count": 13,
      "outputs": [
        {
          "output_type": "execute_result",
          "data": {
            "text/plain": [
              "  Question_IDs            Question_Section Question_type  \\\n",
              "0   3666941171  B TECH - Physics Section A     Objective   \n",
              "1   3666941172  B TECH - Physics Section A     Objective   \n",
              "2   3666941173  B TECH - Physics Section A     Objective   \n",
              "3   3666941174  B TECH - Physics Section A     Objective   \n",
              "4   3666941175  B TECH - Physics Section A     Objective   \n",
              "\n",
              "  Question_Correct_Answer Question_ANs Question_ANSWER_Id  \\\n",
              "0              3666943514            4       3666943514.0   \n",
              "1              3666943518            3       3666943518.0   \n",
              "2              3666943521            1       3666943521.0   \n",
              "3              3666943526           --                nan   \n",
              "4              3666943528            4       3666943528.0   \n",
              "\n",
              "                       Question_Status     Evaluate  \n",
              "0                             Answered      Correct  \n",
              "1                             Answered      Correct  \n",
              "2                             Answered      Correct  \n",
              "3  Not Attempted and Marked For Review  Not Attempt  \n",
              "4                             Answered      Correct  "
            ],
            "text/html": [
              "\n",
              "  <div id=\"df-7619271b-e44a-4013-a2c7-231a906eeddf\">\n",
              "    <div class=\"colab-df-container\">\n",
              "      <div>\n",
              "<style scoped>\n",
              "    .dataframe tbody tr th:only-of-type {\n",
              "        vertical-align: middle;\n",
              "    }\n",
              "\n",
              "    .dataframe tbody tr th {\n",
              "        vertical-align: top;\n",
              "    }\n",
              "\n",
              "    .dataframe thead th {\n",
              "        text-align: right;\n",
              "    }\n",
              "</style>\n",
              "<table border=\"1\" class=\"dataframe\">\n",
              "  <thead>\n",
              "    <tr style=\"text-align: right;\">\n",
              "      <th></th>\n",
              "      <th>Question_IDs</th>\n",
              "      <th>Question_Section</th>\n",
              "      <th>Question_type</th>\n",
              "      <th>Question_Correct_Answer</th>\n",
              "      <th>Question_ANs</th>\n",
              "      <th>Question_ANSWER_Id</th>\n",
              "      <th>Question_Status</th>\n",
              "      <th>Evaluate</th>\n",
              "    </tr>\n",
              "  </thead>\n",
              "  <tbody>\n",
              "    <tr>\n",
              "      <th>0</th>\n",
              "      <td>3666941171</td>\n",
              "      <td>B TECH - Physics Section A</td>\n",
              "      <td>Objective</td>\n",
              "      <td>3666943514</td>\n",
              "      <td>4</td>\n",
              "      <td>3666943514.0</td>\n",
              "      <td>Answered</td>\n",
              "      <td>Correct</td>\n",
              "    </tr>\n",
              "    <tr>\n",
              "      <th>1</th>\n",
              "      <td>3666941172</td>\n",
              "      <td>B TECH - Physics Section A</td>\n",
              "      <td>Objective</td>\n",
              "      <td>3666943518</td>\n",
              "      <td>3</td>\n",
              "      <td>3666943518.0</td>\n",
              "      <td>Answered</td>\n",
              "      <td>Correct</td>\n",
              "    </tr>\n",
              "    <tr>\n",
              "      <th>2</th>\n",
              "      <td>3666941173</td>\n",
              "      <td>B TECH - Physics Section A</td>\n",
              "      <td>Objective</td>\n",
              "      <td>3666943521</td>\n",
              "      <td>1</td>\n",
              "      <td>3666943521.0</td>\n",
              "      <td>Answered</td>\n",
              "      <td>Correct</td>\n",
              "    </tr>\n",
              "    <tr>\n",
              "      <th>3</th>\n",
              "      <td>3666941174</td>\n",
              "      <td>B TECH - Physics Section A</td>\n",
              "      <td>Objective</td>\n",
              "      <td>3666943526</td>\n",
              "      <td>--</td>\n",
              "      <td>nan</td>\n",
              "      <td>Not Attempted and Marked For Review</td>\n",
              "      <td>Not Attempt</td>\n",
              "    </tr>\n",
              "    <tr>\n",
              "      <th>4</th>\n",
              "      <td>3666941175</td>\n",
              "      <td>B TECH - Physics Section A</td>\n",
              "      <td>Objective</td>\n",
              "      <td>3666943528</td>\n",
              "      <td>4</td>\n",
              "      <td>3666943528.0</td>\n",
              "      <td>Answered</td>\n",
              "      <td>Correct</td>\n",
              "    </tr>\n",
              "  </tbody>\n",
              "</table>\n",
              "</div>\n",
              "      <button class=\"colab-df-convert\" onclick=\"convertToInteractive('df-7619271b-e44a-4013-a2c7-231a906eeddf')\"\n",
              "              title=\"Convert this dataframe to an interactive table.\"\n",
              "              style=\"display:none;\">\n",
              "        \n",
              "  <svg xmlns=\"http://www.w3.org/2000/svg\" height=\"24px\"viewBox=\"0 0 24 24\"\n",
              "       width=\"24px\">\n",
              "    <path d=\"M0 0h24v24H0V0z\" fill=\"none\"/>\n",
              "    <path d=\"M18.56 5.44l.94 2.06.94-2.06 2.06-.94-2.06-.94-.94-2.06-.94 2.06-2.06.94zm-11 1L8.5 8.5l.94-2.06 2.06-.94-2.06-.94L8.5 2.5l-.94 2.06-2.06.94zm10 10l.94 2.06.94-2.06 2.06-.94-2.06-.94-.94-2.06-.94 2.06-2.06.94z\"/><path d=\"M17.41 7.96l-1.37-1.37c-.4-.4-.92-.59-1.43-.59-.52 0-1.04.2-1.43.59L10.3 9.45l-7.72 7.72c-.78.78-.78 2.05 0 2.83L4 21.41c.39.39.9.59 1.41.59.51 0 1.02-.2 1.41-.59l7.78-7.78 2.81-2.81c.8-.78.8-2.07 0-2.86zM5.41 20L4 18.59l7.72-7.72 1.47 1.35L5.41 20z\"/>\n",
              "  </svg>\n",
              "      </button>\n",
              "      \n",
              "  <style>\n",
              "    .colab-df-container {\n",
              "      display:flex;\n",
              "      flex-wrap:wrap;\n",
              "      gap: 12px;\n",
              "    }\n",
              "\n",
              "    .colab-df-convert {\n",
              "      background-color: #E8F0FE;\n",
              "      border: none;\n",
              "      border-radius: 50%;\n",
              "      cursor: pointer;\n",
              "      display: none;\n",
              "      fill: #1967D2;\n",
              "      height: 32px;\n",
              "      padding: 0 0 0 0;\n",
              "      width: 32px;\n",
              "    }\n",
              "\n",
              "    .colab-df-convert:hover {\n",
              "      background-color: #E2EBFA;\n",
              "      box-shadow: 0px 1px 2px rgba(60, 64, 67, 0.3), 0px 1px 3px 1px rgba(60, 64, 67, 0.15);\n",
              "      fill: #174EA6;\n",
              "    }\n",
              "\n",
              "    [theme=dark] .colab-df-convert {\n",
              "      background-color: #3B4455;\n",
              "      fill: #D2E3FC;\n",
              "    }\n",
              "\n",
              "    [theme=dark] .colab-df-convert:hover {\n",
              "      background-color: #434B5C;\n",
              "      box-shadow: 0px 1px 3px 1px rgba(0, 0, 0, 0.15);\n",
              "      filter: drop-shadow(0px 1px 2px rgba(0, 0, 0, 0.3));\n",
              "      fill: #FFFFFF;\n",
              "    }\n",
              "  </style>\n",
              "\n",
              "      <script>\n",
              "        const buttonEl =\n",
              "          document.querySelector('#df-7619271b-e44a-4013-a2c7-231a906eeddf button.colab-df-convert');\n",
              "        buttonEl.style.display =\n",
              "          google.colab.kernel.accessAllowed ? 'block' : 'none';\n",
              "\n",
              "        async function convertToInteractive(key) {\n",
              "          const element = document.querySelector('#df-7619271b-e44a-4013-a2c7-231a906eeddf');\n",
              "          const dataTable =\n",
              "            await google.colab.kernel.invokeFunction('convertToInteractive',\n",
              "                                                     [key], {});\n",
              "          if (!dataTable) return;\n",
              "\n",
              "          const docLinkHtml = 'Like what you see? Visit the ' +\n",
              "            '<a target=\"_blank\" href=https://colab.research.google.com/notebooks/data_table.ipynb>data table notebook</a>'\n",
              "            + ' to learn more about interactive tables.';\n",
              "          element.innerHTML = '';\n",
              "          dataTable['output_type'] = 'display_data';\n",
              "          await google.colab.output.renderOutput(dataTable, element);\n",
              "          const docLink = document.createElement('div');\n",
              "          docLink.innerHTML = docLinkHtml;\n",
              "          element.appendChild(docLink);\n",
              "        }\n",
              "      </script>\n",
              "    </div>\n",
              "  </div>\n",
              "  "
            ]
          },
          "metadata": {},
          "execution_count": 13
        }
      ]
    },
    {
      "cell_type": "code",
      "source": [
        "df['Evaluate'].value_counts()"
      ],
      "metadata": {
        "id": "_Bvw4lSsrFxY",
        "outputId": "138859cf-f40f-4f87-dbd1-6b450ae7c10d",
        "colab": {
          "base_uri": "https://localhost:8080/"
        }
      },
      "execution_count": 14,
      "outputs": [
        {
          "output_type": "execute_result",
          "data": {
            "text/plain": [
              "Not Attempt    47\n",
              "Correct        30\n",
              "Wrong          13\n",
              "Name: Evaluate, dtype: int64"
            ]
          },
          "metadata": {},
          "execution_count": 14
        }
      ]
    },
    {
      "cell_type": "code",
      "source": [
        "sns.countplot(x=df['Evaluate'])"
      ],
      "metadata": {
        "colab": {
          "base_uri": "https://localhost:8080/",
          "height": 296
        },
        "id": "DZu_AKzsa8PI",
        "outputId": "1e08b337-b29a-4a94-8cb3-6168247e95e5"
      },
      "execution_count": 15,
      "outputs": [
        {
          "output_type": "execute_result",
          "data": {
            "text/plain": [
              "<matplotlib.axes._subplots.AxesSubplot at 0x7fd3e00d6760>"
            ]
          },
          "metadata": {},
          "execution_count": 15
        },
        {
          "output_type": "display_data",
          "data": {
            "text/plain": [
              "<Figure size 432x288 with 1 Axes>"
            ],
            "image/png": "[encoded data removed]"
          },
          "metadata": {
            "needs_background": "light"
          }
        }
      ]
    },
    {
      "cell_type": "code",
      "source": [
        "temp=df[df['Question_Section']=='B TECH - Physics Section A']\n",
        "sns.countplot(x=temp['Evaluate'])"
      ],
      "metadata": {
        "colab": {
          "base_uri": "https://localhost:8080/",
          "height": 296
        },
        "id": "Pnkjy8aHa8Mp",
        "outputId": "5fdf9ec4-1ebc-4173-9116-ae43a7df3fa0"
      },
      "execution_count": 16,
      "outputs": [
        {
          "output_type": "execute_result",
          "data": {
            "text/plain": [
              "<matplotlib.axes._subplots.AxesSubplot at 0x7fd3e000c1c0>"
            ]
          },
          "metadata": {},
          "execution_count": 16
        },
        {
          "output_type": "display_data",
          "data": {
            "text/plain": [
              "<Figure size 432x288 with 1 Axes>"
            ],
            "image/png": "[encoded data removed]"
          },
          "metadata": {
            "needs_background": "light"
          }
        }
      ]
    },
    {
      "cell_type": "code",
      "source": [
        "temp=df[df['Question_Section']=='B TECH - Physics Section B']\n",
        "sns.countplot(x=temp['Evaluate'])"
      ],
      "metadata": {
        "colab": {
          "base_uri": "https://localhost:8080/",
          "height": 296
        },
        "id": "zclckQUha8Gq",
        "outputId": "18f06d4d-79b1-4010-f38b-5fff7c0645ea"
      },
      "execution_count": 17,
      "outputs": [
        {
          "output_type": "execute_result",
          "data": {
            "text/plain": [
              "<matplotlib.axes._subplots.AxesSubplot at 0x7fd3dfb9ef70>"
            ]
          },
          "metadata": {},
          "execution_count": 17
        },
        {
          "output_type": "display_data",
          "data": {
            "text/plain": [
              "<Figure size 432x288 with 1 Axes>"
            ],
            "image/png": "[encoded data removed]"
          },
          "metadata": {
            "needs_background": "light"
          }
        }
      ]
    },
    {
      "cell_type": "code",
      "source": [
        "temp=df[df['Question_Section']=='B TECH - Mathematics Section A']\n",
        "sns.countplot(x=temp['Evaluate'])"
      ],
      "metadata": {
        "colab": {
          "base_uri": "https://localhost:8080/",
          "height": 296
        },
        "id": "h1VoNFcSfFWr",
        "outputId": "5d213886-df76-4a22-9d78-b4c829805144"
      },
      "execution_count": 18,
      "outputs": [
        {
          "output_type": "execute_result",
          "data": {
            "text/plain": [
              "<matplotlib.axes._subplots.AxesSubplot at 0x7fd3dfb72e80>"
            ]
          },
          "metadata": {},
          "execution_count": 18
        },
        {
          "output_type": "display_data",
          "data": {
            "text/plain": [
              "<Figure size 432x288 with 1 Axes>"
            ],
            "image/png": "[encoded data removed]"
          },
          "metadata": {
            "needs_background": "light"
          }
        }
      ]
    },
    {
      "cell_type": "code",
      "source": [
        "temp=df[df['Question_Section']=='B TECH - Mathematics Section B']\n",
        "sns.countplot(x=temp['Evaluate'])"
      ],
      "metadata": {
        "colab": {
          "base_uri": "https://localhost:8080/",
          "height": 296
        },
        "id": "sIKrsJ2ma8Ee",
        "outputId": "18df2439-b2a7-4eb9-92b6-b7c28baae93c"
      },
      "execution_count": 19,
      "outputs": [
        {
          "output_type": "execute_result",
          "data": {
            "text/plain": [
              "<matplotlib.axes._subplots.AxesSubplot at 0x7fd3dfad7dc0>"
            ]
          },
          "metadata": {},
          "execution_count": 19
        },
        {
          "output_type": "display_data",
          "data": {
            "text/plain": [
              "<Figure size 432x288 with 1 Axes>"
            ],
            "image/png": "[encoded data removed]"
          },
          "metadata": {
            "needs_background": "light"
          }
        }
      ]
    },
    {
      "cell_type": "code",
      "source": [
        "temp=df[df['Question_Section']=='B TECH - Chemistry Section A']\n",
        "sns.countplot(x=temp['Evaluate'])"
      ],
      "metadata": {
        "colab": {
          "base_uri": "https://localhost:8080/",
          "height": 296
        },
        "id": "H79BoSL7fN1l",
        "outputId": "eb85d9f9-bc64-4f68-aa9e-0120ac5f8b72"
      },
      "execution_count": 20,
      "outputs": [
        {
          "output_type": "execute_result",
          "data": {
            "text/plain": [
              "<matplotlib.axes._subplots.AxesSubplot at 0x7fd3dfa94460>"
            ]
          },
          "metadata": {},
          "execution_count": 20
        },
        {
          "output_type": "display_data",
          "data": {
            "text/plain": [
              "<Figure size 432x288 with 1 Axes>"
            ],
            "image/png": "[encoded data removed]"
          },
          "metadata": {
            "needs_background": "light"
          }
        }
      ]
    },
    {
      "cell_type": "code",
      "source": [
        "temp=df[df['Question_Section']=='B TECH - Chemistry Section B']\n",
        "sns.countplot(x=temp['Evaluate'])"
      ],
      "metadata": {
        "colab": {
          "base_uri": "https://localhost:8080/",
          "height": 296
        },
        "id": "Q2zHDUX7a8BF",
        "outputId": "928b9e8d-dad5-463f-cc05-b65081dbdf72"
      },
      "execution_count": 21,
      "outputs": [
        {
          "output_type": "execute_result",
          "data": {
            "text/plain": [
              "<matplotlib.axes._subplots.AxesSubplot at 0x7fd3dfa75190>"
            ]
          },
          "metadata": {},
          "execution_count": 21
        },
        {
          "output_type": "display_data",
          "data": {
            "text/plain": [
              "<Figure size 432x288 with 1 Axes>"
            ],
            "image/png": "[encoded data removed]"
          },
          "metadata": {
            "needs_background": "light"
          }
        }
      ]
    },
    {
      "cell_type": "code",
      "source": [],
      "metadata": {
        "id": "zVSeSiI6a78f"
      },
      "execution_count": 21,
      "outputs": []
    }
  ]
}