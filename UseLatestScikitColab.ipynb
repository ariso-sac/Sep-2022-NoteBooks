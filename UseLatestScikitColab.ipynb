{
  "nbformat": 4,
  "nbformat_minor": 0,
  "metadata": {
    "colab": {
      "provenance": [],
      "include_colab_link": true
    },
    "kernelspec": {
      "display_name": "Python 3",
      "language": "python",
      "name": "python3"
    },
    "language_info": {
      "codemirror_mode": {
        "name": "ipython",
        "version": 3
      },
      "file_extension": ".py",
      "mimetype": "text/x-python",
      "name": "python",
      "nbconvert_exporter": "python",
      "pygments_lexer": "ipython3",
      "version": "3.7.7"
    }
  },
  "cells": [
    {
      "cell_type": "markdown",
      "metadata": {
        "id": "view-in-github",
        "colab_type": "text"
      },
      "source": [
        "<a href=\"https://colab.research.google.com/github/ariso-sac/Sep-2022-NoteBooks/blob/colab-week-2/UseLatestScikitColab.ipynb\" target=\"_parent\"><img src=\"https://colab.research.google.com/assets/colab-badge.svg\" alt=\"Open In Colab\"/></a>"
      ]
    },
    {
      "cell_type": "code",
      "source": [
        "!wget https://repo.anaconda.com/miniconda/Miniconda3-py37_4.8.2-Linux-x86_64.sh\n",
        "\n",
        "!chmod +x Miniconda3-py37_4.8.2-Linux-x86_64.sh\n",
        "\n",
        "!bash ./Miniconda3-py37_4.8.2-Linux-x86_64.sh -b -f -p /usr/local \n",
        "\n",
        "import sys\n",
        "sys.path.append('/usr/local/lib/python3.7/site-packages/')"
      ],
      "metadata": {
        "colab": {
          "base_uri": "https://localhost:8080/"
        },
        "id": "EvaoialBvmrF",
        "outputId": "8a957e08-7c59-42e1-ebda-c61ce71dfb87"
      },
      "execution_count": 1,
      "outputs": [
        {
          "output_type": "stream",
          "name": "stdout",
          "text": [
            "--2022-11-25 12:52:23--  https://repo.anaconda.com/miniconda/Miniconda3-py37_4.8.2-Linux-x86_64.sh\n",
            "Resolving repo.anaconda.com (repo.anaconda.com)... 104.16.130.3, 104.16.131.3, 2606:4700::6810:8203, ...\n",
            "Connecting to repo.anaconda.com (repo.anaconda.com)|104.16.130.3|:443... connected.\n",
            "HTTP request sent, awaiting response... 200 OK\n",
            "Length: 85055499 (81M) [application/x-sh]\n",
            "Saving to: ‘Miniconda3-py37_4.8.2-Linux-x86_64.sh’\n",
            "\n",
            "Miniconda3-py37_4.8 100%[===================>]  81.12M   123MB/s    in 0.7s    \n",
            "\n",
            "2022-11-25 12:52:23 (123 MB/s) - ‘Miniconda3-py37_4.8.2-Linux-x86_64.sh’ saved [85055499/85055499]\n",
            "\n",
            "PREFIX=/usr/local\n",
            "Unpacking payload ...\n",
            "Collecting package metadata (current_repodata.json): - \b\b\\ \b\b| \b\bdone\n",
            "Solving environment: - \b\b\\ \b\b| \b\b/ \b\bdone\n",
            "\n",
            "## Package Plan ##\n",
            "\n",
            "  environment location: /usr/local\n",
            "\n",
            "  added / updated specs:\n",
            "    - _libgcc_mutex==0.1=main\n",
            "    - asn1crypto==1.3.0=py37_0\n",
            "    - ca-certificates==2020.1.1=0\n",
            "    - certifi==2019.11.28=py37_0\n",
            "    - cffi==1.14.0=py37h2e261b9_0\n",
            "    - chardet==3.0.4=py37_1003\n",
            "    - conda-package-handling==1.6.0=py37h7b6447c_0\n",
            "    - conda==4.8.2=py37_0\n",
            "    - cryptography==2.8=py37h1ba5d50_0\n",
            "    - idna==2.8=py37_0\n",
            "    - ld_impl_linux-64==2.33.1=h53a641e_7\n",
            "    - libedit==3.1.20181209=hc058e9b_0\n",
            "    - libffi==3.2.1=hd88cf55_4\n",
            "    - libgcc-ng==9.1.0=hdf63c60_0\n",
            "    - libstdcxx-ng==9.1.0=hdf63c60_0\n",
            "    - ncurses==6.2=he6710b0_0\n",
            "    - openssl==1.1.1d=h7b6447c_4\n",
            "    - pip==20.0.2=py37_1\n",
            "    - pycosat==0.6.3=py37h7b6447c_0\n",
            "    - pycparser==2.19=py37_0\n",
            "    - pyopenssl==19.1.0=py37_0\n",
            "    - pysocks==1.7.1=py37_0\n",
            "    - python==3.7.6=h0371630_2\n",
            "    - readline==7.0=h7b6447c_5\n",
            "    - requests==2.22.0=py37_1\n",
            "    - ruamel_yaml==0.15.87=py37h7b6447c_0\n",
            "    - setuptools==45.2.0=py37_0\n",
            "    - six==1.14.0=py37_0\n",
            "    - sqlite==3.31.1=h7b6447c_0\n",
            "    - tk==8.6.8=hbc83047_0\n",
            "    - tqdm==4.42.1=py_0\n",
            "    - urllib3==1.25.8=py37_0\n",
            "    - wheel==0.34.2=py37_0\n",
            "    - xz==5.2.4=h14c3975_4\n",
            "    - yaml==0.1.7=had09818_2\n",
            "    - zlib==1.2.11=h7b6447c_3\n",
            "\n",
            "\n",
            "The following NEW packages will be INSTALLED:\n",
            "\n",
            "  _libgcc_mutex      pkgs/main/linux-64::_libgcc_mutex-0.1-main\n",
            "  asn1crypto         pkgs/main/linux-64::asn1crypto-1.3.0-py37_0\n",
            "  ca-certificates    pkgs/main/linux-64::ca-certificates-2020.1.1-0\n",
            "  certifi            pkgs/main/linux-64::certifi-2019.11.28-py37_0\n",
            "  cffi               pkgs/main/linux-64::cffi-1.14.0-py37h2e261b9_0\n",
            "  chardet            pkgs/main/linux-64::chardet-3.0.4-py37_1003\n",
            "  conda              pkgs/main/linux-64::conda-4.8.2-py37_0\n",
            "  conda-package-han~ pkgs/main/linux-64::conda-package-handling-1.6.0-py37h7b6447c_0\n",
            "  cryptography       pkgs/main/linux-64::cryptography-2.8-py37h1ba5d50_0\n",
            "  idna               pkgs/main/linux-64::idna-2.8-py37_0\n",
            "  ld_impl_linux-64   pkgs/main/linux-64::ld_impl_linux-64-2.33.1-h53a641e_7\n",
            "  libedit            pkgs/main/linux-64::libedit-3.1.20181209-hc058e9b_0\n",
            "  libffi             pkgs/main/linux-64::libffi-3.2.1-hd88cf55_4\n",
            "  libgcc-ng          pkgs/main/linux-64::libgcc-ng-9.1.0-hdf63c60_0\n",
            "  libstdcxx-ng       pkgs/main/linux-64::libstdcxx-ng-9.1.0-hdf63c60_0\n",
            "  ncurses            pkgs/main/linux-64::ncurses-6.2-he6710b0_0\n",
            "  openssl            pkgs/main/linux-64::openssl-1.1.1d-h7b6447c_4\n",
            "  pip                pkgs/main/linux-64::pip-20.0.2-py37_1\n",
            "  pycosat            pkgs/main/linux-64::pycosat-0.6.3-py37h7b6447c_0\n",
            "  pycparser          pkgs/main/linux-64::pycparser-2.19-py37_0\n",
            "  pyopenssl          pkgs/main/linux-64::pyopenssl-19.1.0-py37_0\n",
            "  pysocks            pkgs/main/linux-64::pysocks-1.7.1-py37_0\n",
            "  python             pkgs/main/linux-64::python-3.7.6-h0371630_2\n",
            "  readline           pkgs/main/linux-64::readline-7.0-h7b6447c_5\n",
            "  requests           pkgs/main/linux-64::requests-2.22.0-py37_1\n",
            "  ruamel_yaml        pkgs/main/linux-64::ruamel_yaml-0.15.87-py37h7b6447c_0\n",
            "  setuptools         pkgs/main/linux-64::setuptools-45.2.0-py37_0\n",
            "  six                pkgs/main/linux-64::six-1.14.0-py37_0\n",
            "  sqlite             pkgs/main/linux-64::sqlite-3.31.1-h7b6447c_0\n",
            "  tk                 pkgs/main/linux-64::tk-8.6.8-hbc83047_0\n",
            "  tqdm               pkgs/main/noarch::tqdm-4.42.1-py_0\n",
            "  urllib3            pkgs/main/linux-64::urllib3-1.25.8-py37_0\n",
            "  wheel              pkgs/main/linux-64::wheel-0.34.2-py37_0\n",
            "  xz                 pkgs/main/linux-64::xz-5.2.4-h14c3975_4\n",
            "  yaml               pkgs/main/linux-64::yaml-0.1.7-had09818_2\n",
            "  zlib               pkgs/main/linux-64::zlib-1.2.11-h7b6447c_3\n",
            "\n",
            "\n",
            "Preparing transaction: \\ \b\b| \b\b/ \b\b- \b\bdone\n",
            "Executing transaction: | \b\b/ \b\b- \b\b\\ \b\b| \b\b/ \b\b- \b\b\\ \b\b| \b\b/ \b\b- \b\b\\ \b\b| \b\b/ \b\b- \b\b\\ \b\b| \b\b/ \b\bdone\n",
            "installation finished.\n",
            "WARNING:\n",
            "    You currently have a PYTHONPATH environment variable set. This may cause\n",
            "    unexpected behavior when running the Python interpreter in Miniconda3.\n",
            "    For best results, please verify that your PYTHONPATH only points to\n",
            "    directories of packages that are compatible with the Python interpreter\n",
            "    in Miniconda3: /usr/local\n"
          ]
        }
      ]
    },
    {
      "cell_type": "code",
      "source": [
        "! conda install python=3.8 -y"
      ],
      "metadata": {
        "colab": {
          "base_uri": "https://localhost:8080/"
        },
        "id": "e-u3cIU_v1w2",
        "outputId": "61cfa728-c75b-43d7-a298-c116532a2a43"
      },
      "execution_count": 2,
      "outputs": [
        {
          "output_type": "stream",
          "name": "stdout",
          "text": [
            "Collecting package metadata (current_repodata.json): - \b\b\\ \b\b| \b\b/ \b\b- \b\b\\ \b\b| \b\b/ \b\b- \b\b\\ \b\b| \b\b/ \b\b- \b\b\\ \b\b| \b\b/ \b\b- \b\b\\ \b\b| \b\b/ \b\b- \b\b\\ \b\b| \b\b/ \b\b- \b\b\\ \b\b| \b\b/ \b\b- \b\b\\ \b\bdone\n",
            "Solving environment: / \b\b- \b\b\\ \b\b| \b\b/ \b\b- \b\b\\ \b\b| \b\b/ \b\b- \b\b\\ \b\b| \b\b/ \b\bfailed with initial frozen solve. Retrying with flexible solve.\n",
            "Solving environment: \\ \b\b| \b\b/ \b\b- \b\b\\ \b\b| \b\b/ \b\b- \b\b\\ \b\b| \b\b/ \b\bdone\n",
            "Collecting package metadata (repodata.json): \\ \b\b| \b\b/ \b\b- \b\b\\ \b\b| \b\b/ \b\b- \b\b\\ \b\b| \b\b/ \b\b- \b\b\\ \b\b| \b\b/ \b\b- \b\b\\ \b\b| \b\b/ \b\b- \b\b\\ \b\b| \b\b/ \b\b- \b\b\\ \b\b| \b\b/ \b\b- \b\b\\ \b\b| \b\b/ \b\b- \b\b\\ \b\b| \b\b/ \b\b- \b\b\\ \b\b| \b\b/ \b\b- \b\b\\ \b\b| \b\bdone\n",
            "Solving environment: - \b\b\\ \b\b| \b\b/ \b\b- \b\b\\ \b\b| \b\b/ \b\b- \b\b\\ \b\b| \b\b/ \b\b- \b\b\\ \b\b| \b\b/ \b\b- \b\b\\ \b\b| \b\b/ \b\b- \b\b\\ \b\b| \b\b/ \b\b- \b\b\\ \b\b| \b\bdone\n",
            "\n",
            "## Package Plan ##\n",
            "\n",
            "  environment location: /usr/local\n",
            "\n",
            "  added / updated specs:\n",
            "    - python=3.8\n",
            "\n",
            "\n",
            "The following packages will be downloaded:\n",
            "\n",
            "    package                    |            build\n",
            "    ---------------------------|-----------------\n",
            "    brotlipy-0.7.0             |py38h27cfd23_1003         323 KB\n",
            "    ca-certificates-2022.10.11 |       h06a4308_0         124 KB\n",
            "    certifi-2022.9.24          |   py38h06a4308_0         154 KB\n",
            "    cffi-1.15.0                |   py38h7f8727e_0         226 KB\n",
            "    charset-normalizer-2.0.4   |     pyhd3eb1b0_0          35 KB\n",
            "    conda-22.9.0               |   py38h06a4308_0         884 KB\n",
            "    conda-package-handling-1.8.1|   py38h7f8727e_0         885 KB\n",
            "    cryptography-38.0.1        |   py38h9ce1e76_0         1.3 MB\n",
            "    idna-3.4                   |   py38h06a4308_0          93 KB\n",
            "    openssl-1.1.1s             |       h7f8727e_0         3.6 MB\n",
            "    pip-22.2.2                 |   py38h06a4308_0         2.3 MB\n",
            "    pycosat-0.6.3              |   py38h7b6447c_1          82 KB\n",
            "    pycparser-2.21             |     pyhd3eb1b0_0          94 KB\n",
            "    pyopenssl-22.0.0           |     pyhd3eb1b0_0          50 KB\n",
            "    pysocks-1.7.1              |   py38h06a4308_0          31 KB\n",
            "    python-3.8.2               |       h191fe78_0        49.6 MB\n",
            "    requests-2.28.1            |   py38h06a4308_0          92 KB\n",
            "    ruamel_yaml-0.15.87        |   py38h7b6447c_0         259 KB\n",
            "    setuptools-65.5.0          |   py38h06a4308_0         1.1 MB\n",
            "    toolz-0.12.0               |   py38h06a4308_0         105 KB\n",
            "    urllib3-1.26.12            |   py38h06a4308_0         182 KB\n",
            "    wheel-0.37.1               |     pyhd3eb1b0_0          33 KB\n",
            "    ------------------------------------------------------------\n",
            "                                           Total:        61.5 MB\n",
            "\n",
            "The following NEW packages will be INSTALLED:\n",
            "\n",
            "  brotlipy           pkgs/main/linux-64::brotlipy-0.7.0-py38h27cfd23_1003\n",
            "  charset-normalizer pkgs/main/noarch::charset-normalizer-2.0.4-pyhd3eb1b0_0\n",
            "  toolz              pkgs/main/linux-64::toolz-0.12.0-py38h06a4308_0\n",
            "\n",
            "The following packages will be REMOVED:\n",
            "\n",
            "  asn1crypto-1.3.0-py37_0\n",
            "  chardet-3.0.4-py37_1003\n",
            "  six-1.14.0-py37_0\n",
            "\n",
            "The following packages will be UPDATED:\n",
            "\n",
            "  ca-certificates                                2020.1.1-0 --> 2022.10.11-h06a4308_0\n",
            "  certifi                                 2019.11.28-py37_0 --> 2022.9.24-py38h06a4308_0\n",
            "  cffi                                1.14.0-py37h2e261b9_0 --> 1.15.0-py38h7f8727e_0\n",
            "  conda                                        4.8.2-py37_0 --> 22.9.0-py38h06a4308_0\n",
            "  conda-package-han~                   1.6.0-py37h7b6447c_0 --> 1.8.1-py38h7f8727e_0\n",
            "  cryptography                           2.8-py37h1ba5d50_0 --> 38.0.1-py38h9ce1e76_0\n",
            "  idna                                           2.8-py37_0 --> 3.4-py38h06a4308_0\n",
            "  openssl                                 1.1.1d-h7b6447c_4 --> 1.1.1s-h7f8727e_0\n",
            "  pip                                         20.0.2-py37_1 --> 22.2.2-py38h06a4308_0\n",
            "  pycosat                              0.6.3-py37h7b6447c_0 --> 0.6.3-py38h7b6447c_1\n",
            "  pycparser          pkgs/main/linux-64::pycparser-2.19-py~ --> pkgs/main/noarch::pycparser-2.21-pyhd3eb1b0_0\n",
            "  pyopenssl          pkgs/main/linux-64::pyopenssl-19.1.0-~ --> pkgs/main/noarch::pyopenssl-22.0.0-pyhd3eb1b0_0\n",
            "  python                                   3.7.6-h0371630_2 --> 3.8.2-h191fe78_0\n",
            "  requests                                    2.22.0-py37_1 --> 2.28.1-py38h06a4308_0\n",
            "  setuptools                                  45.2.0-py37_0 --> 65.5.0-py38h06a4308_0\n",
            "  urllib3                                     1.25.8-py37_0 --> 1.26.12-py38h06a4308_0\n",
            "  wheel              pkgs/main/linux-64::wheel-0.34.2-py37~ --> pkgs/main/noarch::wheel-0.37.1-pyhd3eb1b0_0\n",
            "\n",
            "The following packages will be DOWNGRADED:\n",
            "\n",
            "  pysocks                                      1.7.1-py37_0 --> 1.7.1-py38h06a4308_0\n",
            "  ruamel_yaml                        0.15.87-py37h7b6447c_0 --> 0.15.87-py38h7b6447c_0\n",
            "\n",
            "\n",
            "\n",
            "Downloading and Extracting Packages\n",
            "conda-package-handli | 885 KB    | : 100% 1.0/1 [00:00<00:00,  8.20it/s]\n",
            "conda-22.9.0         | 884 KB    | : 100% 1.0/1 [00:00<00:00, 11.32it/s]\n",
            "pip-22.2.2           | 2.3 MB    | : 100% 1.0/1 [00:00<00:00,  6.76it/s]\n",
            "certifi-2022.9.24    | 154 KB    | : 100% 1.0/1 [00:00<00:00, 20.29it/s]\n",
            "idna-3.4             | 93 KB     | : 100% 1.0/1 [00:00<00:00, 19.31it/s]\n",
            "python-3.8.2         | 49.6 MB   | : 100% 1.0/1 [00:02<00:00,  4.91s/it]               \n",
            "openssl-1.1.1s       | 3.6 MB    | : 100% 1.0/1 [00:00<00:00,  7.36it/s]\n",
            "requests-2.28.1      | 92 KB     | : 100% 1.0/1 [00:00<00:00, 18.22it/s]\n",
            "cryptography-38.0.1  | 1.3 MB    | : 100% 1.0/1 [00:00<00:00, 11.20it/s]\n",
            "pysocks-1.7.1        | 31 KB     | : 100% 1.0/1 [00:00<00:00, 20.34it/s]\n",
            "toolz-0.12.0         | 105 KB    | : 100% 1.0/1 [00:00<00:00, 18.49it/s]\n",
            "charset-normalizer-2 | 35 KB     | : 100% 1.0/1 [00:00<00:00, 20.64it/s]\n",
            "pyopenssl-22.0.0     | 50 KB     | : 100% 1.0/1 [00:00<00:00, 20.85it/s]\n",
            "ruamel_yaml-0.15.87  | 259 KB    | : 100% 1.0/1 [00:00<00:00,  7.65it/s]               \n",
            "urllib3-1.26.12      | 182 KB    | : 100% 1.0/1 [00:00<00:00, 16.24it/s]\n",
            "ca-certificates-2022 | 124 KB    | : 100% 1.0/1 [00:00<00:00, 16.68it/s]\n",
            "setuptools-65.5.0    | 1.1 MB    | : 100% 1.0/1 [00:00<00:00, 10.42it/s]\n",
            "wheel-0.37.1         | 33 KB     | : 100% 1.0/1 [00:00<00:00, 18.05it/s]\n",
            "cffi-1.15.0          | 226 KB    | : 100% 1.0/1 [00:00<00:00,  4.52it/s]                \n",
            "pycosat-0.6.3        | 82 KB     | : 100% 1.0/1 [00:00<00:00, 22.07it/s]\n",
            "pycparser-2.21       | 94 KB     | : 100% 1.0/1 [00:00<00:00, 18.01it/s]\n",
            "brotlipy-0.7.0       | 323 KB    | : 100% 1.0/1 [00:00<00:00, 18.78it/s]\n",
            "Preparing transaction: - \b\b\\ \b\b| \b\bdone\n",
            "Verifying transaction: - \b\b\\ \b\b| \b\b/ \b\b- \b\b\\ \b\b| \b\b/ \b\b- \b\b\\ \b\b| \b\bdone\n",
            "Executing transaction: - \b\b\\ \b\b| \b\b/ \b\b- \b\b\\ \b\b| \b\b/ \b\b- \b\b\\ \b\b| \b\b/ \b\b- \b\b\\ \b\b| \b\b/ \b\bdone\n"
          ]
        }
      ]
    },
    {
      "cell_type": "code",
      "source": [
        "!python --version"
      ],
      "metadata": {
        "colab": {
          "base_uri": "https://localhost:8080/"
        },
        "id": "2tXo7yz0t74m",
        "outputId": "e1015145-36c3-462d-ab3b-0e0665bdbfb8"
      },
      "execution_count": 3,
      "outputs": [
        {
          "output_type": "stream",
          "name": "stdout",
          "text": [
            "Python 3.8.2\n"
          ]
        }
      ]
    },
    {
      "cell_type": "code",
      "source": [
        "! pip3 install -U scikit-learn"
      ],
      "metadata": {
        "colab": {
          "base_uri": "https://localhost:8080/"
        },
        "id": "xDeDocbnxG5B",
        "outputId": "1b1de16d-2d95-499e-9d64-11a5cad983c5"
      },
      "execution_count": 4,
      "outputs": [
        {
          "output_type": "stream",
          "name": "stdout",
          "text": [
            "Looking in indexes: https://pypi.org/simple, https://us-python.pkg.dev/colab-wheels/public/simple/\n",
            "Collecting scikit-learn\n",
            "  Downloading scikit_learn-1.1.3-cp38-cp38-manylinux_2_17_x86_64.manylinux2014_x86_64.whl (31.2 MB)\n",
            "\u001b[2K     \u001b[90m━━━━━━━━━━━━━━━━━━━━━━━━━━━━━━━━━━━━━━━━\u001b[0m \u001b[32m31.2/31.2 MB\u001b[0m \u001b[31m36.5 MB/s\u001b[0m eta \u001b[36m0:00:00\u001b[0m\n",
            "\u001b[?25hCollecting numpy>=1.17.3\n",
            "  Downloading numpy-1.23.5-cp38-cp38-manylinux_2_17_x86_64.manylinux2014_x86_64.whl (17.1 MB)\n",
            "\u001b[2K     \u001b[90m━━━━━━━━━━━━━━━━━━━━━━━━━━━━━━━━━━━━━━━━\u001b[0m \u001b[32m17.1/17.1 MB\u001b[0m \u001b[31m94.3 MB/s\u001b[0m eta \u001b[36m0:00:00\u001b[0m\n",
            "\u001b[?25hCollecting scipy>=1.3.2\n",
            "  Downloading scipy-1.9.3-cp38-cp38-manylinux_2_17_x86_64.manylinux2014_x86_64.whl (33.8 MB)\n",
            "\u001b[2K     \u001b[90m━━━━━━━━━━━━━━━━━━━━━━━━━━━━━━━━━━━━━━━━\u001b[0m \u001b[32m33.8/33.8 MB\u001b[0m \u001b[31m19.5 MB/s\u001b[0m eta \u001b[36m0:00:00\u001b[0m\n",
            "\u001b[?25hCollecting threadpoolctl>=2.0.0\n",
            "  Downloading threadpoolctl-3.1.0-py3-none-any.whl (14 kB)\n",
            "Collecting joblib>=1.0.0\n",
            "  Downloading joblib-1.2.0-py3-none-any.whl (297 kB)\n",
            "\u001b[2K     \u001b[90m━━━━━━━━━━━━━━━━━━━━━━━━━━━━━━━━━━━━━━\u001b[0m \u001b[32m298.0/298.0 kB\u001b[0m \u001b[31m26.5 MB/s\u001b[0m eta \u001b[36m0:00:00\u001b[0m\n",
            "\u001b[?25hInstalling collected packages: threadpoolctl, numpy, joblib, scipy, scikit-learn\n",
            "Successfully installed joblib-1.2.0 numpy-1.23.5 scikit-learn-1.1.3 scipy-1.9.3 threadpoolctl-3.1.0\n",
            "\u001b[33mWARNING: Running pip as the 'root' user can result in broken permissions and conflicting behaviour with the system package manager. It is recommended to use a virtual environment instead: https://pip.pypa.io/warnings/venv\u001b[0m\u001b[33m\n",
            "\u001b[0m"
          ]
        }
      ]
    },
    {
      "cell_type": "code",
      "source": [
        "! pip3 install -U scikit-learn"
      ],
      "metadata": {
        "colab": {
          "base_uri": "https://localhost:8080/"
        },
        "id": "CRdhBvbk17j-",
        "outputId": "fda76883-7318-4c36-9d01-dceb8d23024c"
      },
      "execution_count": 5,
      "outputs": [
        {
          "output_type": "stream",
          "name": "stdout",
          "text": [
            "Looking in indexes: https://pypi.org/simple, https://us-python.pkg.dev/colab-wheels/public/simple/\n",
            "Requirement already satisfied: scikit-learn in /usr/local/lib/python3.8/site-packages (1.1.3)\n",
            "Requirement already satisfied: joblib>=1.0.0 in /usr/local/lib/python3.8/site-packages (from scikit-learn) (1.2.0)\n",
            "Requirement already satisfied: scipy>=1.3.2 in /usr/local/lib/python3.8/site-packages (from scikit-learn) (1.9.3)\n",
            "Requirement already satisfied: threadpoolctl>=2.0.0 in /usr/local/lib/python3.8/site-packages (from scikit-learn) (3.1.0)\n",
            "Requirement already satisfied: numpy>=1.17.3 in /usr/local/lib/python3.8/site-packages (from scikit-learn) (1.23.5)\n",
            "\u001b[33mWARNING: Running pip as the 'root' user can result in broken permissions and conflicting behaviour with the system package manager. It is recommended to use a virtual environment instead: https://pip.pypa.io/warnings/venv\u001b[0m\u001b[33m\n",
            "\u001b[0m"
          ]
        }
      ]
    },
    {
      "cell_type": "code",
      "source": [
        "import pandas as pd\n",
        "import numpy as np\n",
        "import matplotlib.pyplot as plt\n",
        "import seaborn as sns\n",
        "from sklearn.preprocessing import OneHotEncoder, OrdinalEncoder, LabelEncoder, StandardScaler\n",
        "from sklearn.pipeline import Pipeline\n",
        "from sklearn.compose import ColumnTransformer\n",
        "from sklearn.model_selection import train_test_split, cross_val_score, GridSearchCV\n",
        "from sklearn.naive_bayes import GaussianNB, BernoulliNB, CategoricalNB,ComplementNB,MultinomialNB\n",
        "from sklearn.tree import DecisionTreeClassifier,ExtraTreeClassifier\n",
        "from sklearn.neural_network import MLPClassifier\n",
        "from sklearn.ensemble import AdaBoostClassifier,BaggingClassifier,GradientBoostingClassifier,RandomForestClassifier,HistGradientBoostingClassifier\n",
        "from sklearn.discriminant_analysis import LinearDiscriminantAnalysis,QuadraticDiscriminantAnalysis\n",
        "from sklearn.svm import LinearSVC, SVC, NuSVC\n",
        "from sklearn.linear_model import RidgeClassifier, LogisticRegression, Perceptron\n",
        "from sklearn.neighbors import KNeighborsClassifier"
      ],
      "metadata": {
        "id": "1LODBlpktP6I"
      },
      "execution_count": 6,
      "outputs": []
    },
    {
      "cell_type": "code",
      "source": [
        "from xgboost import XGBClassifier"
      ],
      "metadata": {
        "id": "CWNybWARuWw9"
      },
      "execution_count": 7,
      "outputs": []
    },
    {
      "cell_type": "code",
      "source": [
        "# explicitly require this experimental feature\n",
        "from sklearn.experimental import enable_halving_search_cv # noqa\n",
        "# now you can import normally from model_selection\n",
        "from sklearn.model_selection import HalvingGridSearchCV"
      ],
      "metadata": {
        "id": "fU1fTVcJrtcf"
      },
      "execution_count": 8,
      "outputs": []
    },
    {
      "cell_type": "code",
      "source": [
        "df=pd.read_csv('train1.csv')\n",
        "df=df.drop('travel_more_than_5_mins',axis=1)\n",
        "features=df.columns[:-1]\n",
        "target=df.columns[-1]\n",
        "X=df[features]\n",
        "y=df[target]"
      ],
      "metadata": {
        "id": "EDOQ4ZjmtP2F"
      },
      "execution_count": 9,
      "outputs": []
    },
    {
      "cell_type": "code",
      "source": [
        "lb=LabelEncoder().fit(y)\n",
        "y=lb.transform(y)\n",
        "l=X.columns.to_list()\n",
        "order=['offer_expiration(hrs)','age','income_range','temperature','travel_time',\n",
        "       'restuarant_same_direction_house','western/chinese','children','cooks_regularly',\n",
        "       'prefer_home_food','visit_restaurant_with_rating_(avg)',\n",
        "       'visited_ColdDrinks','travelled_more_than_15_mins','resturant_spend_more_than_20',\n",
        "       'travel_more_than_25_mins','number_visted_bars',\n",
        "       'number_of_take_aways','restuarant_same_opposite_house',\n",
        "       'restaurant_spend_greater_than_20','is_foodie'\n",
        "      ]\n",
        "for i in order:\n",
        "    print(i)\n",
        "    l.remove(i)"
      ],
      "metadata": {
        "id": "qCbaAUAxtPuU",
        "colab": {
          "base_uri": "https://localhost:8080/"
        },
        "outputId": "0120b60e-3008-4984-bdc3-5c5a590d68c2"
      },
      "execution_count": 10,
      "outputs": [
        {
          "output_type": "stream",
          "name": "stdout",
          "text": [
            "offer_expiration(hrs)\n",
            "age\n",
            "income_range\n",
            "temperature\n",
            "travel_time\n",
            "restuarant_same_direction_house\n",
            "western/chinese\n",
            "children\n",
            "cooks_regularly\n",
            "prefer_home_food\n",
            "visit_restaurant_with_rating_(avg)\n",
            "visited_ColdDrinks\n",
            "travelled_more_than_15_mins\n",
            "resturant_spend_more_than_20\n",
            "travel_more_than_25_mins\n",
            "number_visted_bars\n",
            "number_of_take_aways\n",
            "restuarant_same_opposite_house\n",
            "restaurant_spend_greater_than_20\n",
            "is_foodie\n"
          ]
        }
      ]
    },
    {
      "cell_type": "code",
      "source": [
        "X=pd.get_dummies(data=X,columns=l)\n",
        "enc=OrdinalEncoder()\n",
        "ord=enc.fit(X)\n",
        "temp=ord.transform(X)\n",
        "X=pd.DataFrame(data=temp,columns=X.columns)"
      ],
      "metadata": {
        "id": "xnngoaOztPo-"
      },
      "execution_count": 11,
      "outputs": []
    },
    {
      "cell_type": "code",
      "source": [
        "X_train, X_test, y_train, y_test = train_test_split(\n",
        "     X, y, \n",
        "    test_size=0.20,\n",
        "    random_state=42,\n",
        "    shuffle=True\n",
        ")"
      ],
      "metadata": {
        "id": "KF-ju56xtPmd"
      },
      "execution_count": 12,
      "outputs": []
    },
    {
      "cell_type": "code",
      "source": [
        "models = []\n",
        "models.append(('loreg', LogisticRegression(max_iter=1000,\n",
        "                                           n_jobs=-1,\n",
        "                                          #  class_weight='balanced'\n",
        "                                           )))\n",
        "models.append(('svc', SVC(\n",
        "    probability=True\n",
        ")))\n",
        "models.append(('GradBoost',  HistGradientBoostingClassifier(\n",
        ")))\n",
        "models.append(('HistGradBoost',  GradientBoostingClassifier(\n",
        ")))\n",
        "models.append(('KNN',  KNeighborsClassifier(\n",
        ")))\n",
        "models.append(('forest',  RandomForestClassifier(\n",
        "    # class_weight='balanced'\n",
        ")))\n",
        "models.append(('naiveBayes_category',CategoricalNB()))\n",
        "models.append(('naiveBayes_complement',ComplementNB()))\n",
        "models.append(('xgboost',XGBClassifier()))\n",
        "models.append(('LinearDiscriminant',LinearDiscriminantAnalysis()))"
      ],
      "metadata": {
        "id": "ZGWLcwDvtPjM"
      },
      "execution_count": 13,
      "outputs": []
    },
    {
      "cell_type": "code",
      "source": [
        "clf=HistGradientBoostingClassifier(scoring='f1_macro')"
      ],
      "metadata": {
        "id": "zjOvjsKlfPLT"
      },
      "execution_count": 14,
      "outputs": []
    },
    {
      "cell_type": "code",
      "source": [
        "clf.fit(X_train,y_train)"
      ],
      "metadata": {
        "colab": {
          "base_uri": "https://localhost:8080/"
        },
        "id": "VuDqSO8af1w8",
        "outputId": "2c757ef7-7f3b-4941-9f05-4b967f099752"
      },
      "execution_count": 15,
      "outputs": [
        {
          "output_type": "execute_result",
          "data": {
            "text/plain": [
              "HistGradientBoostingClassifier(loss='binary_crossentropy')"
            ]
          },
          "metadata": {},
          "execution_count": 15
        }
      ]
    },
    {
      "cell_type": "code",
      "source": [
        "print('Emperical/Training Error',clf.score(X_train,y_train))\n",
        "print('Genrealisation/Test Error',clf.score(X_test,y_test))"
      ],
      "metadata": {
        "colab": {
          "base_uri": "https://localhost:8080/"
        },
        "id": "8ZkCSyUhgCWU",
        "outputId": "2bfff1dc-3ab9-40b8-9906-d54c09743984"
      },
      "execution_count": 16,
      "outputs": [
        {
          "output_type": "stream",
          "name": "stdout",
          "text": [
            "Emperical/Training Error 0.7832979905079269\n",
            "Genrealisation/Test Error 0.6231825525040388\n"
          ]
        }
      ]
    },
    {
      "cell_type": "code",
      "source": [
        "scores = cross_val_score(clf, X, y, cv=5, scoring='f1_macro', n_jobs=-1)\n",
        "print(\"Accuracy of %0.3f \\n with a \\n Standard Deviation of %0.3f\" % (scores.mean(), scores.std()))"
      ],
      "metadata": {
        "id": "-jbOIeLov8Oe",
        "outputId": "62feddf0-fcdf-460f-b555-a40916b7fc66",
        "colab": {
          "base_uri": "https://localhost:8080/"
        }
      },
      "execution_count": 17,
      "outputs": [
        {
          "output_type": "stream",
          "name": "stdout",
          "text": [
            "Accuracy of 0.609 \n",
            " with a \n",
            " Standard Deviation of 0.006\n"
          ]
        }
      ]
    },
    {
      "cell_type": "code",
      "source": [
        "param_test1 = {\n",
        "               'max_leaf_nodes':[35,45,50,55],\n",
        "               'max_depth':[4,5,6,8,None],\n",
        "               'min_samples_leaf':[20,30,40,50,60],\n",
        "               'warm_start':[True,False],\n",
        "               'loss':['log_loss', 'auto', 'binary_crossentropy', 'categorical_crossentropy'],\n",
        "               'l2_regularization':[0,0.1,1]\n",
        "               }\n",
        "gsearch1 = GridSearchCV(estimator = clf,\n",
        "                        param_grid = param_test1, \n",
        "                        scoring='f1_macro',cv=5,\n",
        "                        n_jobs=-1\n",
        "        ) \n",
        "gsearch1.fit(X,y)"
      ],
      "metadata": {
        "id": "KC8f0oP-lfg3"
      },
      "execution_count": null,
      "outputs": []
    },
    {
      "cell_type": "code",
      "source": [
        "gsearch1.best_score_"
      ],
      "metadata": {
        "id": "87DObiN7mBga"
      },
      "execution_count": null,
      "outputs": []
    },
    {
      "cell_type": "code",
      "source": [
        "gsearch1.best_estimator_"
      ],
      "metadata": {
        "id": "jhdG0ZASpcPO"
      },
      "execution_count": null,
      "outputs": []
    },
    {
      "cell_type": "code",
      "source": [
        "gsearch1.best_params_"
      ],
      "metadata": {
        "id": "P0pbuVV1pHfI"
      },
      "execution_count": null,
      "outputs": []
    },
    {
      "cell_type": "code",
      "source": [
        "ans=pd.read_csv('test1.csv')\n",
        "ans=ans.drop('travel_more_than_5_mins',axis=1)\n",
        "# \n",
        "ans=pd.get_dummies(data=ans,columns=l)\n",
        "temp=ord.transform(ans)\n",
        "ans=pd.DataFrame(data=temp,columns=X.columns)\n",
        "# \n",
        "out=gsearch1.predict(ans)\n",
        "out=lb.inverse_transform(out)\n",
        "submission=pd.DataFrame(columns=['id','Offer Accepted'])\n",
        "submission['id']=[i for i in range(len(ans))]\n",
        "submission['Offer Accepted']=out\n",
        "sns.countplot(x=submission['Offer Accepted'])"
      ],
      "metadata": {
        "id": "gHINh8OKtPTP"
      },
      "execution_count": null,
      "outputs": []
    },
    {
      "cell_type": "code",
      "source": [
        "submission.to_csv('submission.csv',index=False)"
      ],
      "metadata": {
        "id": "ChzLZfhLtPQ2"
      },
      "execution_count": null,
      "outputs": []
    },
    {
      "cell_type": "code",
      "source": [],
      "metadata": {
        "id": "VxJTO4A4tOwm"
      },
      "execution_count": null,
      "outputs": []
    },
    {
      "cell_type": "code",
      "source": [],
      "metadata": {
        "id": "Jw38R4V2tNvh"
      },
      "execution_count": null,
      "outputs": []
    },
    {
      "cell_type": "code",
      "source": [],
      "metadata": {
        "id": "9gVTt-4BtNqH"
      },
      "execution_count": null,
      "outputs": []
    }
  ]
}