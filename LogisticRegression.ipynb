{
 "cells": [
  {
   "cell_type": "markdown",
   "id": "45ac8e68-253b-4866-a8c8-55f361bbb372",
   "metadata": {
    "tags": []
   },
   "source": [
    "# Importing Libraries"
   ]
  },
  {
   "cell_type": "markdown",
   "id": "25233e34-72ab-4637-b822-3ac8eb352630",
   "metadata": {
    "tags": []
   },
   "source": [
    "## Standard Libraries"
   ]
  },
  {
   "cell_type": "code",
   "execution_count": 1,
   "id": "1d65bd17-130b-4ccd-81c5-1532f0195a39",
   "metadata": {
    "tags": []
   },
   "outputs": [],
   "source": [
    "import pandas as pd \n",
    "import numpy as np\n",
    "import seaborn as sns\n",
    "import matplotlib.pyplot as plt"
   ]
  },
  {
   "cell_type": "markdown",
   "id": "c5872249-cbba-4040-b358-45efcf5dec6d",
   "metadata": {
    "tags": []
   },
   "source": [
    "## Sklearn Libraries "
   ]
  },
  {
   "cell_type": "code",
   "execution_count": 2,
   "id": "9d2d121c-5268-4c26-8865-612f6647ffea",
   "metadata": {},
   "outputs": [],
   "source": [
    "from sklearn.preprocessing import StandardScaler, OrdinalEncoder, OneHotEncoder , LabelEncoder , MinMaxScaler\n",
    "from sklearn.pipeline import Pipeline, FeatureUnion\n",
    "from sklearn.compose import ColumnTransformer\n",
    "from sklearn.impute import SimpleImputer\n",
    "from sklearn.feature_selection import VarianceThreshold\n",
    "from sklearn.model_selection import train_test_split\n",
    "from sklearn.linear_model import LogisticRegression , LogisticRegressionCV\n",
    "from sklearn.metrics import confusion_matrix ,ConfusionMatrixDisplay , f1_score ,classification_report\n",
    "from sklearn.ensemble import RandomForestClassifier\n",
    "from sklearn.svm import SVC\n",
    "from sklearn.model_selection import RandomizedSearchCV"
   ]
  },
  {
   "cell_type": "markdown",
   "id": "6125b31c-8397-46f3-a367-f1125b135877",
   "metadata": {
    "jp-MarkdownHeadingCollapsed": true,
    "tags": []
   },
   "source": [
    "# Loading the DataSet"
   ]
  },
  {
   "cell_type": "code",
   "execution_count": 3,
   "id": "fddc9ecf-4a21-44b3-8fd1-f2815065a68f",
   "metadata": {},
   "outputs": [],
   "source": [
    "df=pd.read_csv('train1.csv')\n",
    "# df=df.drop(df.columns[0], axis=1)\n",
    "# df.head()"
   ]
  },
  {
   "cell_type": "code",
   "execution_count": 4,
   "id": "44a6afdb-9cac-41ef-a4f8-1967a666fbc5",
   "metadata": {},
   "outputs": [],
   "source": [
    "# num=df.select_dtypes(include=np.number).columns.tolist()\n",
    "cat=df.select_dtypes(include=np.object_).columns.tolist()\n",
    "# df.select_dtypes(include=np.object_).columns.tolist()"
   ]
  },
  {
   "cell_type": "markdown",
   "id": "0a205eef-b65e-4e9c-abcd-61c87d8f3b7b",
   "metadata": {},
   "source": [
    "## Before Manipulation"
   ]
  },
  {
   "cell_type": "code",
   "execution_count": 5,
   "id": "36944aa2-7b07-4b64-a061-4670bc349c7e",
   "metadata": {},
   "outputs": [
    {
     "data": {
      "text/plain": [
       "<AxesSubplot: xlabel='offer_accepted', ylabel='count'>"
      ]
     },
     "execution_count": 5,
     "metadata": {},
     "output_type": "execute_result"
    },
    {
     "data": {
      "image/png": "[encoded data removed]",
      "text/plain": [
       "<Figure size 640x480 with 1 Axes>"
      ]
     },
     "metadata": {},
     "output_type": "display_data"
    }
   ],
   "source": [
    "sns.countplot(x=df['offer_accepted'])"
   ]
  },
  {
   "cell_type": "markdown",
   "id": "59ba5e52-cd06-4f88-87b8-fd58e0bdaf41",
   "metadata": {
    "tags": []
   },
   "source": [
    "# Applying Transformation"
   ]
  },
  {
   "cell_type": "code",
   "execution_count": 6,
   "id": "7efcc2c9-89ab-4e7a-8bad-92c1c619b09a",
   "metadata": {},
   "outputs": [],
   "source": [
    "categorical_transformer = Pipeline(\n",
    "    steps=[(\n",
    "    \"encoder\",OrdinalEncoder()\n",
    "    )]\n",
    ")"
   ]
  },
  {
   "cell_type": "code",
   "execution_count": 7,
   "id": "8045d234-76ec-47ee-a199-750d7fc8b8c2",
   "metadata": {},
   "outputs": [],
   "source": [
    "categorical_transformer.fit_transform(df[cat])\n",
    "cat_frame=pd.DataFrame(data=categorical_transformer.fit_transform(df[cat]), columns=df[cat].columns)"
   ]
  },
  {
   "cell_type": "code",
   "execution_count": 8,
   "id": "abab10f1-74ab-4f0c-b84f-87b0a7b0dc1a",
   "metadata": {},
   "outputs": [
    {
     "data": {
      "text/html": [
       "<div>\n",
       "<style scoped>\n",
       "    .dataframe tbody tr th:only-of-type {\n",
       "        vertical-align: middle;\n",
       "    }\n",
       "\n",
       "    .dataframe tbody tr th {\n",
       "        vertical-align: top;\n",
       "    }\n",
       "\n",
       "    .dataframe thead th {\n",
       "        text-align: right;\n",
       "    }\n",
       "</style>\n",
       "<table border=\"1\" class=\"dataframe\">\n",
       "  <thead>\n",
       "    <tr style=\"text-align: right;\">\n",
       "      <th></th>\n",
       "      <th>shaadi</th>\n",
       "      <th>restaurant_type</th>\n",
       "      <th>gender</th>\n",
       "      <th>customer_type</th>\n",
       "      <th>education</th>\n",
       "      <th>industry</th>\n",
       "      <th>climate</th>\n",
       "      <th>drop_location</th>\n",
       "      <th>offer_accepted</th>\n",
       "    </tr>\n",
       "  </thead>\n",
       "  <tbody>\n",
       "    <tr>\n",
       "      <th>0</th>\n",
       "      <td>1.0</td>\n",
       "      <td>1.0</td>\n",
       "      <td>0.0</td>\n",
       "      <td>0.0</td>\n",
       "      <td>1.0</td>\n",
       "      <td>24.0</td>\n",
       "      <td>0.0</td>\n",
       "      <td>1.0</td>\n",
       "      <td>0.0</td>\n",
       "    </tr>\n",
       "    <tr>\n",
       "      <th>1</th>\n",
       "      <td>1.0</td>\n",
       "      <td>4.0</td>\n",
       "      <td>0.0</td>\n",
       "      <td>0.0</td>\n",
       "      <td>1.0</td>\n",
       "      <td>24.0</td>\n",
       "      <td>1.0</td>\n",
       "      <td>1.0</td>\n",
       "      <td>1.0</td>\n",
       "    </tr>\n",
       "    <tr>\n",
       "      <th>2</th>\n",
       "      <td>2.0</td>\n",
       "      <td>2.0</td>\n",
       "      <td>0.0</td>\n",
       "      <td>0.0</td>\n",
       "      <td>1.0</td>\n",
       "      <td>1.0</td>\n",
       "      <td>2.0</td>\n",
       "      <td>0.0</td>\n",
       "      <td>1.0</td>\n",
       "    </tr>\n",
       "    <tr>\n",
       "      <th>3</th>\n",
       "      <td>2.0</td>\n",
       "      <td>4.0</td>\n",
       "      <td>1.0</td>\n",
       "      <td>0.0</td>\n",
       "      <td>5.0</td>\n",
       "      <td>21.0</td>\n",
       "      <td>1.0</td>\n",
       "      <td>2.0</td>\n",
       "      <td>0.0</td>\n",
       "    </tr>\n",
       "    <tr>\n",
       "      <th>4</th>\n",
       "      <td>2.0</td>\n",
       "      <td>1.0</td>\n",
       "      <td>0.0</td>\n",
       "      <td>0.0</td>\n",
       "      <td>5.0</td>\n",
       "      <td>21.0</td>\n",
       "      <td>1.0</td>\n",
       "      <td>2.0</td>\n",
       "      <td>0.0</td>\n",
       "    </tr>\n",
       "    <tr>\n",
       "      <th>...</th>\n",
       "      <td>...</td>\n",
       "      <td>...</td>\n",
       "      <td>...</td>\n",
       "      <td>...</td>\n",
       "      <td>...</td>\n",
       "      <td>...</td>\n",
       "      <td>...</td>\n",
       "      <td>...</td>\n",
       "      <td>...</td>\n",
       "    </tr>\n",
       "    <tr>\n",
       "      <th>12374</th>\n",
       "      <td>3.0</td>\n",
       "      <td>3.0</td>\n",
       "      <td>0.0</td>\n",
       "      <td>0.0</td>\n",
       "      <td>5.0</td>\n",
       "      <td>21.0</td>\n",
       "      <td>1.0</td>\n",
       "      <td>1.0</td>\n",
       "      <td>1.0</td>\n",
       "    </tr>\n",
       "    <tr>\n",
       "      <th>12375</th>\n",
       "      <td>2.0</td>\n",
       "      <td>4.0</td>\n",
       "      <td>1.0</td>\n",
       "      <td>2.0</td>\n",
       "      <td>5.0</td>\n",
       "      <td>17.0</td>\n",
       "      <td>1.0</td>\n",
       "      <td>1.0</td>\n",
       "      <td>1.0</td>\n",
       "    </tr>\n",
       "    <tr>\n",
       "      <th>12376</th>\n",
       "      <td>1.0</td>\n",
       "      <td>2.0</td>\n",
       "      <td>0.0</td>\n",
       "      <td>0.0</td>\n",
       "      <td>1.0</td>\n",
       "      <td>15.0</td>\n",
       "      <td>0.0</td>\n",
       "      <td>1.0</td>\n",
       "      <td>0.0</td>\n",
       "    </tr>\n",
       "    <tr>\n",
       "      <th>12377</th>\n",
       "      <td>1.0</td>\n",
       "      <td>0.0</td>\n",
       "      <td>1.0</td>\n",
       "      <td>0.0</td>\n",
       "      <td>1.0</td>\n",
       "      <td>22.0</td>\n",
       "      <td>1.0</td>\n",
       "      <td>2.0</td>\n",
       "      <td>1.0</td>\n",
       "    </tr>\n",
       "    <tr>\n",
       "      <th>12378</th>\n",
       "      <td>3.0</td>\n",
       "      <td>1.0</td>\n",
       "      <td>0.0</td>\n",
       "      <td>0.0</td>\n",
       "      <td>0.0</td>\n",
       "      <td>15.0</td>\n",
       "      <td>0.0</td>\n",
       "      <td>0.0</td>\n",
       "      <td>1.0</td>\n",
       "    </tr>\n",
       "  </tbody>\n",
       "</table>\n",
       "<p>12379 rows × 9 columns</p>\n",
       "</div>"
      ],
      "text/plain": [
       "       shaadi  restaurant_type  gender  customer_type  education  industry  \\\n",
       "0         1.0              1.0     0.0            0.0        1.0      24.0   \n",
       "1         1.0              4.0     0.0            0.0        1.0      24.0   \n",
       "2         2.0              2.0     0.0            0.0        1.0       1.0   \n",
       "3         2.0              4.0     1.0            0.0        5.0      21.0   \n",
       "4         2.0              1.0     0.0            0.0        5.0      21.0   \n",
       "...       ...              ...     ...            ...        ...       ...   \n",
       "12374     3.0              3.0     0.0            0.0        5.0      21.0   \n",
       "12375     2.0              4.0     1.0            2.0        5.0      17.0   \n",
       "12376     1.0              2.0     0.0            0.0        1.0      15.0   \n",
       "12377     1.0              0.0     1.0            0.0        1.0      22.0   \n",
       "12378     3.0              1.0     0.0            0.0        0.0      15.0   \n",
       "\n",
       "       climate  drop_location  offer_accepted  \n",
       "0          0.0            1.0             0.0  \n",
       "1          1.0            1.0             1.0  \n",
       "2          2.0            0.0             1.0  \n",
       "3          1.0            2.0             0.0  \n",
       "4          1.0            2.0             0.0  \n",
       "...        ...            ...             ...  \n",
       "12374      1.0            1.0             1.0  \n",
       "12375      1.0            1.0             1.0  \n",
       "12376      0.0            1.0             0.0  \n",
       "12377      1.0            2.0             1.0  \n",
       "12378      0.0            0.0             1.0  \n",
       "\n",
       "[12379 rows x 9 columns]"
      ]
     },
     "execution_count": 8,
     "metadata": {},
     "output_type": "execute_result"
    }
   ],
   "source": [
    "cat_frame"
   ]
  },
  {
   "cell_type": "markdown",
   "id": "57fb065b-e2c4-48ef-8b1d-20aabb18bdc7",
   "metadata": {
    "jp-MarkdownHeadingCollapsed": true,
    "tags": []
   },
   "source": [
    "## After Manipulation"
   ]
  },
  {
   "cell_type": "code",
   "execution_count": 9,
   "id": "483e2d92-4e0d-462d-85b8-2756596b02be",
   "metadata": {},
   "outputs": [
    {
     "data": {
      "text/plain": [
       "<AxesSubplot: xlabel='offer_accepted', ylabel='count'>"
      ]
     },
     "execution_count": 9,
     "metadata": {},
     "output_type": "execute_result"
    },
    {
     "data": {
      "image/png": "[encoded data removed]",
      "text/plain": [
       "<Figure size 640x480 with 1 Axes>"
      ]
     },
     "metadata": {},
     "output_type": "display_data"
    }
   ],
   "source": [
    "sns.countplot(x=cat_frame['offer_accepted'])"
   ]
  },
  {
   "cell_type": "code",
   "execution_count": 10,
   "id": "5fbc77c7-420a-46f8-824f-ec8360f4a2fd",
   "metadata": {},
   "outputs": [],
   "source": [
    "# plt.figure(figsize=(15,4))\n",
    "# %matplotlib inline\n",
    "# cat_frame.hist(bins=50,figsize=(20,15))\n",
    "# plt.show()"
   ]
  },
  {
   "cell_type": "code",
   "execution_count": 11,
   "id": "42c8906d-915c-4fd1-82ad-38d0c5427835",
   "metadata": {},
   "outputs": [],
   "source": [
    "df[cat]=cat_frame[cat]"
   ]
  },
  {
   "cell_type": "code",
   "execution_count": 12,
   "id": "f8147c61-e16e-4cb6-9376-f32c9091a185",
   "metadata": {},
   "outputs": [],
   "source": [
    "# %matplotlib inline\n",
    "# df.hist(bins=50,figsize=(20,15))\n",
    "# plt.show()"
   ]
  },
  {
   "cell_type": "markdown",
   "id": "6354d643-af00-4853-bfa5-17f0c1ea0d2e",
   "metadata": {
    "tags": []
   },
   "source": [
    "## Numerical Transform"
   ]
  },
  {
   "cell_type": "code",
   "execution_count": 13,
   "id": "609f1fd5-2a08-4c92-b2ff-ac9648d12a27",
   "metadata": {},
   "outputs": [],
   "source": [
    "numeric_transformer = Pipeline(\n",
    "    steps=[(\"scaler\", MinMaxScaler())]\n",
    ")"
   ]
  },
  {
   "cell_type": "code",
   "execution_count": 14,
   "id": "89039ef4-0e43-4ad2-9c69-d7cc9182abba",
   "metadata": {},
   "outputs": [],
   "source": [
    "num_frame=pd.DataFrame(data=numeric_transformer.fit_transform(df), columns=df.columns)"
   ]
  },
  {
   "cell_type": "code",
   "execution_count": 15,
   "id": "70a8636e-d381-49e6-82bb-1780820a71b9",
   "metadata": {},
   "outputs": [
    {
     "data": {
      "text/html": [
       "<div>\n",
       "<style scoped>\n",
       "    .dataframe tbody tr th:only-of-type {\n",
       "        vertical-align: middle;\n",
       "    }\n",
       "\n",
       "    .dataframe tbody tr th {\n",
       "        vertical-align: top;\n",
       "    }\n",
       "\n",
       "    .dataframe thead th {\n",
       "        text-align: right;\n",
       "    }\n",
       "</style>\n",
       "<table border=\"1\" class=\"dataframe\">\n",
       "  <thead>\n",
       "    <tr style=\"text-align: right;\">\n",
       "      <th></th>\n",
       "      <th>offer_expiration(hrs)</th>\n",
       "      <th>income_range</th>\n",
       "      <th>shaadi</th>\n",
       "      <th>restaurant_type</th>\n",
       "      <th>age</th>\n",
       "      <th>western/chinese</th>\n",
       "      <th>gender</th>\n",
       "      <th>restuarant_same_direction_house</th>\n",
       "      <th>cooks_regularly</th>\n",
       "      <th>customer_type</th>\n",
       "      <th>...</th>\n",
       "      <th>is_foodie</th>\n",
       "      <th>industry</th>\n",
       "      <th>children</th>\n",
       "      <th>visit_restaurant_with_rating_(avg)</th>\n",
       "      <th>temperature</th>\n",
       "      <th>travel_time</th>\n",
       "      <th>climate</th>\n",
       "      <th>drop_location</th>\n",
       "      <th>prefer_home_food</th>\n",
       "      <th>offer_accepted</th>\n",
       "    </tr>\n",
       "  </thead>\n",
       "  <tbody>\n",
       "    <tr>\n",
       "      <th>0</th>\n",
       "      <td>1.0</td>\n",
       "      <td>1.000000</td>\n",
       "      <td>0.25</td>\n",
       "      <td>0.25</td>\n",
       "      <td>0.529412</td>\n",
       "      <td>0.0</td>\n",
       "      <td>0.0</td>\n",
       "      <td>0.0</td>\n",
       "      <td>1.0</td>\n",
       "      <td>0.000000</td>\n",
       "      <td>...</td>\n",
       "      <td>0.0</td>\n",
       "      <td>1.000000</td>\n",
       "      <td>0.0</td>\n",
       "      <td>1.00</td>\n",
       "      <td>0.55102</td>\n",
       "      <td>1.000000</td>\n",
       "      <td>0.0</td>\n",
       "      <td>0.5</td>\n",
       "      <td>0.0</td>\n",
       "      <td>0.0</td>\n",
       "    </tr>\n",
       "    <tr>\n",
       "      <th>1</th>\n",
       "      <td>1.0</td>\n",
       "      <td>0.928566</td>\n",
       "      <td>0.25</td>\n",
       "      <td>1.00</td>\n",
       "      <td>1.000000</td>\n",
       "      <td>0.0</td>\n",
       "      <td>0.0</td>\n",
       "      <td>1.0</td>\n",
       "      <td>1.0</td>\n",
       "      <td>0.000000</td>\n",
       "      <td>...</td>\n",
       "      <td>0.0</td>\n",
       "      <td>1.000000</td>\n",
       "      <td>1.0</td>\n",
       "      <td>0.75</td>\n",
       "      <td>1.00000</td>\n",
       "      <td>0.733333</td>\n",
       "      <td>0.5</td>\n",
       "      <td>0.5</td>\n",
       "      <td>0.0</td>\n",
       "      <td>1.0</td>\n",
       "    </tr>\n",
       "    <tr>\n",
       "      <th>2</th>\n",
       "      <td>1.0</td>\n",
       "      <td>0.928566</td>\n",
       "      <td>0.50</td>\n",
       "      <td>0.50</td>\n",
       "      <td>0.235294</td>\n",
       "      <td>1.0</td>\n",
       "      <td>0.0</td>\n",
       "      <td>1.0</td>\n",
       "      <td>0.0</td>\n",
       "      <td>0.000000</td>\n",
       "      <td>...</td>\n",
       "      <td>1.0</td>\n",
       "      <td>0.041667</td>\n",
       "      <td>1.0</td>\n",
       "      <td>1.00</td>\n",
       "      <td>0.55102</td>\n",
       "      <td>0.000000</td>\n",
       "      <td>1.0</td>\n",
       "      <td>0.0</td>\n",
       "      <td>1.0</td>\n",
       "      <td>1.0</td>\n",
       "    </tr>\n",
       "    <tr>\n",
       "      <th>3</th>\n",
       "      <td>0.0</td>\n",
       "      <td>0.357137</td>\n",
       "      <td>0.50</td>\n",
       "      <td>1.00</td>\n",
       "      <td>0.823529</td>\n",
       "      <td>1.0</td>\n",
       "      <td>1.0</td>\n",
       "      <td>1.0</td>\n",
       "      <td>0.0</td>\n",
       "      <td>0.000000</td>\n",
       "      <td>...</td>\n",
       "      <td>1.0</td>\n",
       "      <td>0.875000</td>\n",
       "      <td>1.0</td>\n",
       "      <td>0.75</td>\n",
       "      <td>1.00000</td>\n",
       "      <td>0.000000</td>\n",
       "      <td>0.5</td>\n",
       "      <td>1.0</td>\n",
       "      <td>0.0</td>\n",
       "      <td>0.0</td>\n",
       "    </tr>\n",
       "    <tr>\n",
       "      <th>4</th>\n",
       "      <td>1.0</td>\n",
       "      <td>1.000000</td>\n",
       "      <td>0.50</td>\n",
       "      <td>0.25</td>\n",
       "      <td>0.088235</td>\n",
       "      <td>0.0</td>\n",
       "      <td>0.0</td>\n",
       "      <td>0.0</td>\n",
       "      <td>0.0</td>\n",
       "      <td>0.000000</td>\n",
       "      <td>...</td>\n",
       "      <td>1.0</td>\n",
       "      <td>0.875000</td>\n",
       "      <td>0.0</td>\n",
       "      <td>0.75</td>\n",
       "      <td>0.00000</td>\n",
       "      <td>0.000000</td>\n",
       "      <td>0.5</td>\n",
       "      <td>1.0</td>\n",
       "      <td>0.0</td>\n",
       "      <td>0.0</td>\n",
       "    </tr>\n",
       "    <tr>\n",
       "      <th>...</th>\n",
       "      <td>...</td>\n",
       "      <td>...</td>\n",
       "      <td>...</td>\n",
       "      <td>...</td>\n",
       "      <td>...</td>\n",
       "      <td>...</td>\n",
       "      <td>...</td>\n",
       "      <td>...</td>\n",
       "      <td>...</td>\n",
       "      <td>...</td>\n",
       "      <td>...</td>\n",
       "      <td>...</td>\n",
       "      <td>...</td>\n",
       "      <td>...</td>\n",
       "      <td>...</td>\n",
       "      <td>...</td>\n",
       "      <td>...</td>\n",
       "      <td>...</td>\n",
       "      <td>...</td>\n",
       "      <td>...</td>\n",
       "      <td>...</td>\n",
       "    </tr>\n",
       "    <tr>\n",
       "      <th>12374</th>\n",
       "      <td>0.0</td>\n",
       "      <td>0.214280</td>\n",
       "      <td>0.75</td>\n",
       "      <td>0.75</td>\n",
       "      <td>1.000000</td>\n",
       "      <td>0.0</td>\n",
       "      <td>0.0</td>\n",
       "      <td>0.0</td>\n",
       "      <td>0.0</td>\n",
       "      <td>0.000000</td>\n",
       "      <td>...</td>\n",
       "      <td>1.0</td>\n",
       "      <td>0.875000</td>\n",
       "      <td>1.0</td>\n",
       "      <td>0.25</td>\n",
       "      <td>1.00000</td>\n",
       "      <td>1.000000</td>\n",
       "      <td>0.5</td>\n",
       "      <td>0.5</td>\n",
       "      <td>0.0</td>\n",
       "      <td>1.0</td>\n",
       "    </tr>\n",
       "    <tr>\n",
       "      <th>12375</th>\n",
       "      <td>1.0</td>\n",
       "      <td>0.214280</td>\n",
       "      <td>0.50</td>\n",
       "      <td>1.00</td>\n",
       "      <td>0.088235</td>\n",
       "      <td>0.0</td>\n",
       "      <td>1.0</td>\n",
       "      <td>0.0</td>\n",
       "      <td>0.0</td>\n",
       "      <td>0.666667</td>\n",
       "      <td>...</td>\n",
       "      <td>1.0</td>\n",
       "      <td>0.708333</td>\n",
       "      <td>1.0</td>\n",
       "      <td>0.50</td>\n",
       "      <td>0.55102</td>\n",
       "      <td>0.733333</td>\n",
       "      <td>0.5</td>\n",
       "      <td>0.5</td>\n",
       "      <td>0.0</td>\n",
       "      <td>1.0</td>\n",
       "    </tr>\n",
       "    <tr>\n",
       "      <th>12376</th>\n",
       "      <td>0.0</td>\n",
       "      <td>0.928566</td>\n",
       "      <td>0.25</td>\n",
       "      <td>0.50</td>\n",
       "      <td>0.382353</td>\n",
       "      <td>0.0</td>\n",
       "      <td>0.0</td>\n",
       "      <td>0.0</td>\n",
       "      <td>1.0</td>\n",
       "      <td>0.000000</td>\n",
       "      <td>...</td>\n",
       "      <td>1.0</td>\n",
       "      <td>0.625000</td>\n",
       "      <td>0.0</td>\n",
       "      <td>0.50</td>\n",
       "      <td>1.00000</td>\n",
       "      <td>0.733333</td>\n",
       "      <td>0.0</td>\n",
       "      <td>0.5</td>\n",
       "      <td>1.0</td>\n",
       "      <td>0.0</td>\n",
       "    </tr>\n",
       "    <tr>\n",
       "      <th>12377</th>\n",
       "      <td>0.0</td>\n",
       "      <td>0.071423</td>\n",
       "      <td>0.25</td>\n",
       "      <td>0.00</td>\n",
       "      <td>0.235294</td>\n",
       "      <td>0.0</td>\n",
       "      <td>1.0</td>\n",
       "      <td>0.0</td>\n",
       "      <td>1.0</td>\n",
       "      <td>0.000000</td>\n",
       "      <td>...</td>\n",
       "      <td>0.0</td>\n",
       "      <td>0.916667</td>\n",
       "      <td>0.0</td>\n",
       "      <td>0.25</td>\n",
       "      <td>1.00000</td>\n",
       "      <td>0.000000</td>\n",
       "      <td>0.5</td>\n",
       "      <td>1.0</td>\n",
       "      <td>0.0</td>\n",
       "      <td>1.0</td>\n",
       "    </tr>\n",
       "    <tr>\n",
       "      <th>12378</th>\n",
       "      <td>1.0</td>\n",
       "      <td>0.357137</td>\n",
       "      <td>0.75</td>\n",
       "      <td>0.25</td>\n",
       "      <td>0.000000</td>\n",
       "      <td>1.0</td>\n",
       "      <td>0.0</td>\n",
       "      <td>0.0</td>\n",
       "      <td>1.0</td>\n",
       "      <td>0.000000</td>\n",
       "      <td>...</td>\n",
       "      <td>0.0</td>\n",
       "      <td>0.625000</td>\n",
       "      <td>0.0</td>\n",
       "      <td>0.00</td>\n",
       "      <td>0.55102</td>\n",
       "      <td>0.000000</td>\n",
       "      <td>0.0</td>\n",
       "      <td>0.0</td>\n",
       "      <td>1.0</td>\n",
       "      <td>1.0</td>\n",
       "    </tr>\n",
       "  </tbody>\n",
       "</table>\n",
       "<p>12379 rows × 21 columns</p>\n",
       "</div>"
      ],
      "text/plain": [
       "       offer_expiration(hrs)  income_range  shaadi  restaurant_type       age  \\\n",
       "0                        1.0      1.000000    0.25             0.25  0.529412   \n",
       "1                        1.0      0.928566    0.25             1.00  1.000000   \n",
       "2                        1.0      0.928566    0.50             0.50  0.235294   \n",
       "3                        0.0      0.357137    0.50             1.00  0.823529   \n",
       "4                        1.0      1.000000    0.50             0.25  0.088235   \n",
       "...                      ...           ...     ...              ...       ...   \n",
       "12374                    0.0      0.214280    0.75             0.75  1.000000   \n",
       "12375                    1.0      0.214280    0.50             1.00  0.088235   \n",
       "12376                    0.0      0.928566    0.25             0.50  0.382353   \n",
       "12377                    0.0      0.071423    0.25             0.00  0.235294   \n",
       "12378                    1.0      0.357137    0.75             0.25  0.000000   \n",
       "\n",
       "       western/chinese  gender  restuarant_same_direction_house  \\\n",
       "0                  0.0     0.0                              0.0   \n",
       "1                  0.0     0.0                              1.0   \n",
       "2                  1.0     0.0                              1.0   \n",
       "3                  1.0     1.0                              1.0   \n",
       "4                  0.0     0.0                              0.0   \n",
       "...                ...     ...                              ...   \n",
       "12374              0.0     0.0                              0.0   \n",
       "12375              0.0     1.0                              0.0   \n",
       "12376              0.0     0.0                              0.0   \n",
       "12377              0.0     1.0                              0.0   \n",
       "12378              1.0     0.0                              0.0   \n",
       "\n",
       "       cooks_regularly  customer_type  ...  is_foodie  industry  children  \\\n",
       "0                  1.0       0.000000  ...        0.0  1.000000       0.0   \n",
       "1                  1.0       0.000000  ...        0.0  1.000000       1.0   \n",
       "2                  0.0       0.000000  ...        1.0  0.041667       1.0   \n",
       "3                  0.0       0.000000  ...        1.0  0.875000       1.0   \n",
       "4                  0.0       0.000000  ...        1.0  0.875000       0.0   \n",
       "...                ...            ...  ...        ...       ...       ...   \n",
       "12374              0.0       0.000000  ...        1.0  0.875000       1.0   \n",
       "12375              0.0       0.666667  ...        1.0  0.708333       1.0   \n",
       "12376              1.0       0.000000  ...        1.0  0.625000       0.0   \n",
       "12377              1.0       0.000000  ...        0.0  0.916667       0.0   \n",
       "12378              1.0       0.000000  ...        0.0  0.625000       0.0   \n",
       "\n",
       "       visit_restaurant_with_rating_(avg)  temperature  travel_time  climate  \\\n",
       "0                                    1.00      0.55102     1.000000      0.0   \n",
       "1                                    0.75      1.00000     0.733333      0.5   \n",
       "2                                    1.00      0.55102     0.000000      1.0   \n",
       "3                                    0.75      1.00000     0.000000      0.5   \n",
       "4                                    0.75      0.00000     0.000000      0.5   \n",
       "...                                   ...          ...          ...      ...   \n",
       "12374                                0.25      1.00000     1.000000      0.5   \n",
       "12375                                0.50      0.55102     0.733333      0.5   \n",
       "12376                                0.50      1.00000     0.733333      0.0   \n",
       "12377                                0.25      1.00000     0.000000      0.5   \n",
       "12378                                0.00      0.55102     0.000000      0.0   \n",
       "\n",
       "       drop_location  prefer_home_food  offer_accepted  \n",
       "0                0.5               0.0             0.0  \n",
       "1                0.5               0.0             1.0  \n",
       "2                0.0               1.0             1.0  \n",
       "3                1.0               0.0             0.0  \n",
       "4                1.0               0.0             0.0  \n",
       "...              ...               ...             ...  \n",
       "12374            0.5               0.0             1.0  \n",
       "12375            0.5               0.0             1.0  \n",
       "12376            0.5               1.0             0.0  \n",
       "12377            1.0               0.0             1.0  \n",
       "12378            0.0               1.0             1.0  \n",
       "\n",
       "[12379 rows x 21 columns]"
      ]
     },
     "execution_count": 15,
     "metadata": {},
     "output_type": "execute_result"
    }
   ],
   "source": [
    "num_frame"
   ]
  },
  {
   "cell_type": "code",
   "execution_count": 16,
   "id": "b47ca078-b61e-4c1b-a4b5-4235a917b20b",
   "metadata": {},
   "outputs": [],
   "source": [
    "# %matplotlib inline\n",
    "# num_frame.hist(bins=50,figsize=(20,15))\n",
    "# plt.show()"
   ]
  },
  {
   "cell_type": "markdown",
   "id": "b0fe0847-b6db-4793-8ab5-6d53368be130",
   "metadata": {
    "jp-MarkdownHeadingCollapsed": true,
    "tags": []
   },
   "source": [
    "# Defining Features and Test - Train split"
   ]
  },
  {
   "cell_type": "code",
   "execution_count": 17,
   "id": "4a9fa977-790b-4bb4-a745-d9e8f937635c",
   "metadata": {},
   "outputs": [],
   "source": [
    "features=df.columns[:-1]\n",
    "target=df.columns[-1]"
   ]
  },
  {
   "cell_type": "code",
   "execution_count": 18,
   "id": "878d9a80-98d8-4457-bf6c-5b16bdb875ea",
   "metadata": {},
   "outputs": [],
   "source": [
    "X=num_frame[features]\n",
    "y=num_frame[target]"
   ]
  },
  {
   "cell_type": "code",
   "execution_count": 19,
   "id": "498b1206-7cd4-4f2a-954b-951033f711e3",
   "metadata": {},
   "outputs": [
    {
     "data": {
      "text/plain": [
       "<AxesSubplot: xlabel='offer_accepted', ylabel='count'>"
      ]
     },
     "execution_count": 19,
     "metadata": {},
     "output_type": "execute_result"
    },
    {
     "data": {
      "image/png": "[encoded data removed]",
      "text/plain": [
       "<Figure size 640x480 with 1 Axes>"
      ]
     },
     "metadata": {},
     "output_type": "display_data"
    }
   ],
   "source": [
    "sns.countplot(x=num_frame[target])"
   ]
  },
  {
   "cell_type": "code",
   "execution_count": 20,
   "id": "cf84d4b3-f49f-4b32-8fa7-112442723374",
   "metadata": {},
   "outputs": [],
   "source": [
    "# for i in range(1,43):\n",
    "#     X_train, X_test, y_train, y_test = train_test_split(\n",
    "#      X, y, test_size=0.33, random_state=28)\n",
    "#     clf = LogisticRegressionCV(cv=15, \n",
    "#                            random_state=i\n",
    "#                           ).fit(X_train,y_train)\n",
    "#     y_pred = clf.predict(X_test)\n",
    "#     cm=confusion_matrix(y_test, y_pred)\n",
    "#     accuracy=(cm[0][0]+cm[1][1])/y_test.shape[0]\n",
    "#     print(i,\"\\t\",accuracy)"
   ]
  },
  {
   "cell_type": "code",
   "execution_count": 21,
   "id": "22b5611f-428c-407f-b895-0a6a7c479be8",
   "metadata": {},
   "outputs": [],
   "source": [
    "X_train, X_test, y_train, y_test = train_test_split(\n",
    "     X, y, \n",
    "    test_size=0.33, \n",
    "    # random_state=12\n",
    "    random_state=28\n",
    ")"
   ]
  },
  {
   "cell_type": "markdown",
   "id": "f5eeff02-fb8d-4dea-914a-c60a9bddbc0e",
   "metadata": {
    "tags": []
   },
   "source": [
    "### DataSet After Split"
   ]
  },
  {
   "cell_type": "code",
   "execution_count": 22,
   "id": "68762638-70fc-4740-84d1-c4854581ef4d",
   "metadata": {},
   "outputs": [
    {
     "data": {
      "image/png": "[encoded data removed]",
      "text/plain": [
       "<Figure size 1000x500 with 2 Axes>"
      ]
     },
     "metadata": {},
     "output_type": "display_data"
    }
   ],
   "source": [
    "fig, ax = plt.subplots(1,2,figsize=(10, 5))\n",
    "sns.countplot(x=y_train,ax=ax[0])\n",
    "sns.countplot(x=y_test,ax=ax[1])\n",
    "ax[0].set_ylim(0, 5000)\n",
    "ax[1].set_ylim(0, 5000)    \n",
    "fig.show()"
   ]
  },
  {
   "cell_type": "markdown",
   "id": "1f4ead75-8401-4821-9cdf-cd1f654fb11e",
   "metadata": {
    "jp-MarkdownHeadingCollapsed": true,
    "tags": []
   },
   "source": [
    "# Declear Model and Apply"
   ]
  },
  {
   "cell_type": "markdown",
   "id": "1466368c-f906-46dc-a9e1-6ea5279636b3",
   "metadata": {
    "jp-MarkdownHeadingCollapsed": true,
    "tags": []
   },
   "source": [
    "## Logistic Regression"
   ]
  },
  {
   "cell_type": "code",
   "execution_count": 23,
   "id": "c35c24fe-6058-4fdc-b225-8f815056d3fd",
   "metadata": {},
   "outputs": [],
   "source": [
    "# clf = LogisticRegression(random_state=0).fit(X_train,y_train)\n",
    "# clf = LogisticRegressionCV(cv=15, \n",
    "#                            random_state=42\n",
    "#                           ).fit(X_train,y_train)"
   ]
  },
  {
   "cell_type": "markdown",
   "id": "459c80d8-d758-48ea-8d90-08e6b55eaf92",
   "metadata": {
    "jp-MarkdownHeadingCollapsed": true,
    "tags": []
   },
   "source": [
    "## Random Forest"
   ]
  },
  {
   "cell_type": "code",
   "execution_count": 24,
   "id": "b09b10c5-7f38-4865-8443-7d3e510a591a",
   "metadata": {},
   "outputs": [],
   "source": [
    "# clf = RandomForestClassifier().fit(X_train,y_train)"
   ]
  },
  {
   "cell_type": "markdown",
   "id": "ee95c77f-3f00-42ea-a835-90fffc8e8d64",
   "metadata": {
    "jp-MarkdownHeadingCollapsed": true,
    "tags": []
   },
   "source": [
    "## SVM "
   ]
  },
  {
   "cell_type": "code",
   "execution_count": 25,
   "id": "9aaf03e4-79e5-478b-95ea-46beae16ae8f",
   "metadata": {},
   "outputs": [],
   "source": [
    "clf = SVC().fit(X_train, y_train)"
   ]
  },
  {
   "cell_type": "markdown",
   "id": "a2f59496-f563-499f-bd3d-2e8880b2a1d9",
   "metadata": {
    "jp-MarkdownHeadingCollapsed": true,
    "tags": []
   },
   "source": [
    "## Apply Model"
   ]
  },
  {
   "cell_type": "code",
   "execution_count": 26,
   "id": "106e7cb1-7933-4ffe-aafe-8d8db7363b9d",
   "metadata": {},
   "outputs": [],
   "source": [
    "y_pred = clf.predict(X_test)"
   ]
  },
  {
   "cell_type": "code",
   "execution_count": 27,
   "id": "d7049a72-6ee4-4a0e-8940-0d94b82bf209",
   "metadata": {},
   "outputs": [
    {
     "data": {
      "text/plain": [
       "(4086,)"
      ]
     },
     "execution_count": 27,
     "metadata": {},
     "output_type": "execute_result"
    }
   ],
   "source": [
    "y_pred = pd.Series(y_pred, dtype=np.float64, name='offers_accept_predicted')\n",
    "y_pred.shape"
   ]
  },
  {
   "cell_type": "code",
   "execution_count": 28,
   "id": "5b64b1e2-ab7f-477a-97de-24007b7db3f9",
   "metadata": {},
   "outputs": [
    {
     "data": {
      "text/plain": [
       "(4086,)"
      ]
     },
     "execution_count": 28,
     "metadata": {},
     "output_type": "execute_result"
    }
   ],
   "source": [
    "y_test.shape"
   ]
  },
  {
   "cell_type": "markdown",
   "id": "36a1271d-2c4f-498e-a0f5-090fc5906d58",
   "metadata": {
    "jp-MarkdownHeadingCollapsed": true,
    "tags": []
   },
   "source": [
    "# Test Overerfit or UnderFit"
   ]
  },
  {
   "cell_type": "code",
   "execution_count": 29,
   "id": "47f719db-7b13-448a-a343-abe6e5fcd48d",
   "metadata": {},
   "outputs": [],
   "source": [
    "y_train_test=clf.predict(X_train)"
   ]
  },
  {
   "cell_type": "code",
   "execution_count": 30,
   "id": "9c78f5a9-3497-4cca-9255-c3629304124e",
   "metadata": {},
   "outputs": [
    {
     "data": {
      "image/png": "[encoded data removed]",
      "text/plain": [
       "<Figure size 640x480 with 2 Axes>"
      ]
     },
     "metadata": {},
     "output_type": "display_data"
    }
   ],
   "source": [
    "cm=confusion_matrix(y_train,y_train_test)\n",
    "disp = ConfusionMatrixDisplay(confusion_matrix=confusion_matrix(y_train, y_train_test),\n",
    "                               display_labels=clf.classes_)\n",
    "disp.plot()\n",
    "plt.show()"
   ]
  },
  {
   "cell_type": "code",
   "execution_count": 31,
   "id": "1a94d601-cd7f-4fc4-918e-87c01da41b12",
   "metadata": {},
   "outputs": [
    {
     "name": "stdout",
     "output_type": "stream",
     "text": [
      "              precision    recall  f1-score   support\n",
      "\n",
      "         0.0       0.74      0.41      0.52      3667\n",
      "         1.0       0.65      0.89      0.75      4626\n",
      "\n",
      "    accuracy                           0.68      8293\n",
      "   macro avg       0.70      0.65      0.64      8293\n",
      "weighted avg       0.69      0.68      0.65      8293\n",
      "\n"
     ]
    }
   ],
   "source": [
    "print(classification_report(y_train,y_train_test))"
   ]
  },
  {
   "cell_type": "markdown",
   "id": "e958c424-5ead-4a11-9e9d-7c7fd9f9be9d",
   "metadata": {
    "jp-MarkdownHeadingCollapsed": true,
    "tags": []
   },
   "source": [
    "# Evaluation Metrices"
   ]
  },
  {
   "cell_type": "code",
   "execution_count": 32,
   "id": "7f36ac98-c837-4c36-96c1-fce77ca5733f",
   "metadata": {},
   "outputs": [
    {
     "name": "stdout",
     "output_type": "stream",
     "text": [
      "              precision    recall  f1-score   support\n",
      "\n",
      "         0.0       0.52      0.30      0.38      1718\n",
      "         1.0       0.61      0.80      0.69      2368\n",
      "\n",
      "    accuracy                           0.59      4086\n",
      "   macro avg       0.57      0.55      0.54      4086\n",
      "weighted avg       0.57      0.59      0.56      4086\n",
      "\n"
     ]
    }
   ],
   "source": [
    "# y_pred=clf.predict(X_test)\n",
    "print(classification_report(y_test,y_pred))"
   ]
  },
  {
   "cell_type": "code",
   "execution_count": 33,
   "id": "3ef2a799-455e-478c-a9d1-7d15d2ba31fc",
   "metadata": {},
   "outputs": [
    {
     "data": {
      "text/plain": [
       "array([[ 521, 1197],\n",
       "       [ 476, 1892]])"
      ]
     },
     "execution_count": 33,
     "metadata": {},
     "output_type": "execute_result"
    }
   ],
   "source": [
    "cm=confusion_matrix(y_test, y_pred)\n",
    "cm"
   ]
  },
  {
   "cell_type": "code",
   "execution_count": 34,
   "id": "8a0095c2-245d-46d0-9f62-9e2dfaa64a6a",
   "metadata": {},
   "outputs": [
    {
     "data": {
      "image/png": "[encoded data removed]",
      "text/plain": [
       "<Figure size 640x480 with 2 Axes>"
      ]
     },
     "metadata": {},
     "output_type": "display_data"
    }
   ],
   "source": [
    "disp = ConfusionMatrixDisplay(confusion_matrix=confusion_matrix(y_test, y_pred),\n",
    "                               display_labels=clf.classes_)\n",
    "disp.plot()\n",
    "plt.show()"
   ]
  },
  {
   "cell_type": "markdown",
   "id": "50325faa-e26c-4324-ae8b-a997e093143f",
   "metadata": {
    "tags": []
   },
   "source": [
    "## Score and Comaparision Plot"
   ]
  },
  {
   "cell_type": "code",
   "execution_count": 35,
   "id": "13e5e63b-7ebe-41b6-a7cb-cfb5c48f9da5",
   "metadata": {},
   "outputs": [
    {
     "data": {
      "text/plain": [
       "0.5905531081742535"
      ]
     },
     "execution_count": 35,
     "metadata": {},
     "output_type": "execute_result"
    }
   ],
   "source": [
    "accuracy=(cm[0][0]+cm[1][1])/y_test.shape[0]\n",
    "accuracy"
   ]
  },
  {
   "cell_type": "code",
   "execution_count": 36,
   "id": "0285798e-fa52-418b-9aab-6f3f368c85f9",
   "metadata": {},
   "outputs": [
    {
     "data": {
      "text/plain": [
       "0.6934212937511454"
      ]
     },
     "execution_count": 36,
     "metadata": {},
     "output_type": "execute_result"
    }
   ],
   "source": [
    "f1_score(y_test, y_pred)"
   ]
  },
  {
   "cell_type": "code",
   "execution_count": 37,
   "id": "4df01493-4380-4469-876e-5d9da8bde780",
   "metadata": {},
   "outputs": [
    {
     "data": {
      "image/png": "[encoded data removed]",
      "text/plain": [
       "<Figure size 1000x500 with 2 Axes>"
      ]
     },
     "metadata": {},
     "output_type": "display_data"
    }
   ],
   "source": [
    "fig, ax = plt.subplots(1,2,figsize=(10, 5))\n",
    "sns.countplot(x=y_pred,ax=ax[0])\n",
    "sns.countplot(x=y_test,ax=ax[1])\n",
    "ax[0].set_ylim(0, 5000)\n",
    "ax[1].set_ylim(0, 5000)    \n",
    "fig.show()"
   ]
  },
  {
   "cell_type": "code",
   "execution_count": 38,
   "id": "fa195f8d-7ac3-47cf-aa17-fb06048251b9",
   "metadata": {},
   "outputs": [
    {
     "name": "stdout",
     "output_type": "stream",
     "text": [
      "1.0    2368\n",
      "0.0    1718\n",
      "Name: offer_accepted, dtype: int64\n",
      "1.0    3089\n",
      "0.0     997\n",
      "Name: offers_accept_predicted, dtype: int64\n"
     ]
    }
   ],
   "source": [
    "print(y_test.value_counts())\n",
    "print(y_pred.value_counts())"
   ]
  },
  {
   "cell_type": "markdown",
   "id": "6725f4d8-0db2-4e88-8f51-59a0298af55c",
   "metadata": {
    "tags": []
   },
   "source": [
    "# Plot"
   ]
  },
  {
   "cell_type": "code",
   "execution_count": 39,
   "id": "6f9d64ba-8de3-46f0-81c9-191ed10724c5",
   "metadata": {},
   "outputs": [],
   "source": [
    "# fig, ax = plt.subplots(10,2,figsize=(20, 20))\n",
    "# sns.set_style('darkgrid')\n",
    "# sns.countplot(data=df,x='offer_expiration(hrs)',hue=\"offer_accepted\", ax=ax[0,0])\n",
    "# sns.countplot(data=df,x='income_range',hue=\"offer_accepted\", ax=ax[0,1])\n",
    "# sns.countplot(data=df,x='shaadi',hue=\"offer_accepted\", ax=ax[1,0])\n",
    "# sns.countplot(data=df,x='restaurant_type',hue=\"offer_accepted\", ax=ax[1,1])\n",
    "# sns.countplot(data=df,x='age',hue=\"offer_accepted\", ax=ax[2,0])\n",
    "# sns.countplot(data=df,x='western/chinese',hue=\"offer_accepted\", ax=ax[2,1])\n",
    "# sns.countplot(data=df,x='gender',hue=\"offer_accepted\", ax=ax[3,0])\n",
    "# sns.countplot(data=df,x='restuarant_same_direction_house',hue=\"offer_accepted\", ax=ax[3,1])\n",
    "# sns.countplot(data=df,x='cooks_regularly',hue=\"offer_accepted\", ax=ax[4,0])\n",
    "# sns.countplot(data=df,x='customer_type',hue=\"offer_accepted\", ax=ax[4,1])\n",
    "# sns.countplot(data=df,x='education',hue=\"offer_accepted\", ax=ax[5,0])\n",
    "# sns.countplot(data=df,x='is_foodie',hue=\"offer_accepted\", ax=ax[5,1])\n",
    "# sns.countplot(data=df,x='industry',hue=\"offer_accepted\", ax=ax[6,0])\n",
    "# sns.countplot(data=df,x='children',hue=\"offer_accepted\", ax=ax[6,1])\n",
    "# sns.countplot(data=df,x='visit_restaurant_with_rating_(avg)',hue=\"offer_accepted\", ax=ax[7,0])\n",
    "# sns.countplot(data=df,x='temperature',hue=\"offer_accepted\", ax=ax[7,1])\n",
    "# sns.countplot(data=df,x='travel_time',hue=\"offer_accepted\", ax=ax[8,0])\n",
    "# sns.countplot(data=df,x='climate',hue=\"offer_accepted\", ax=ax[8,1])\n",
    "# sns.countplot(data=df,x='drop_location',hue=\"offer_accepted\", ax=ax[9,0])\n",
    "# sns.countplot(data=df,x='prefer_home_food',hue=\"offer_accepted\", ax=ax[9,1])\n",
    "# # sns.countplot(data=df,x='offer_accepted',hue=\"offer_accepted\", ax=ax[20])\n",
    "# fig.show()"
   ]
  },
  {
   "cell_type": "markdown",
   "id": "07dd7453-05e2-4ba2-add7-30c5222858a0",
   "metadata": {
    "tags": []
   },
   "source": [
    "# Creating Submission"
   ]
  },
  {
   "cell_type": "code",
   "execution_count": 40,
   "id": "29e55a83-69eb-463e-864e-d263e3d9bfd8",
   "metadata": {},
   "outputs": [
    {
     "data": {
      "text/html": [
       "<div>\n",
       "<style scoped>\n",
       "    .dataframe tbody tr th:only-of-type {\n",
       "        vertical-align: middle;\n",
       "    }\n",
       "\n",
       "    .dataframe tbody tr th {\n",
       "        vertical-align: top;\n",
       "    }\n",
       "\n",
       "    .dataframe thead th {\n",
       "        text-align: right;\n",
       "    }\n",
       "</style>\n",
       "<table border=\"1\" class=\"dataframe\">\n",
       "  <thead>\n",
       "    <tr style=\"text-align: right;\">\n",
       "      <th></th>\n",
       "      <th>offer_expiration(hrs)</th>\n",
       "      <th>income_range</th>\n",
       "      <th>shaadi</th>\n",
       "      <th>restaurant_type</th>\n",
       "      <th>age</th>\n",
       "      <th>western/chinese</th>\n",
       "      <th>gender</th>\n",
       "      <th>restuarant_same_direction_house</th>\n",
       "      <th>cooks_regularly</th>\n",
       "      <th>customer_type</th>\n",
       "      <th>education</th>\n",
       "      <th>is_foodie</th>\n",
       "      <th>industry</th>\n",
       "      <th>children</th>\n",
       "      <th>visit_restaurant_with_rating_(avg)</th>\n",
       "      <th>temperature</th>\n",
       "      <th>travel_time</th>\n",
       "      <th>climate</th>\n",
       "      <th>drop_location</th>\n",
       "      <th>prefer_home_food</th>\n",
       "    </tr>\n",
       "  </thead>\n",
       "  <tbody>\n",
       "    <tr>\n",
       "      <th>0</th>\n",
       "      <td>1.0</td>\n",
       "      <td>0.357137</td>\n",
       "      <td>0.25</td>\n",
       "      <td>0.25</td>\n",
       "      <td>1.000000</td>\n",
       "      <td>0.0</td>\n",
       "      <td>0.0</td>\n",
       "      <td>0.0</td>\n",
       "      <td>0.0</td>\n",
       "      <td>0.000000</td>\n",
       "      <td>0.2</td>\n",
       "      <td>0.0</td>\n",
       "      <td>1.000000</td>\n",
       "      <td>1.0</td>\n",
       "      <td>1.00</td>\n",
       "      <td>1.00000</td>\n",
       "      <td>0.000000</td>\n",
       "      <td>0.0</td>\n",
       "      <td>0.5</td>\n",
       "      <td>0.0</td>\n",
       "    </tr>\n",
       "    <tr>\n",
       "      <th>1</th>\n",
       "      <td>0.0</td>\n",
       "      <td>0.214280</td>\n",
       "      <td>0.25</td>\n",
       "      <td>1.00</td>\n",
       "      <td>0.088235</td>\n",
       "      <td>1.0</td>\n",
       "      <td>0.0</td>\n",
       "      <td>0.0</td>\n",
       "      <td>0.0</td>\n",
       "      <td>0.000000</td>\n",
       "      <td>0.2</td>\n",
       "      <td>1.0</td>\n",
       "      <td>1.000000</td>\n",
       "      <td>1.0</td>\n",
       "      <td>0.00</td>\n",
       "      <td>0.55102</td>\n",
       "      <td>0.733333</td>\n",
       "      <td>0.5</td>\n",
       "      <td>0.5</td>\n",
       "      <td>1.0</td>\n",
       "    </tr>\n",
       "    <tr>\n",
       "      <th>2</th>\n",
       "      <td>1.0</td>\n",
       "      <td>1.000000</td>\n",
       "      <td>0.50</td>\n",
       "      <td>0.50</td>\n",
       "      <td>0.088235</td>\n",
       "      <td>1.0</td>\n",
       "      <td>0.0</td>\n",
       "      <td>0.0</td>\n",
       "      <td>1.0</td>\n",
       "      <td>0.000000</td>\n",
       "      <td>0.2</td>\n",
       "      <td>0.0</td>\n",
       "      <td>0.041667</td>\n",
       "      <td>0.0</td>\n",
       "      <td>1.00</td>\n",
       "      <td>0.55102</td>\n",
       "      <td>0.000000</td>\n",
       "      <td>1.0</td>\n",
       "      <td>0.0</td>\n",
       "      <td>0.0</td>\n",
       "    </tr>\n",
       "    <tr>\n",
       "      <th>3</th>\n",
       "      <td>1.0</td>\n",
       "      <td>0.214280</td>\n",
       "      <td>0.50</td>\n",
       "      <td>1.00</td>\n",
       "      <td>0.676471</td>\n",
       "      <td>0.0</td>\n",
       "      <td>1.0</td>\n",
       "      <td>0.0</td>\n",
       "      <td>0.0</td>\n",
       "      <td>0.000000</td>\n",
       "      <td>1.0</td>\n",
       "      <td>1.0</td>\n",
       "      <td>0.875000</td>\n",
       "      <td>1.0</td>\n",
       "      <td>0.00</td>\n",
       "      <td>0.00000</td>\n",
       "      <td>0.733333</td>\n",
       "      <td>0.5</td>\n",
       "      <td>1.0</td>\n",
       "      <td>1.0</td>\n",
       "    </tr>\n",
       "    <tr>\n",
       "      <th>4</th>\n",
       "      <td>0.0</td>\n",
       "      <td>0.071423</td>\n",
       "      <td>0.50</td>\n",
       "      <td>0.25</td>\n",
       "      <td>0.382353</td>\n",
       "      <td>1.0</td>\n",
       "      <td>0.0</td>\n",
       "      <td>1.0</td>\n",
       "      <td>0.0</td>\n",
       "      <td>0.000000</td>\n",
       "      <td>1.0</td>\n",
       "      <td>1.0</td>\n",
       "      <td>0.875000</td>\n",
       "      <td>0.0</td>\n",
       "      <td>0.00</td>\n",
       "      <td>1.00000</td>\n",
       "      <td>0.733333</td>\n",
       "      <td>0.5</td>\n",
       "      <td>1.0</td>\n",
       "      <td>1.0</td>\n",
       "    </tr>\n",
       "    <tr>\n",
       "      <th>...</th>\n",
       "      <td>...</td>\n",
       "      <td>...</td>\n",
       "      <td>...</td>\n",
       "      <td>...</td>\n",
       "      <td>...</td>\n",
       "      <td>...</td>\n",
       "      <td>...</td>\n",
       "      <td>...</td>\n",
       "      <td>...</td>\n",
       "      <td>...</td>\n",
       "      <td>...</td>\n",
       "      <td>...</td>\n",
       "      <td>...</td>\n",
       "      <td>...</td>\n",
       "      <td>...</td>\n",
       "      <td>...</td>\n",
       "      <td>...</td>\n",
       "      <td>...</td>\n",
       "      <td>...</td>\n",
       "      <td>...</td>\n",
       "    </tr>\n",
       "    <tr>\n",
       "      <th>5300</th>\n",
       "      <td>1.0</td>\n",
       "      <td>0.214280</td>\n",
       "      <td>0.25</td>\n",
       "      <td>0.50</td>\n",
       "      <td>0.235294</td>\n",
       "      <td>0.0</td>\n",
       "      <td>0.0</td>\n",
       "      <td>1.0</td>\n",
       "      <td>0.0</td>\n",
       "      <td>0.333333</td>\n",
       "      <td>0.0</td>\n",
       "      <td>0.0</td>\n",
       "      <td>1.000000</td>\n",
       "      <td>0.0</td>\n",
       "      <td>0.25</td>\n",
       "      <td>0.55102</td>\n",
       "      <td>0.733333</td>\n",
       "      <td>0.0</td>\n",
       "      <td>1.0</td>\n",
       "      <td>0.0</td>\n",
       "    </tr>\n",
       "    <tr>\n",
       "      <th>5301</th>\n",
       "      <td>0.0</td>\n",
       "      <td>0.642851</td>\n",
       "      <td>0.50</td>\n",
       "      <td>0.50</td>\n",
       "      <td>0.235294</td>\n",
       "      <td>0.0</td>\n",
       "      <td>1.0</td>\n",
       "      <td>1.0</td>\n",
       "      <td>1.0</td>\n",
       "      <td>1.000000</td>\n",
       "      <td>0.2</td>\n",
       "      <td>1.0</td>\n",
       "      <td>0.666667</td>\n",
       "      <td>0.0</td>\n",
       "      <td>0.75</td>\n",
       "      <td>1.00000</td>\n",
       "      <td>0.733333</td>\n",
       "      <td>0.5</td>\n",
       "      <td>0.0</td>\n",
       "      <td>1.0</td>\n",
       "    </tr>\n",
       "    <tr>\n",
       "      <th>5302</th>\n",
       "      <td>0.0</td>\n",
       "      <td>0.499994</td>\n",
       "      <td>0.25</td>\n",
       "      <td>0.75</td>\n",
       "      <td>0.529412</td>\n",
       "      <td>0.0</td>\n",
       "      <td>1.0</td>\n",
       "      <td>0.0</td>\n",
       "      <td>1.0</td>\n",
       "      <td>0.666667</td>\n",
       "      <td>0.2</td>\n",
       "      <td>1.0</td>\n",
       "      <td>1.000000</td>\n",
       "      <td>1.0</td>\n",
       "      <td>0.50</td>\n",
       "      <td>0.55102</td>\n",
       "      <td>0.000000</td>\n",
       "      <td>1.0</td>\n",
       "      <td>0.0</td>\n",
       "      <td>1.0</td>\n",
       "    </tr>\n",
       "    <tr>\n",
       "      <th>5303</th>\n",
       "      <td>1.0</td>\n",
       "      <td>0.499994</td>\n",
       "      <td>0.50</td>\n",
       "      <td>0.25</td>\n",
       "      <td>0.529412</td>\n",
       "      <td>1.0</td>\n",
       "      <td>0.0</td>\n",
       "      <td>0.0</td>\n",
       "      <td>1.0</td>\n",
       "      <td>0.666667</td>\n",
       "      <td>1.0</td>\n",
       "      <td>0.0</td>\n",
       "      <td>0.875000</td>\n",
       "      <td>1.0</td>\n",
       "      <td>0.75</td>\n",
       "      <td>1.00000</td>\n",
       "      <td>0.000000</td>\n",
       "      <td>0.5</td>\n",
       "      <td>1.0</td>\n",
       "      <td>0.0</td>\n",
       "    </tr>\n",
       "    <tr>\n",
       "      <th>5304</th>\n",
       "      <td>1.0</td>\n",
       "      <td>0.357137</td>\n",
       "      <td>0.50</td>\n",
       "      <td>0.75</td>\n",
       "      <td>1.000000</td>\n",
       "      <td>1.0</td>\n",
       "      <td>0.0</td>\n",
       "      <td>0.0</td>\n",
       "      <td>1.0</td>\n",
       "      <td>0.666667</td>\n",
       "      <td>0.2</td>\n",
       "      <td>0.0</td>\n",
       "      <td>0.125000</td>\n",
       "      <td>1.0</td>\n",
       "      <td>1.00</td>\n",
       "      <td>1.00000</td>\n",
       "      <td>0.000000</td>\n",
       "      <td>0.5</td>\n",
       "      <td>1.0</td>\n",
       "      <td>0.0</td>\n",
       "    </tr>\n",
       "  </tbody>\n",
       "</table>\n",
       "<p>5305 rows × 20 columns</p>\n",
       "</div>"
      ],
      "text/plain": [
       "      offer_expiration(hrs)  income_range  shaadi  restaurant_type       age  \\\n",
       "0                       1.0      0.357137    0.25             0.25  1.000000   \n",
       "1                       0.0      0.214280    0.25             1.00  0.088235   \n",
       "2                       1.0      1.000000    0.50             0.50  0.088235   \n",
       "3                       1.0      0.214280    0.50             1.00  0.676471   \n",
       "4                       0.0      0.071423    0.50             0.25  0.382353   \n",
       "...                     ...           ...     ...              ...       ...   \n",
       "5300                    1.0      0.214280    0.25             0.50  0.235294   \n",
       "5301                    0.0      0.642851    0.50             0.50  0.235294   \n",
       "5302                    0.0      0.499994    0.25             0.75  0.529412   \n",
       "5303                    1.0      0.499994    0.50             0.25  0.529412   \n",
       "5304                    1.0      0.357137    0.50             0.75  1.000000   \n",
       "\n",
       "      western/chinese  gender  restuarant_same_direction_house  \\\n",
       "0                 0.0     0.0                              0.0   \n",
       "1                 1.0     0.0                              0.0   \n",
       "2                 1.0     0.0                              0.0   \n",
       "3                 0.0     1.0                              0.0   \n",
       "4                 1.0     0.0                              1.0   \n",
       "...               ...     ...                              ...   \n",
       "5300              0.0     0.0                              1.0   \n",
       "5301              0.0     1.0                              1.0   \n",
       "5302              0.0     1.0                              0.0   \n",
       "5303              1.0     0.0                              0.0   \n",
       "5304              1.0     0.0                              0.0   \n",
       "\n",
       "      cooks_regularly  customer_type  education  is_foodie  industry  \\\n",
       "0                 0.0       0.000000        0.2        0.0  1.000000   \n",
       "1                 0.0       0.000000        0.2        1.0  1.000000   \n",
       "2                 1.0       0.000000        0.2        0.0  0.041667   \n",
       "3                 0.0       0.000000        1.0        1.0  0.875000   \n",
       "4                 0.0       0.000000        1.0        1.0  0.875000   \n",
       "...               ...            ...        ...        ...       ...   \n",
       "5300              0.0       0.333333        0.0        0.0  1.000000   \n",
       "5301              1.0       1.000000        0.2        1.0  0.666667   \n",
       "5302              1.0       0.666667        0.2        1.0  1.000000   \n",
       "5303              1.0       0.666667        1.0        0.0  0.875000   \n",
       "5304              1.0       0.666667        0.2        0.0  0.125000   \n",
       "\n",
       "      children  visit_restaurant_with_rating_(avg)  temperature  travel_time  \\\n",
       "0          1.0                                1.00      1.00000     0.000000   \n",
       "1          1.0                                0.00      0.55102     0.733333   \n",
       "2          0.0                                1.00      0.55102     0.000000   \n",
       "3          1.0                                0.00      0.00000     0.733333   \n",
       "4          0.0                                0.00      1.00000     0.733333   \n",
       "...        ...                                 ...          ...          ...   \n",
       "5300       0.0                                0.25      0.55102     0.733333   \n",
       "5301       0.0                                0.75      1.00000     0.733333   \n",
       "5302       1.0                                0.50      0.55102     0.000000   \n",
       "5303       1.0                                0.75      1.00000     0.000000   \n",
       "5304       1.0                                1.00      1.00000     0.000000   \n",
       "\n",
       "      climate  drop_location  prefer_home_food  \n",
       "0         0.0            0.5               0.0  \n",
       "1         0.5            0.5               1.0  \n",
       "2         1.0            0.0               0.0  \n",
       "3         0.5            1.0               1.0  \n",
       "4         0.5            1.0               1.0  \n",
       "...       ...            ...               ...  \n",
       "5300      0.0            1.0               0.0  \n",
       "5301      0.5            0.0               1.0  \n",
       "5302      1.0            0.0               1.0  \n",
       "5303      0.5            1.0               0.0  \n",
       "5304      0.5            1.0               0.0  \n",
       "\n",
       "[5305 rows x 20 columns]"
      ]
     },
     "execution_count": 40,
     "metadata": {},
     "output_type": "execute_result"
    }
   ],
   "source": [
    "df_test=pd.read_csv('test1.csv')\n",
    "cat_test=df_test.select_dtypes(include=np.object_).columns.tolist()\n",
    "# categorical_transformer.fit_transform(df_test[cat_test])\n",
    "cat_test_frame=pd.DataFrame(data=categorical_transformer.fit_transform(df[cat_test]), columns=df[cat_test].columns)\n",
    "df_test[cat_test]=cat_test_frame[cat_test]\n",
    "# num_test=df_test.select_dtypes(include=np.number).columns.tolist()\n",
    "num_test_frame=pd.DataFrame(data=numeric_transformer.fit_transform(df_test), columns=df_test.columns)\n",
    "Test_X=num_test_frame\n",
    "Test_X\n",
    "# Test_y=num_test_frame[target]"
   ]
  },
  {
   "cell_type": "code",
   "execution_count": 41,
   "id": "af034ca4-f814-44f5-8a77-bc6d6fc2100e",
   "metadata": {},
   "outputs": [],
   "source": [
    "y_sample_pred = clf.predict(Test_X)"
   ]
  },
  {
   "cell_type": "code",
   "execution_count": 42,
   "id": "c0b19ebf-251d-44f6-bb30-81bbe7b3221a",
   "metadata": {},
   "outputs": [],
   "source": [
    "result=[]\n",
    "for x in y_sample_pred:\n",
    "    if(x==1):\n",
    "        result.append('Yes')\n",
    "    else:\n",
    "        result.append('No')"
   ]
  },
  {
   "cell_type": "code",
   "execution_count": 43,
   "id": "70e94194-e3fd-4d07-9052-84c327ebf8b0",
   "metadata": {},
   "outputs": [],
   "source": [
    "submission=pd.DataFrame(columns=['id','Offer Accepted'])\n",
    "submission['id']=[i for i in range(len(y_sample_pred))]\n",
    "submission['Offer Accepted']=result"
   ]
  },
  {
   "cell_type": "code",
   "execution_count": 44,
   "id": "3b78abe4-7219-4ed3-bb4b-e8985391b452",
   "metadata": {},
   "outputs": [
    {
     "data": {
      "text/html": [
       "<div>\n",
       "<style scoped>\n",
       "    .dataframe tbody tr th:only-of-type {\n",
       "        vertical-align: middle;\n",
       "    }\n",
       "\n",
       "    .dataframe tbody tr th {\n",
       "        vertical-align: top;\n",
       "    }\n",
       "\n",
       "    .dataframe thead th {\n",
       "        text-align: right;\n",
       "    }\n",
       "</style>\n",
       "<table border=\"1\" class=\"dataframe\">\n",
       "  <thead>\n",
       "    <tr style=\"text-align: right;\">\n",
       "      <th></th>\n",
       "      <th>id</th>\n",
       "      <th>Offer Accepted</th>\n",
       "    </tr>\n",
       "  </thead>\n",
       "  <tbody>\n",
       "    <tr>\n",
       "      <th>0</th>\n",
       "      <td>0</td>\n",
       "      <td>No</td>\n",
       "    </tr>\n",
       "    <tr>\n",
       "      <th>1</th>\n",
       "      <td>1</td>\n",
       "      <td>No</td>\n",
       "    </tr>\n",
       "    <tr>\n",
       "      <th>2</th>\n",
       "      <td>2</td>\n",
       "      <td>No</td>\n",
       "    </tr>\n",
       "    <tr>\n",
       "      <th>3</th>\n",
       "      <td>3</td>\n",
       "      <td>No</td>\n",
       "    </tr>\n",
       "    <tr>\n",
       "      <th>4</th>\n",
       "      <td>4</td>\n",
       "      <td>Yes</td>\n",
       "    </tr>\n",
       "  </tbody>\n",
       "</table>\n",
       "</div>"
      ],
      "text/plain": [
       "   id Offer Accepted\n",
       "0   0             No\n",
       "1   1             No\n",
       "2   2             No\n",
       "3   3             No\n",
       "4   4            Yes"
      ]
     },
     "execution_count": 44,
     "metadata": {},
     "output_type": "execute_result"
    }
   ],
   "source": [
    "submission.head()"
   ]
  },
  {
   "cell_type": "code",
   "execution_count": 45,
   "id": "4b57d381-409e-4a6f-b18d-0c046e99b23e",
   "metadata": {},
   "outputs": [
    {
     "data": {
      "text/plain": [
       "<AxesSubplot: xlabel='Offer Accepted', ylabel='count'>"
      ]
     },
     "execution_count": 45,
     "metadata": {},
     "output_type": "execute_result"
    },
    {
     "data": {
      "image/png": "[encoded data removed]",
      "text/plain": [
       "<Figure size 640x480 with 1 Axes>"
      ]
     },
     "metadata": {},
     "output_type": "display_data"
    }
   ],
   "source": [
    "sns.countplot(x=submission['Offer Accepted'])"
   ]
  },
  {
   "cell_type": "code",
   "execution_count": 46,
   "id": "d2f91aaa-e500-48df-b273-a07fcea4f4b3",
   "metadata": {},
   "outputs": [],
   "source": [
    "submission.to_csv('submission.csv',index=False)"
   ]
  },
  {
   "cell_type": "code",
   "execution_count": null,
   "id": "1b178247-21a6-42a9-a711-2fc0c516b990",
   "metadata": {},
   "outputs": [],
   "source": []
  }
 ],
 "metadata": {
  "kernelspec": {
   "display_name": "Python 3 (ipykernel)",
   "language": "python",
   "name": "python3"
  },
  "language_info": {
   "codemirror_mode": {
    "name": "ipython",
    "version": 3
   },
   "file_extension": ".py",
   "mimetype": "text/x-python",
   "name": "python",
   "nbconvert_exporter": "python",
   "pygments_lexer": "ipython3",
   "version": "3.8.10"
  }
 },
 "nbformat": 4,
 "nbformat_minor": 5
}
