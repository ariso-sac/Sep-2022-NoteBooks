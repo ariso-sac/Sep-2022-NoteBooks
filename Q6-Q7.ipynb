{
 "cells": [
  {
   "cell_type": "code",
   "execution_count": 1,
   "id": "605a74d1-9a0d-4d8a-b7cc-01d2143e23bc",
   "metadata": {},
   "outputs": [],
   "source": [
    "import pandas as pd \n",
    "import numpy as np"
   ]
  },
  {
   "cell_type": "code",
   "execution_count": 2,
   "id": "df9dc9f8-6364-4513-9e67-530e7ffbdb6c",
   "metadata": {},
   "outputs": [],
   "source": [
    "from sklearn.impute import SimpleImputer\n",
    "from sklearn.preprocessing import FunctionTransformer"
   ]
  },
  {
   "cell_type": "code",
   "execution_count": 3,
   "id": "a98f96a5-ac5a-4f20-91e1-75809ced156c",
   "metadata": {},
   "outputs": [],
   "source": [
    "matrix= np.array([[7, 16, 31], [np.nan, np.nan, 66], [12, 5, np.nan],[98, np.nan, 92]])"
   ]
  },
  {
   "cell_type": "code",
   "execution_count": 4,
   "id": "b18f93de-ce92-4635-809e-949d35729957",
   "metadata": {},
   "outputs": [
    {
     "data": {
      "text/plain": [
       "(4, 3)"
      ]
     },
     "execution_count": 4,
     "metadata": {},
     "output_type": "execute_result"
    }
   ],
   "source": [
    "matrix.shape"
   ]
  },
  {
   "cell_type": "code",
   "execution_count": 5,
   "id": "f038f18b-d3e8-4cf3-80d8-23c76e98f342",
   "metadata": {},
   "outputs": [
    {
     "data": {
      "text/plain": [
       "array([[ 7., 16., 31.],\n",
       "       [nan, nan, 66.],\n",
       "       [12.,  5., nan],\n",
       "       [98., nan, 92.]])"
      ]
     },
     "execution_count": 5,
     "metadata": {},
     "output_type": "execute_result"
    }
   ],
   "source": [
    "matrix"
   ]
  },
  {
   "cell_type": "code",
   "execution_count": 6,
   "id": "5a97a4a1-50b3-47b0-9d6d-2f5e4316b0e0",
   "metadata": {},
   "outputs": [],
   "source": [
    "c=SimpleImputer(strategy='mean').fit_transform(matrix)"
   ]
  },
  {
   "cell_type": "code",
   "execution_count": 7,
   "id": "ee618d32-0cd3-46b6-9ce1-96b8da171b7a",
   "metadata": {},
   "outputs": [
    {
     "data": {
      "text/plain": [
       "array([[ 7. , 16. , 31. ],\n",
       "       [39. , 10.5, 66. ],\n",
       "       [12. ,  5. , 63. ],\n",
       "       [98. , 10.5, 92. ]])"
      ]
     },
     "execution_count": 7,
     "metadata": {},
     "output_type": "execute_result"
    }
   ],
   "source": [
    "c"
   ]
  },
  {
   "cell_type": "code",
   "execution_count": 8,
   "id": "f9bcd0c9-0ce9-4b43-bd5f-bec6d3596ed4",
   "metadata": {},
   "outputs": [],
   "source": [
    "matrix=np.array([[1, 1], [2, 3],[10,100]])"
   ]
  },
  {
   "cell_type": "code",
   "execution_count": 9,
   "id": "23b7c016-1bcc-4474-8e4e-526610d7ed38",
   "metadata": {},
   "outputs": [
    {
     "data": {
      "text/plain": [
       "array([[  1,   1],\n",
       "       [  2,   3],\n",
       "       [ 10, 100]])"
      ]
     },
     "execution_count": 9,
     "metadata": {},
     "output_type": "execute_result"
    }
   ],
   "source": [
    "matrix"
   ]
  },
  {
   "cell_type": "code",
   "execution_count": 10,
   "id": "84bbc441-88f8-49a3-95bf-af40df4cfa85",
   "metadata": {},
   "outputs": [],
   "source": [
    "c=FunctionTransformer(func=np.log10).fit_transform(matrix)"
   ]
  },
  {
   "cell_type": "code",
   "execution_count": 11,
   "id": "af5a321a-0536-424b-96e7-5762fc3532a5",
   "metadata": {},
   "outputs": [
    {
     "data": {
      "text/plain": [
       "array([[0.        , 0.        ],\n",
       "       [0.30103   , 0.47712125],\n",
       "       [1.        , 2.        ]])"
      ]
     },
     "execution_count": 11,
     "metadata": {},
     "output_type": "execute_result"
    }
   ],
   "source": [
    "c"
   ]
  },
  {
   "cell_type": "code",
   "execution_count": null,
   "id": "53b2b9ea-7661-4dff-9edd-e73346e924b7",
   "metadata": {},
   "outputs": [],
   "source": []
  }
 ],
 "metadata": {
  "kernelspec": {
   "display_name": "Python 3 (ipykernel)",
   "language": "python",
   "name": "python3"
  },
  "language_info": {
   "codemirror_mode": {
    "name": "ipython",
    "version": 3
   },
   "file_extension": ".py",
   "mimetype": "text/x-python",
   "name": "python",
   "nbconvert_exporter": "python",
   "pygments_lexer": "ipython3",
   "version": "3.8.10"
  }
 },
 "nbformat": 4,
 "nbformat_minor": 5
}
