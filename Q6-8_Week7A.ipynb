{
 "cells": [
  {
   "cell_type": "code",
   "execution_count": 1,
   "id": "5b0bf396-3656-495c-a7f9-772ae0a8916d",
   "metadata": {},
   "outputs": [],
   "source": [
    "import pandas as pd \n",
    "import numpy as np\n",
    "import matplotlib.pyplot as plt\n",
    "import seaborn as sns"
   ]
  },
  {
   "cell_type": "code",
   "execution_count": 2,
   "id": "a0d35c48-0dad-4850-aff9-4e643c4ed925",
   "metadata": {},
   "outputs": [],
   "source": [
    "from sklearn.model_selection import train_test_split\n",
    "from sklearn.linear_model import SGDRegressor, LinearRegression\n",
    "from sklearn.metrics import r2_score , mean_squared_error\n",
    "from sklearn.preprocessing import StandardScaler"
   ]
  },
  {
   "cell_type": "code",
   "execution_count": 3,
   "id": "4d7f2814-2095-4a6c-93fa-7ecc0659653a",
   "metadata": {},
   "outputs": [],
   "source": [
    "# columns=['OSM_ID','LONGITUDE','LATITUDE','ALTITUDE']\n",
    "# df=pd.read_csv('https://archive.ics.uci.edu/ml/machine-learning-databases/00246/3D_spatial_network.txt',\n",
    "#                chunksize=20000,iterator=True,names=columns,header=None)"
   ]
  },
  {
   "cell_type": "code",
   "execution_count": 4,
   "id": "66c79465-29a6-4eb6-bb82-23bae69cb416",
   "metadata": {},
   "outputs": [],
   "source": [
    "columns=['OSM_ID','LONGITUDE','LATITUDE','ALTITUDE']\n",
    "features=['LONGITUDE','LATITUDE']\n",
    "target=['ALTITUDE']"
   ]
  },
  {
   "cell_type": "code",
   "execution_count": 5,
   "id": "e5a9a2fe-80f6-43ce-9b96-af99dadd1711",
   "metadata": {},
   "outputs": [],
   "source": [
    "scaler = StandardScaler()\n",
    "reg=SGDRegressor(random_state=10)"
   ]
  },
  {
   "cell_type": "code",
   "execution_count": 6,
   "id": "3e0f723c-424d-41c7-a333-f3380d995c9e",
   "metadata": {},
   "outputs": [],
   "source": [
    "for chunk in pd.read_csv('https://archive.ics.uci.edu/ml/machine-learning-databases/00246/3D_spatial_network.txt',\n",
    "               chunksize=20000,iterator=True,names=columns,header=None):\n",
    "    scaler.partial_fit(chunk)"
   ]
  },
  {
   "cell_type": "code",
   "execution_count": 7,
   "id": "c89be15f-85c4-438d-ab3d-3b22fae4b3ca",
   "metadata": {},
   "outputs": [
    {
     "name": "stdout",
     "output_type": "stream",
     "text": [
      "For the itreation 1  Intercept\t [24.44543684] \n",
      "Cofficient  [ 4.96054214 -3.93695975]\n",
      "For the itreation 2  Intercept\t [21.27380942] \n",
      "Cofficient  [ 0.38938207 -1.20636015]\n",
      "For the itreation 3  Intercept\t [23.94764565] \n",
      "Cofficient  [ 2.86582522 -0.47778359]\n",
      "For the itreation 4  Intercept\t [21.56160507] \n",
      "Cofficient  [ 3.4417865  -4.25709806]\n",
      "For the itreation 5  Intercept\t [21.63953089] \n",
      "Cofficient  [ 0.86941288 -0.85157771]\n",
      "For the itreation 6  Intercept\t [20.54946551] \n",
      "Cofficient  [ 4.10163251 -5.268374  ]\n",
      "For the itreation 7  Intercept\t [21.39333846] \n",
      "Cofficient  [ 4.7924744  -5.10625804]\n",
      "For the itreation 8  Intercept\t [24.36680357] \n",
      "Cofficient  [ 4.32971425 -4.59574748]\n",
      "For the itreation 9  Intercept\t [25.05750299] \n",
      "Cofficient  [ 5.33733555 -5.37103418]\n",
      "For the itreation 10  Intercept\t [22.27907195] \n",
      "Cofficient  [ 3.43004575 -4.29058431]\n",
      "For the itreation 11  Intercept\t [21.11852613] \n",
      "Cofficient  [-0.59058123  1.14794894]\n",
      "For the itreation 12  Intercept\t [21.61126284] \n",
      "Cofficient  [ 3.96009051 -4.35271105]\n",
      "For the itreation 13  Intercept\t [21.95985618] \n",
      "Cofficient  [ 3.32049501 -4.58514472]\n",
      "For the itreation 14  Intercept\t [21.66092007] \n",
      "Cofficient  [ 4.08072313 -4.53622255]\n",
      "For the itreation 15  Intercept\t [23.25159173] \n",
      "Cofficient  [-1.41434521 -2.1809456 ]\n",
      "For the itreation 16  Intercept\t [26.88946778] \n",
      "Cofficient  [-0.73180186 -3.3272437 ]\n",
      "For the itreation 17  Intercept\t [22.11669113] \n",
      "Cofficient  [ 1.39566061 -2.822111  ]\n",
      "For the itreation 18  Intercept\t [19.02272922] \n",
      "Cofficient  [ 2.62558599 -2.44760359]\n",
      "For the itreation 19  Intercept\t [22.57353126] \n",
      "Cofficient  [ 4.68975005 -5.59566514]\n",
      "For the itreation 20  Intercept\t [22.2406395] \n",
      "Cofficient  [ 2.72190589 -3.26983302]\n",
      "For the itreation 21  Intercept\t [18.6839895] \n",
      "Cofficient  [ 0.5115999  -2.65500147]\n",
      "For the itreation 22  Intercept\t [21.01409049] \n",
      "Cofficient  [ 3.0938621  -5.22002704]\n"
     ]
    }
   ],
   "source": [
    "i=0\n",
    "f = open(\"logreg.txt\", \"w\")\n",
    "for chunk in pd.read_csv('https://archive.ics.uci.edu/ml/machine-learning-databases/00246/3D_spatial_network.txt',\n",
    "               chunksize=20000,iterator=True,names=columns,header=None):\n",
    "    y=chunk[target]\n",
    "    chunk=scaler.transform(chunk)\n",
    "    chunk=pd.DataFrame(data=chunk,columns=columns)\n",
    "    X=chunk[features]\n",
    "    # y=chunk[target]\n",
    "    reg.partial_fit(X,y.values.ravel())\n",
    "    print('For the itreation',i+1,' Intercept\\t',reg.intercept_,'\\nCofficient ',reg.coef_,)\n",
    "#     Write to file\n",
    "    print(i+1,'Iteration\\n',file=f)\n",
    "    for p,q in zip(features,reg.coef_):\n",
    "        print('Score of ',p,'\\tscore\\t',q,'\\n',file=f)\n",
    "    i+=1\n",
    "f.close()"
   ]
  },
  {
   "cell_type": "code",
   "execution_count": 8,
   "id": "b3456672-d5b7-4f35-910c-8fbaf2a57e7f",
   "metadata": {},
   "outputs": [
    {
     "name": "stdout",
     "output_type": "stream",
     "text": [
      "Intercept\t [21.01409049] \n",
      "Cofficient  [ 3.0938621  -5.22002704]\n"
     ]
    }
   ],
   "source": [
    "print('Intercept\\t',reg.intercept_,'\\nCofficient ',reg.coef_)"
   ]
  },
  {
   "cell_type": "code",
   "execution_count": null,
   "id": "8260d6ca-23c4-4c60-835f-83c7a1aca2ae",
   "metadata": {},
   "outputs": [],
   "source": []
  },
  {
   "cell_type": "code",
   "execution_count": null,
   "id": "397a3ad7-9951-4ed8-97ed-69959a86401a",
   "metadata": {},
   "outputs": [],
   "source": []
  },
  {
   "cell_type": "code",
   "execution_count": null,
   "id": "d4d5dcf2-cf9c-4efa-a289-541aa22d40cc",
   "metadata": {},
   "outputs": [],
   "source": []
  },
  {
   "cell_type": "code",
   "execution_count": null,
   "id": "19c794a7-641c-4701-857b-a3afb06cbad1",
   "metadata": {},
   "outputs": [],
   "source": []
  },
  {
   "cell_type": "code",
   "execution_count": null,
   "id": "f96f4449-e93d-48a8-9b84-307b993d456b",
   "metadata": {},
   "outputs": [],
   "source": []
  },
  {
   "cell_type": "code",
   "execution_count": null,
   "id": "912d0a52-b180-4b5c-b542-0f0453a0273d",
   "metadata": {},
   "outputs": [],
   "source": []
  },
  {
   "cell_type": "code",
   "execution_count": null,
   "id": "7eb961c2-df53-494a-ac1f-0f074ee84af7",
   "metadata": {},
   "outputs": [],
   "source": []
  },
  {
   "cell_type": "code",
   "execution_count": null,
   "id": "c816056a-0045-4a05-8839-e409de1bef00",
   "metadata": {},
   "outputs": [],
   "source": []
  }
 ],
 "metadata": {
  "kernelspec": {
   "display_name": "Python 3 (ipykernel)",
   "language": "python",
   "name": "python3"
  },
  "language_info": {
   "codemirror_mode": {
    "name": "ipython",
    "version": 3
   },
   "file_extension": ".py",
   "mimetype": "text/x-python",
   "name": "python",
   "nbconvert_exporter": "python",
   "pygments_lexer": "ipython3",
   "version": "3.8.10"
  }
 },
 "nbformat": 4,
 "nbformat_minor": 5
}
