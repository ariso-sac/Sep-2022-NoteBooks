{
  "nbformat": 4,
  "nbformat_minor": 0,
  "metadata": {
    "colab": {
      "provenance": [],
      "collapsed_sections": [
        "p0X1CaSOL_L_",
        "9vhNogbtMG1a",
        "568gM6ToMLNw",
        "m77VBMWuQgcS",
        "2p5DULEmV2-3",
        "alviB2Rea2wc"
      ]
    },
    "kernelspec": {
      "name": "python3",
      "display_name": "Python 3"
    },
    "language_info": {
      "name": "python"
    }
  },
  "cells": [
    {
      "cell_type": "markdown",
      "source": [
        "# Package Import"
      ],
      "metadata": {
        "id": "p0X1CaSOL_L_"
      }
    },
    {
      "cell_type": "code",
      "source": [
        "import numpy as np\n",
        "import seaborn as sns"
      ],
      "metadata": {
        "id": "00ypdjj_FDAr"
      },
      "execution_count": null,
      "outputs": []
    },
    {
      "cell_type": "markdown",
      "source": [
        "Raw Data"
      ],
      "metadata": {
        "id": "kRCBrs6sgy2o"
      }
    },
    {
      "cell_type": "code",
      "execution_count": null,
      "metadata": {
        "id": "uIxofOyCCnqq"
      },
      "outputs": [],
      "source": [
        "str='''2.5 2.4\n",
        "0.5 0.7\n",
        "2.2 2.9\n",
        "1.9 2.2\n",
        "3.1 3.0\n",
        "2.3 2.7\n",
        "2 1.6\n",
        "1 1.1\n",
        "1.5 1.6\n",
        "1.1 0.9'''"
      ]
    },
    {
      "cell_type": "code",
      "source": [
        "k=str.split(\"\\n\")"
      ],
      "metadata": {
        "id": "hngovfcGDC9r"
      },
      "execution_count": null,
      "outputs": []
    },
    {
      "cell_type": "markdown",
      "source": [
        "# Clusterd Data"
      ],
      "metadata": {
        "id": "9vhNogbtMG1a"
      }
    },
    {
      "cell_type": "code",
      "source": [
        "t=[]\n",
        "for x in k:\n",
        "  p=x.split(\" \")\n",
        "  p[0]=float(p[0])\n",
        "  p[1]=float(p[1])\n",
        "  t.append(p)\n",
        "t"
      ],
      "metadata": {
        "colab": {
          "base_uri": "https://localhost:8080/"
        },
        "id": "NgT-cEG3DMqw",
        "outputId": "6a77dd32-68ee-48c0-c72f-c06e1ff07ce9"
      },
      "execution_count": null,
      "outputs": [
        {
          "output_type": "execute_result",
          "data": {
            "text/plain": [
              "[[2.5, 2.4],\n",
              " [0.5, 0.7],\n",
              " [2.2, 2.9],\n",
              " [1.9, 2.2],\n",
              " [3.1, 3.0],\n",
              " [2.3, 2.7],\n",
              " [2.0, 1.6],\n",
              " [1.0, 1.1],\n",
              " [1.5, 1.6],\n",
              " [1.1, 0.9]]"
            ]
          },
          "metadata": {},
          "execution_count": 4
        }
      ]
    },
    {
      "cell_type": "markdown",
      "source": [
        "# **WorkFlow Starts**"
      ],
      "metadata": {
        "id": "568gM6ToMLNw"
      }
    },
    {
      "cell_type": "code",
      "source": [
        "x=[]\n",
        "y=[]\n",
        "for i in t:\n",
        "  x.append(i[0])\n",
        "  y.append(i[1])"
      ],
      "metadata": {
        "id": "ROuGyz-hD7nB"
      },
      "execution_count": null,
      "outputs": []
    },
    {
      "cell_type": "code",
      "source": [
        "x"
      ],
      "metadata": {
        "colab": {
          "base_uri": "https://localhost:8080/"
        },
        "id": "Tv8y5tEAE96X",
        "outputId": "4e2d481e-44cd-47d7-ef8b-279062d242e2"
      },
      "execution_count": null,
      "outputs": [
        {
          "output_type": "execute_result",
          "data": {
            "text/plain": [
              "[2.5, 0.5, 2.2, 1.9, 3.1, 2.3, 2.0, 1.0, 1.5, 1.1]"
            ]
          },
          "metadata": {},
          "execution_count": 6
        }
      ]
    },
    {
      "cell_type": "code",
      "source": [
        "y"
      ],
      "metadata": {
        "colab": {
          "base_uri": "https://localhost:8080/"
        },
        "id": "5dKlfbB5E__E",
        "outputId": "98077182-b442-4c31-9727-d791a11ade34"
      },
      "execution_count": null,
      "outputs": [
        {
          "output_type": "execute_result",
          "data": {
            "text/plain": [
              "[2.4, 0.7, 2.9, 2.2, 3.0, 2.7, 1.6, 1.1, 1.6, 0.9]"
            ]
          },
          "metadata": {},
          "execution_count": 7
        }
      ]
    },
    {
      "cell_type": "code",
      "source": [
        "x=np.array(x)\n",
        "y=np.array(y)"
      ],
      "metadata": {
        "id": "yKcT8HbGFH9G"
      },
      "execution_count": null,
      "outputs": []
    },
    {
      "cell_type": "code",
      "source": [
        "sns.scatterplot(x=x,y=y)"
      ],
      "metadata": {
        "colab": {
          "base_uri": "https://localhost:8080/",
          "height": 282
        },
        "id": "hno71h5mg8qp",
        "outputId": "a5a6af63-83a6-4ab7-e759-fcdb652304a6"
      },
      "execution_count": null,
      "outputs": [
        {
          "output_type": "execute_result",
          "data": {
            "text/plain": [
              "<matplotlib.axes._subplots.AxesSubplot at 0x7fc563039350>"
            ]
          },
          "metadata": {},
          "execution_count": 9
        },
        {
          "output_type": "display_data",
          "data": {
            "text/plain": [
              "<Figure size 432x288 with 1 Axes>"
            ],
            "image/png": "[encoded data removed]"
          },
          "metadata": {
            "needs_background": "light"
          }
        }
      ]
    },
    {
      "cell_type": "code",
      "source": [
        "t=x.mean()\n",
        "p=y.mean()"
      ],
      "metadata": {
        "id": "AyghWggIFRGJ"
      },
      "execution_count": null,
      "outputs": []
    },
    {
      "cell_type": "code",
      "source": [
        "c=0\n",
        "for i,j in zip(x,y):\n",
        "  i=i-t\n",
        "  j=j-p\n",
        "  x[c]=i\n",
        "  y[c]=j\n",
        "  c+=1"
      ],
      "metadata": {
        "id": "YZL58yrgFa_t"
      },
      "execution_count": null,
      "outputs": []
    },
    {
      "cell_type": "code",
      "source": [
        "x"
      ],
      "metadata": {
        "colab": {
          "base_uri": "https://localhost:8080/"
        },
        "id": "kRvk_LcqFpD-",
        "outputId": "2bea2c6f-fb7f-45d9-97e4-05668830ffea"
      },
      "execution_count": null,
      "outputs": [
        {
          "output_type": "execute_result",
          "data": {
            "text/plain": [
              "array([ 0.69, -1.31,  0.39,  0.09,  1.29,  0.49,  0.19, -0.81, -0.31,\n",
              "       -0.71])"
            ]
          },
          "metadata": {},
          "execution_count": 12
        }
      ]
    },
    {
      "cell_type": "code",
      "source": [
        "y"
      ],
      "metadata": {
        "colab": {
          "base_uri": "https://localhost:8080/"
        },
        "id": "d1qqKtmgF_be",
        "outputId": "32fc34be-8fa5-4be7-b804-891369450259"
      },
      "execution_count": null,
      "outputs": [
        {
          "output_type": "execute_result",
          "data": {
            "text/plain": [
              "array([ 0.49, -1.21,  0.99,  0.29,  1.09,  0.79, -0.31, -0.81, -0.31,\n",
              "       -1.01])"
            ]
          },
          "metadata": {},
          "execution_count": 13
        }
      ]
    },
    {
      "cell_type": "markdown",
      "source": [
        "# *Data Visualisation*"
      ],
      "metadata": {
        "id": "m77VBMWuQgcS"
      }
    },
    {
      "cell_type": "code",
      "source": [
        "sns.scatterplot(x=x,y=y)"
      ],
      "metadata": {
        "colab": {
          "base_uri": "https://localhost:8080/",
          "height": 282
        },
        "id": "SE69wORmGN3n",
        "outputId": "216aebc0-4ba0-4d37-9515-523242d42958"
      },
      "execution_count": null,
      "outputs": [
        {
          "output_type": "execute_result",
          "data": {
            "text/plain": [
              "<matplotlib.axes._subplots.AxesSubplot at 0x7fc5601e1690>"
            ]
          },
          "metadata": {},
          "execution_count": 14
        },
        {
          "output_type": "display_data",
          "data": {
            "text/plain": [
              "<Figure size 432x288 with 1 Axes>"
            ],
            "image/png": "[encoded data removed]"
          },
          "metadata": {
            "needs_background": "light"
          }
        }
      ]
    },
    {
      "cell_type": "markdown",
      "source": [
        "# Numpy Covarince Matrix Correct"
      ],
      "metadata": {
        "id": "4X1alf8RO6xz"
      }
    },
    {
      "cell_type": "code",
      "source": [
        "data = np.array([x,y])\n",
        "data"
      ],
      "metadata": {
        "colab": {
          "base_uri": "https://localhost:8080/"
        },
        "id": "VhZk4VqaQLNb",
        "outputId": "1ae5da52-787d-43d1-e343-76f579173418"
      },
      "execution_count": null,
      "outputs": [
        {
          "output_type": "execute_result",
          "data": {
            "text/plain": [
              "array([[ 0.69, -1.31,  0.39,  0.09,  1.29,  0.49,  0.19, -0.81, -0.31,\n",
              "        -0.71],\n",
              "       [ 0.49, -1.21,  0.99,  0.29,  1.09,  0.79, -0.31, -0.81, -0.31,\n",
              "        -1.01]])"
            ]
          },
          "metadata": {},
          "execution_count": 15
        }
      ]
    },
    {
      "cell_type": "code",
      "source": [
        "covMatrix = np.cov(data,bias=False)\n",
        "print (covMatrix)"
      ],
      "metadata": {
        "colab": {
          "base_uri": "https://localhost:8080/"
        },
        "id": "2tYbJDZdOhUu",
        "outputId": "9599942d-764c-40fa-e304-f748f4ef2b21"
      },
      "execution_count": null,
      "outputs": [
        {
          "output_type": "stream",
          "name": "stdout",
          "text": [
            "[[0.61655556 0.61544444]\n",
            " [0.61544444 0.71655556]]\n"
          ]
        }
      ]
    },
    {
      "cell_type": "markdown",
      "source": [
        "Types of Covarince Matrix -\n",
        "\n",
        "\n",
        "*   **To get the population covariance matrix (based on N), you’ll need to set the bias to True in the code below.**\n",
        "\n",
        "* **To get the sample covariance (based on N-1), you’ll need to set the bias to False in the code below.**\n",
        "\n",
        "\n",
        "\n"
      ],
      "metadata": {
        "id": "pYJ4J0YIWnlp"
      }
    },
    {
      "cell_type": "code",
      "source": [
        "covMatrix = np.cov(data,bias=True)\n",
        "print (covMatrix)"
      ],
      "metadata": {
        "colab": {
          "base_uri": "https://localhost:8080/"
        },
        "id": "blKOx9BQXSt6",
        "outputId": "99c5ad37-3362-4b7f-99b4-002ebac15064"
      },
      "execution_count": null,
      "outputs": [
        {
          "output_type": "stream",
          "name": "stdout",
          "text": [
            "[[0.5549 0.5539]\n",
            " [0.5539 0.6449]]\n"
          ]
        }
      ]
    },
    {
      "cell_type": "markdown",
      "source": [
        "# Kartik Sir's **Function** (MLT)"
      ],
      "metadata": {
        "id": "2p5DULEmV2-3"
      }
    },
    {
      "cell_type": "code",
      "source": [
        "data.T.shape"
      ],
      "metadata": {
        "colab": {
          "base_uri": "https://localhost:8080/"
        },
        "id": "_cOT_IBQWEL8",
        "outputId": "5fa4dd4d-886b-42f6-ae60-c12930ed28e2"
      },
      "execution_count": null,
      "outputs": [
        {
          "output_type": "execute_result",
          "data": {
            "text/plain": [
              "(10, 2)"
            ]
          },
          "metadata": {},
          "execution_count": 18
        }
      ]
    },
    {
      "cell_type": "code",
      "source": [
        "data.T"
      ],
      "metadata": {
        "colab": {
          "base_uri": "https://localhost:8080/"
        },
        "id": "d159VTtOWVuy",
        "outputId": "aa025882-409c-415a-d2b9-9bea7a74d4a5"
      },
      "execution_count": null,
      "outputs": [
        {
          "output_type": "execute_result",
          "data": {
            "text/plain": [
              "array([[ 0.69,  0.49],\n",
              "       [-1.31, -1.21],\n",
              "       [ 0.39,  0.99],\n",
              "       [ 0.09,  0.29],\n",
              "       [ 1.29,  1.09],\n",
              "       [ 0.49,  0.79],\n",
              "       [ 0.19, -0.31],\n",
              "       [-0.81, -0.81],\n",
              "       [-0.31, -0.31],\n",
              "       [-0.71, -1.01]])"
            ]
          },
          "metadata": {},
          "execution_count": 19
        }
      ]
    },
    {
      "cell_type": "code",
      "source": [
        "def covariance(X):\n",
        "    return X.T @ X / X.shape[0]\n",
        "    \n",
        "C = covariance(data.T)\n",
        "C"
      ],
      "metadata": {
        "colab": {
          "base_uri": "https://localhost:8080/"
        },
        "id": "j11OK3clG-MK",
        "outputId": "20390563-379d-4085-921d-491b97246051"
      },
      "execution_count": null,
      "outputs": [
        {
          "output_type": "execute_result",
          "data": {
            "text/plain": [
              "array([[0.5549, 0.5539],\n",
              "       [0.5539, 0.6449]])"
            ]
          },
          "metadata": {},
          "execution_count": 20
        }
      ]
    },
    {
      "cell_type": "markdown",
      "source": [
        "# **Trying Method 3** (Success) [MLF]"
      ],
      "metadata": {
        "id": "alviB2Rea2wc"
      }
    },
    {
      "cell_type": "code",
      "source": [
        "data.T[0].reshape(2,1)"
      ],
      "metadata": {
        "colab": {
          "base_uri": "https://localhost:8080/"
        },
        "id": "lZcd0IbmX9S9",
        "outputId": "c51f1db8-268c-492c-821c-8737bad675f6"
      },
      "execution_count": null,
      "outputs": [
        {
          "output_type": "execute_result",
          "data": {
            "text/plain": [
              "array([[0.69],\n",
              "       [0.49]])"
            ]
          },
          "metadata": {},
          "execution_count": 21
        }
      ]
    },
    {
      "cell_type": "code",
      "source": [
        "data.T[0].reshape(2,1).shape"
      ],
      "metadata": {
        "colab": {
          "base_uri": "https://localhost:8080/"
        },
        "id": "vnILUzczaDNG",
        "outputId": "df1337c0-4a13-4c15-8cb4-84dd6ca56106"
      },
      "execution_count": null,
      "outputs": [
        {
          "output_type": "execute_result",
          "data": {
            "text/plain": [
              "(2, 1)"
            ]
          },
          "metadata": {},
          "execution_count": 22
        }
      ]
    },
    {
      "cell_type": "code",
      "source": [
        "data.T[0].reshape(1,2)"
      ],
      "metadata": {
        "colab": {
          "base_uri": "https://localhost:8080/"
        },
        "id": "gw__M-QRaGT7",
        "outputId": "292b67bf-0ce0-4021-bd4b-6286ae6f11a8"
      },
      "execution_count": null,
      "outputs": [
        {
          "output_type": "execute_result",
          "data": {
            "text/plain": [
              "array([[0.69, 0.49]])"
            ]
          },
          "metadata": {},
          "execution_count": 23
        }
      ]
    },
    {
      "cell_type": "code",
      "source": [
        "data.T[0].reshape(1,2).shape"
      ],
      "metadata": {
        "colab": {
          "base_uri": "https://localhost:8080/"
        },
        "id": "WYwQhqW3aP-v",
        "outputId": "5d1fabcf-e37e-406d-d4c3-a47b01bda84e"
      },
      "execution_count": null,
      "outputs": [
        {
          "output_type": "execute_result",
          "data": {
            "text/plain": [
              "(1, 2)"
            ]
          },
          "metadata": {},
          "execution_count": 24
        }
      ]
    },
    {
      "cell_type": "code",
      "source": [
        "data.T[0].reshape(2,1) @ data.T[0].reshape(1,2)"
      ],
      "metadata": {
        "colab": {
          "base_uri": "https://localhost:8080/"
        },
        "id": "JP0ERKkaasBY",
        "outputId": "c8884570-f813-49a7-900d-d669d3c01333"
      },
      "execution_count": null,
      "outputs": [
        {
          "output_type": "execute_result",
          "data": {
            "text/plain": [
              "array([[0.4761, 0.3381],\n",
              "       [0.3381, 0.2401]])"
            ]
          },
          "metadata": {},
          "execution_count": 25
        }
      ]
    },
    {
      "cell_type": "code",
      "source": [
        "len(data.T)"
      ],
      "metadata": {
        "colab": {
          "base_uri": "https://localhost:8080/"
        },
        "id": "kYUnqV74a-uy",
        "outputId": "276a085f-a419-4de6-f9a8-6867ddf114b7"
      },
      "execution_count": null,
      "outputs": [
        {
          "output_type": "execute_result",
          "data": {
            "text/plain": [
              "10"
            ]
          },
          "metadata": {},
          "execution_count": 26
        }
      ]
    },
    {
      "cell_type": "code",
      "source": [
        "sum=np.zeros((2,2))\n",
        "sum"
      ],
      "metadata": {
        "colab": {
          "base_uri": "https://localhost:8080/"
        },
        "id": "sXv4UhMPb8nz",
        "outputId": "50a23082-ca89-4004-9713-a05efec4524b"
      },
      "execution_count": null,
      "outputs": [
        {
          "output_type": "execute_result",
          "data": {
            "text/plain": [
              "array([[0., 0.],\n",
              "       [0., 0.]])"
            ]
          },
          "metadata": {},
          "execution_count": 27
        }
      ]
    },
    {
      "cell_type": "code",
      "source": [
        "for i in range(0,10):\n",
        "  prod=data.T[i].reshape(2,1) @ data.T[i].reshape(1,2)\n",
        "  # Sum\n",
        "  sum+=prod\n",
        "print(sum)"
      ],
      "metadata": {
        "colab": {
          "base_uri": "https://localhost:8080/"
        },
        "id": "8OXuGojxbkUy",
        "outputId": "87824847-c66c-4a4b-f2be-a77c00bc3b56"
      },
      "execution_count": null,
      "outputs": [
        {
          "output_type": "stream",
          "name": "stdout",
          "text": [
            "[[5.549 5.539]\n",
            " [5.539 6.449]]\n"
          ]
        }
      ]
    },
    {
      "cell_type": "code",
      "source": [
        "cov_iit=np.zeros((2,2))"
      ],
      "metadata": {
        "id": "KC1Xk583faRW"
      },
      "execution_count": null,
      "outputs": []
    },
    {
      "cell_type": "code",
      "source": [
        "k=1/10\n",
        "for i in range(len(sum)):\n",
        "  for j in range(len(sum[i])):\n",
        "    cov_iit[i][j]=sum[i][j]*k\n"
      ],
      "metadata": {
        "id": "cNKdrHmgeUGL"
      },
      "execution_count": null,
      "outputs": []
    },
    {
      "cell_type": "markdown",
      "source": [
        "Output of invdividual matrix multiplication and summation ⛪"
      ],
      "metadata": {
        "id": "sRYFUd6ygerk"
      }
    },
    {
      "cell_type": "code",
      "source": [
        "cov_iit"
      ],
      "metadata": {
        "colab": {
          "base_uri": "https://localhost:8080/"
        },
        "id": "DTC1VtJ1cJg-",
        "outputId": "e8f098d7-6eab-4afa-a04a-804427aef324"
      },
      "execution_count": null,
      "outputs": [
        {
          "output_type": "execute_result",
          "data": {
            "text/plain": [
              "array([[0.5549, 0.5539],\n",
              "       [0.5539, 0.6449]])"
            ]
          },
          "metadata": {},
          "execution_count": 31
        }
      ]
    },
    {
      "cell_type": "markdown",
      "source": [
        "# `Going Ahead with -`   **PCA**"
      ],
      "metadata": {
        "id": "OO0nMmMS8sZQ"
      }
    },
    {
      "cell_type": "markdown",
      "source": [
        "# Going Ahead with covMatrix(following example) as a Covarince Matrix"
      ],
      "metadata": {
        "id": "sxzwyNoyirp-"
      }
    },
    {
      "cell_type": "code",
      "source": [
        "e_val , e_vec = np.linalg.eigh(covMatrix)"
      ],
      "metadata": {
        "id": "oizgLdftiqk_"
      },
      "execution_count": null,
      "outputs": []
    },
    {
      "cell_type": "code",
      "source": [
        "e_val"
      ],
      "metadata": {
        "colab": {
          "base_uri": "https://localhost:8080/"
        },
        "id": "EVTUrOyhjOih",
        "outputId": "074852f0-3b1e-4185-f3ea-5fa0bea1f8cd"
      },
      "execution_count": null,
      "outputs": [
        {
          "output_type": "execute_result",
          "data": {
            "text/plain": [
              "array([0.04417506, 1.15562494])"
            ]
          },
          "metadata": {},
          "execution_count": 33
        }
      ]
    },
    {
      "cell_type": "code",
      "source": [
        "e_vec"
      ],
      "metadata": {
        "colab": {
          "base_uri": "https://localhost:8080/"
        },
        "id": "obLW-jCkjRLO",
        "outputId": "39ba97a1-addc-4ac1-a641-29018783d7fd"
      },
      "execution_count": null,
      "outputs": [
        {
          "output_type": "execute_result",
          "data": {
            "text/plain": [
              "array([[-0.73517866,  0.6778734 ],\n",
              "       [ 0.6778734 ,  0.73517866]])"
            ]
          },
          "metadata": {},
          "execution_count": 34
        }
      ]
    },
    {
      "cell_type": "code",
      "source": [
        "%matplotlib inline\n",
        "import numpy as np\n",
        "import matplotlib.pyplot as plt\n",
        "def draw_vector(v0, v1, ax=None):\n",
        "    ax = ax or plt.gca()\n",
        "    arrowprops=dict(arrowstyle='->',\n",
        "                    linewidth=2,\n",
        "                    shrinkA=0, shrinkB=0)\n",
        "    ax.annotate('', v1, v0, arrowprops=arrowprops)\n",
        "\n",
        "# plot data\n",
        "plt.scatter(data.T[:, 0], data.T[:, 1], alpha=0.9)\n",
        "plt.axis('equal');"
      ],
      "metadata": {
        "colab": {
          "base_uri": "https://localhost:8080/",
          "height": 265
        },
        "id": "xTGIlfArkJg-",
        "outputId": "4bf3f96c-198d-4a37-adc3-c766b34ebe9c"
      },
      "execution_count": null,
      "outputs": [
        {
          "output_type": "display_data",
          "data": {
            "text/plain": [
              "<Figure size 432x288 with 1 Axes>"
            ],
            "image/png": "[encoded data removed]"
          },
          "metadata": {
            "needs_background": "light"
          }
        }
      ]
    },
    {
      "cell_type": "code",
      "source": [
        "data.mean(axis=0)"
      ],
      "metadata": {
        "colab": {
          "base_uri": "https://localhost:8080/"
        },
        "id": "TMUCk-6_9vYo",
        "outputId": "843d0902-fca1-4c29-c209-09da4fbdc487"
      },
      "execution_count": null,
      "outputs": [
        {
          "output_type": "execute_result",
          "data": {
            "text/plain": [
              "array([ 0.59, -1.26,  0.69,  0.19,  1.19,  0.64, -0.06, -0.81, -0.31,\n",
              "       -0.86])"
            ]
          },
          "metadata": {},
          "execution_count": 36
        }
      ]
    },
    {
      "cell_type": "code",
      "source": [
        "data.T.mean(axis=0)"
      ],
      "metadata": {
        "colab": {
          "base_uri": "https://localhost:8080/"
        },
        "id": "e2ZjLdQj93YK",
        "outputId": "3c90f4f8-6452-4c80-af28-3abd39cae081"
      },
      "execution_count": null,
      "outputs": [
        {
          "output_type": "execute_result",
          "data": {
            "text/plain": [
              "array([-4.44089210e-17, -1.11022302e-16])"
            ]
          },
          "metadata": {},
          "execution_count": 37
        }
      ]
    },
    {
      "cell_type": "code",
      "source": [
        "%matplotlib inline\n",
        "import numpy as np\n",
        "import matplotlib.pyplot as plt\n",
        "def draw_vector(v0, v1, ax=None):\n",
        "    ax = ax or plt.gca()\n",
        "    arrowprops=dict(arrowstyle='->',\n",
        "                    linewidth=2,\n",
        "                    shrinkA=0, shrinkB=0)\n",
        "    ax.annotate('', v1, v0, arrowprops=arrowprops)\n",
        "\n",
        "# plot data\n",
        "plt.scatter(data.T[:, 0], data.T[:, 1], alpha=0.9)\n",
        "# i=0\n",
        "for length, vector in zip(e_val, e_vec):\n",
        "    # i+=1\n",
        "    v = vector * 1.2 * np.sqrt(length)\n",
        "    draw_vector(data.T.mean(axis=0), data.T.mean(axis=0) + v)\n",
        "# v = e_vec[1] * 1.2 * np.sqrt(e_val[1])\n",
        "# print(v)\n",
        "# draw_vector(data.T.mean(axis=0), data.T.mean(axis=0) + v)\n",
        "# plt.axis('equal');\n",
        "# print(i)"
      ],
      "metadata": {
        "id": "2zhlQ5s6pKIa",
        "colab": {
          "base_uri": "https://localhost:8080/",
          "height": 265
        },
        "outputId": "1135190e-0c47-44f7-bf2f-0fe8f233283a"
      },
      "execution_count": null,
      "outputs": [
        {
          "output_type": "display_data",
          "data": {
            "text/plain": [
              "<Figure size 432x288 with 1 Axes>"
            ],
            "image/png": "[encoded data removed]"
          },
          "metadata": {
            "needs_background": "light"
          }
        }
      ]
    },
    {
      "cell_type": "code",
      "source": [
        "vec_new = np.linalg.inv(np.array(e_vec)).dot(data)"
      ],
      "metadata": {
        "id": "tMrZJ4APIw0z"
      },
      "execution_count": null,
      "outputs": []
    },
    {
      "cell_type": "code",
      "source": [
        "vec_new"
      ],
      "metadata": {
        "colab": {
          "base_uri": "https://localhost:8080/"
        },
        "id": "p8tQaQH0JBHy",
        "outputId": "35a8ce5b-0e28-4c7e-a178-c2ec461ca707"
      },
      "execution_count": null,
      "outputs": [
        {
          "output_type": "execute_result",
          "data": {
            "text/plain": [
              "array([[-0.17511531,  0.14285723,  0.38437499,  0.13041721, -0.20949846,\n",
              "         0.17528244, -0.3498247 ,  0.04641726,  0.01776463, -0.16267529],\n",
              "       [ 0.82797019, -1.77758033,  0.99219749,  0.27421042,  1.67580142,\n",
              "         0.9129491 , -0.09910944, -1.14457216, -0.43804614, -1.22382056]])"
            ]
          },
          "metadata": {},
          "execution_count": 58
        }
      ]
    },
    {
      "cell_type": "code",
      "source": [
        "data"
      ],
      "metadata": {
        "colab": {
          "base_uri": "https://localhost:8080/"
        },
        "id": "H4kuJ8E0JI6U",
        "outputId": "63bd91fe-8373-4f64-adf3-0e4cc422d297"
      },
      "execution_count": null,
      "outputs": [
        {
          "output_type": "execute_result",
          "data": {
            "text/plain": [
              "array([[ 0.69, -1.31,  0.39,  0.09,  1.29,  0.49,  0.19, -0.81, -0.31,\n",
              "        -0.71],\n",
              "       [ 0.49, -1.21,  0.99,  0.29,  1.09,  0.79, -0.31, -0.81, -0.31,\n",
              "        -1.01]])"
            ]
          },
          "metadata": {},
          "execution_count": 59
        }
      ]
    },
    {
      "cell_type": "code",
      "source": [
        "temp=vec_new.reshape(10,2)"
      ],
      "metadata": {
        "id": "zkxn2SFSJQX8"
      },
      "execution_count": null,
      "outputs": []
    },
    {
      "cell_type": "code",
      "source": [
        "temp"
      ],
      "metadata": {
        "colab": {
          "base_uri": "https://localhost:8080/"
        },
        "id": "960OacIAJmZD",
        "outputId": "90222c46-7a9c-42d3-9365-88e31b8654d5"
      },
      "execution_count": null,
      "outputs": [
        {
          "output_type": "execute_result",
          "data": {
            "text/plain": [
              "array([[-0.17511531,  0.14285723],\n",
              "       [ 0.38437499,  0.13041721],\n",
              "       [-0.20949846,  0.17528244],\n",
              "       [-0.3498247 ,  0.04641726],\n",
              "       [ 0.01776463, -0.16267529],\n",
              "       [ 0.82797019, -1.77758033],\n",
              "       [ 0.99219749,  0.27421042],\n",
              "       [ 1.67580142,  0.9129491 ],\n",
              "       [-0.09910944, -1.14457216],\n",
              "       [-0.43804614, -1.22382056]])"
            ]
          },
          "metadata": {},
          "execution_count": 63
        }
      ]
    },
    {
      "cell_type": "code",
      "source": [
        "x_t=[]\n",
        "y_t=[]\n",
        "for i in temp:\n",
        "  x_t.append(i[0])\n",
        "  y_t.append(i[1])"
      ],
      "metadata": {
        "id": "BXtBk8bCJzEu"
      },
      "execution_count": null,
      "outputs": []
    },
    {
      "cell_type": "code",
      "source": [
        "sns.scatterplot(x=x_t,y=y_t)"
      ],
      "metadata": {
        "colab": {
          "base_uri": "https://localhost:8080/",
          "height": 283
        },
        "id": "3lZgJh5uJaBg",
        "outputId": "36a29a86-e245-40fc-8c5c-43eaa433d8db"
      },
      "execution_count": null,
      "outputs": [
        {
          "output_type": "execute_result",
          "data": {
            "text/plain": [
              "<matplotlib.axes._subplots.AxesSubplot at 0x7fc55d119990>"
            ]
          },
          "metadata": {},
          "execution_count": 67
        },
        {
          "output_type": "display_data",
          "data": {
            "text/plain": [
              "<Figure size 432x288 with 1 Axes>"
            ],
            "image/png": "[encoded data removed]"
          },
          "metadata": {
            "needs_background": "light"
          }
        }
      ]
    }
  ]
}