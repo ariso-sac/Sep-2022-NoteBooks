{
 "cells": [
  {
   "cell_type": "markdown",
   "id": "7da17b9b-1462-423b-af22-101cde9907b5",
   "metadata": {
    "tags": []
   },
   "source": [
    "# Import Libraries"
   ]
  },
  {
   "cell_type": "code",
   "execution_count": 1,
   "id": "2f52106c-84f4-4974-a557-391129bd2d61",
   "metadata": {},
   "outputs": [],
   "source": [
    "import pandas as pd\n",
    "import numpy as np\n",
    "import seaborn as sns"
   ]
  },
  {
   "cell_type": "code",
   "execution_count": 2,
   "id": "a430e8d1-83f1-4898-ba6c-1723d2bf83fa",
   "metadata": {},
   "outputs": [],
   "source": [
    "from sklearn.experimental import enable_halving_search_cv"
   ]
  },
  {
   "cell_type": "code",
   "execution_count": 3,
   "id": "6dab8ad7-67bc-4d6a-a6af-f1dcba27c66d",
   "metadata": {},
   "outputs": [],
   "source": [
    "from sklearn.preprocessing import StandardScaler, OrdinalEncoder, MinMaxScaler, LabelEncoder, OneHotEncoder\n",
    "from sklearn.pipeline import Pipeline\n",
    "from sklearn.compose import ColumnTransformer\n",
    "from sklearn.model_selection import train_test_split\n",
    "from sklearn.metrics import confusion_matrix ,ConfusionMatrixDisplay , f1_score ,classification_report\n",
    "from sklearn.ensemble import RandomForestClassifier , AdaBoostClassifier\n",
    "from sklearn.svm import SVC\n",
    "from sklearn.tree import DecisionTreeClassifier\n",
    "from sklearn.neighbors import KNeighborsClassifier\n",
    "from sklearn.neural_network import MLPClassifier\n",
    "from sklearn.naive_bayes import GaussianNB\n",
    "from sklearn.discriminant_analysis import QuadraticDiscriminantAnalysis\n",
    "from sklearn.linear_model import LogisticRegression\n",
    "from sklearn.model_selection import RandomizedSearchCV , GridSearchCV, HalvingGridSearchCV"
   ]
  },
  {
   "cell_type": "markdown",
   "id": "1ddd7fb0-2196-4051-acf4-c2f12fab530c",
   "metadata": {
    "tags": []
   },
   "source": [
    "# Read The Training DataSet"
   ]
  },
  {
   "cell_type": "code",
   "execution_count": 4,
   "id": "37ed7e0b-ec71-4ca0-99b8-82824cc7a768",
   "metadata": {},
   "outputs": [],
   "source": [
    "df=pd.read_csv('train1.csv')"
   ]
  },
  {
   "cell_type": "code",
   "execution_count": 5,
   "id": "b7c76241-11cb-4ac4-afed-014da2461380",
   "metadata": {},
   "outputs": [],
   "source": [
    "features=df.columns[:-1]\n",
    "target=df.columns[-1]\n",
    "X=df[features]\n",
    "y=df[target]"
   ]
  },
  {
   "cell_type": "markdown",
   "id": "b73f4a6b-c2f7-40bb-bd23-9ca22e223673",
   "metadata": {},
   "source": [
    "## Test Train Split "
   ]
  },
  {
   "cell_type": "code",
   "execution_count": 6,
   "id": "b72fa4c3-2860-4962-900f-d8864f8f0557",
   "metadata": {},
   "outputs": [],
   "source": [
    "X_train, X_test, y_train, y_test = train_test_split(\n",
    "     X, y, \n",
    "    test_size=0.20,\n",
    "    random_state=42,\n",
    "    shuffle=True\n",
    ")"
   ]
  },
  {
   "cell_type": "markdown",
   "id": "493930fc-22ba-4902-9386-a2fb5150cf7d",
   "metadata": {
    "tags": []
   },
   "source": [
    "# Declear Pipeline "
   ]
  },
  {
   "cell_type": "code",
   "execution_count": 7,
   "id": "4d2e056b-976b-4661-b523-651d412d4672",
   "metadata": {},
   "outputs": [],
   "source": [
    "from sklearn.compose import make_column_selector as selector\n",
    "\n",
    "numerical_columns_selector = selector(dtype_exclude=object)\n",
    "categorical_columns_selector = selector(dtype_include=object)\n",
    "\n",
    "numerical_columns = numerical_columns_selector(X)\n",
    "categorical_columns = categorical_columns_selector(X)"
   ]
  },
  {
   "cell_type": "code",
   "execution_count": 8,
   "id": "930de0aa-3efc-46ee-9122-a014db9e48fb",
   "metadata": {},
   "outputs": [],
   "source": [
    "categorical_transformer = Pipeline(\n",
    "    steps=[(\n",
    "    \"encoder\",OneHotEncoder()\n",
    "    )]\n",
    ")"
   ]
  },
  {
   "cell_type": "code",
   "execution_count": 9,
   "id": "64734ded-7121-4eb0-9d4c-c2ca1f98bffd",
   "metadata": {},
   "outputs": [],
   "source": [
    "numeric_transformer = Pipeline(\n",
    "    steps=[(\"scaler\", StandardScaler())]\n",
    ")"
   ]
  },
  {
   "cell_type": "code",
   "execution_count": 10,
   "id": "ab177f68-7ab1-42ff-826a-2aff58416e04",
   "metadata": {},
   "outputs": [],
   "source": [
    "preprocessor = ColumnTransformer(\n",
    "    transformers=[\n",
    "        (\"numerical\", numeric_transformer, numerical_columns),\n",
    "        (\"categorical\", categorical_transformer, categorical_columns),\n",
    "    ]\n",
    ")"
   ]
  },
  {
   "cell_type": "code",
   "execution_count": 11,
   "id": "5c8d3b19-85c8-4c63-9853-393009832803",
   "metadata": {},
   "outputs": [],
   "source": [
    "pipe=Pipeline(steps=[\n",
    "    ('preprocess',preprocessor),\n",
    "    ('model',LogisticRegression(max_iter=10000,n_jobs=-1))\n",
    "])"
   ]
  },
  {
   "cell_type": "markdown",
   "id": "cfe3d820-d176-4da7-8803-6017051b53cf",
   "metadata": {},
   "source": [
    "## Target Transformation"
   ]
  },
  {
   "cell_type": "code",
   "execution_count": 12,
   "id": "ffc8b357-7d36-4818-8a33-d5ff86c3b1b7",
   "metadata": {},
   "outputs": [],
   "source": [
    "lb=LabelEncoder()\n",
    "lb.fit(y_train)\n",
    "y_train=lb.transform(y_train)"
   ]
  },
  {
   "cell_type": "markdown",
   "id": "7de49dbd-be29-43d7-9e7d-ade81549e957",
   "metadata": {
    "tags": []
   },
   "source": [
    "# Fit Data into pipeline"
   ]
  },
  {
   "cell_type": "code",
   "execution_count": 13,
   "id": "7b065350-8ea8-479d-aa61-ffdae3ba8724",
   "metadata": {},
   "outputs": [
    {
     "data": {
      "text/html": [
       "<style>#sk-container-id-1 {color: black;background-color: white;}#sk-container-id-1 pre{padding: 0;}#sk-container-id-1 div.sk-toggleable {background-color: white;}#sk-container-id-1 label.sk-toggleable__label {cursor: pointer;display: block;width: 100%;margin-bottom: 0;padding: 0.3em;box-sizing: border-box;text-align: center;}#sk-container-id-1 label.sk-toggleable__label-arrow:before {content: \"▸\";float: left;margin-right: 0.25em;color: #696969;}#sk-container-id-1 label.sk-toggleable__label-arrow:hover:before {color: black;}#sk-container-id-1 div.sk-estimator:hover label.sk-toggleable__label-arrow:before {color: black;}#sk-container-id-1 div.sk-toggleable__content {max-height: 0;max-width: 0;overflow: hidden;text-align: left;background-color: #f0f8ff;}#sk-container-id-1 div.sk-toggleable__content pre {margin: 0.2em;color: black;border-radius: 0.25em;background-color: #f0f8ff;}#sk-container-id-1 input.sk-toggleable__control:checked~div.sk-toggleable__content {max-height: 200px;max-width: 100%;overflow: auto;}#sk-container-id-1 input.sk-toggleable__control:checked~label.sk-toggleable__label-arrow:before {content: \"▾\";}#sk-container-id-1 div.sk-estimator input.sk-toggleable__control:checked~label.sk-toggleable__label {background-color: #d4ebff;}#sk-container-id-1 div.sk-label input.sk-toggleable__control:checked~label.sk-toggleable__label {background-color: #d4ebff;}#sk-container-id-1 input.sk-hidden--visually {border: 0;clip: rect(1px 1px 1px 1px);clip: rect(1px, 1px, 1px, 1px);height: 1px;margin: -1px;overflow: hidden;padding: 0;position: absolute;width: 1px;}#sk-container-id-1 div.sk-estimator {font-family: monospace;background-color: #f0f8ff;border: 1px dotted black;border-radius: 0.25em;box-sizing: border-box;margin-bottom: 0.5em;}#sk-container-id-1 div.sk-estimator:hover {background-color: #d4ebff;}#sk-container-id-1 div.sk-parallel-item::after {content: \"\";width: 100%;border-bottom: 1px solid gray;flex-grow: 1;}#sk-container-id-1 div.sk-label:hover label.sk-toggleable__label {background-color: #d4ebff;}#sk-container-id-1 div.sk-serial::before {content: \"\";position: absolute;border-left: 1px solid gray;box-sizing: border-box;top: 0;bottom: 0;left: 50%;z-index: 0;}#sk-container-id-1 div.sk-serial {display: flex;flex-direction: column;align-items: center;background-color: white;padding-right: 0.2em;padding-left: 0.2em;position: relative;}#sk-container-id-1 div.sk-item {position: relative;z-index: 1;}#sk-container-id-1 div.sk-parallel {display: flex;align-items: stretch;justify-content: center;background-color: white;position: relative;}#sk-container-id-1 div.sk-item::before, #sk-container-id-1 div.sk-parallel-item::before {content: \"\";position: absolute;border-left: 1px solid gray;box-sizing: border-box;top: 0;bottom: 0;left: 50%;z-index: -1;}#sk-container-id-1 div.sk-parallel-item {display: flex;flex-direction: column;z-index: 1;position: relative;background-color: white;}#sk-container-id-1 div.sk-parallel-item:first-child::after {align-self: flex-end;width: 50%;}#sk-container-id-1 div.sk-parallel-item:last-child::after {align-self: flex-start;width: 50%;}#sk-container-id-1 div.sk-parallel-item:only-child::after {width: 0;}#sk-container-id-1 div.sk-dashed-wrapped {border: 1px dashed gray;margin: 0 0.4em 0.5em 0.4em;box-sizing: border-box;padding-bottom: 0.4em;background-color: white;}#sk-container-id-1 div.sk-label label {font-family: monospace;font-weight: bold;display: inline-block;line-height: 1.2em;}#sk-container-id-1 div.sk-label-container {text-align: center;}#sk-container-id-1 div.sk-container {/* jupyter's `normalize.less` sets `[hidden] { display: none; }` but bootstrap.min.css set `[hidden] { display: none !important; }` so we also need the `!important` here to be able to override the default hidden behavior on the sphinx rendered scikit-learn.org. See: https://github.com/scikit-learn/scikit-learn/issues/21755 */display: inline-block !important;position: relative;}#sk-container-id-1 div.sk-text-repr-fallback {display: none;}</style><div id=\"sk-container-id-1\" class=\"sk-top-container\"><div class=\"sk-text-repr-fallback\"><pre>Pipeline(steps=[(&#x27;preprocess&#x27;,\n",
       "                 ColumnTransformer(transformers=[(&#x27;numerical&#x27;,\n",
       "                                                  Pipeline(steps=[(&#x27;scaler&#x27;,\n",
       "                                                                   StandardScaler())]),\n",
       "                                                  [&#x27;offer_expiration(hrs)&#x27;,\n",
       "                                                   &#x27;income_range&#x27;, &#x27;age&#x27;,\n",
       "                                                   &#x27;western/chinese&#x27;,\n",
       "                                                   &#x27;restuarant_same_direction_house&#x27;,\n",
       "                                                   &#x27;cooks_regularly&#x27;,\n",
       "                                                   &#x27;is_foodie&#x27;, &#x27;children&#x27;,\n",
       "                                                   &#x27;visit_restaurant_with_rating_(avg)&#x27;,\n",
       "                                                   &#x27;temperature&#x27;, &#x27;travel_time&#x27;,\n",
       "                                                   &#x27;prefer_home_food&#x27;]),\n",
       "                                                 (&#x27;categorical&#x27;,\n",
       "                                                  Pipeline(steps=[(&#x27;encoder&#x27;,\n",
       "                                                                   OneHotEncoder())]),\n",
       "                                                  [&#x27;shaadi&#x27;, &#x27;restaurant_type&#x27;,\n",
       "                                                   &#x27;gender&#x27;, &#x27;customer_type&#x27;,\n",
       "                                                   &#x27;education&#x27;, &#x27;industry&#x27;,\n",
       "                                                   &#x27;climate&#x27;,\n",
       "                                                   &#x27;drop_location&#x27;])])),\n",
       "                (&#x27;model&#x27;, LogisticRegression(max_iter=10000, n_jobs=-1))])</pre><b>In a Jupyter environment, please rerun this cell to show the HTML representation or trust the notebook. <br />On GitHub, the HTML representation is unable to render, please try loading this page with nbviewer.org.</b></div><div class=\"sk-container\" hidden><div class=\"sk-item sk-dashed-wrapped\"><div class=\"sk-label-container\"><div class=\"sk-label sk-toggleable\"><input class=\"sk-toggleable__control sk-hidden--visually\" id=\"sk-estimator-id-1\" type=\"checkbox\" ><label for=\"sk-estimator-id-1\" class=\"sk-toggleable__label sk-toggleable__label-arrow\">Pipeline</label><div class=\"sk-toggleable__content\"><pre>Pipeline(steps=[(&#x27;preprocess&#x27;,\n",
       "                 ColumnTransformer(transformers=[(&#x27;numerical&#x27;,\n",
       "                                                  Pipeline(steps=[(&#x27;scaler&#x27;,\n",
       "                                                                   StandardScaler())]),\n",
       "                                                  [&#x27;offer_expiration(hrs)&#x27;,\n",
       "                                                   &#x27;income_range&#x27;, &#x27;age&#x27;,\n",
       "                                                   &#x27;western/chinese&#x27;,\n",
       "                                                   &#x27;restuarant_same_direction_house&#x27;,\n",
       "                                                   &#x27;cooks_regularly&#x27;,\n",
       "                                                   &#x27;is_foodie&#x27;, &#x27;children&#x27;,\n",
       "                                                   &#x27;visit_restaurant_with_rating_(avg)&#x27;,\n",
       "                                                   &#x27;temperature&#x27;, &#x27;travel_time&#x27;,\n",
       "                                                   &#x27;prefer_home_food&#x27;]),\n",
       "                                                 (&#x27;categorical&#x27;,\n",
       "                                                  Pipeline(steps=[(&#x27;encoder&#x27;,\n",
       "                                                                   OneHotEncoder())]),\n",
       "                                                  [&#x27;shaadi&#x27;, &#x27;restaurant_type&#x27;,\n",
       "                                                   &#x27;gender&#x27;, &#x27;customer_type&#x27;,\n",
       "                                                   &#x27;education&#x27;, &#x27;industry&#x27;,\n",
       "                                                   &#x27;climate&#x27;,\n",
       "                                                   &#x27;drop_location&#x27;])])),\n",
       "                (&#x27;model&#x27;, LogisticRegression(max_iter=10000, n_jobs=-1))])</pre></div></div></div><div class=\"sk-serial\"><div class=\"sk-item sk-dashed-wrapped\"><div class=\"sk-label-container\"><div class=\"sk-label sk-toggleable\"><input class=\"sk-toggleable__control sk-hidden--visually\" id=\"sk-estimator-id-2\" type=\"checkbox\" ><label for=\"sk-estimator-id-2\" class=\"sk-toggleable__label sk-toggleable__label-arrow\">preprocess: ColumnTransformer</label><div class=\"sk-toggleable__content\"><pre>ColumnTransformer(transformers=[(&#x27;numerical&#x27;,\n",
       "                                 Pipeline(steps=[(&#x27;scaler&#x27;, StandardScaler())]),\n",
       "                                 [&#x27;offer_expiration(hrs)&#x27;, &#x27;income_range&#x27;,\n",
       "                                  &#x27;age&#x27;, &#x27;western/chinese&#x27;,\n",
       "                                  &#x27;restuarant_same_direction_house&#x27;,\n",
       "                                  &#x27;cooks_regularly&#x27;, &#x27;is_foodie&#x27;, &#x27;children&#x27;,\n",
       "                                  &#x27;visit_restaurant_with_rating_(avg)&#x27;,\n",
       "                                  &#x27;temperature&#x27;, &#x27;travel_time&#x27;,\n",
       "                                  &#x27;prefer_home_food&#x27;]),\n",
       "                                (&#x27;categorical&#x27;,\n",
       "                                 Pipeline(steps=[(&#x27;encoder&#x27;, OneHotEncoder())]),\n",
       "                                 [&#x27;shaadi&#x27;, &#x27;restaurant_type&#x27;, &#x27;gender&#x27;,\n",
       "                                  &#x27;customer_type&#x27;, &#x27;education&#x27;, &#x27;industry&#x27;,\n",
       "                                  &#x27;climate&#x27;, &#x27;drop_location&#x27;])])</pre></div></div></div><div class=\"sk-parallel\"><div class=\"sk-parallel-item\"><div class=\"sk-item\"><div class=\"sk-label-container\"><div class=\"sk-label sk-toggleable\"><input class=\"sk-toggleable__control sk-hidden--visually\" id=\"sk-estimator-id-3\" type=\"checkbox\" ><label for=\"sk-estimator-id-3\" class=\"sk-toggleable__label sk-toggleable__label-arrow\">numerical</label><div class=\"sk-toggleable__content\"><pre>[&#x27;offer_expiration(hrs)&#x27;, &#x27;income_range&#x27;, &#x27;age&#x27;, &#x27;western/chinese&#x27;, &#x27;restuarant_same_direction_house&#x27;, &#x27;cooks_regularly&#x27;, &#x27;is_foodie&#x27;, &#x27;children&#x27;, &#x27;visit_restaurant_with_rating_(avg)&#x27;, &#x27;temperature&#x27;, &#x27;travel_time&#x27;, &#x27;prefer_home_food&#x27;]</pre></div></div></div><div class=\"sk-serial\"><div class=\"sk-item\"><div class=\"sk-serial\"><div class=\"sk-item\"><div class=\"sk-estimator sk-toggleable\"><input class=\"sk-toggleable__control sk-hidden--visually\" id=\"sk-estimator-id-4\" type=\"checkbox\" ><label for=\"sk-estimator-id-4\" class=\"sk-toggleable__label sk-toggleable__label-arrow\">StandardScaler</label><div class=\"sk-toggleable__content\"><pre>StandardScaler()</pre></div></div></div></div></div></div></div></div><div class=\"sk-parallel-item\"><div class=\"sk-item\"><div class=\"sk-label-container\"><div class=\"sk-label sk-toggleable\"><input class=\"sk-toggleable__control sk-hidden--visually\" id=\"sk-estimator-id-5\" type=\"checkbox\" ><label for=\"sk-estimator-id-5\" class=\"sk-toggleable__label sk-toggleable__label-arrow\">categorical</label><div class=\"sk-toggleable__content\"><pre>[&#x27;shaadi&#x27;, &#x27;restaurant_type&#x27;, &#x27;gender&#x27;, &#x27;customer_type&#x27;, &#x27;education&#x27;, &#x27;industry&#x27;, &#x27;climate&#x27;, &#x27;drop_location&#x27;]</pre></div></div></div><div class=\"sk-serial\"><div class=\"sk-item\"><div class=\"sk-serial\"><div class=\"sk-item\"><div class=\"sk-estimator sk-toggleable\"><input class=\"sk-toggleable__control sk-hidden--visually\" id=\"sk-estimator-id-6\" type=\"checkbox\" ><label for=\"sk-estimator-id-6\" class=\"sk-toggleable__label sk-toggleable__label-arrow\">OneHotEncoder</label><div class=\"sk-toggleable__content\"><pre>OneHotEncoder()</pre></div></div></div></div></div></div></div></div></div></div><div class=\"sk-item\"><div class=\"sk-estimator sk-toggleable\"><input class=\"sk-toggleable__control sk-hidden--visually\" id=\"sk-estimator-id-7\" type=\"checkbox\" ><label for=\"sk-estimator-id-7\" class=\"sk-toggleable__label sk-toggleable__label-arrow\">LogisticRegression</label><div class=\"sk-toggleable__content\"><pre>LogisticRegression(max_iter=10000, n_jobs=-1)</pre></div></div></div></div></div></div></div>"
      ],
      "text/plain": [
       "Pipeline(steps=[('preprocess',\n",
       "                 ColumnTransformer(transformers=[('numerical',\n",
       "                                                  Pipeline(steps=[('scaler',\n",
       "                                                                   StandardScaler())]),\n",
       "                                                  ['offer_expiration(hrs)',\n",
       "                                                   'income_range', 'age',\n",
       "                                                   'western/chinese',\n",
       "                                                   'restuarant_same_direction_house',\n",
       "                                                   'cooks_regularly',\n",
       "                                                   'is_foodie', 'children',\n",
       "                                                   'visit_restaurant_with_rating_(avg)',\n",
       "                                                   'temperature', 'travel_time',\n",
       "                                                   'prefer_home_food']),\n",
       "                                                 ('categorical',\n",
       "                                                  Pipeline(steps=[('encoder',\n",
       "                                                                   OneHotEncoder())]),\n",
       "                                                  ['shaadi', 'restaurant_type',\n",
       "                                                   'gender', 'customer_type',\n",
       "                                                   'education', 'industry',\n",
       "                                                   'climate',\n",
       "                                                   'drop_location'])])),\n",
       "                ('model', LogisticRegression(max_iter=10000, n_jobs=-1))])"
      ]
     },
     "execution_count": 13,
     "metadata": {},
     "output_type": "execute_result"
    }
   ],
   "source": [
    "pipe"
   ]
  },
  {
   "cell_type": "code",
   "execution_count": 14,
   "id": "49ae1301-4ec7-4283-8bfb-2caaf5de6933",
   "metadata": {},
   "outputs": [
    {
     "data": {
      "text/html": [
       "<style>#sk-container-id-2 {color: black;background-color: white;}#sk-container-id-2 pre{padding: 0;}#sk-container-id-2 div.sk-toggleable {background-color: white;}#sk-container-id-2 label.sk-toggleable__label {cursor: pointer;display: block;width: 100%;margin-bottom: 0;padding: 0.3em;box-sizing: border-box;text-align: center;}#sk-container-id-2 label.sk-toggleable__label-arrow:before {content: \"▸\";float: left;margin-right: 0.25em;color: #696969;}#sk-container-id-2 label.sk-toggleable__label-arrow:hover:before {color: black;}#sk-container-id-2 div.sk-estimator:hover label.sk-toggleable__label-arrow:before {color: black;}#sk-container-id-2 div.sk-toggleable__content {max-height: 0;max-width: 0;overflow: hidden;text-align: left;background-color: #f0f8ff;}#sk-container-id-2 div.sk-toggleable__content pre {margin: 0.2em;color: black;border-radius: 0.25em;background-color: #f0f8ff;}#sk-container-id-2 input.sk-toggleable__control:checked~div.sk-toggleable__content {max-height: 200px;max-width: 100%;overflow: auto;}#sk-container-id-2 input.sk-toggleable__control:checked~label.sk-toggleable__label-arrow:before {content: \"▾\";}#sk-container-id-2 div.sk-estimator input.sk-toggleable__control:checked~label.sk-toggleable__label {background-color: #d4ebff;}#sk-container-id-2 div.sk-label input.sk-toggleable__control:checked~label.sk-toggleable__label {background-color: #d4ebff;}#sk-container-id-2 input.sk-hidden--visually {border: 0;clip: rect(1px 1px 1px 1px);clip: rect(1px, 1px, 1px, 1px);height: 1px;margin: -1px;overflow: hidden;padding: 0;position: absolute;width: 1px;}#sk-container-id-2 div.sk-estimator {font-family: monospace;background-color: #f0f8ff;border: 1px dotted black;border-radius: 0.25em;box-sizing: border-box;margin-bottom: 0.5em;}#sk-container-id-2 div.sk-estimator:hover {background-color: #d4ebff;}#sk-container-id-2 div.sk-parallel-item::after {content: \"\";width: 100%;border-bottom: 1px solid gray;flex-grow: 1;}#sk-container-id-2 div.sk-label:hover label.sk-toggleable__label {background-color: #d4ebff;}#sk-container-id-2 div.sk-serial::before {content: \"\";position: absolute;border-left: 1px solid gray;box-sizing: border-box;top: 0;bottom: 0;left: 50%;z-index: 0;}#sk-container-id-2 div.sk-serial {display: flex;flex-direction: column;align-items: center;background-color: white;padding-right: 0.2em;padding-left: 0.2em;position: relative;}#sk-container-id-2 div.sk-item {position: relative;z-index: 1;}#sk-container-id-2 div.sk-parallel {display: flex;align-items: stretch;justify-content: center;background-color: white;position: relative;}#sk-container-id-2 div.sk-item::before, #sk-container-id-2 div.sk-parallel-item::before {content: \"\";position: absolute;border-left: 1px solid gray;box-sizing: border-box;top: 0;bottom: 0;left: 50%;z-index: -1;}#sk-container-id-2 div.sk-parallel-item {display: flex;flex-direction: column;z-index: 1;position: relative;background-color: white;}#sk-container-id-2 div.sk-parallel-item:first-child::after {align-self: flex-end;width: 50%;}#sk-container-id-2 div.sk-parallel-item:last-child::after {align-self: flex-start;width: 50%;}#sk-container-id-2 div.sk-parallel-item:only-child::after {width: 0;}#sk-container-id-2 div.sk-dashed-wrapped {border: 1px dashed gray;margin: 0 0.4em 0.5em 0.4em;box-sizing: border-box;padding-bottom: 0.4em;background-color: white;}#sk-container-id-2 div.sk-label label {font-family: monospace;font-weight: bold;display: inline-block;line-height: 1.2em;}#sk-container-id-2 div.sk-label-container {text-align: center;}#sk-container-id-2 div.sk-container {/* jupyter's `normalize.less` sets `[hidden] { display: none; }` but bootstrap.min.css set `[hidden] { display: none !important; }` so we also need the `!important` here to be able to override the default hidden behavior on the sphinx rendered scikit-learn.org. See: https://github.com/scikit-learn/scikit-learn/issues/21755 */display: inline-block !important;position: relative;}#sk-container-id-2 div.sk-text-repr-fallback {display: none;}</style><div id=\"sk-container-id-2\" class=\"sk-top-container\"><div class=\"sk-text-repr-fallback\"><pre>Pipeline(steps=[(&#x27;preprocess&#x27;,\n",
       "                 ColumnTransformer(transformers=[(&#x27;numerical&#x27;,\n",
       "                                                  Pipeline(steps=[(&#x27;scaler&#x27;,\n",
       "                                                                   StandardScaler())]),\n",
       "                                                  [&#x27;offer_expiration(hrs)&#x27;,\n",
       "                                                   &#x27;income_range&#x27;, &#x27;age&#x27;,\n",
       "                                                   &#x27;western/chinese&#x27;,\n",
       "                                                   &#x27;restuarant_same_direction_house&#x27;,\n",
       "                                                   &#x27;cooks_regularly&#x27;,\n",
       "                                                   &#x27;is_foodie&#x27;, &#x27;children&#x27;,\n",
       "                                                   &#x27;visit_restaurant_with_rating_(avg)&#x27;,\n",
       "                                                   &#x27;temperature&#x27;, &#x27;travel_time&#x27;,\n",
       "                                                   &#x27;prefer_home_food&#x27;]),\n",
       "                                                 (&#x27;categorical&#x27;,\n",
       "                                                  Pipeline(steps=[(&#x27;encoder&#x27;,\n",
       "                                                                   OneHotEncoder())]),\n",
       "                                                  [&#x27;shaadi&#x27;, &#x27;restaurant_type&#x27;,\n",
       "                                                   &#x27;gender&#x27;, &#x27;customer_type&#x27;,\n",
       "                                                   &#x27;education&#x27;, &#x27;industry&#x27;,\n",
       "                                                   &#x27;climate&#x27;,\n",
       "                                                   &#x27;drop_location&#x27;])])),\n",
       "                (&#x27;model&#x27;, LogisticRegression(max_iter=10000, n_jobs=-1))])</pre><b>In a Jupyter environment, please rerun this cell to show the HTML representation or trust the notebook. <br />On GitHub, the HTML representation is unable to render, please try loading this page with nbviewer.org.</b></div><div class=\"sk-container\" hidden><div class=\"sk-item sk-dashed-wrapped\"><div class=\"sk-label-container\"><div class=\"sk-label sk-toggleable\"><input class=\"sk-toggleable__control sk-hidden--visually\" id=\"sk-estimator-id-8\" type=\"checkbox\" ><label for=\"sk-estimator-id-8\" class=\"sk-toggleable__label sk-toggleable__label-arrow\">Pipeline</label><div class=\"sk-toggleable__content\"><pre>Pipeline(steps=[(&#x27;preprocess&#x27;,\n",
       "                 ColumnTransformer(transformers=[(&#x27;numerical&#x27;,\n",
       "                                                  Pipeline(steps=[(&#x27;scaler&#x27;,\n",
       "                                                                   StandardScaler())]),\n",
       "                                                  [&#x27;offer_expiration(hrs)&#x27;,\n",
       "                                                   &#x27;income_range&#x27;, &#x27;age&#x27;,\n",
       "                                                   &#x27;western/chinese&#x27;,\n",
       "                                                   &#x27;restuarant_same_direction_house&#x27;,\n",
       "                                                   &#x27;cooks_regularly&#x27;,\n",
       "                                                   &#x27;is_foodie&#x27;, &#x27;children&#x27;,\n",
       "                                                   &#x27;visit_restaurant_with_rating_(avg)&#x27;,\n",
       "                                                   &#x27;temperature&#x27;, &#x27;travel_time&#x27;,\n",
       "                                                   &#x27;prefer_home_food&#x27;]),\n",
       "                                                 (&#x27;categorical&#x27;,\n",
       "                                                  Pipeline(steps=[(&#x27;encoder&#x27;,\n",
       "                                                                   OneHotEncoder())]),\n",
       "                                                  [&#x27;shaadi&#x27;, &#x27;restaurant_type&#x27;,\n",
       "                                                   &#x27;gender&#x27;, &#x27;customer_type&#x27;,\n",
       "                                                   &#x27;education&#x27;, &#x27;industry&#x27;,\n",
       "                                                   &#x27;climate&#x27;,\n",
       "                                                   &#x27;drop_location&#x27;])])),\n",
       "                (&#x27;model&#x27;, LogisticRegression(max_iter=10000, n_jobs=-1))])</pre></div></div></div><div class=\"sk-serial\"><div class=\"sk-item sk-dashed-wrapped\"><div class=\"sk-label-container\"><div class=\"sk-label sk-toggleable\"><input class=\"sk-toggleable__control sk-hidden--visually\" id=\"sk-estimator-id-9\" type=\"checkbox\" ><label for=\"sk-estimator-id-9\" class=\"sk-toggleable__label sk-toggleable__label-arrow\">preprocess: ColumnTransformer</label><div class=\"sk-toggleable__content\"><pre>ColumnTransformer(transformers=[(&#x27;numerical&#x27;,\n",
       "                                 Pipeline(steps=[(&#x27;scaler&#x27;, StandardScaler())]),\n",
       "                                 [&#x27;offer_expiration(hrs)&#x27;, &#x27;income_range&#x27;,\n",
       "                                  &#x27;age&#x27;, &#x27;western/chinese&#x27;,\n",
       "                                  &#x27;restuarant_same_direction_house&#x27;,\n",
       "                                  &#x27;cooks_regularly&#x27;, &#x27;is_foodie&#x27;, &#x27;children&#x27;,\n",
       "                                  &#x27;visit_restaurant_with_rating_(avg)&#x27;,\n",
       "                                  &#x27;temperature&#x27;, &#x27;travel_time&#x27;,\n",
       "                                  &#x27;prefer_home_food&#x27;]),\n",
       "                                (&#x27;categorical&#x27;,\n",
       "                                 Pipeline(steps=[(&#x27;encoder&#x27;, OneHotEncoder())]),\n",
       "                                 [&#x27;shaadi&#x27;, &#x27;restaurant_type&#x27;, &#x27;gender&#x27;,\n",
       "                                  &#x27;customer_type&#x27;, &#x27;education&#x27;, &#x27;industry&#x27;,\n",
       "                                  &#x27;climate&#x27;, &#x27;drop_location&#x27;])])</pre></div></div></div><div class=\"sk-parallel\"><div class=\"sk-parallel-item\"><div class=\"sk-item\"><div class=\"sk-label-container\"><div class=\"sk-label sk-toggleable\"><input class=\"sk-toggleable__control sk-hidden--visually\" id=\"sk-estimator-id-10\" type=\"checkbox\" ><label for=\"sk-estimator-id-10\" class=\"sk-toggleable__label sk-toggleable__label-arrow\">numerical</label><div class=\"sk-toggleable__content\"><pre>[&#x27;offer_expiration(hrs)&#x27;, &#x27;income_range&#x27;, &#x27;age&#x27;, &#x27;western/chinese&#x27;, &#x27;restuarant_same_direction_house&#x27;, &#x27;cooks_regularly&#x27;, &#x27;is_foodie&#x27;, &#x27;children&#x27;, &#x27;visit_restaurant_with_rating_(avg)&#x27;, &#x27;temperature&#x27;, &#x27;travel_time&#x27;, &#x27;prefer_home_food&#x27;]</pre></div></div></div><div class=\"sk-serial\"><div class=\"sk-item\"><div class=\"sk-serial\"><div class=\"sk-item\"><div class=\"sk-estimator sk-toggleable\"><input class=\"sk-toggleable__control sk-hidden--visually\" id=\"sk-estimator-id-11\" type=\"checkbox\" ><label for=\"sk-estimator-id-11\" class=\"sk-toggleable__label sk-toggleable__label-arrow\">StandardScaler</label><div class=\"sk-toggleable__content\"><pre>StandardScaler()</pre></div></div></div></div></div></div></div></div><div class=\"sk-parallel-item\"><div class=\"sk-item\"><div class=\"sk-label-container\"><div class=\"sk-label sk-toggleable\"><input class=\"sk-toggleable__control sk-hidden--visually\" id=\"sk-estimator-id-12\" type=\"checkbox\" ><label for=\"sk-estimator-id-12\" class=\"sk-toggleable__label sk-toggleable__label-arrow\">categorical</label><div class=\"sk-toggleable__content\"><pre>[&#x27;shaadi&#x27;, &#x27;restaurant_type&#x27;, &#x27;gender&#x27;, &#x27;customer_type&#x27;, &#x27;education&#x27;, &#x27;industry&#x27;, &#x27;climate&#x27;, &#x27;drop_location&#x27;]</pre></div></div></div><div class=\"sk-serial\"><div class=\"sk-item\"><div class=\"sk-serial\"><div class=\"sk-item\"><div class=\"sk-estimator sk-toggleable\"><input class=\"sk-toggleable__control sk-hidden--visually\" id=\"sk-estimator-id-13\" type=\"checkbox\" ><label for=\"sk-estimator-id-13\" class=\"sk-toggleable__label sk-toggleable__label-arrow\">OneHotEncoder</label><div class=\"sk-toggleable__content\"><pre>OneHotEncoder()</pre></div></div></div></div></div></div></div></div></div></div><div class=\"sk-item\"><div class=\"sk-estimator sk-toggleable\"><input class=\"sk-toggleable__control sk-hidden--visually\" id=\"sk-estimator-id-14\" type=\"checkbox\" ><label for=\"sk-estimator-id-14\" class=\"sk-toggleable__label sk-toggleable__label-arrow\">LogisticRegression</label><div class=\"sk-toggleable__content\"><pre>LogisticRegression(max_iter=10000, n_jobs=-1)</pre></div></div></div></div></div></div></div>"
      ],
      "text/plain": [
       "Pipeline(steps=[('preprocess',\n",
       "                 ColumnTransformer(transformers=[('numerical',\n",
       "                                                  Pipeline(steps=[('scaler',\n",
       "                                                                   StandardScaler())]),\n",
       "                                                  ['offer_expiration(hrs)',\n",
       "                                                   'income_range', 'age',\n",
       "                                                   'western/chinese',\n",
       "                                                   'restuarant_same_direction_house',\n",
       "                                                   'cooks_regularly',\n",
       "                                                   'is_foodie', 'children',\n",
       "                                                   'visit_restaurant_with_rating_(avg)',\n",
       "                                                   'temperature', 'travel_time',\n",
       "                                                   'prefer_home_food']),\n",
       "                                                 ('categorical',\n",
       "                                                  Pipeline(steps=[('encoder',\n",
       "                                                                   OneHotEncoder())]),\n",
       "                                                  ['shaadi', 'restaurant_type',\n",
       "                                                   'gender', 'customer_type',\n",
       "                                                   'education', 'industry',\n",
       "                                                   'climate',\n",
       "                                                   'drop_location'])])),\n",
       "                ('model', LogisticRegression(max_iter=10000, n_jobs=-1))])"
      ]
     },
     "execution_count": 14,
     "metadata": {},
     "output_type": "execute_result"
    }
   ],
   "source": [
    "pipe.fit(X_train,y_train)"
   ]
  },
  {
   "cell_type": "code",
   "execution_count": 15,
   "id": "e4a9aac6-6890-4807-a0e9-251331bb1f7e",
   "metadata": {},
   "outputs": [
    {
     "data": {
      "text/plain": [
       "0.6063819044733919"
      ]
     },
     "execution_count": 15,
     "metadata": {},
     "output_type": "execute_result"
    }
   ],
   "source": [
    "pipe.score(X_train,y_train)"
   ]
  },
  {
   "cell_type": "code",
   "execution_count": 16,
   "id": "607dd955-e314-4c4c-95fd-1c2c02e3923d",
   "metadata": {},
   "outputs": [],
   "source": [
    "y_test=lb.transform(y_test)"
   ]
  },
  {
   "cell_type": "code",
   "execution_count": 17,
   "id": "1ed18325-8a74-429e-a834-3abfa3d077f9",
   "metadata": {},
   "outputs": [
    {
     "data": {
      "text/plain": [
       "0.595718901453958"
      ]
     },
     "execution_count": 17,
     "metadata": {},
     "output_type": "execute_result"
    }
   ],
   "source": [
    "pipe.score(X_test,y_test)"
   ]
  },
  {
   "cell_type": "code",
   "execution_count": 18,
   "id": "f1ae5dc1-a2b6-421f-bfa6-9dfd336e7512",
   "metadata": {},
   "outputs": [],
   "source": [
    "y_pred=pipe.predict(X_test)"
   ]
  },
  {
   "cell_type": "code",
   "execution_count": 19,
   "id": "56745be9-ab14-4b9d-9c95-e8e6cc233237",
   "metadata": {},
   "outputs": [],
   "source": [
    "y_pred=lb.inverse_transform(y_pred)"
   ]
  },
  {
   "cell_type": "code",
   "execution_count": 20,
   "id": "40b94279-55fa-4d34-ba4b-cb43fe77dc99",
   "metadata": {},
   "outputs": [
    {
     "data": {
      "text/plain": [
       "array(['Yes', 'Yes', 'No', ..., 'Yes', 'Yes', 'No'], dtype=object)"
      ]
     },
     "execution_count": 20,
     "metadata": {},
     "output_type": "execute_result"
    }
   ],
   "source": [
    "y_pred"
   ]
  },
  {
   "cell_type": "code",
   "execution_count": 21,
   "id": "892aee0b-d58b-468b-9e4f-5db43167d353",
   "metadata": {},
   "outputs": [
    {
     "data": {
      "text/plain": [
       "array(['Yes', 'Yes', 'Yes', ..., 'No', 'No', 'Yes'], dtype=object)"
      ]
     },
     "execution_count": 21,
     "metadata": {},
     "output_type": "execute_result"
    }
   ],
   "source": [
    "ans=pd.read_csv('test1.csv')\n",
    "out=pipe.predict(ans)\n",
    "out=lb.inverse_transform(out)\n",
    "out"
   ]
  },
  {
   "cell_type": "code",
   "execution_count": 22,
   "id": "3411f77a-79bc-40ed-af18-6cfeab9ec8f7",
   "metadata": {},
   "outputs": [],
   "source": [
    "submission=pd.DataFrame(columns=['id','Offer Accepted'])\n",
    "submission['id']=[i for i in range(len(ans))]\n",
    "submission['Offer Accepted']=out"
   ]
  },
  {
   "cell_type": "code",
   "execution_count": 23,
   "id": "65a2ac5a-2390-4099-9a1d-75856681c5b8",
   "metadata": {},
   "outputs": [
    {
     "data": {
      "text/plain": [
       "<AxesSubplot: xlabel='Offer Accepted', ylabel='count'>"
      ]
     },
     "execution_count": 23,
     "metadata": {},
     "output_type": "execute_result"
    },
    {
     "data": {
      "image/png": "[encoded data removed]",
      "text/plain": [
       "<Figure size 640x480 with 1 Axes>"
      ]
     },
     "metadata": {},
     "output_type": "display_data"
    }
   ],
   "source": [
    "sns.countplot(x=submission['Offer Accepted'])"
   ]
  },
  {
   "cell_type": "code",
   "execution_count": 24,
   "id": "c25c5f3d-0815-4728-b559-e9770a4173a2",
   "metadata": {},
   "outputs": [
    {
     "data": {
      "text/html": [
       "<div>\n",
       "<style scoped>\n",
       "    .dataframe tbody tr th:only-of-type {\n",
       "        vertical-align: middle;\n",
       "    }\n",
       "\n",
       "    .dataframe tbody tr th {\n",
       "        vertical-align: top;\n",
       "    }\n",
       "\n",
       "    .dataframe thead th {\n",
       "        text-align: right;\n",
       "    }\n",
       "</style>\n",
       "<table border=\"1\" class=\"dataframe\">\n",
       "  <thead>\n",
       "    <tr style=\"text-align: right;\">\n",
       "      <th></th>\n",
       "      <th>id</th>\n",
       "      <th>Offer Accepted</th>\n",
       "    </tr>\n",
       "  </thead>\n",
       "  <tbody>\n",
       "    <tr>\n",
       "      <th>0</th>\n",
       "      <td>0</td>\n",
       "      <td>Yes</td>\n",
       "    </tr>\n",
       "    <tr>\n",
       "      <th>1</th>\n",
       "      <td>1</td>\n",
       "      <td>Yes</td>\n",
       "    </tr>\n",
       "    <tr>\n",
       "      <th>2</th>\n",
       "      <td>2</td>\n",
       "      <td>Yes</td>\n",
       "    </tr>\n",
       "    <tr>\n",
       "      <th>3</th>\n",
       "      <td>3</td>\n",
       "      <td>No</td>\n",
       "    </tr>\n",
       "    <tr>\n",
       "      <th>4</th>\n",
       "      <td>4</td>\n",
       "      <td>Yes</td>\n",
       "    </tr>\n",
       "    <tr>\n",
       "      <th>...</th>\n",
       "      <td>...</td>\n",
       "      <td>...</td>\n",
       "    </tr>\n",
       "    <tr>\n",
       "      <th>5300</th>\n",
       "      <td>5300</td>\n",
       "      <td>Yes</td>\n",
       "    </tr>\n",
       "    <tr>\n",
       "      <th>5301</th>\n",
       "      <td>5301</td>\n",
       "      <td>Yes</td>\n",
       "    </tr>\n",
       "    <tr>\n",
       "      <th>5302</th>\n",
       "      <td>5302</td>\n",
       "      <td>No</td>\n",
       "    </tr>\n",
       "    <tr>\n",
       "      <th>5303</th>\n",
       "      <td>5303</td>\n",
       "      <td>No</td>\n",
       "    </tr>\n",
       "    <tr>\n",
       "      <th>5304</th>\n",
       "      <td>5304</td>\n",
       "      <td>Yes</td>\n",
       "    </tr>\n",
       "  </tbody>\n",
       "</table>\n",
       "<p>5305 rows × 2 columns</p>\n",
       "</div>"
      ],
      "text/plain": [
       "        id Offer Accepted\n",
       "0        0            Yes\n",
       "1        1            Yes\n",
       "2        2            Yes\n",
       "3        3             No\n",
       "4        4            Yes\n",
       "...    ...            ...\n",
       "5300  5300            Yes\n",
       "5301  5301            Yes\n",
       "5302  5302             No\n",
       "5303  5303             No\n",
       "5304  5304            Yes\n",
       "\n",
       "[5305 rows x 2 columns]"
      ]
     },
     "execution_count": 24,
     "metadata": {},
     "output_type": "execute_result"
    }
   ],
   "source": [
    "submission.to_csv('submission.csv',index=False)"
   ]
  },
  {
   "cell_type": "code",
   "execution_count": 25,
   "id": "fe509491-e3c5-49d8-a0d3-afe34c2e124a",
   "metadata": {},
   "outputs": [],
   "source": [
    "# grid_params = {\n",
    "#     'model__penalty' : ['l1', 'l2', 'elasticnet', 'none'],\n",
    "#     'model__C': [0.001,0.01,0.1,1,10,100],\n",
    "#     'model__solver' : ['newton-cg', 'lbfgs', 'liblinear', 'sag', 'saga']\n",
    "# }"
   ]
  },
  {
   "cell_type": "code",
   "execution_count": 26,
   "id": "33d02cdf-2b34-473d-96d2-ae7e47e99df4",
   "metadata": {},
   "outputs": [],
   "source": [
    "# clf = HalvingGridSearchCV(estimator=pipe, param_grid=grid_params, cv=10, verbose=10 ,n_jobs=-1)\n",
    "# clf.fit(X_train, y_train)"
   ]
  },
  {
   "cell_type": "code",
   "execution_count": 27,
   "id": "6005ad31-de62-4b38-bdde-46da582d0ec1",
   "metadata": {},
   "outputs": [],
   "source": [
    "# clf.best_estimator_"
   ]
  },
  {
   "cell_type": "code",
   "execution_count": 28,
   "id": "73ad37de-c8d3-46dd-aa42-35d16ce0b065",
   "metadata": {},
   "outputs": [],
   "source": [
    "# clf.score(X_train,y_train)"
   ]
  },
  {
   "cell_type": "code",
   "execution_count": 29,
   "id": "8e23e5bf-8a06-416a-ad18-aae17ad51f4f",
   "metadata": {},
   "outputs": [],
   "source": [
    "# clf.score(X_test,y_test)"
   ]
  },
  {
   "cell_type": "code",
   "execution_count": null,
   "id": "bd6422b6-c7e3-49d0-b788-2f2a89d82549",
   "metadata": {},
   "outputs": [],
   "source": []
  }
 ],
 "metadata": {
  "kernelspec": {
   "display_name": "Python 3 (ipykernel)",
   "language": "python",
   "name": "python3"
  },
  "language_info": {
   "codemirror_mode": {
    "name": "ipython",
    "version": 3
   },
   "file_extension": ".py",
   "mimetype": "text/x-python",
   "name": "python",
   "nbconvert_exporter": "python",
   "pygments_lexer": "ipython3",
   "version": "3.8.10"
  }
 },
 "nbformat": 4,
 "nbformat_minor": 5
}
