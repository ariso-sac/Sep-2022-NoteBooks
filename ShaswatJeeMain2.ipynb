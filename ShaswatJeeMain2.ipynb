{
  "nbformat": 4,
  "nbformat_minor": 0,
  "metadata": {
    "colab": {
      "provenance": [],
      "include_colab_link": true
    },
    "kernelspec": {
      "display_name": "Python 3",
      "language": "python",
      "name": "python3"
    },
    "language_info": {
      "codemirror_mode": {
        "name": "ipython",
        "version": 3
      },
      "file_extension": ".py",
      "mimetype": "text/x-python",
      "name": "python",
      "nbconvert_exporter": "python",
      "pygments_lexer": "ipython3",
      "version": "3.7.7"
    }
  },
  "cells": [
    {
      "cell_type": "markdown",
      "metadata": {
        "id": "view-in-github",
        "colab_type": "text"
      },
      "source": [
        "<a href=\"https://colab.research.google.com/github/ariso-sac/Sep-2022-NoteBooks/blob/colab-week-2/ShaswatJeeMain2.ipynb\" target=\"_parent\"><img src=\"https://colab.research.google.com/assets/colab-badge.svg\" alt=\"Open In Colab\"/></a>"
      ]
    },
    {
      "cell_type": "markdown",
      "source": [
        "# Pull the Data"
      ],
      "metadata": {
        "id": "F_vDd3zI4dZ4"
      }
    },
    {
      "cell_type": "code",
      "source": [
        "from bs4 import BeautifulSoup\n",
        "import pandas as pd\n",
        "\n",
        "# Opening the html file\n",
        "HTMLFile = open(\"index.html\", \"r\")\n",
        "  \n",
        "# Reading the file\n",
        "index = HTMLFile.read()\n",
        "  \n",
        "# Creating a BeautifulSoup object and specifying the parser\n",
        "soup = BeautifulSoup(index, 'html.parser')\n",
        "\n",
        "tables = soup.find_all(\"table\", {\"class\": \"questionPnlTbl\"})\n",
        "\n",
        "qids=[]\n",
        "qans=[]\n",
        "q_Answer_Id=[]\n",
        "qstatus=[]\n",
        "\n",
        "def ans_id(data):\n",
        "  ch=data[-1]\n",
        "  if ch=='1':\n",
        "    return data[5]\n",
        "  if ch=='2':\n",
        "    return data[7]\n",
        "  if ch=='3':\n",
        "    return data[9]\n",
        "  if ch=='4':\n",
        "    return data[11]\n",
        "\n",
        "for table in tables:\n",
        "  data=[]\n",
        "  flag=False\n",
        "  tops = table.find(\"table\", {\"class\": \"menu-tbl\"})\n",
        "  cols = tops.find_all('td')\n",
        "  cols = [ele.text.strip() for ele in cols]\n",
        "  data.append([ele for ele in cols if ele])\n",
        "  data=data[0]\n",
        "  if data[1]=='SA':\n",
        "    flag=True\n",
        "  else:\n",
        "      qids.append(data[3])\n",
        "      qans.append(data[-1])\n",
        "      qstatus.append(data[13])\n",
        "      q_Answer_Id.append(ans_id(data))\n",
        "      # print(data)\n",
        "  if flag:\n",
        "    # print(data)\n",
        "    store=[]\n",
        "    tab = table.find(\"table\", {\"class\": \"questionRowTbl\"})\n",
        "    cols = tab.find_all('td',{'class':\"bold\"})\n",
        "    val=cols[-1]\n",
        "    val=val.text.strip()\n",
        "    qids.append(data[3])\n",
        "    qans.append(val)\n",
        "    qstatus.append(data[5])\n",
        "    q_Answer_Id.append('NA')\n",
        "\n",
        "df=pd.DataFrame()\n",
        "\n",
        "df['Question_IDs']=qids\n",
        "df['Question_ANs']=qans\n",
        "df['Question_ANSWER_Id']=q_Answer_Id\n",
        "df['Question_Status']=qstatus\n",
        "\n",
        "df.to_csv('marks.csv',index=False)\n"
      ],
      "metadata": {
        "id": "0GkdRQvsZssz"
      },
      "execution_count": 1,
      "outputs": []
    },
    {
      "cell_type": "code",
      "source": [
        "from bs4 import BeautifulSoup\n",
        "import pandas as pd\n",
        "\n",
        "# Opening the html file\n",
        "HTMLFile = open(\"claim.html\", \"r\")\n",
        "  \n",
        "# Reading the file\n",
        "index = HTMLFile.read()\n",
        "  \n",
        "# Creating a BeautifulSoup object and specifying the parser\n",
        "soup = BeautifulSoup(index, 'html.parser')\n",
        "\n",
        "tops = soup.find(\"table\", {\"class\": \"table table-bordered table-condensed\"})\n",
        "\n",
        "rows=tops.find_all(\"tr\")\n",
        "\n",
        "len(rows)\n",
        "\n",
        "q_section=[]\n",
        "q_type=[]\n",
        "q_ids=[]\n",
        "q_correct=[]\n",
        "\n",
        "for row in rows:\n",
        "    data=[]\n",
        "    cols = row.find_all('td')\n",
        "    cols = [ele.text.strip() for ele in cols]\n",
        "    data.append([ele for ele in cols if ele]) # Get rid of empty values\n",
        "    if len(data[0])>1 and data[0][0][0]=='B':\n",
        "      # print(data[0][0])\n",
        "      q_section.append(data[0][0])\n",
        "      # q_type.append(data[0][1])\n",
        "      q_ids.append(data[0][1])\n",
        "      q_correct.append(data[0][2])\n",
        "\n",
        "df=pd.DataFrame()\n",
        "\n",
        "df['Question_IDs']=q_ids\n",
        "df['Question_Section']=q_section\n",
        "df['Question_type']= \"Objective\" if len(q_correct) > 5 else \"NAT\"\n",
        "df['Question_Correct_Answer']=q_correct\n",
        "\n",
        "df.to_csv('correct.csv',index=False)"
      ],
      "metadata": {
        "id": "0koV8kS-Zsf8"
      },
      "execution_count": 2,
      "outputs": []
    },
    {
      "cell_type": "markdown",
      "source": [
        "# Import the Data and Library"
      ],
      "metadata": {
        "id": "7LGLikX34lYA"
      }
    },
    {
      "cell_type": "code",
      "source": [
        "import pandas as pd\n",
        "import seaborn as sns\n",
        "import matplotlib.pyplot as plt"
      ],
      "metadata": {
        "id": "8V5oCHnUXgWJ"
      },
      "execution_count": 3,
      "outputs": []
    },
    {
      "cell_type": "code",
      "source": [
        "resp=pd.read_csv('marks.csv')\n",
        "correct=pd.read_csv('correct.csv')"
      ],
      "metadata": {
        "id": "mUhKm0qwXgTM"
      },
      "execution_count": 4,
      "outputs": []
    },
    {
      "cell_type": "code",
      "source": [
        "resp = resp.astype(str)\n",
        "correct = correct.astype(str)"
      ],
      "metadata": {
        "id": "TnZUQfFkqQVD"
      },
      "execution_count": 5,
      "outputs": []
    },
    {
      "cell_type": "code",
      "source": [
        "resp.head()"
      ],
      "metadata": {
        "colab": {
          "base_uri": "https://localhost:8080/",
          "height": 0
        },
        "id": "ensZRCgVXgQM",
        "outputId": "a12a57a6-289d-4de1-927a-8f428be78b8e"
      },
      "execution_count": 6,
      "outputs": [
        {
          "output_type": "execute_result",
          "data": {
            "text/plain": [
              "  Question_IDs Question_ANs Question_ANSWER_Id Question_Status\n",
              "0   3666947185           --                nan    Not Answered\n",
              "1   3666947183            3      36669422604.0        Answered\n",
              "2   3666947194           --                nan    Not Answered\n",
              "3   3666947195            4      36669422649.0        Answered\n",
              "4   3666947189            2      36669422627.0        Answered"
            ],
            "text/html": [
              "\n",
              "  <div id=\"df-0679a970-3324-407f-8adb-0fc441f6a3c5\">\n",
              "    <div class=\"colab-df-container\">\n",
              "      <div>\n",
              "<style scoped>\n",
              "    .dataframe tbody tr th:only-of-type {\n",
              "        vertical-align: middle;\n",
              "    }\n",
              "\n",
              "    .dataframe tbody tr th {\n",
              "        vertical-align: top;\n",
              "    }\n",
              "\n",
              "    .dataframe thead th {\n",
              "        text-align: right;\n",
              "    }\n",
              "</style>\n",
              "<table border=\"1\" class=\"dataframe\">\n",
              "  <thead>\n",
              "    <tr style=\"text-align: right;\">\n",
              "      <th></th>\n",
              "      <th>Question_IDs</th>\n",
              "      <th>Question_ANs</th>\n",
              "      <th>Question_ANSWER_Id</th>\n",
              "      <th>Question_Status</th>\n",
              "    </tr>\n",
              "  </thead>\n",
              "  <tbody>\n",
              "    <tr>\n",
              "      <th>0</th>\n",
              "      <td>3666947185</td>\n",
              "      <td>--</td>\n",
              "      <td>nan</td>\n",
              "      <td>Not Answered</td>\n",
              "    </tr>\n",
              "    <tr>\n",
              "      <th>1</th>\n",
              "      <td>3666947183</td>\n",
              "      <td>3</td>\n",
              "      <td>36669422604.0</td>\n",
              "      <td>Answered</td>\n",
              "    </tr>\n",
              "    <tr>\n",
              "      <th>2</th>\n",
              "      <td>3666947194</td>\n",
              "      <td>--</td>\n",
              "      <td>nan</td>\n",
              "      <td>Not Answered</td>\n",
              "    </tr>\n",
              "    <tr>\n",
              "      <th>3</th>\n",
              "      <td>3666947195</td>\n",
              "      <td>4</td>\n",
              "      <td>36669422649.0</td>\n",
              "      <td>Answered</td>\n",
              "    </tr>\n",
              "    <tr>\n",
              "      <th>4</th>\n",
              "      <td>3666947189</td>\n",
              "      <td>2</td>\n",
              "      <td>36669422627.0</td>\n",
              "      <td>Answered</td>\n",
              "    </tr>\n",
              "  </tbody>\n",
              "</table>\n",
              "</div>\n",
              "      <button class=\"colab-df-convert\" onclick=\"convertToInteractive('df-0679a970-3324-407f-8adb-0fc441f6a3c5')\"\n",
              "              title=\"Convert this dataframe to an interactive table.\"\n",
              "              style=\"display:none;\">\n",
              "        \n",
              "  <svg xmlns=\"http://www.w3.org/2000/svg\" height=\"24px\"viewBox=\"0 0 24 24\"\n",
              "       width=\"24px\">\n",
              "    <path d=\"M0 0h24v24H0V0z\" fill=\"none\"/>\n",
              "    <path d=\"M18.56 5.44l.94 2.06.94-2.06 2.06-.94-2.06-.94-.94-2.06-.94 2.06-2.06.94zm-11 1L8.5 8.5l.94-2.06 2.06-.94-2.06-.94L8.5 2.5l-.94 2.06-2.06.94zm10 10l.94 2.06.94-2.06 2.06-.94-2.06-.94-.94-2.06-.94 2.06-2.06.94z\"/><path d=\"M17.41 7.96l-1.37-1.37c-.4-.4-.92-.59-1.43-.59-.52 0-1.04.2-1.43.59L10.3 9.45l-7.72 7.72c-.78.78-.78 2.05 0 2.83L4 21.41c.39.39.9.59 1.41.59.51 0 1.02-.2 1.41-.59l7.78-7.78 2.81-2.81c.8-.78.8-2.07 0-2.86zM5.41 20L4 18.59l7.72-7.72 1.47 1.35L5.41 20z\"/>\n",
              "  </svg>\n",
              "      </button>\n",
              "      \n",
              "  <style>\n",
              "    .colab-df-container {\n",
              "      display:flex;\n",
              "      flex-wrap:wrap;\n",
              "      gap: 12px;\n",
              "    }\n",
              "\n",
              "    .colab-df-convert {\n",
              "      background-color: #E8F0FE;\n",
              "      border: none;\n",
              "      border-radius: 50%;\n",
              "      cursor: pointer;\n",
              "      display: none;\n",
              "      fill: #1967D2;\n",
              "      height: 32px;\n",
              "      padding: 0 0 0 0;\n",
              "      width: 32px;\n",
              "    }\n",
              "\n",
              "    .colab-df-convert:hover {\n",
              "      background-color: #E2EBFA;\n",
              "      box-shadow: 0px 1px 2px rgba(60, 64, 67, 0.3), 0px 1px 3px 1px rgba(60, 64, 67, 0.15);\n",
              "      fill: #174EA6;\n",
              "    }\n",
              "\n",
              "    [theme=dark] .colab-df-convert {\n",
              "      background-color: #3B4455;\n",
              "      fill: #D2E3FC;\n",
              "    }\n",
              "\n",
              "    [theme=dark] .colab-df-convert:hover {\n",
              "      background-color: #434B5C;\n",
              "      box-shadow: 0px 1px 3px 1px rgba(0, 0, 0, 0.15);\n",
              "      filter: drop-shadow(0px 1px 2px rgba(0, 0, 0, 0.3));\n",
              "      fill: #FFFFFF;\n",
              "    }\n",
              "  </style>\n",
              "\n",
              "      <script>\n",
              "        const buttonEl =\n",
              "          document.querySelector('#df-0679a970-3324-407f-8adb-0fc441f6a3c5 button.colab-df-convert');\n",
              "        buttonEl.style.display =\n",
              "          google.colab.kernel.accessAllowed ? 'block' : 'none';\n",
              "\n",
              "        async function convertToInteractive(key) {\n",
              "          const element = document.querySelector('#df-0679a970-3324-407f-8adb-0fc441f6a3c5');\n",
              "          const dataTable =\n",
              "            await google.colab.kernel.invokeFunction('convertToInteractive',\n",
              "                                                     [key], {});\n",
              "          if (!dataTable) return;\n",
              "\n",
              "          const docLinkHtml = 'Like what you see? Visit the ' +\n",
              "            '<a target=\"_blank\" href=https://colab.research.google.com/notebooks/data_table.ipynb>data table notebook</a>'\n",
              "            + ' to learn more about interactive tables.';\n",
              "          element.innerHTML = '';\n",
              "          dataTable['output_type'] = 'display_data';\n",
              "          await google.colab.output.renderOutput(dataTable, element);\n",
              "          const docLink = document.createElement('div');\n",
              "          docLink.innerHTML = docLinkHtml;\n",
              "          element.appendChild(docLink);\n",
              "        }\n",
              "      </script>\n",
              "    </div>\n",
              "  </div>\n",
              "  "
            ]
          },
          "metadata": {},
          "execution_count": 6
        }
      ]
    },
    {
      "cell_type": "code",
      "source": [
        "correct.head()"
      ],
      "metadata": {
        "colab": {
          "base_uri": "https://localhost:8080/",
          "height": 0
        },
        "id": "MepTgSdPXgN4",
        "outputId": "7a3839b7-84de-4b22-922f-c4aba394f97c"
      },
      "execution_count": 7,
      "outputs": [
        {
          "output_type": "execute_result",
          "data": {
            "text/plain": [
              "  Question_IDs                 Question_Section Question_type  \\\n",
              "0   3666947183  B TECH - Mathematics  Section A     Objective   \n",
              "1   3666947184  B TECH - Mathematics  Section A     Objective   \n",
              "2   3666947185  B TECH - Mathematics  Section A     Objective   \n",
              "3   3666947186  B TECH - Mathematics  Section A     Objective   \n",
              "4   3666947187  B TECH - Mathematics  Section A     Objective   \n",
              "\n",
              "  Question_Correct_Answer  \n",
              "0             36669422604  \n",
              "1             36669422607  \n",
              "2             36669422610  \n",
              "3             36669422616  \n",
              "4             36669422619  "
            ],
            "text/html": [
              "\n",
              "  <div id=\"df-3f034231-f67a-4e7f-8825-bc271a31a8fb\">\n",
              "    <div class=\"colab-df-container\">\n",
              "      <div>\n",
              "<style scoped>\n",
              "    .dataframe tbody tr th:only-of-type {\n",
              "        vertical-align: middle;\n",
              "    }\n",
              "\n",
              "    .dataframe tbody tr th {\n",
              "        vertical-align: top;\n",
              "    }\n",
              "\n",
              "    .dataframe thead th {\n",
              "        text-align: right;\n",
              "    }\n",
              "</style>\n",
              "<table border=\"1\" class=\"dataframe\">\n",
              "  <thead>\n",
              "    <tr style=\"text-align: right;\">\n",
              "      <th></th>\n",
              "      <th>Question_IDs</th>\n",
              "      <th>Question_Section</th>\n",
              "      <th>Question_type</th>\n",
              "      <th>Question_Correct_Answer</th>\n",
              "    </tr>\n",
              "  </thead>\n",
              "  <tbody>\n",
              "    <tr>\n",
              "      <th>0</th>\n",
              "      <td>3666947183</td>\n",
              "      <td>B TECH - Mathematics  Section A</td>\n",
              "      <td>Objective</td>\n",
              "      <td>36669422604</td>\n",
              "    </tr>\n",
              "    <tr>\n",
              "      <th>1</th>\n",
              "      <td>3666947184</td>\n",
              "      <td>B TECH - Mathematics  Section A</td>\n",
              "      <td>Objective</td>\n",
              "      <td>36669422607</td>\n",
              "    </tr>\n",
              "    <tr>\n",
              "      <th>2</th>\n",
              "      <td>3666947185</td>\n",
              "      <td>B TECH - Mathematics  Section A</td>\n",
              "      <td>Objective</td>\n",
              "      <td>36669422610</td>\n",
              "    </tr>\n",
              "    <tr>\n",
              "      <th>3</th>\n",
              "      <td>3666947186</td>\n",
              "      <td>B TECH - Mathematics  Section A</td>\n",
              "      <td>Objective</td>\n",
              "      <td>36669422616</td>\n",
              "    </tr>\n",
              "    <tr>\n",
              "      <th>4</th>\n",
              "      <td>3666947187</td>\n",
              "      <td>B TECH - Mathematics  Section A</td>\n",
              "      <td>Objective</td>\n",
              "      <td>36669422619</td>\n",
              "    </tr>\n",
              "  </tbody>\n",
              "</table>\n",
              "</div>\n",
              "      <button class=\"colab-df-convert\" onclick=\"convertToInteractive('df-3f034231-f67a-4e7f-8825-bc271a31a8fb')\"\n",
              "              title=\"Convert this dataframe to an interactive table.\"\n",
              "              style=\"display:none;\">\n",
              "        \n",
              "  <svg xmlns=\"http://www.w3.org/2000/svg\" height=\"24px\"viewBox=\"0 0 24 24\"\n",
              "       width=\"24px\">\n",
              "    <path d=\"M0 0h24v24H0V0z\" fill=\"none\"/>\n",
              "    <path d=\"M18.56 5.44l.94 2.06.94-2.06 2.06-.94-2.06-.94-.94-2.06-.94 2.06-2.06.94zm-11 1L8.5 8.5l.94-2.06 2.06-.94-2.06-.94L8.5 2.5l-.94 2.06-2.06.94zm10 10l.94 2.06.94-2.06 2.06-.94-2.06-.94-.94-2.06-.94 2.06-2.06.94z\"/><path d=\"M17.41 7.96l-1.37-1.37c-.4-.4-.92-.59-1.43-.59-.52 0-1.04.2-1.43.59L10.3 9.45l-7.72 7.72c-.78.78-.78 2.05 0 2.83L4 21.41c.39.39.9.59 1.41.59.51 0 1.02-.2 1.41-.59l7.78-7.78 2.81-2.81c.8-.78.8-2.07 0-2.86zM5.41 20L4 18.59l7.72-7.72 1.47 1.35L5.41 20z\"/>\n",
              "  </svg>\n",
              "      </button>\n",
              "      \n",
              "  <style>\n",
              "    .colab-df-container {\n",
              "      display:flex;\n",
              "      flex-wrap:wrap;\n",
              "      gap: 12px;\n",
              "    }\n",
              "\n",
              "    .colab-df-convert {\n",
              "      background-color: #E8F0FE;\n",
              "      border: none;\n",
              "      border-radius: 50%;\n",
              "      cursor: pointer;\n",
              "      display: none;\n",
              "      fill: #1967D2;\n",
              "      height: 32px;\n",
              "      padding: 0 0 0 0;\n",
              "      width: 32px;\n",
              "    }\n",
              "\n",
              "    .colab-df-convert:hover {\n",
              "      background-color: #E2EBFA;\n",
              "      box-shadow: 0px 1px 2px rgba(60, 64, 67, 0.3), 0px 1px 3px 1px rgba(60, 64, 67, 0.15);\n",
              "      fill: #174EA6;\n",
              "    }\n",
              "\n",
              "    [theme=dark] .colab-df-convert {\n",
              "      background-color: #3B4455;\n",
              "      fill: #D2E3FC;\n",
              "    }\n",
              "\n",
              "    [theme=dark] .colab-df-convert:hover {\n",
              "      background-color: #434B5C;\n",
              "      box-shadow: 0px 1px 3px 1px rgba(0, 0, 0, 0.15);\n",
              "      filter: drop-shadow(0px 1px 2px rgba(0, 0, 0, 0.3));\n",
              "      fill: #FFFFFF;\n",
              "    }\n",
              "  </style>\n",
              "\n",
              "      <script>\n",
              "        const buttonEl =\n",
              "          document.querySelector('#df-3f034231-f67a-4e7f-8825-bc271a31a8fb button.colab-df-convert');\n",
              "        buttonEl.style.display =\n",
              "          google.colab.kernel.accessAllowed ? 'block' : 'none';\n",
              "\n",
              "        async function convertToInteractive(key) {\n",
              "          const element = document.querySelector('#df-3f034231-f67a-4e7f-8825-bc271a31a8fb');\n",
              "          const dataTable =\n",
              "            await google.colab.kernel.invokeFunction('convertToInteractive',\n",
              "                                                     [key], {});\n",
              "          if (!dataTable) return;\n",
              "\n",
              "          const docLinkHtml = 'Like what you see? Visit the ' +\n",
              "            '<a target=\"_blank\" href=https://colab.research.google.com/notebooks/data_table.ipynb>data table notebook</a>'\n",
              "            + ' to learn more about interactive tables.';\n",
              "          element.innerHTML = '';\n",
              "          dataTable['output_type'] = 'display_data';\n",
              "          await google.colab.output.renderOutput(dataTable, element);\n",
              "          const docLink = document.createElement('div');\n",
              "          docLink.innerHTML = docLinkHtml;\n",
              "          element.appendChild(docLink);\n",
              "        }\n",
              "      </script>\n",
              "    </div>\n",
              "  </div>\n",
              "  "
            ]
          },
          "metadata": {},
          "execution_count": 7
        }
      ]
    },
    {
      "cell_type": "markdown",
      "source": [
        "# Have a look and analyze"
      ],
      "metadata": {
        "id": "u5DKLAaV4w_5"
      }
    },
    {
      "cell_type": "code",
      "source": [
        "df = pd.merge(correct, resp, on=\"Question_IDs\")"
      ],
      "metadata": {
        "id": "ke_31sW1XgLP"
      },
      "execution_count": 8,
      "outputs": []
    },
    {
      "cell_type": "code",
      "source": [
        "df.head()"
      ],
      "metadata": {
        "colab": {
          "base_uri": "https://localhost:8080/",
          "height": 0
        },
        "id": "mL3Ido9fXgHe",
        "outputId": "78abb6c6-acba-48ba-c939-29592884e769"
      },
      "execution_count": 9,
      "outputs": [
        {
          "output_type": "execute_result",
          "data": {
            "text/plain": [
              "  Question_IDs                 Question_Section Question_type  \\\n",
              "0   3666947183  B TECH - Mathematics  Section A     Objective   \n",
              "1   3666947184  B TECH - Mathematics  Section A     Objective   \n",
              "2   3666947185  B TECH - Mathematics  Section A     Objective   \n",
              "3   3666947186  B TECH - Mathematics  Section A     Objective   \n",
              "4   3666947187  B TECH - Mathematics  Section A     Objective   \n",
              "\n",
              "  Question_Correct_Answer Question_ANs Question_ANSWER_Id  \\\n",
              "0             36669422604            3      36669422604.0   \n",
              "1             36669422607           --                nan   \n",
              "2             36669422610           --                nan   \n",
              "3             36669422616            3      36669422616.0   \n",
              "4             36669422619           --                nan   \n",
              "\n",
              "                       Question_Status  \n",
              "0                             Answered  \n",
              "1  Not Attempted and Marked For Review  \n",
              "2                         Not Answered  \n",
              "3                             Answered  \n",
              "4                         Not Answered  "
            ],
            "text/html": [
              "\n",
              "  <div id=\"df-e54ea9d1-ebbb-4325-b584-e4d2b0bb921e\">\n",
              "    <div class=\"colab-df-container\">\n",
              "      <div>\n",
              "<style scoped>\n",
              "    .dataframe tbody tr th:only-of-type {\n",
              "        vertical-align: middle;\n",
              "    }\n",
              "\n",
              "    .dataframe tbody tr th {\n",
              "        vertical-align: top;\n",
              "    }\n",
              "\n",
              "    .dataframe thead th {\n",
              "        text-align: right;\n",
              "    }\n",
              "</style>\n",
              "<table border=\"1\" class=\"dataframe\">\n",
              "  <thead>\n",
              "    <tr style=\"text-align: right;\">\n",
              "      <th></th>\n",
              "      <th>Question_IDs</th>\n",
              "      <th>Question_Section</th>\n",
              "      <th>Question_type</th>\n",
              "      <th>Question_Correct_Answer</th>\n",
              "      <th>Question_ANs</th>\n",
              "      <th>Question_ANSWER_Id</th>\n",
              "      <th>Question_Status</th>\n",
              "    </tr>\n",
              "  </thead>\n",
              "  <tbody>\n",
              "    <tr>\n",
              "      <th>0</th>\n",
              "      <td>3666947183</td>\n",
              "      <td>B TECH - Mathematics  Section A</td>\n",
              "      <td>Objective</td>\n",
              "      <td>36669422604</td>\n",
              "      <td>3</td>\n",
              "      <td>36669422604.0</td>\n",
              "      <td>Answered</td>\n",
              "    </tr>\n",
              "    <tr>\n",
              "      <th>1</th>\n",
              "      <td>3666947184</td>\n",
              "      <td>B TECH - Mathematics  Section A</td>\n",
              "      <td>Objective</td>\n",
              "      <td>36669422607</td>\n",
              "      <td>--</td>\n",
              "      <td>nan</td>\n",
              "      <td>Not Attempted and Marked For Review</td>\n",
              "    </tr>\n",
              "    <tr>\n",
              "      <th>2</th>\n",
              "      <td>3666947185</td>\n",
              "      <td>B TECH - Mathematics  Section A</td>\n",
              "      <td>Objective</td>\n",
              "      <td>36669422610</td>\n",
              "      <td>--</td>\n",
              "      <td>nan</td>\n",
              "      <td>Not Answered</td>\n",
              "    </tr>\n",
              "    <tr>\n",
              "      <th>3</th>\n",
              "      <td>3666947186</td>\n",
              "      <td>B TECH - Mathematics  Section A</td>\n",
              "      <td>Objective</td>\n",
              "      <td>36669422616</td>\n",
              "      <td>3</td>\n",
              "      <td>36669422616.0</td>\n",
              "      <td>Answered</td>\n",
              "    </tr>\n",
              "    <tr>\n",
              "      <th>4</th>\n",
              "      <td>3666947187</td>\n",
              "      <td>B TECH - Mathematics  Section A</td>\n",
              "      <td>Objective</td>\n",
              "      <td>36669422619</td>\n",
              "      <td>--</td>\n",
              "      <td>nan</td>\n",
              "      <td>Not Answered</td>\n",
              "    </tr>\n",
              "  </tbody>\n",
              "</table>\n",
              "</div>\n",
              "      <button class=\"colab-df-convert\" onclick=\"convertToInteractive('df-e54ea9d1-ebbb-4325-b584-e4d2b0bb921e')\"\n",
              "              title=\"Convert this dataframe to an interactive table.\"\n",
              "              style=\"display:none;\">\n",
              "        \n",
              "  <svg xmlns=\"http://www.w3.org/2000/svg\" height=\"24px\"viewBox=\"0 0 24 24\"\n",
              "       width=\"24px\">\n",
              "    <path d=\"M0 0h24v24H0V0z\" fill=\"none\"/>\n",
              "    <path d=\"M18.56 5.44l.94 2.06.94-2.06 2.06-.94-2.06-.94-.94-2.06-.94 2.06-2.06.94zm-11 1L8.5 8.5l.94-2.06 2.06-.94-2.06-.94L8.5 2.5l-.94 2.06-2.06.94zm10 10l.94 2.06.94-2.06 2.06-.94-2.06-.94-.94-2.06-.94 2.06-2.06.94z\"/><path d=\"M17.41 7.96l-1.37-1.37c-.4-.4-.92-.59-1.43-.59-.52 0-1.04.2-1.43.59L10.3 9.45l-7.72 7.72c-.78.78-.78 2.05 0 2.83L4 21.41c.39.39.9.59 1.41.59.51 0 1.02-.2 1.41-.59l7.78-7.78 2.81-2.81c.8-.78.8-2.07 0-2.86zM5.41 20L4 18.59l7.72-7.72 1.47 1.35L5.41 20z\"/>\n",
              "  </svg>\n",
              "      </button>\n",
              "      \n",
              "  <style>\n",
              "    .colab-df-container {\n",
              "      display:flex;\n",
              "      flex-wrap:wrap;\n",
              "      gap: 12px;\n",
              "    }\n",
              "\n",
              "    .colab-df-convert {\n",
              "      background-color: #E8F0FE;\n",
              "      border: none;\n",
              "      border-radius: 50%;\n",
              "      cursor: pointer;\n",
              "      display: none;\n",
              "      fill: #1967D2;\n",
              "      height: 32px;\n",
              "      padding: 0 0 0 0;\n",
              "      width: 32px;\n",
              "    }\n",
              "\n",
              "    .colab-df-convert:hover {\n",
              "      background-color: #E2EBFA;\n",
              "      box-shadow: 0px 1px 2px rgba(60, 64, 67, 0.3), 0px 1px 3px 1px rgba(60, 64, 67, 0.15);\n",
              "      fill: #174EA6;\n",
              "    }\n",
              "\n",
              "    [theme=dark] .colab-df-convert {\n",
              "      background-color: #3B4455;\n",
              "      fill: #D2E3FC;\n",
              "    }\n",
              "\n",
              "    [theme=dark] .colab-df-convert:hover {\n",
              "      background-color: #434B5C;\n",
              "      box-shadow: 0px 1px 3px 1px rgba(0, 0, 0, 0.15);\n",
              "      filter: drop-shadow(0px 1px 2px rgba(0, 0, 0, 0.3));\n",
              "      fill: #FFFFFF;\n",
              "    }\n",
              "  </style>\n",
              "\n",
              "      <script>\n",
              "        const buttonEl =\n",
              "          document.querySelector('#df-e54ea9d1-ebbb-4325-b584-e4d2b0bb921e button.colab-df-convert');\n",
              "        buttonEl.style.display =\n",
              "          google.colab.kernel.accessAllowed ? 'block' : 'none';\n",
              "\n",
              "        async function convertToInteractive(key) {\n",
              "          const element = document.querySelector('#df-e54ea9d1-ebbb-4325-b584-e4d2b0bb921e');\n",
              "          const dataTable =\n",
              "            await google.colab.kernel.invokeFunction('convertToInteractive',\n",
              "                                                     [key], {});\n",
              "          if (!dataTable) return;\n",
              "\n",
              "          const docLinkHtml = 'Like what you see? Visit the ' +\n",
              "            '<a target=\"_blank\" href=https://colab.research.google.com/notebooks/data_table.ipynb>data table notebook</a>'\n",
              "            + ' to learn more about interactive tables.';\n",
              "          element.innerHTML = '';\n",
              "          dataTable['output_type'] = 'display_data';\n",
              "          await google.colab.output.renderOutput(dataTable, element);\n",
              "          const docLink = document.createElement('div');\n",
              "          docLink.innerHTML = docLinkHtml;\n",
              "          element.appendChild(docLink);\n",
              "        }\n",
              "      </script>\n",
              "    </div>\n",
              "  </div>\n",
              "  "
            ]
          },
          "metadata": {},
          "execution_count": 9
        }
      ]
    },
    {
      "cell_type": "code",
      "source": [
        "df['Question_Status'].value_counts()"
      ],
      "metadata": {
        "colab": {
          "base_uri": "https://localhost:8080/"
        },
        "id": "Y-JMkCbFmkT3",
        "outputId": "962a8dc8-9217-4e17-de4e-10c06c2414da"
      },
      "execution_count": 10,
      "outputs": [
        {
          "output_type": "execute_result",
          "data": {
            "text/plain": [
              "Answered                               41\n",
              "Not Answered                           34\n",
              "Not Attempted and Marked For Review    13\n",
              "Marked For Review                       2\n",
              "Name: Question_Status, dtype: int64"
            ]
          },
          "metadata": {},
          "execution_count": 10
        }
      ]
    },
    {
      "cell_type": "code",
      "source": [
        "# c=0\n",
        "# d=0\n",
        "sco=[]\n",
        "for index, row in df.iterrows():\n",
        "#   # print(row['Question_Status'])\n",
        "#   if row['Question_Status']=='Answered':\n",
        "#     c+=1\n",
        "#   else:\n",
        "#     d+=1\n",
        "# print(c,d)\n",
        "  if row['Question_type']=='Objective':\n",
        "    if row['Question_Status']=='Answered' or row['Question_Status']=='Marked For Review':\n",
        "      if float(row['Question_Correct_Answer'])==float(row['Question_ANSWER_Id']):\n",
        "        sco.append('Correct')\n",
        "      else:\n",
        "        sco.append('Wrong')\n",
        "    else:\n",
        "      sco.append('Not Attempt')\n",
        "  else:\n",
        "      if row['Question_Status']=='Answered' or row['Question_Status']=='Marked For Review':\n",
        "        if float(row['Question_Correct_Answer'])==float(row['Question_ANs']):\n",
        "          sco.append('Correct')\n",
        "        else:\n",
        "          sco.append('Wrong')\n",
        "      else:\n",
        "        sco.append('Not Attempt')"
      ],
      "metadata": {
        "id": "xJk8r95ijcZS"
      },
      "execution_count": 11,
      "outputs": []
    },
    {
      "cell_type": "code",
      "source": [
        "df['Evaluate']=sco"
      ],
      "metadata": {
        "id": "JXB8yqgBoluo"
      },
      "execution_count": 12,
      "outputs": []
    },
    {
      "cell_type": "markdown",
      "source": [
        "# Report"
      ],
      "metadata": {
        "id": "Txt8fsTN46VK"
      }
    },
    {
      "cell_type": "code",
      "source": [
        "df.head()"
      ],
      "metadata": {
        "colab": {
          "base_uri": "https://localhost:8080/",
          "height": 206
        },
        "id": "kYB3BnyCXgBv",
        "outputId": "21d56f83-9662-42cd-b82f-4f3cb102e179"
      },
      "execution_count": 13,
      "outputs": [
        {
          "output_type": "execute_result",
          "data": {
            "text/plain": [
              "  Question_IDs                 Question_Section Question_type  \\\n",
              "0   3666947183  B TECH - Mathematics  Section A     Objective   \n",
              "1   3666947184  B TECH - Mathematics  Section A     Objective   \n",
              "2   3666947185  B TECH - Mathematics  Section A     Objective   \n",
              "3   3666947186  B TECH - Mathematics  Section A     Objective   \n",
              "4   3666947187  B TECH - Mathematics  Section A     Objective   \n",
              "\n",
              "  Question_Correct_Answer Question_ANs Question_ANSWER_Id  \\\n",
              "0             36669422604            3      36669422604.0   \n",
              "1             36669422607           --                nan   \n",
              "2             36669422610           --                nan   \n",
              "3             36669422616            3      36669422616.0   \n",
              "4             36669422619           --                nan   \n",
              "\n",
              "                       Question_Status     Evaluate  \n",
              "0                             Answered      Correct  \n",
              "1  Not Attempted and Marked For Review  Not Attempt  \n",
              "2                         Not Answered  Not Attempt  \n",
              "3                             Answered      Correct  \n",
              "4                         Not Answered  Not Attempt  "
            ],
            "text/html": [
              "\n",
              "  <div id=\"df-53e0b0d0-35c9-45cd-b770-36c298801b81\">\n",
              "    <div class=\"colab-df-container\">\n",
              "      <div>\n",
              "<style scoped>\n",
              "    .dataframe tbody tr th:only-of-type {\n",
              "        vertical-align: middle;\n",
              "    }\n",
              "\n",
              "    .dataframe tbody tr th {\n",
              "        vertical-align: top;\n",
              "    }\n",
              "\n",
              "    .dataframe thead th {\n",
              "        text-align: right;\n",
              "    }\n",
              "</style>\n",
              "<table border=\"1\" class=\"dataframe\">\n",
              "  <thead>\n",
              "    <tr style=\"text-align: right;\">\n",
              "      <th></th>\n",
              "      <th>Question_IDs</th>\n",
              "      <th>Question_Section</th>\n",
              "      <th>Question_type</th>\n",
              "      <th>Question_Correct_Answer</th>\n",
              "      <th>Question_ANs</th>\n",
              "      <th>Question_ANSWER_Id</th>\n",
              "      <th>Question_Status</th>\n",
              "      <th>Evaluate</th>\n",
              "    </tr>\n",
              "  </thead>\n",
              "  <tbody>\n",
              "    <tr>\n",
              "      <th>0</th>\n",
              "      <td>3666947183</td>\n",
              "      <td>B TECH - Mathematics  Section A</td>\n",
              "      <td>Objective</td>\n",
              "      <td>36669422604</td>\n",
              "      <td>3</td>\n",
              "      <td>36669422604.0</td>\n",
              "      <td>Answered</td>\n",
              "      <td>Correct</td>\n",
              "    </tr>\n",
              "    <tr>\n",
              "      <th>1</th>\n",
              "      <td>3666947184</td>\n",
              "      <td>B TECH - Mathematics  Section A</td>\n",
              "      <td>Objective</td>\n",
              "      <td>36669422607</td>\n",
              "      <td>--</td>\n",
              "      <td>nan</td>\n",
              "      <td>Not Attempted and Marked For Review</td>\n",
              "      <td>Not Attempt</td>\n",
              "    </tr>\n",
              "    <tr>\n",
              "      <th>2</th>\n",
              "      <td>3666947185</td>\n",
              "      <td>B TECH - Mathematics  Section A</td>\n",
              "      <td>Objective</td>\n",
              "      <td>36669422610</td>\n",
              "      <td>--</td>\n",
              "      <td>nan</td>\n",
              "      <td>Not Answered</td>\n",
              "      <td>Not Attempt</td>\n",
              "    </tr>\n",
              "    <tr>\n",
              "      <th>3</th>\n",
              "      <td>3666947186</td>\n",
              "      <td>B TECH - Mathematics  Section A</td>\n",
              "      <td>Objective</td>\n",
              "      <td>36669422616</td>\n",
              "      <td>3</td>\n",
              "      <td>36669422616.0</td>\n",
              "      <td>Answered</td>\n",
              "      <td>Correct</td>\n",
              "    </tr>\n",
              "    <tr>\n",
              "      <th>4</th>\n",
              "      <td>3666947187</td>\n",
              "      <td>B TECH - Mathematics  Section A</td>\n",
              "      <td>Objective</td>\n",
              "      <td>36669422619</td>\n",
              "      <td>--</td>\n",
              "      <td>nan</td>\n",
              "      <td>Not Answered</td>\n",
              "      <td>Not Attempt</td>\n",
              "    </tr>\n",
              "  </tbody>\n",
              "</table>\n",
              "</div>\n",
              "      <button class=\"colab-df-convert\" onclick=\"convertToInteractive('df-53e0b0d0-35c9-45cd-b770-36c298801b81')\"\n",
              "              title=\"Convert this dataframe to an interactive table.\"\n",
              "              style=\"display:none;\">\n",
              "        \n",
              "  <svg xmlns=\"http://www.w3.org/2000/svg\" height=\"24px\"viewBox=\"0 0 24 24\"\n",
              "       width=\"24px\">\n",
              "    <path d=\"M0 0h24v24H0V0z\" fill=\"none\"/>\n",
              "    <path d=\"M18.56 5.44l.94 2.06.94-2.06 2.06-.94-2.06-.94-.94-2.06-.94 2.06-2.06.94zm-11 1L8.5 8.5l.94-2.06 2.06-.94-2.06-.94L8.5 2.5l-.94 2.06-2.06.94zm10 10l.94 2.06.94-2.06 2.06-.94-2.06-.94-.94-2.06-.94 2.06-2.06.94z\"/><path d=\"M17.41 7.96l-1.37-1.37c-.4-.4-.92-.59-1.43-.59-.52 0-1.04.2-1.43.59L10.3 9.45l-7.72 7.72c-.78.78-.78 2.05 0 2.83L4 21.41c.39.39.9.59 1.41.59.51 0 1.02-.2 1.41-.59l7.78-7.78 2.81-2.81c.8-.78.8-2.07 0-2.86zM5.41 20L4 18.59l7.72-7.72 1.47 1.35L5.41 20z\"/>\n",
              "  </svg>\n",
              "      </button>\n",
              "      \n",
              "  <style>\n",
              "    .colab-df-container {\n",
              "      display:flex;\n",
              "      flex-wrap:wrap;\n",
              "      gap: 12px;\n",
              "    }\n",
              "\n",
              "    .colab-df-convert {\n",
              "      background-color: #E8F0FE;\n",
              "      border: none;\n",
              "      border-radius: 50%;\n",
              "      cursor: pointer;\n",
              "      display: none;\n",
              "      fill: #1967D2;\n",
              "      height: 32px;\n",
              "      padding: 0 0 0 0;\n",
              "      width: 32px;\n",
              "    }\n",
              "\n",
              "    .colab-df-convert:hover {\n",
              "      background-color: #E2EBFA;\n",
              "      box-shadow: 0px 1px 2px rgba(60, 64, 67, 0.3), 0px 1px 3px 1px rgba(60, 64, 67, 0.15);\n",
              "      fill: #174EA6;\n",
              "    }\n",
              "\n",
              "    [theme=dark] .colab-df-convert {\n",
              "      background-color: #3B4455;\n",
              "      fill: #D2E3FC;\n",
              "    }\n",
              "\n",
              "    [theme=dark] .colab-df-convert:hover {\n",
              "      background-color: #434B5C;\n",
              "      box-shadow: 0px 1px 3px 1px rgba(0, 0, 0, 0.15);\n",
              "      filter: drop-shadow(0px 1px 2px rgba(0, 0, 0, 0.3));\n",
              "      fill: #FFFFFF;\n",
              "    }\n",
              "  </style>\n",
              "\n",
              "      <script>\n",
              "        const buttonEl =\n",
              "          document.querySelector('#df-53e0b0d0-35c9-45cd-b770-36c298801b81 button.colab-df-convert');\n",
              "        buttonEl.style.display =\n",
              "          google.colab.kernel.accessAllowed ? 'block' : 'none';\n",
              "\n",
              "        async function convertToInteractive(key) {\n",
              "          const element = document.querySelector('#df-53e0b0d0-35c9-45cd-b770-36c298801b81');\n",
              "          const dataTable =\n",
              "            await google.colab.kernel.invokeFunction('convertToInteractive',\n",
              "                                                     [key], {});\n",
              "          if (!dataTable) return;\n",
              "\n",
              "          const docLinkHtml = 'Like what you see? Visit the ' +\n",
              "            '<a target=\"_blank\" href=https://colab.research.google.com/notebooks/data_table.ipynb>data table notebook</a>'\n",
              "            + ' to learn more about interactive tables.';\n",
              "          element.innerHTML = '';\n",
              "          dataTable['output_type'] = 'display_data';\n",
              "          await google.colab.output.renderOutput(dataTable, element);\n",
              "          const docLink = document.createElement('div');\n",
              "          docLink.innerHTML = docLinkHtml;\n",
              "          element.appendChild(docLink);\n",
              "        }\n",
              "      </script>\n",
              "    </div>\n",
              "  </div>\n",
              "  "
            ]
          },
          "metadata": {},
          "execution_count": 13
        }
      ]
    },
    {
      "cell_type": "code",
      "source": [
        "df['Evaluate'].value_counts()"
      ],
      "metadata": {
        "id": "_Bvw4lSsrFxY",
        "outputId": "b951ab88-5550-45fd-aaa1-a3d32e6213c7",
        "colab": {
          "base_uri": "https://localhost:8080/"
        }
      },
      "execution_count": 14,
      "outputs": [
        {
          "output_type": "execute_result",
          "data": {
            "text/plain": [
              "Not Attempt    47\n",
              "Correct        28\n",
              "Wrong          15\n",
              "Name: Evaluate, dtype: int64"
            ]
          },
          "metadata": {},
          "execution_count": 14
        }
      ]
    },
    {
      "cell_type": "code",
      "source": [
        "df.to_csv('eval.csv',index=False)"
      ],
      "metadata": {
        "id": "nBw9qV2u0438"
      },
      "execution_count": 15,
      "outputs": []
    },
    {
      "cell_type": "code",
      "source": [
        "sns.countplot(x=df['Evaluate'],order=[\"Correct\",\"Wrong\",\"Not Attemplted\"],palette=[\"green\",\"red\",\"orange\"])"
      ],
      "metadata": {
        "colab": {
          "base_uri": "https://localhost:8080/",
          "height": 466
        },
        "id": "DZu_AKzsa8PI",
        "outputId": "a57eabb7-d354-46e6-cd6a-8a7c0b27b883"
      },
      "execution_count": 16,
      "outputs": [
        {
          "output_type": "execute_result",
          "data": {
            "text/plain": [
              "<Axes: xlabel='Evaluate', ylabel='count'>"
            ]
          },
          "metadata": {},
          "execution_count": 16
        },
        {
          "output_type": "display_data",
          "data": {
            "text/plain": [
              "<Figure size 640x480 with 1 Axes>"
            ],
            "image/png": "[encoded data removed]"
          },
          "metadata": {}
        }
      ]
    },
    {
      "cell_type": "markdown",
      "source": [
        "# Subject Wise Analysis"
      ],
      "metadata": {
        "id": "66fYVPVo5NJG"
      }
    },
    {
      "cell_type": "code",
      "source": [
        "temp=df[df['Question_Section']=='B TECH - Physics Section A']\n",
        "sns.countplot(x=temp['Evaluate'],order=[\"Correct\",\"Wrong\",\"Not Attemplted\"],palette=[\"green\",\"red\",\"orange\"])"
      ],
      "metadata": {
        "colab": {
          "base_uri": "https://localhost:8080/",
          "height": 466
        },
        "id": "Pnkjy8aHa8Mp",
        "outputId": "8ef9443a-3104-4e37-e070-6d204d53301a"
      },
      "execution_count": 17,
      "outputs": [
        {
          "output_type": "execute_result",
          "data": {
            "text/plain": [
              "<Axes: xlabel='Evaluate', ylabel='count'>"
            ]
          },
          "metadata": {},
          "execution_count": 17
        },
        {
          "output_type": "display_data",
          "data": {
            "text/plain": [
              "<Figure size 640x480 with 1 Axes>"
            ],
            "image/png": "[encoded data removed]"
          },
          "metadata": {}
        }
      ]
    },
    {
      "cell_type": "code",
      "source": [
        "temp=df[df['Question_Section']=='B TECH - Physics Section B']\n",
        "sns.countplot(x=temp['Evaluate'],order=[\"Correct\",\"Wrong\",\"Not Attemplted\"],palette=[\"green\",\"red\",\"orange\"])"
      ],
      "metadata": {
        "colab": {
          "base_uri": "https://localhost:8080/",
          "height": 466
        },
        "id": "zclckQUha8Gq",
        "outputId": "dd1f8840-c615-49fb-a95c-5b154f1432a1"
      },
      "execution_count": 18,
      "outputs": [
        {
          "output_type": "execute_result",
          "data": {
            "text/plain": [
              "<Axes: xlabel='Evaluate', ylabel='count'>"
            ]
          },
          "metadata": {},
          "execution_count": 18
        },
        {
          "output_type": "display_data",
          "data": {
            "text/plain": [
              "<Figure size 640x480 with 1 Axes>"
            ],
            "image/png": "[encoded data removed]"
          },
          "metadata": {}
        }
      ]
    },
    {
      "cell_type": "code",
      "source": [
        "temp=df[df['Question_Section']=='B TECH - Mathematics  Section A']\n",
        "sns.countplot(x=temp['Evaluate'],order=[\"Correct\",\"Wrong\",\"Not Attemplted\"],palette=[\"green\",\"red\",\"orange\"])"
      ],
      "metadata": {
        "colab": {
          "base_uri": "https://localhost:8080/",
          "height": 466
        },
        "id": "h1VoNFcSfFWr",
        "outputId": "ab99e798-d452-4285-e402-8e264c82549c"
      },
      "execution_count": 19,
      "outputs": [
        {
          "output_type": "execute_result",
          "data": {
            "text/plain": [
              "<Axes: xlabel='Evaluate', ylabel='count'>"
            ]
          },
          "metadata": {},
          "execution_count": 19
        },
        {
          "output_type": "display_data",
          "data": {
            "text/plain": [
              "<Figure size 640x480 with 1 Axes>"
            ],
            "image/png": "[encoded data removed]"
          },
          "metadata": {}
        }
      ]
    },
    {
      "cell_type": "code",
      "source": [
        "temp=df[df['Question_Section']=='B TECH - Mathematics  Section B']\n",
        "sns.countplot(x=temp['Evaluate'],order=[\"Correct\",\"Wrong\",\"Not Attemplted\"],palette=[\"green\",\"red\",\"orange\"])"
      ],
      "metadata": {
        "colab": {
          "base_uri": "https://localhost:8080/",
          "height": 466
        },
        "id": "sIKrsJ2ma8Ee",
        "outputId": "3794c573-30cb-499b-bb9d-3577104e009d"
      },
      "execution_count": 20,
      "outputs": [
        {
          "output_type": "execute_result",
          "data": {
            "text/plain": [
              "<Axes: xlabel='Evaluate', ylabel='count'>"
            ]
          },
          "metadata": {},
          "execution_count": 20
        },
        {
          "output_type": "display_data",
          "data": {
            "text/plain": [
              "<Figure size 640x480 with 1 Axes>"
            ],
            "image/png": "[encoded data removed]"
          },
          "metadata": {}
        }
      ]
    },
    {
      "cell_type": "code",
      "source": [
        "temp=df[df['Question_Section']=='B TECH - Chemistry Section A']\n",
        "sns.countplot(x=temp['Evaluate'],order=[\"Correct\",\"Wrong\",\"Not Attemplted\"],palette=[\"green\",\"red\",\"orange\"])"
      ],
      "metadata": {
        "colab": {
          "base_uri": "https://localhost:8080/",
          "height": 466
        },
        "id": "H79BoSL7fN1l",
        "outputId": "366772e9-cd57-4cfd-f51f-14ae6061d172"
      },
      "execution_count": 21,
      "outputs": [
        {
          "output_type": "execute_result",
          "data": {
            "text/plain": [
              "<Axes: xlabel='Evaluate', ylabel='count'>"
            ]
          },
          "metadata": {},
          "execution_count": 21
        },
        {
          "output_type": "display_data",
          "data": {
            "text/plain": [
              "<Figure size 640x480 with 1 Axes>"
            ],
            "image/png": "[encoded data removed]"
          },
          "metadata": {}
        }
      ]
    },
    {
      "cell_type": "code",
      "source": [
        "temp=df[df['Question_Section']=='B TECH - Chemistry Section B']\n",
        "sns.countplot(x=temp['Evaluate'],order=[\"Correct\",\"Wrong\",\"Not Attemplted\"],palette=[\"green\",\"red\",\"orange\"])"
      ],
      "metadata": {
        "colab": {
          "base_uri": "https://localhost:8080/",
          "height": 466
        },
        "id": "Q2zHDUX7a8BF",
        "outputId": "2e17bdee-8e58-4895-c8ef-ad85e8fb507c"
      },
      "execution_count": 22,
      "outputs": [
        {
          "output_type": "execute_result",
          "data": {
            "text/plain": [
              "<Axes: xlabel='Evaluate', ylabel='count'>"
            ]
          },
          "metadata": {},
          "execution_count": 22
        },
        {
          "output_type": "display_data",
          "data": {
            "text/plain": [
              "<Figure size 640x480 with 1 Axes>"
            ],
            "image/png": "[encoded data removed]"
          },
          "metadata": {}
        }
      ]
    },
    {
      "cell_type": "markdown",
      "source": [
        "# End"
      ],
      "metadata": {
        "id": "ePNkI31h5ULC"
      }
    },
    {
      "cell_type": "code",
      "source": [
        "# df['Question_Section'].unique()"
      ],
      "metadata": {
        "id": "GyXiNURC1wSh"
      },
      "execution_count": 23,
      "outputs": []
    },
    {
      "cell_type": "code",
      "source": [
        "# df['Question_Section'].value_counts()"
      ],
      "metadata": {
        "id": "P5NRF2o22WxC"
      },
      "execution_count": 24,
      "outputs": []
    },
    {
      "cell_type": "code",
      "source": [],
      "metadata": {
        "id": "zVSeSiI6a78f"
      },
      "execution_count": 24,
      "outputs": []
    }
  ]
}