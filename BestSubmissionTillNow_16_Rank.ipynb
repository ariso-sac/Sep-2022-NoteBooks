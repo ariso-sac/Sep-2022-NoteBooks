{
  "nbformat": 4,
  "nbformat_minor": 0,
  "metadata": {
    "colab": {
      "provenance": [],
      "collapsed_sections": [],
      "include_colab_link": true
    },
    "kernelspec": {
      "display_name": "Python 3",
      "language": "python",
      "name": "python3"
    },
    "language_info": {
      "codemirror_mode": {
        "name": "ipython",
        "version": 3
      },
      "file_extension": ".py",
      "mimetype": "text/x-python",
      "name": "python",
      "nbconvert_exporter": "python",
      "pygments_lexer": "ipython3",
      "version": "3.7.7"
    }
  },
  "cells": [
    {
      "cell_type": "markdown",
      "metadata": {
        "id": "view-in-github",
        "colab_type": "text"
      },
      "source": [
        "<a href=\"https://colab.research.google.com/github/ariso-sac/Sep-2022-NoteBooks/blob/colab-week-2/BestSubmissionTillNow_16_Rank.ipynb\" target=\"_parent\"><img src=\"https://colab.research.google.com/assets/colab-badge.svg\" alt=\"Open In Colab\"/></a>"
      ]
    },
    {
      "cell_type": "code",
      "source": [
        "import pandas as pd\n",
        "import numpy as np\n",
        "import matplotlib.pyplot as plt\n",
        "import seaborn as sns\n",
        "from sklearn.preprocessing import OneHotEncoder, OrdinalEncoder, LabelEncoder, StandardScaler\n",
        "from sklearn.pipeline import Pipeline\n",
        "from sklearn.compose import ColumnTransformer\n",
        "from sklearn.model_selection import train_test_split, cross_val_score, GridSearchCV\n",
        "from sklearn.naive_bayes import GaussianNB, BernoulliNB, CategoricalNB,ComplementNB,MultinomialNB\n",
        "from sklearn.tree import DecisionTreeClassifier,ExtraTreeClassifier\n",
        "from sklearn.neural_network import MLPClassifier\n",
        "from sklearn.ensemble import AdaBoostClassifier,BaggingClassifier,GradientBoostingClassifier,RandomForestClassifier,HistGradientBoostingClassifier\n",
        "from sklearn.discriminant_analysis import LinearDiscriminantAnalysis,QuadraticDiscriminantAnalysis\n",
        "from sklearn.svm import LinearSVC, SVC, NuSVC\n",
        "from sklearn.linear_model import RidgeClassifier, LogisticRegression, Perceptron\n",
        "from sklearn.neighbors import KNeighborsClassifier"
      ],
      "metadata": {
        "id": "1LODBlpktP6I"
      },
      "execution_count": 1,
      "outputs": []
    },
    {
      "cell_type": "code",
      "source": [
        "from xgboost import XGBClassifier"
      ],
      "metadata": {
        "id": "CWNybWARuWw9"
      },
      "execution_count": 2,
      "outputs": []
    },
    {
      "cell_type": "code",
      "source": [
        "# explicitly require this experimental feature\n",
        "from sklearn.experimental import enable_halving_search_cv # noqa\n",
        "# now you can import normally from model_selection\n",
        "from sklearn.model_selection import HalvingGridSearchCV"
      ],
      "metadata": {
        "id": "fU1fTVcJrtcf"
      },
      "execution_count": 3,
      "outputs": []
    },
    {
      "cell_type": "code",
      "source": [
        "df=pd.read_csv('train1.csv')\n",
        "df=df.drop('travel_more_than_5_mins',axis=1)\n",
        "features=df.columns[:-1]\n",
        "target=df.columns[-1]\n",
        "X=df[features]\n",
        "y=df[target]"
      ],
      "metadata": {
        "id": "EDOQ4ZjmtP2F"
      },
      "execution_count": 4,
      "outputs": []
    },
    {
      "cell_type": "code",
      "source": [
        "lb=LabelEncoder().fit(y)\n",
        "y=lb.transform(y)\n",
        "l=X.columns.to_list()\n",
        "order=['offer_expiration(hrs)','age','income_range','temperature','travel_time',\n",
        "       'restuarant_same_direction_house','western/chinese','children','cooks_regularly',\n",
        "       'prefer_home_food','visit_restaurant_with_rating_(avg)',\n",
        "       'visited_ColdDrinks','travelled_more_than_15_mins','resturant_spend_more_than_20',\n",
        "       'travel_more_than_25_mins','number_visted_bars',\n",
        "       'number_of_take_aways','restuarant_same_opposite_house',\n",
        "       'restaurant_spend_greater_than_20','is_foodie'\n",
        "      ]\n",
        "for i in order:\n",
        "    l.remove(i)"
      ],
      "metadata": {
        "id": "qCbaAUAxtPuU"
      },
      "execution_count": 5,
      "outputs": []
    },
    {
      "cell_type": "code",
      "source": [
        "X=pd.get_dummies(data=X,columns=l)\n",
        "enc=OrdinalEncoder()\n",
        "ord=enc.fit(X)\n",
        "temp=ord.transform(X)\n",
        "X=pd.DataFrame(data=temp,columns=X.columns)"
      ],
      "metadata": {
        "id": "xnngoaOztPo-"
      },
      "execution_count": 6,
      "outputs": []
    },
    {
      "cell_type": "code",
      "source": [
        "X_train, X_test, y_train, y_test = train_test_split(\n",
        "     X, y, \n",
        "    test_size=0.20,\n",
        "    random_state=42,\n",
        "    shuffle=True\n",
        ")"
      ],
      "metadata": {
        "id": "KF-ju56xtPmd"
      },
      "execution_count": 7,
      "outputs": []
    },
    {
      "cell_type": "code",
      "source": [
        "models = []\n",
        "models.append(('loreg', LogisticRegression(max_iter=1000,\n",
        "                                           n_jobs=-1,\n",
        "                                          #  class_weight='balanced'\n",
        "                                           )))\n",
        "models.append(('svc', SVC(\n",
        "    probability=True\n",
        ")))\n",
        "models.append(('GradBoost',  HistGradientBoostingClassifier(\n",
        ")))\n",
        "models.append(('HistGradBoost',  GradientBoostingClassifier(\n",
        ")))\n",
        "models.append(('KNN',  KNeighborsClassifier(\n",
        ")))\n",
        "models.append(('forest',  RandomForestClassifier(\n",
        "    # class_weight='balanced'\n",
        ")))\n",
        "models.append(('naiveBayes_category',CategoricalNB()))\n",
        "models.append(('naiveBayes_complement',ComplementNB()))\n",
        "models.append(('xgboost',XGBClassifier()))\n",
        "models.append(('LinearDiscriminant',LinearDiscriminantAnalysis()))"
      ],
      "metadata": {
        "id": "ZGWLcwDvtPjM"
      },
      "execution_count": 8,
      "outputs": []
    },
    {
      "cell_type": "code",
      "source": [
        "clf=HistGradientBoostingClassifier(loss='binary_crossentropy',\n",
        ")"
      ],
      "metadata": {
        "id": "zjOvjsKlfPLT"
      },
      "execution_count": 9,
      "outputs": []
    },
    {
      "cell_type": "code",
      "source": [
        "clf.fit(X_train,y_train)"
      ],
      "metadata": {
        "colab": {
          "base_uri": "https://localhost:8080/"
        },
        "id": "VuDqSO8af1w8",
        "outputId": "c20e176d-2f5c-4389-8227-5317288e6923"
      },
      "execution_count": 10,
      "outputs": [
        {
          "output_type": "execute_result",
          "data": {
            "text/plain": [
              "HistGradientBoostingClassifier(loss='binary_crossentropy')"
            ]
          },
          "metadata": {},
          "execution_count": 10
        }
      ]
    },
    {
      "cell_type": "code",
      "source": [
        "print('Emperical/Training Error',clf.score(X_train,y_train))\n",
        "print('Genrealisation/Test Error',clf.score(X_test,y_test))"
      ],
      "metadata": {
        "colab": {
          "base_uri": "https://localhost:8080/"
        },
        "id": "8ZkCSyUhgCWU",
        "outputId": "1505906e-bd27-4209-c25e-f4b02afb4489"
      },
      "execution_count": 11,
      "outputs": [
        {
          "output_type": "stream",
          "name": "stdout",
          "text": [
            "Emperical/Training Error 0.7832979905079269\n",
            "Genrealisation/Test Error 0.6231825525040388\n"
          ]
        }
      ]
    },
    {
      "cell_type": "code",
      "source": [
        "scores = cross_val_score(clf, X, y, cv=5, scoring='f1_macro', n_jobs=-1)\n",
        "print(\"Accuracy of %0.3f \\n with a \\n Standard Deviation of %0.3f\" % (scores.mean(), scores.std()))"
      ],
      "metadata": {
        "id": "-jbOIeLov8Oe",
        "outputId": "1a330fb9-4c0a-4529-d909-930fbb49f74f",
        "colab": {
          "base_uri": "https://localhost:8080/"
        }
      },
      "execution_count": 12,
      "outputs": [
        {
          "output_type": "stream",
          "name": "stdout",
          "text": [
            "Accuracy of 0.609 \n",
            " with a \n",
            " Standard Deviation of 0.006\n"
          ]
        }
      ]
    },
    {
      "cell_type": "code",
      "source": [
        "param_test1 = {\n",
        "               'max_leaf_nodes':[20,31,45,50,55],\n",
        "               'max_depth':[4,5,6,8,None],\n",
        "               'min_samples_leaf':[10,20,30,40,50,60],\n",
        "               'warm_start':[True,False]\n",
        "               }\n",
        "gsearch1 = GridSearchCV(estimator = clf,\n",
        "                        param_grid = param_test1, \n",
        "                        scoring='f1_macro',cv=5,\n",
        "                        n_jobs=-1\n",
        "        ) \n",
        "gsearch1.fit(X,y)"
      ],
      "metadata": {
        "colab": {
          "base_uri": "https://localhost:8080/"
        },
        "id": "KC8f0oP-lfg3",
        "outputId": "2e9536dd-6e09-4d3b-d1f2-324161d415ce"
      },
      "execution_count": 13,
      "outputs": [
        {
          "output_type": "execute_result",
          "data": {
            "text/plain": [
              "GridSearchCV(cv=5,\n",
              "             estimator=HistGradientBoostingClassifier(loss='binary_crossentropy'),\n",
              "             n_jobs=-1,\n",
              "             param_grid={'max_depth': [4, 5, 6, 8, None],\n",
              "                         'max_leaf_nodes': [20, 31, 45, 50, 55],\n",
              "                         'min_samples_leaf': [10, 20, 30, 40, 50, 60],\n",
              "                         'warm_start': [True, False]},\n",
              "             scoring='f1_macro')"
            ]
          },
          "metadata": {},
          "execution_count": 13
        }
      ]
    },
    {
      "cell_type": "code",
      "source": [
        "gsearch1.best_score_"
      ],
      "metadata": {
        "colab": {
          "base_uri": "https://localhost:8080/"
        },
        "id": "87DObiN7mBga",
        "outputId": "e65b5f58-dd69-40a5-cc66-4224ff7d3f11"
      },
      "execution_count": 14,
      "outputs": [
        {
          "output_type": "execute_result",
          "data": {
            "text/plain": [
              "0.6145024859185687"
            ]
          },
          "metadata": {},
          "execution_count": 14
        }
      ]
    },
    {
      "cell_type": "code",
      "source": [
        "gsearch1.best_estimator_"
      ],
      "metadata": {
        "colab": {
          "base_uri": "https://localhost:8080/"
        },
        "id": "jhdG0ZASpcPO",
        "outputId": "e3369003-6fcb-4b49-e06b-8b8b7edd2893"
      },
      "execution_count": 15,
      "outputs": [
        {
          "output_type": "execute_result",
          "data": {
            "text/plain": [
              "HistGradientBoostingClassifier(loss='binary_crossentropy', max_leaf_nodes=45,\n",
              "                               min_samples_leaf=40, warm_start=True)"
            ]
          },
          "metadata": {},
          "execution_count": 15
        }
      ]
    },
    {
      "cell_type": "code",
      "source": [
        "gsearch1.best_params_"
      ],
      "metadata": {
        "colab": {
          "base_uri": "https://localhost:8080/"
        },
        "id": "P0pbuVV1pHfI",
        "outputId": "182252a3-b7c9-4f08-d27d-32a7c77abff1"
      },
      "execution_count": 16,
      "outputs": [
        {
          "output_type": "execute_result",
          "data": {
            "text/plain": [
              "{'max_depth': None,\n",
              " 'max_leaf_nodes': 45,\n",
              " 'min_samples_leaf': 40,\n",
              " 'warm_start': True}"
            ]
          },
          "metadata": {},
          "execution_count": 16
        }
      ]
    },
    {
      "cell_type": "code",
      "source": [
        "ans=pd.read_csv('test1.csv')\n",
        "ans=ans.drop('travel_more_than_5_mins',axis=1)\n",
        "# \n",
        "ans=pd.get_dummies(data=ans,columns=l)\n",
        "temp=ord.transform(ans)\n",
        "ans=pd.DataFrame(data=temp,columns=X.columns)\n",
        "# \n",
        "out=gsearch1.predict(ans)\n",
        "out=lb.inverse_transform(out)\n",
        "submission=pd.DataFrame(columns=['id','Offer Accepted'])\n",
        "submission['id']=[i for i in range(len(ans))]\n",
        "submission['Offer Accepted']=out\n",
        "sns.countplot(x=submission['Offer Accepted'])"
      ],
      "metadata": {
        "id": "gHINh8OKtPTP",
        "outputId": "3f06b1ba-4922-459f-8e56-9752121c8305",
        "colab": {
          "base_uri": "https://localhost:8080/",
          "height": 296
        }
      },
      "execution_count": 17,
      "outputs": [
        {
          "output_type": "execute_result",
          "data": {
            "text/plain": [
              "<matplotlib.axes._subplots.AxesSubplot at 0x7f5871271a50>"
            ]
          },
          "metadata": {},
          "execution_count": 17
        },
        {
          "output_type": "display_data",
          "data": {
            "text/plain": [
              "<Figure size 432x288 with 1 Axes>"
            ],
            "image/png": "[encoded data removed]"
          },
          "metadata": {
            "needs_background": "light"
          }
        }
      ]
    },
    {
      "cell_type": "code",
      "source": [
        "submission.to_csv('submission.csv',index=False)"
      ],
      "metadata": {
        "id": "ChzLZfhLtPQ2"
      },
      "execution_count": 18,
      "outputs": []
    },
    {
      "cell_type": "code",
      "source": [],
      "metadata": {
        "id": "VxJTO4A4tOwm"
      },
      "execution_count": 18,
      "outputs": []
    },
    {
      "cell_type": "code",
      "source": [],
      "metadata": {
        "id": "Jw38R4V2tNvh"
      },
      "execution_count": 18,
      "outputs": []
    },
    {
      "cell_type": "code",
      "source": [],
      "metadata": {
        "id": "9gVTt-4BtNqH"
      },
      "execution_count": 18,
      "outputs": []
    }
  ]
}