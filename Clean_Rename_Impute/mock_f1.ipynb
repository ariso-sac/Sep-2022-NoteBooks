{
 "cells": [
  {
   "cell_type": "markdown",
   "metadata": {
    "jp-MarkdownHeadingCollapsed": true,
    "tags": []
   },
   "source": [
    "# Importing Packages"
   ]
  },
  {
   "cell_type": "code",
   "execution_count": 1,
   "metadata": {
    "id": "MOOW6oktjRfn",
    "tags": []
   },
   "outputs": [],
   "source": [
    "import pandas as pd\n",
    "import numpy as np\n",
    "import matplotlib.pyplot as plt\n",
    "import seaborn as sns\n",
    "from sklearn.preprocessing import OneHotEncoder, OrdinalEncoder, LabelEncoder, StandardScaler\n",
    "from sklearn.pipeline import Pipeline\n",
    "from sklearn.compose import ColumnTransformer\n",
    "from sklearn.model_selection import train_test_split, cross_val_score, GridSearchCV\n",
    "from sklearn.naive_bayes import GaussianNB, BernoulliNB, CategoricalNB,ComplementNB,MultinomialNB\n",
    "from sklearn.tree import DecisionTreeClassifier,ExtraTreeClassifier\n",
    "from sklearn.neural_network import MLPClassifier\n",
    "from sklearn.ensemble import AdaBoostClassifier,BaggingClassifier,GradientBoostingClassifier,RandomForestClassifier,HistGradientBoostingClassifier\n",
    "from sklearn.discriminant_analysis import LinearDiscriminantAnalysis,QuadraticDiscriminantAnalysis\n",
    "from sklearn.svm import LinearSVC, SVC, NuSVC\n",
    "from sklearn.linear_model import RidgeClassifier, LogisticRegression, Perceptron\n",
    "from sklearn.neighbors import KNeighborsClassifier"
   ]
  },
  {
   "cell_type": "code",
   "execution_count": 2,
   "metadata": {},
   "outputs": [],
   "source": [
    "from sklearn.decomposition import PCA\n",
    "from sklearn.preprocessing import PolynomialFeatures"
   ]
  },
  {
   "cell_type": "markdown",
   "metadata": {
    "jp-MarkdownHeadingCollapsed": true,
    "tags": []
   },
   "source": [
    "# Load and Seprate Target"
   ]
  },
  {
   "cell_type": "code",
   "execution_count": 3,
   "metadata": {},
   "outputs": [],
   "source": [
    "df=pd.read_csv('train1.csv')\n",
    "features=df.columns[:-1]\n",
    "target=df.columns[-1]\n",
    "X=df[features]\n",
    "y=df[target]"
   ]
  },
  {
   "cell_type": "code",
   "execution_count": 4,
   "metadata": {
    "id": "8ZiMIkeE1eJd"
   },
   "outputs": [],
   "source": [
    "# lb=LabelEncoder().fit(y)\n",
    "# y=lb.transform(y)\n",
    "# l=X.columns.to_list()\n",
    "# order=['offer_expiration(hrs)','age','income_range','temperature','travel_time']\n",
    "# for i in order:\n",
    "#     l.remove(i)"
   ]
  },
  {
   "cell_type": "code",
   "execution_count": 5,
   "metadata": {},
   "outputs": [],
   "source": [
    "lb=LabelEncoder().fit(y)\n",
    "y=lb.transform(y)\n",
    "l=X.columns.to_list()\n",
    "order=['offer_expiration(hrs)','age','income_range','temperature','travel_time',\n",
    "       'restuarant_same_direction_house','western/chinese','children','cooks_regularly',\n",
    "       'prefer_home_food','visit_restaurant_with_rating_(avg)',\n",
    "       'visited_ColdDrinks','travelled_more_than_15_mins','resturant_spend_more_than_20',\n",
    "       'travel_more_than_25_mins','travel_more_than_5_mins','number_visted_bars',\n",
    "       'number_of_take_aways','restuarant_same_opposite_house',\n",
    "       'restaurant_spend_greater_than_20','is_foodie'\n",
    "      ]\n",
    "for i in order:\n",
    "    l.remove(i)"
   ]
  },
  {
   "cell_type": "markdown",
   "metadata": {
    "jp-MarkdownHeadingCollapsed": true,
    "tags": []
   },
   "source": [
    "# Feature Engineering"
   ]
  },
  {
   "cell_type": "code",
   "execution_count": 6,
   "metadata": {},
   "outputs": [],
   "source": [
    "X=pd.get_dummies(data=X,columns=l)"
   ]
  },
  {
   "cell_type": "code",
   "execution_count": 7,
   "metadata": {},
   "outputs": [
    {
     "data": {
      "text/html": [
       "<div>\n",
       "<style scoped>\n",
       "    .dataframe tbody tr th:only-of-type {\n",
       "        vertical-align: middle;\n",
       "    }\n",
       "\n",
       "    .dataframe tbody tr th {\n",
       "        vertical-align: top;\n",
       "    }\n",
       "\n",
       "    .dataframe thead th {\n",
       "        text-align: right;\n",
       "    }\n",
       "</style>\n",
       "<table border=\"1\" class=\"dataframe\">\n",
       "  <thead>\n",
       "    <tr style=\"text-align: right;\">\n",
       "      <th></th>\n",
       "      <th>offer_expiration(hrs)</th>\n",
       "      <th>income_range</th>\n",
       "      <th>visited_ColdDrinks</th>\n",
       "      <th>travelled_more_than_15_mins</th>\n",
       "      <th>resturant_spend_more_than_20</th>\n",
       "      <th>age</th>\n",
       "      <th>western/chinese</th>\n",
       "      <th>travel_more_than_25_mins</th>\n",
       "      <th>travel_more_than_5_mins</th>\n",
       "      <th>number_visted_bars</th>\n",
       "      <th>...</th>\n",
       "      <th>industry_Sales &amp; Related</th>\n",
       "      <th>industry_Student</th>\n",
       "      <th>industry_Transportation &amp; Material Moving</th>\n",
       "      <th>industry_Unemployed</th>\n",
       "      <th>climate_Spring</th>\n",
       "      <th>climate_Summer</th>\n",
       "      <th>climate_Winter</th>\n",
       "      <th>drop_location_Location A</th>\n",
       "      <th>drop_location_Location B</th>\n",
       "      <th>drop_location_Location C</th>\n",
       "    </tr>\n",
       "  </thead>\n",
       "  <tbody>\n",
       "    <tr>\n",
       "      <th>12374</th>\n",
       "      <td>10</td>\n",
       "      <td>31249.5</td>\n",
       "      <td>1</td>\n",
       "      <td>1</td>\n",
       "      <td>10</td>\n",
       "      <td>52</td>\n",
       "      <td>0</td>\n",
       "      <td>0</td>\n",
       "      <td>1</td>\n",
       "      <td>0</td>\n",
       "      <td>...</td>\n",
       "      <td>1</td>\n",
       "      <td>0</td>\n",
       "      <td>0</td>\n",
       "      <td>0</td>\n",
       "      <td>0</td>\n",
       "      <td>1</td>\n",
       "      <td>0</td>\n",
       "      <td>0</td>\n",
       "      <td>1</td>\n",
       "      <td>0</td>\n",
       "    </tr>\n",
       "    <tr>\n",
       "      <th>12375</th>\n",
       "      <td>48</td>\n",
       "      <td>31249.5</td>\n",
       "      <td>6</td>\n",
       "      <td>0</td>\n",
       "      <td>0</td>\n",
       "      <td>21</td>\n",
       "      <td>0</td>\n",
       "      <td>0</td>\n",
       "      <td>1</td>\n",
       "      <td>2</td>\n",
       "      <td>...</td>\n",
       "      <td>0</td>\n",
       "      <td>0</td>\n",
       "      <td>0</td>\n",
       "      <td>0</td>\n",
       "      <td>0</td>\n",
       "      <td>1</td>\n",
       "      <td>0</td>\n",
       "      <td>0</td>\n",
       "      <td>1</td>\n",
       "      <td>0</td>\n",
       "    </tr>\n",
       "    <tr>\n",
       "      <th>12376</th>\n",
       "      <td>10</td>\n",
       "      <td>93749.5</td>\n",
       "      <td>6</td>\n",
       "      <td>1</td>\n",
       "      <td>10</td>\n",
       "      <td>31</td>\n",
       "      <td>0</td>\n",
       "      <td>1</td>\n",
       "      <td>1</td>\n",
       "      <td>2</td>\n",
       "      <td>...</td>\n",
       "      <td>0</td>\n",
       "      <td>0</td>\n",
       "      <td>0</td>\n",
       "      <td>0</td>\n",
       "      <td>1</td>\n",
       "      <td>0</td>\n",
       "      <td>0</td>\n",
       "      <td>0</td>\n",
       "      <td>1</td>\n",
       "      <td>0</td>\n",
       "    </tr>\n",
       "    <tr>\n",
       "      <th>12377</th>\n",
       "      <td>10</td>\n",
       "      <td>18749.5</td>\n",
       "      <td>6</td>\n",
       "      <td>1</td>\n",
       "      <td>1</td>\n",
       "      <td>26</td>\n",
       "      <td>0</td>\n",
       "      <td>0</td>\n",
       "      <td>1</td>\n",
       "      <td>0</td>\n",
       "      <td>...</td>\n",
       "      <td>0</td>\n",
       "      <td>1</td>\n",
       "      <td>0</td>\n",
       "      <td>0</td>\n",
       "      <td>0</td>\n",
       "      <td>1</td>\n",
       "      <td>0</td>\n",
       "      <td>0</td>\n",
       "      <td>0</td>\n",
       "      <td>1</td>\n",
       "    </tr>\n",
       "    <tr>\n",
       "      <th>12378</th>\n",
       "      <td>48</td>\n",
       "      <td>43749.5</td>\n",
       "      <td>2</td>\n",
       "      <td>1</td>\n",
       "      <td>1</td>\n",
       "      <td>18</td>\n",
       "      <td>1</td>\n",
       "      <td>0</td>\n",
       "      <td>1</td>\n",
       "      <td>1</td>\n",
       "      <td>...</td>\n",
       "      <td>0</td>\n",
       "      <td>0</td>\n",
       "      <td>0</td>\n",
       "      <td>0</td>\n",
       "      <td>1</td>\n",
       "      <td>0</td>\n",
       "      <td>0</td>\n",
       "      <td>1</td>\n",
       "      <td>0</td>\n",
       "      <td>0</td>\n",
       "    </tr>\n",
       "  </tbody>\n",
       "</table>\n",
       "<p>5 rows × 74 columns</p>\n",
       "</div>"
      ],
      "text/plain": [
       "       offer_expiration(hrs)  income_range  visited_ColdDrinks  \\\n",
       "12374                     10       31249.5                   1   \n",
       "12375                     48       31249.5                   6   \n",
       "12376                     10       93749.5                   6   \n",
       "12377                     10       18749.5                   6   \n",
       "12378                     48       43749.5                   2   \n",
       "\n",
       "       travelled_more_than_15_mins  resturant_spend_more_than_20  age  \\\n",
       "12374                            1                            10   52   \n",
       "12375                            0                             0   21   \n",
       "12376                            1                            10   31   \n",
       "12377                            1                             1   26   \n",
       "12378                            1                             1   18   \n",
       "\n",
       "       western/chinese  travel_more_than_25_mins  travel_more_than_5_mins  \\\n",
       "12374                0                         0                        1   \n",
       "12375                0                         0                        1   \n",
       "12376                0                         1                        1   \n",
       "12377                0                         0                        1   \n",
       "12378                1                         0                        1   \n",
       "\n",
       "       number_visted_bars  ...  industry_Sales & Related  industry_Student  \\\n",
       "12374                   0  ...                         1                 0   \n",
       "12375                   2  ...                         0                 0   \n",
       "12376                   2  ...                         0                 0   \n",
       "12377                   0  ...                         0                 1   \n",
       "12378                   1  ...                         0                 0   \n",
       "\n",
       "       industry_Transportation & Material Moving  industry_Unemployed  \\\n",
       "12374                                          0                    0   \n",
       "12375                                          0                    0   \n",
       "12376                                          0                    0   \n",
       "12377                                          0                    0   \n",
       "12378                                          0                    0   \n",
       "\n",
       "       climate_Spring  climate_Summer  climate_Winter  \\\n",
       "12374               0               1               0   \n",
       "12375               0               1               0   \n",
       "12376               1               0               0   \n",
       "12377               0               1               0   \n",
       "12378               1               0               0   \n",
       "\n",
       "       drop_location_Location A  drop_location_Location B  \\\n",
       "12374                         0                         1   \n",
       "12375                         0                         1   \n",
       "12376                         0                         1   \n",
       "12377                         0                         0   \n",
       "12378                         1                         0   \n",
       "\n",
       "       drop_location_Location C  \n",
       "12374                         0  \n",
       "12375                         0  \n",
       "12376                         0  \n",
       "12377                         1  \n",
       "12378                         0  \n",
       "\n",
       "[5 rows x 74 columns]"
      ]
     },
     "execution_count": 7,
     "metadata": {},
     "output_type": "execute_result"
    }
   ],
   "source": [
    "X.tail()"
   ]
  },
  {
   "cell_type": "code",
   "execution_count": 8,
   "metadata": {},
   "outputs": [],
   "source": [
    "enc=OrdinalEncoder()\n",
    "ord=enc.fit(X)\n",
    "temp=ord.transform(X)"
   ]
  },
  {
   "cell_type": "code",
   "execution_count": 9,
   "metadata": {},
   "outputs": [
    {
     "data": {
      "text/html": [
       "<div>\n",
       "<style scoped>\n",
       "    .dataframe tbody tr th:only-of-type {\n",
       "        vertical-align: middle;\n",
       "    }\n",
       "\n",
       "    .dataframe tbody tr th {\n",
       "        vertical-align: top;\n",
       "    }\n",
       "\n",
       "    .dataframe thead th {\n",
       "        text-align: right;\n",
       "    }\n",
       "</style>\n",
       "<table border=\"1\" class=\"dataframe\">\n",
       "  <thead>\n",
       "    <tr style=\"text-align: right;\">\n",
       "      <th></th>\n",
       "      <th>offer_expiration(hrs)</th>\n",
       "      <th>income_range</th>\n",
       "      <th>visited_ColdDrinks</th>\n",
       "      <th>travelled_more_than_15_mins</th>\n",
       "      <th>resturant_spend_more_than_20</th>\n",
       "      <th>age</th>\n",
       "      <th>western/chinese</th>\n",
       "      <th>travel_more_than_25_mins</th>\n",
       "      <th>travel_more_than_5_mins</th>\n",
       "      <th>number_visted_bars</th>\n",
       "      <th>...</th>\n",
       "      <th>industry_Sales &amp; Related</th>\n",
       "      <th>industry_Student</th>\n",
       "      <th>industry_Transportation &amp; Material Moving</th>\n",
       "      <th>industry_Unemployed</th>\n",
       "      <th>climate_Spring</th>\n",
       "      <th>climate_Summer</th>\n",
       "      <th>climate_Winter</th>\n",
       "      <th>drop_location_Location A</th>\n",
       "      <th>drop_location_Location B</th>\n",
       "      <th>drop_location_Location C</th>\n",
       "    </tr>\n",
       "  </thead>\n",
       "  <tbody>\n",
       "    <tr>\n",
       "      <th>12374</th>\n",
       "      <td>0.0</td>\n",
       "      <td>2.0</td>\n",
       "      <td>1.0</td>\n",
       "      <td>1.0</td>\n",
       "      <td>4.0</td>\n",
       "      <td>7.0</td>\n",
       "      <td>0.0</td>\n",
       "      <td>0.0</td>\n",
       "      <td>0.0</td>\n",
       "      <td>0.0</td>\n",
       "      <td>...</td>\n",
       "      <td>1.0</td>\n",
       "      <td>0.0</td>\n",
       "      <td>0.0</td>\n",
       "      <td>0.0</td>\n",
       "      <td>0.0</td>\n",
       "      <td>1.0</td>\n",
       "      <td>0.0</td>\n",
       "      <td>0.0</td>\n",
       "      <td>1.0</td>\n",
       "      <td>0.0</td>\n",
       "    </tr>\n",
       "    <tr>\n",
       "      <th>12375</th>\n",
       "      <td>1.0</td>\n",
       "      <td>2.0</td>\n",
       "      <td>3.0</td>\n",
       "      <td>0.0</td>\n",
       "      <td>0.0</td>\n",
       "      <td>1.0</td>\n",
       "      <td>0.0</td>\n",
       "      <td>0.0</td>\n",
       "      <td>0.0</td>\n",
       "      <td>2.0</td>\n",
       "      <td>...</td>\n",
       "      <td>0.0</td>\n",
       "      <td>0.0</td>\n",
       "      <td>0.0</td>\n",
       "      <td>0.0</td>\n",
       "      <td>0.0</td>\n",
       "      <td>1.0</td>\n",
       "      <td>0.0</td>\n",
       "      <td>0.0</td>\n",
       "      <td>1.0</td>\n",
       "      <td>0.0</td>\n",
       "    </tr>\n",
       "    <tr>\n",
       "      <th>12376</th>\n",
       "      <td>0.0</td>\n",
       "      <td>7.0</td>\n",
       "      <td>3.0</td>\n",
       "      <td>1.0</td>\n",
       "      <td>4.0</td>\n",
       "      <td>3.0</td>\n",
       "      <td>0.0</td>\n",
       "      <td>1.0</td>\n",
       "      <td>0.0</td>\n",
       "      <td>2.0</td>\n",
       "      <td>...</td>\n",
       "      <td>0.0</td>\n",
       "      <td>0.0</td>\n",
       "      <td>0.0</td>\n",
       "      <td>0.0</td>\n",
       "      <td>1.0</td>\n",
       "      <td>0.0</td>\n",
       "      <td>0.0</td>\n",
       "      <td>0.0</td>\n",
       "      <td>1.0</td>\n",
       "      <td>0.0</td>\n",
       "    </tr>\n",
       "    <tr>\n",
       "      <th>12377</th>\n",
       "      <td>0.0</td>\n",
       "      <td>1.0</td>\n",
       "      <td>3.0</td>\n",
       "      <td>1.0</td>\n",
       "      <td>1.0</td>\n",
       "      <td>2.0</td>\n",
       "      <td>0.0</td>\n",
       "      <td>0.0</td>\n",
       "      <td>0.0</td>\n",
       "      <td>0.0</td>\n",
       "      <td>...</td>\n",
       "      <td>0.0</td>\n",
       "      <td>1.0</td>\n",
       "      <td>0.0</td>\n",
       "      <td>0.0</td>\n",
       "      <td>0.0</td>\n",
       "      <td>1.0</td>\n",
       "      <td>0.0</td>\n",
       "      <td>0.0</td>\n",
       "      <td>0.0</td>\n",
       "      <td>1.0</td>\n",
       "    </tr>\n",
       "    <tr>\n",
       "      <th>12378</th>\n",
       "      <td>1.0</td>\n",
       "      <td>3.0</td>\n",
       "      <td>2.0</td>\n",
       "      <td>1.0</td>\n",
       "      <td>1.0</td>\n",
       "      <td>0.0</td>\n",
       "      <td>1.0</td>\n",
       "      <td>0.0</td>\n",
       "      <td>0.0</td>\n",
       "      <td>1.0</td>\n",
       "      <td>...</td>\n",
       "      <td>0.0</td>\n",
       "      <td>0.0</td>\n",
       "      <td>0.0</td>\n",
       "      <td>0.0</td>\n",
       "      <td>1.0</td>\n",
       "      <td>0.0</td>\n",
       "      <td>0.0</td>\n",
       "      <td>1.0</td>\n",
       "      <td>0.0</td>\n",
       "      <td>0.0</td>\n",
       "    </tr>\n",
       "  </tbody>\n",
       "</table>\n",
       "<p>5 rows × 74 columns</p>\n",
       "</div>"
      ],
      "text/plain": [
       "       offer_expiration(hrs)  income_range  visited_ColdDrinks  \\\n",
       "12374                    0.0           2.0                 1.0   \n",
       "12375                    1.0           2.0                 3.0   \n",
       "12376                    0.0           7.0                 3.0   \n",
       "12377                    0.0           1.0                 3.0   \n",
       "12378                    1.0           3.0                 2.0   \n",
       "\n",
       "       travelled_more_than_15_mins  resturant_spend_more_than_20  age  \\\n",
       "12374                          1.0                           4.0  7.0   \n",
       "12375                          0.0                           0.0  1.0   \n",
       "12376                          1.0                           4.0  3.0   \n",
       "12377                          1.0                           1.0  2.0   \n",
       "12378                          1.0                           1.0  0.0   \n",
       "\n",
       "       western/chinese  travel_more_than_25_mins  travel_more_than_5_mins  \\\n",
       "12374              0.0                       0.0                      0.0   \n",
       "12375              0.0                       0.0                      0.0   \n",
       "12376              0.0                       1.0                      0.0   \n",
       "12377              0.0                       0.0                      0.0   \n",
       "12378              1.0                       0.0                      0.0   \n",
       "\n",
       "       number_visted_bars  ...  industry_Sales & Related  industry_Student  \\\n",
       "12374                 0.0  ...                       1.0               0.0   \n",
       "12375                 2.0  ...                       0.0               0.0   \n",
       "12376                 2.0  ...                       0.0               0.0   \n",
       "12377                 0.0  ...                       0.0               1.0   \n",
       "12378                 1.0  ...                       0.0               0.0   \n",
       "\n",
       "       industry_Transportation & Material Moving  industry_Unemployed  \\\n",
       "12374                                        0.0                  0.0   \n",
       "12375                                        0.0                  0.0   \n",
       "12376                                        0.0                  0.0   \n",
       "12377                                        0.0                  0.0   \n",
       "12378                                        0.0                  0.0   \n",
       "\n",
       "       climate_Spring  climate_Summer  climate_Winter  \\\n",
       "12374             0.0             1.0             0.0   \n",
       "12375             0.0             1.0             0.0   \n",
       "12376             1.0             0.0             0.0   \n",
       "12377             0.0             1.0             0.0   \n",
       "12378             1.0             0.0             0.0   \n",
       "\n",
       "       drop_location_Location A  drop_location_Location B  \\\n",
       "12374                       0.0                       1.0   \n",
       "12375                       0.0                       1.0   \n",
       "12376                       0.0                       1.0   \n",
       "12377                       0.0                       0.0   \n",
       "12378                       1.0                       0.0   \n",
       "\n",
       "       drop_location_Location C  \n",
       "12374                       0.0  \n",
       "12375                       0.0  \n",
       "12376                       0.0  \n",
       "12377                       1.0  \n",
       "12378                       0.0  \n",
       "\n",
       "[5 rows x 74 columns]"
      ]
     },
     "execution_count": 9,
     "metadata": {},
     "output_type": "execute_result"
    }
   ],
   "source": [
    "X=pd.DataFrame(data=temp,columns=X.columns)\n",
    "X.tail()"
   ]
  },
  {
   "cell_type": "markdown",
   "metadata": {
    "jp-MarkdownHeadingCollapsed": true,
    "tags": []
   },
   "source": [
    "# Train Test Split"
   ]
  },
  {
   "cell_type": "code",
   "execution_count": 10,
   "metadata": {
    "id": "4d2NnM0XjUt4"
   },
   "outputs": [],
   "source": [
    "X_train, X_test, y_train, y_test = train_test_split(\n",
    "     X, y, \n",
    "    test_size=0.20,\n",
    "    random_state=42,\n",
    "    shuffle=True\n",
    ")"
   ]
  },
  {
   "cell_type": "markdown",
   "metadata": {},
   "source": [
    "# Linear Classifiers"
   ]
  },
  {
   "cell_type": "code",
   "execution_count": 11,
   "metadata": {},
   "outputs": [],
   "source": [
    "classifers=[RidgeClassifier(), LogisticRegression(max_iter=1000), Perceptron()]"
   ]
  },
  {
   "cell_type": "code",
   "execution_count": 12,
   "metadata": {},
   "outputs": [
    {
     "name": "stdout",
     "output_type": "stream",
     "text": [
      "#### RidgeClassifier() ######\n",
      "Emperical/Training Error 0.617489649601131\n",
      "Genrealisation/Test Error 0.6070274636510501\n",
      "Accuracy of 0.579 \n",
      " with a \n",
      " Standard Deviation of 0.009\n",
      "#### LogisticRegression(max_iter=1000) ######\n",
      "Emperical/Training Error 0.6170857315964859\n",
      "Genrealisation/Test Error 0.6078352180936996\n",
      "Accuracy of 0.580 \n",
      " with a \n",
      " Standard Deviation of 0.008\n",
      "#### Perceptron() ######\n",
      "Emperical/Training Error 0.5782086236493992\n",
      "Genrealisation/Test Error 0.5678513731825525\n",
      "Accuracy of 0.482 \n",
      " with a \n",
      " Standard Deviation of 0.059\n"
     ]
    }
   ],
   "source": [
    "for clf in classifers:\n",
    "    clf.fit(X_train,y_train)\n",
    "    print('####',clf,'######')\n",
    "    print('Emperical/Training Error',clf.score(X_train,y_train))\n",
    "    print('Genrealisation/Test Error',clf.score(X_test,y_test))\n",
    "    scores = cross_val_score(clf, X, y, cv=5,scoring='f1_macro',n_jobs=-1)\n",
    "    print(\"Accuracy of %0.3f \\n with a \\n Standard Deviation of %0.3f\" % (scores.mean(), scores.std()))"
   ]
  },
  {
   "cell_type": "markdown",
   "metadata": {},
   "source": [
    "# Naive Bayes"
   ]
  },
  {
   "cell_type": "code",
   "execution_count": 13,
   "metadata": {},
   "outputs": [],
   "source": [
    "classifers=[GaussianNB(), BernoulliNB(), CategoricalNB(),ComplementNB(),MultinomialNB()]"
   ]
  },
  {
   "cell_type": "code",
   "execution_count": 14,
   "metadata": {},
   "outputs": [
    {
     "name": "stdout",
     "output_type": "stream",
     "text": [
      "#### GaussianNB() ######\n",
      "Emperical/Training Error 0.5742704231041099\n",
      "Genrealisation/Test Error 0.567043618739903\n",
      "Accuracy of 0.560 \n",
      " with a \n",
      " Standard Deviation of 0.009\n",
      "#### BernoulliNB() ######\n",
      "Emperical/Training Error 0.6132485105523579\n",
      "Genrealisation/Test Error 0.5932956381260097\n",
      "Accuracy of 0.584 \n",
      " with a \n",
      " Standard Deviation of 0.009\n",
      "#### CategoricalNB() ######\n",
      "Emperical/Training Error 0.6148641825709381\n",
      "Genrealisation/Test Error 0.5981421647819063\n",
      "Accuracy of 0.591 \n",
      " with a \n",
      " Standard Deviation of 0.009\n",
      "#### ComplementNB() ######\n",
      "Emperical/Training Error 0.5936584873270726\n",
      "Genrealisation/Test Error 0.5864297253634895\n",
      "Accuracy of 0.585 \n",
      " with a \n",
      " Standard Deviation of 0.005\n",
      "#### MultinomialNB() ######\n",
      "Emperical/Training Error 0.6054730889629405\n",
      "Genrealisation/Test Error 0.5880452342487884\n",
      "Accuracy of 0.576 \n",
      " with a \n",
      " Standard Deviation of 0.005\n"
     ]
    }
   ],
   "source": [
    "for clf in classifers:\n",
    "    clf.fit(X_train,y_train)\n",
    "    print('####',clf,'######')\n",
    "    print('Emperical/Training Error',clf.score(X_train,y_train))\n",
    "    print('Genrealisation/Test Error',clf.score(X_test,y_test))\n",
    "    scores = cross_val_score(clf, X, y, cv=5, scoring='f1_macro', n_jobs=-1)\n",
    "    print(\"Accuracy of %0.3f \\n with a \\n Standard Deviation of %0.3f\" % (scores.mean(), scores.std()))"
   ]
  },
  {
   "cell_type": "markdown",
   "metadata": {},
   "source": [
    "# Tree Methods"
   ]
  },
  {
   "cell_type": "code",
   "execution_count": 15,
   "metadata": {
    "id": "KfH1OaJc1czF"
   },
   "outputs": [],
   "source": [
    "classifers=[DecisionTreeClassifier(),ExtraTreeClassifier()]"
   ]
  },
  {
   "cell_type": "code",
   "execution_count": 16,
   "metadata": {
    "id": "TRbam2tE1ctd"
   },
   "outputs": [
    {
     "name": "stdout",
     "output_type": "stream",
     "text": [
      "#### DecisionTreeClassifier() ######\n",
      "Emperical/Training Error 1.0\n",
      "Genrealisation/Test Error 0.5424071082390953\n",
      "Accuracy of 0.547 \n",
      " with a \n",
      " Standard Deviation of 0.011\n",
      "#### ExtraTreeClassifier() ######\n",
      "Emperical/Training Error 1.0\n",
      "Genrealisation/Test Error 0.5420032310177706\n",
      "Accuracy of 0.534 \n",
      " with a \n",
      " Standard Deviation of 0.008\n"
     ]
    }
   ],
   "source": [
    "for clf in classifers:\n",
    "    clf.fit(X_train,y_train)\n",
    "    print('####',clf,'######')\n",
    "    print('Emperical/Training Error',clf.score(X_train,y_train))\n",
    "    print('Genrealisation/Test Error',clf.score(X_test,y_test))\n",
    "    scores = cross_val_score(clf, X, y, cv=5, scoring='f1_macro', n_jobs=-1)\n",
    "    print(\"Accuracy of %0.3f \\n with a \\n Standard Deviation of %0.3f\" % (scores.mean(), scores.std()))"
   ]
  },
  {
   "cell_type": "markdown",
   "metadata": {},
   "source": [
    "# Ensemble Classifiers"
   ]
  },
  {
   "cell_type": "code",
   "execution_count": 17,
   "metadata": {},
   "outputs": [],
   "source": [
    "classifers=[AdaBoostClassifier(),BaggingClassifier(),\n",
    "            GradientBoostingClassifier(),RandomForestClassifier(),\n",
    "            HistGradientBoostingClassifier()]"
   ]
  },
  {
   "cell_type": "code",
   "execution_count": 18,
   "metadata": {},
   "outputs": [
    {
     "name": "stdout",
     "output_type": "stream",
     "text": [
      "#### AdaBoostClassifier() ######\n",
      "Emperical/Training Error 0.6249621326870646\n",
      "Genrealisation/Test Error 0.6042003231017771\n",
      "Accuracy of 0.586 \n",
      " with a \n",
      " Standard Deviation of 0.007\n",
      "#### BaggingClassifier() ######\n",
      "Emperical/Training Error 0.9865697263455518\n",
      "Genrealisation/Test Error 0.5945072697899838\n",
      "Accuracy of 0.576 \n",
      " with a \n",
      " Standard Deviation of 0.004\n",
      "#### GradientBoostingClassifier() ######\n",
      "Emperical/Training Error 0.6638392406341512\n",
      "Genrealisation/Test Error 0.6284329563812601\n",
      "Accuracy of 0.601 \n",
      " with a \n",
      " Standard Deviation of 0.010\n",
      "#### RandomForestClassifier() ######\n",
      "Emperical/Training Error 1.0\n",
      "Genrealisation/Test Error 0.6187399030694669\n",
      "Accuracy of 0.599 \n",
      " with a \n",
      " Standard Deviation of 0.006\n",
      "#### HistGradientBoostingClassifier() ######\n",
      "Emperical/Training Error 0.7832979905079269\n",
      "Genrealisation/Test Error 0.6231825525040388\n",
      "Accuracy of 0.609 \n",
      " with a \n",
      " Standard Deviation of 0.006\n"
     ]
    }
   ],
   "source": [
    "for clf in classifers:\n",
    "    clf.fit(X_train,y_train)\n",
    "    print('####',clf,'######')\n",
    "    print('Emperical/Training Error',clf.score(X_train,y_train))\n",
    "    print('Genrealisation/Test Error',clf.score(X_test,y_test))\n",
    "    scores = cross_val_score(clf, X, y, cv=5, scoring='f1_macro', n_jobs=-1)\n",
    "    print(\"Accuracy of %0.3f \\n with a \\n Standard Deviation of %0.3f\" % (scores.mean(), scores.std()))"
   ]
  },
  {
   "cell_type": "markdown",
   "metadata": {},
   "source": [
    "# KNN and Discriminant Analysis"
   ]
  },
  {
   "cell_type": "code",
   "execution_count": 19,
   "metadata": {},
   "outputs": [],
   "source": [
    "classifers=[\n",
    "    # MLPClassifier(max_iter=10000),\n",
    "            KNeighborsClassifier(),LinearDiscriminantAnalysis(),QuadraticDiscriminantAnalysis()]"
   ]
  },
  {
   "cell_type": "code",
   "execution_count": 20,
   "metadata": {},
   "outputs": [
    {
     "name": "stdout",
     "output_type": "stream",
     "text": [
      "#### KNeighborsClassifier() ######\n",
      "Emperical/Training Error 0.7302837523982632\n",
      "Genrealisation/Test Error 0.5840064620355412\n",
      "Accuracy of 0.563 \n",
      " with a \n",
      " Standard Deviation of 0.006\n",
      "#### LinearDiscriminantAnalysis() ######\n",
      "Emperical/Training Error 0.6164798545895184\n",
      "Genrealisation/Test Error 0.6082390953150242\n",
      "Accuracy of 0.580 \n",
      " with a \n",
      " Standard Deviation of 0.009\n",
      "#### QuadraticDiscriminantAnalysis() ######\n",
      "Emperical/Training Error 0.5356962536605069\n",
      "Genrealisation/Test Error 0.5319063004846527\n"
     ]
    },
    {
     "name": "stderr",
     "output_type": "stream",
     "text": [
      "/home/abhinav/py/lib/python3.8/site-packages/sklearn/discriminant_analysis.py:887: UserWarning: Variables are collinear\n",
      "  warnings.warn(\"Variables are collinear\")\n"
     ]
    },
    {
     "name": "stdout",
     "output_type": "stream",
     "text": [
      "Accuracy of 0.498 \n",
      " with a \n",
      " Standard Deviation of 0.016\n"
     ]
    }
   ],
   "source": [
    "for clf in classifers:\n",
    "    clf.fit(X_train,y_train)\n",
    "    print('####',clf,'######')\n",
    "    print('Emperical/Training Error',clf.score(X_train,y_train))\n",
    "    print('Genrealisation/Test Error',clf.score(X_test,y_test))\n",
    "    scores = cross_val_score(clf, X, y, cv=5, scoring='f1_macro', n_jobs=-1)\n",
    "    print(\"Accuracy of %0.3f \\n with a \\n Standard Deviation of %0.3f\" % (scores.mean(), scores.std()))"
   ]
  },
  {
   "cell_type": "markdown",
   "metadata": {},
   "source": [
    "# SVC Classifiers"
   ]
  },
  {
   "cell_type": "code",
   "execution_count": 21,
   "metadata": {},
   "outputs": [],
   "source": [
    "classifers=[LinearSVC(max_iter=100000),SVC(),NuSVC()]"
   ]
  },
  {
   "cell_type": "code",
   "execution_count": 22,
   "metadata": {},
   "outputs": [
    {
     "name": "stdout",
     "output_type": "stream",
     "text": [
      "#### LinearSVC(max_iter=100000) ######\n",
      "Emperical/Training Error 0.617489649601131\n",
      "Genrealisation/Test Error 0.6066235864297254\n",
      "Accuracy of 0.580 \n",
      " with a \n",
      " Standard Deviation of 0.009\n",
      "#### SVC() ######\n",
      "Emperical/Training Error 0.6612137736039584\n",
      "Genrealisation/Test Error 0.6215670436187399\n",
      "Accuracy of 0.583 \n",
      " with a \n",
      " Standard Deviation of 0.009\n",
      "#### NuSVC() ######\n",
      "Emperical/Training Error 0.9387054427951126\n",
      "Genrealisation/Test Error 0.5941033925686591\n",
      "Accuracy of 0.585 \n",
      " with a \n",
      " Standard Deviation of 0.011\n"
     ]
    }
   ],
   "source": [
    "for clf in classifers:\n",
    "    clf.fit(X_train,y_train)\n",
    "    print('####',clf,'######')\n",
    "    print('Emperical/Training Error',clf.score(X_train,y_train))\n",
    "    print('Genrealisation/Test Error',clf.score(X_test,y_test))\n",
    "    scores = cross_val_score(clf, X, y, cv=5, scoring='f1_macro', n_jobs=-1)\n",
    "    print(\"Accuracy of %0.3f \\n with a \\n Standard Deviation of %0.3f\" % (scores.mean(), scores.std()))"
   ]
  },
  {
   "cell_type": "code",
   "execution_count": 23,
   "metadata": {},
   "outputs": [],
   "source": [
    "classifers=[\n",
    "    MLPClassifier(max_iter=10000)]"
   ]
  },
  {
   "cell_type": "code",
   "execution_count": 24,
   "metadata": {},
   "outputs": [
    {
     "name": "stdout",
     "output_type": "stream",
     "text": [
      "#### MLPClassifier(max_iter=10000) ######\n",
      "Emperical/Training Error 0.9489043724124003\n",
      "Genrealisation/Test Error 0.5706785137318255\n",
      "Accuracy of 0.566 \n",
      " with a \n",
      " Standard Deviation of 0.004\n"
     ]
    }
   ],
   "source": [
    "for clf in classifers:\n",
    "    clf.fit(X_train,y_train)\n",
    "    print('####',clf,'######')\n",
    "    print('Emperical/Training Error',clf.score(X_train,y_train))\n",
    "    print('Genrealisation/Test Error',clf.score(X_test,y_test))\n",
    "    scores = cross_val_score(clf, X, y, cv=5, scoring='f1_macro', n_jobs=-1)\n",
    "    print(\"Accuracy of %0.3f \\n with a \\n Standard Deviation of %0.3f\" % (scores.mean(), scores.std()))"
   ]
  },
  {
   "cell_type": "code",
   "execution_count": null,
   "metadata": {},
   "outputs": [],
   "source": []
  }
 ],
 "metadata": {
  "kernelspec": {
   "display_name": "Python 3 (ipykernel)",
   "language": "python",
   "name": "python3"
  },
  "language_info": {
   "codemirror_mode": {
    "name": "ipython",
    "version": 3
   },
   "file_extension": ".py",
   "mimetype": "text/x-python",
   "name": "python",
   "nbconvert_exporter": "python",
   "pygments_lexer": "ipython3",
   "version": "3.8.10"
  }
 },
 "nbformat": 4,
 "nbformat_minor": 4
}
