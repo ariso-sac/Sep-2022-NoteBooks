{
 "cells": [
  {
   "cell_type": "markdown",
   "metadata": {},
   "source": [
    "# Importing Packages"
   ]
  },
  {
   "cell_type": "code",
   "execution_count": 1,
   "metadata": {
    "id": "MOOW6oktjRfn",
    "tags": []
   },
   "outputs": [],
   "source": [
    "import pandas as pd\n",
    "import numpy as np\n",
    "import matplotlib.pyplot as plt\n",
    "import seaborn as sns\n",
    "from sklearn.preprocessing import OneHotEncoder, OrdinalEncoder, LabelEncoder, StandardScaler\n",
    "from sklearn.pipeline import Pipeline\n",
    "from sklearn.compose import ColumnTransformer\n",
    "from sklearn.model_selection import train_test_split, cross_val_score, GridSearchCV\n",
    "from sklearn.naive_bayes import GaussianNB, BernoulliNB, CategoricalNB,ComplementNB,MultinomialNB\n",
    "from sklearn.tree import DecisionTreeClassifier,ExtraTreeClassifier\n",
    "from sklearn.neural_network import MLPClassifier\n",
    "from sklearn.ensemble import AdaBoostClassifier,BaggingClassifier,GradientBoostingClassifier,RandomForestClassifier,HistGradientBoostingClassifier\n",
    "from sklearn.discriminant_analysis import LinearDiscriminantAnalysis,QuadraticDiscriminantAnalysis\n",
    "from sklearn.svm import LinearSVC, SVC, NuSVC\n",
    "from sklearn.linear_model import RidgeClassifier, LogisticRegression, Perceptron\n",
    "from sklearn.neighbors import KNeighborsClassifier"
   ]
  },
  {
   "cell_type": "code",
   "execution_count": 2,
   "metadata": {},
   "outputs": [],
   "source": [
    "from sklearn.decomposition import PCA\n",
    "from sklearn.preprocessing import PolynomialFeatures"
   ]
  },
  {
   "cell_type": "markdown",
   "metadata": {},
   "source": [
    "# Load and Seprate Target"
   ]
  },
  {
   "cell_type": "code",
   "execution_count": 3,
   "metadata": {},
   "outputs": [],
   "source": [
    "df=pd.read_csv('train1.csv')\n",
    "features=df.columns[:-1]\n",
    "target=df.columns[-1]\n",
    "X=df[features]\n",
    "y=df[target]"
   ]
  },
  {
   "cell_type": "code",
   "execution_count": 4,
   "metadata": {
    "id": "8ZiMIkeE1eJd"
   },
   "outputs": [],
   "source": [
    "lb=LabelEncoder().fit(y)\n",
    "y=lb.transform(y)\n",
    "l=X.columns.to_list()\n",
    "order=['offer_expiration(hrs)','age','income_range','temperature','travel_time']\n",
    "for i in order:\n",
    "    l.remove(i)"
   ]
  },
  {
   "cell_type": "markdown",
   "metadata": {},
   "source": [
    "# Feature Engineering"
   ]
  },
  {
   "cell_type": "code",
   "execution_count": 5,
   "metadata": {},
   "outputs": [],
   "source": [
    "X=pd.get_dummies(data=X,columns=l)"
   ]
  },
  {
   "cell_type": "code",
   "execution_count": 6,
   "metadata": {},
   "outputs": [
    {
     "data": {
      "text/html": [
       "<div>\n",
       "<style scoped>\n",
       "    .dataframe tbody tr th:only-of-type {\n",
       "        vertical-align: middle;\n",
       "    }\n",
       "\n",
       "    .dataframe tbody tr th {\n",
       "        vertical-align: top;\n",
       "    }\n",
       "\n",
       "    .dataframe thead th {\n",
       "        text-align: right;\n",
       "    }\n",
       "</style>\n",
       "<table border=\"1\" class=\"dataframe\">\n",
       "  <thead>\n",
       "    <tr style=\"text-align: right;\">\n",
       "      <th></th>\n",
       "      <th>offer_expiration(hrs)</th>\n",
       "      <th>income_range</th>\n",
       "      <th>age</th>\n",
       "      <th>temperature</th>\n",
       "      <th>travel_time</th>\n",
       "      <th>shaadi_Divorced</th>\n",
       "      <th>shaadi_Married partner</th>\n",
       "      <th>shaadi_Single</th>\n",
       "      <th>shaadi_Unmarried partner</th>\n",
       "      <th>shaadi_Widowed</th>\n",
       "      <th>...</th>\n",
       "      <th>visit_restaurant_with_rating_(avg)_3</th>\n",
       "      <th>visit_restaurant_with_rating_(avg)_4</th>\n",
       "      <th>climate_Spring</th>\n",
       "      <th>climate_Summer</th>\n",
       "      <th>climate_Winter</th>\n",
       "      <th>drop_location_Location A</th>\n",
       "      <th>drop_location_Location B</th>\n",
       "      <th>drop_location_Location C</th>\n",
       "      <th>prefer_home_food_0</th>\n",
       "      <th>prefer_home_food_1</th>\n",
       "    </tr>\n",
       "  </thead>\n",
       "  <tbody>\n",
       "    <tr>\n",
       "      <th>12374</th>\n",
       "      <td>10</td>\n",
       "      <td>31249.5</td>\n",
       "      <td>52</td>\n",
       "      <td>89</td>\n",
       "      <td>22</td>\n",
       "      <td>0</td>\n",
       "      <td>0</td>\n",
       "      <td>0</td>\n",
       "      <td>1</td>\n",
       "      <td>0</td>\n",
       "      <td>...</td>\n",
       "      <td>0</td>\n",
       "      <td>0</td>\n",
       "      <td>0</td>\n",
       "      <td>1</td>\n",
       "      <td>0</td>\n",
       "      <td>0</td>\n",
       "      <td>1</td>\n",
       "      <td>0</td>\n",
       "      <td>1</td>\n",
       "      <td>0</td>\n",
       "    </tr>\n",
       "    <tr>\n",
       "      <th>12375</th>\n",
       "      <td>48</td>\n",
       "      <td>31249.5</td>\n",
       "      <td>21</td>\n",
       "      <td>67</td>\n",
       "      <td>18</td>\n",
       "      <td>0</td>\n",
       "      <td>0</td>\n",
       "      <td>1</td>\n",
       "      <td>0</td>\n",
       "      <td>0</td>\n",
       "      <td>...</td>\n",
       "      <td>0</td>\n",
       "      <td>0</td>\n",
       "      <td>0</td>\n",
       "      <td>1</td>\n",
       "      <td>0</td>\n",
       "      <td>0</td>\n",
       "      <td>1</td>\n",
       "      <td>0</td>\n",
       "      <td>1</td>\n",
       "      <td>0</td>\n",
       "    </tr>\n",
       "    <tr>\n",
       "      <th>12376</th>\n",
       "      <td>10</td>\n",
       "      <td>93749.5</td>\n",
       "      <td>31</td>\n",
       "      <td>89</td>\n",
       "      <td>18</td>\n",
       "      <td>0</td>\n",
       "      <td>1</td>\n",
       "      <td>0</td>\n",
       "      <td>0</td>\n",
       "      <td>0</td>\n",
       "      <td>...</td>\n",
       "      <td>0</td>\n",
       "      <td>0</td>\n",
       "      <td>1</td>\n",
       "      <td>0</td>\n",
       "      <td>0</td>\n",
       "      <td>0</td>\n",
       "      <td>1</td>\n",
       "      <td>0</td>\n",
       "      <td>0</td>\n",
       "      <td>1</td>\n",
       "    </tr>\n",
       "    <tr>\n",
       "      <th>12377</th>\n",
       "      <td>10</td>\n",
       "      <td>18749.5</td>\n",
       "      <td>26</td>\n",
       "      <td>89</td>\n",
       "      <td>7</td>\n",
       "      <td>0</td>\n",
       "      <td>1</td>\n",
       "      <td>0</td>\n",
       "      <td>0</td>\n",
       "      <td>0</td>\n",
       "      <td>...</td>\n",
       "      <td>0</td>\n",
       "      <td>0</td>\n",
       "      <td>0</td>\n",
       "      <td>1</td>\n",
       "      <td>0</td>\n",
       "      <td>0</td>\n",
       "      <td>0</td>\n",
       "      <td>1</td>\n",
       "      <td>1</td>\n",
       "      <td>0</td>\n",
       "    </tr>\n",
       "    <tr>\n",
       "      <th>12378</th>\n",
       "      <td>48</td>\n",
       "      <td>43749.5</td>\n",
       "      <td>18</td>\n",
       "      <td>67</td>\n",
       "      <td>7</td>\n",
       "      <td>0</td>\n",
       "      <td>0</td>\n",
       "      <td>0</td>\n",
       "      <td>1</td>\n",
       "      <td>0</td>\n",
       "      <td>...</td>\n",
       "      <td>0</td>\n",
       "      <td>0</td>\n",
       "      <td>1</td>\n",
       "      <td>0</td>\n",
       "      <td>0</td>\n",
       "      <td>1</td>\n",
       "      <td>0</td>\n",
       "      <td>0</td>\n",
       "      <td>0</td>\n",
       "      <td>1</td>\n",
       "    </tr>\n",
       "  </tbody>\n",
       "</table>\n",
       "<p>5 rows × 75 columns</p>\n",
       "</div>"
      ],
      "text/plain": [
       "       offer_expiration(hrs)  income_range  age  temperature  travel_time  \\\n",
       "12374                     10       31249.5   52           89           22   \n",
       "12375                     48       31249.5   21           67           18   \n",
       "12376                     10       93749.5   31           89           18   \n",
       "12377                     10       18749.5   26           89            7   \n",
       "12378                     48       43749.5   18           67            7   \n",
       "\n",
       "       shaadi_Divorced  shaadi_Married partner  shaadi_Single  \\\n",
       "12374                0                       0              0   \n",
       "12375                0                       0              1   \n",
       "12376                0                       1              0   \n",
       "12377                0                       1              0   \n",
       "12378                0                       0              0   \n",
       "\n",
       "       shaadi_Unmarried partner  shaadi_Widowed  ...  \\\n",
       "12374                         1               0  ...   \n",
       "12375                         0               0  ...   \n",
       "12376                         0               0  ...   \n",
       "12377                         0               0  ...   \n",
       "12378                         1               0  ...   \n",
       "\n",
       "       visit_restaurant_with_rating_(avg)_3  \\\n",
       "12374                                     0   \n",
       "12375                                     0   \n",
       "12376                                     0   \n",
       "12377                                     0   \n",
       "12378                                     0   \n",
       "\n",
       "       visit_restaurant_with_rating_(avg)_4  climate_Spring  climate_Summer  \\\n",
       "12374                                     0               0               1   \n",
       "12375                                     0               0               1   \n",
       "12376                                     0               1               0   \n",
       "12377                                     0               0               1   \n",
       "12378                                     0               1               0   \n",
       "\n",
       "       climate_Winter  drop_location_Location A  drop_location_Location B  \\\n",
       "12374               0                         0                         1   \n",
       "12375               0                         0                         1   \n",
       "12376               0                         0                         1   \n",
       "12377               0                         0                         0   \n",
       "12378               0                         1                         0   \n",
       "\n",
       "       drop_location_Location C  prefer_home_food_0  prefer_home_food_1  \n",
       "12374                         0                   1                   0  \n",
       "12375                         0                   1                   0  \n",
       "12376                         0                   0                   1  \n",
       "12377                         1                   1                   0  \n",
       "12378                         0                   0                   1  \n",
       "\n",
       "[5 rows x 75 columns]"
      ]
     },
     "execution_count": 6,
     "metadata": {},
     "output_type": "execute_result"
    }
   ],
   "source": [
    "X.tail()"
   ]
  },
  {
   "cell_type": "code",
   "execution_count": 7,
   "metadata": {},
   "outputs": [],
   "source": [
    "enc=OrdinalEncoder()\n",
    "ord=enc.fit(X)\n",
    "temp=ord.transform(X)"
   ]
  },
  {
   "cell_type": "code",
   "execution_count": 8,
   "metadata": {},
   "outputs": [
    {
     "data": {
      "text/html": [
       "<div>\n",
       "<style scoped>\n",
       "    .dataframe tbody tr th:only-of-type {\n",
       "        vertical-align: middle;\n",
       "    }\n",
       "\n",
       "    .dataframe tbody tr th {\n",
       "        vertical-align: top;\n",
       "    }\n",
       "\n",
       "    .dataframe thead th {\n",
       "        text-align: right;\n",
       "    }\n",
       "</style>\n",
       "<table border=\"1\" class=\"dataframe\">\n",
       "  <thead>\n",
       "    <tr style=\"text-align: right;\">\n",
       "      <th></th>\n",
       "      <th>offer_expiration(hrs)</th>\n",
       "      <th>income_range</th>\n",
       "      <th>age</th>\n",
       "      <th>temperature</th>\n",
       "      <th>travel_time</th>\n",
       "      <th>shaadi_Divorced</th>\n",
       "      <th>shaadi_Married partner</th>\n",
       "      <th>shaadi_Single</th>\n",
       "      <th>shaadi_Unmarried partner</th>\n",
       "      <th>shaadi_Widowed</th>\n",
       "      <th>...</th>\n",
       "      <th>visit_restaurant_with_rating_(avg)_3</th>\n",
       "      <th>visit_restaurant_with_rating_(avg)_4</th>\n",
       "      <th>climate_Spring</th>\n",
       "      <th>climate_Summer</th>\n",
       "      <th>climate_Winter</th>\n",
       "      <th>drop_location_Location A</th>\n",
       "      <th>drop_location_Location B</th>\n",
       "      <th>drop_location_Location C</th>\n",
       "      <th>prefer_home_food_0</th>\n",
       "      <th>prefer_home_food_1</th>\n",
       "    </tr>\n",
       "  </thead>\n",
       "  <tbody>\n",
       "    <tr>\n",
       "      <th>12374</th>\n",
       "      <td>0.0</td>\n",
       "      <td>2.0</td>\n",
       "      <td>7.0</td>\n",
       "      <td>2.0</td>\n",
       "      <td>4.0</td>\n",
       "      <td>0.0</td>\n",
       "      <td>0.0</td>\n",
       "      <td>0.0</td>\n",
       "      <td>1.0</td>\n",
       "      <td>0.0</td>\n",
       "      <td>...</td>\n",
       "      <td>0.0</td>\n",
       "      <td>0.0</td>\n",
       "      <td>0.0</td>\n",
       "      <td>1.0</td>\n",
       "      <td>0.0</td>\n",
       "      <td>0.0</td>\n",
       "      <td>1.0</td>\n",
       "      <td>0.0</td>\n",
       "      <td>1.0</td>\n",
       "      <td>0.0</td>\n",
       "    </tr>\n",
       "    <tr>\n",
       "      <th>12375</th>\n",
       "      <td>1.0</td>\n",
       "      <td>2.0</td>\n",
       "      <td>1.0</td>\n",
       "      <td>1.0</td>\n",
       "      <td>3.0</td>\n",
       "      <td>0.0</td>\n",
       "      <td>0.0</td>\n",
       "      <td>1.0</td>\n",
       "      <td>0.0</td>\n",
       "      <td>0.0</td>\n",
       "      <td>...</td>\n",
       "      <td>0.0</td>\n",
       "      <td>0.0</td>\n",
       "      <td>0.0</td>\n",
       "      <td>1.0</td>\n",
       "      <td>0.0</td>\n",
       "      <td>0.0</td>\n",
       "      <td>1.0</td>\n",
       "      <td>0.0</td>\n",
       "      <td>1.0</td>\n",
       "      <td>0.0</td>\n",
       "    </tr>\n",
       "    <tr>\n",
       "      <th>12376</th>\n",
       "      <td>0.0</td>\n",
       "      <td>7.0</td>\n",
       "      <td>3.0</td>\n",
       "      <td>2.0</td>\n",
       "      <td>3.0</td>\n",
       "      <td>0.0</td>\n",
       "      <td>1.0</td>\n",
       "      <td>0.0</td>\n",
       "      <td>0.0</td>\n",
       "      <td>0.0</td>\n",
       "      <td>...</td>\n",
       "      <td>0.0</td>\n",
       "      <td>0.0</td>\n",
       "      <td>1.0</td>\n",
       "      <td>0.0</td>\n",
       "      <td>0.0</td>\n",
       "      <td>0.0</td>\n",
       "      <td>1.0</td>\n",
       "      <td>0.0</td>\n",
       "      <td>0.0</td>\n",
       "      <td>1.0</td>\n",
       "    </tr>\n",
       "    <tr>\n",
       "      <th>12377</th>\n",
       "      <td>0.0</td>\n",
       "      <td>1.0</td>\n",
       "      <td>2.0</td>\n",
       "      <td>2.0</td>\n",
       "      <td>0.0</td>\n",
       "      <td>0.0</td>\n",
       "      <td>1.0</td>\n",
       "      <td>0.0</td>\n",
       "      <td>0.0</td>\n",
       "      <td>0.0</td>\n",
       "      <td>...</td>\n",
       "      <td>0.0</td>\n",
       "      <td>0.0</td>\n",
       "      <td>0.0</td>\n",
       "      <td>1.0</td>\n",
       "      <td>0.0</td>\n",
       "      <td>0.0</td>\n",
       "      <td>0.0</td>\n",
       "      <td>1.0</td>\n",
       "      <td>1.0</td>\n",
       "      <td>0.0</td>\n",
       "    </tr>\n",
       "    <tr>\n",
       "      <th>12378</th>\n",
       "      <td>1.0</td>\n",
       "      <td>3.0</td>\n",
       "      <td>0.0</td>\n",
       "      <td>1.0</td>\n",
       "      <td>0.0</td>\n",
       "      <td>0.0</td>\n",
       "      <td>0.0</td>\n",
       "      <td>0.0</td>\n",
       "      <td>1.0</td>\n",
       "      <td>0.0</td>\n",
       "      <td>...</td>\n",
       "      <td>0.0</td>\n",
       "      <td>0.0</td>\n",
       "      <td>1.0</td>\n",
       "      <td>0.0</td>\n",
       "      <td>0.0</td>\n",
       "      <td>1.0</td>\n",
       "      <td>0.0</td>\n",
       "      <td>0.0</td>\n",
       "      <td>0.0</td>\n",
       "      <td>1.0</td>\n",
       "    </tr>\n",
       "  </tbody>\n",
       "</table>\n",
       "<p>5 rows × 75 columns</p>\n",
       "</div>"
      ],
      "text/plain": [
       "       offer_expiration(hrs)  income_range  age  temperature  travel_time  \\\n",
       "12374                    0.0           2.0  7.0          2.0          4.0   \n",
       "12375                    1.0           2.0  1.0          1.0          3.0   \n",
       "12376                    0.0           7.0  3.0          2.0          3.0   \n",
       "12377                    0.0           1.0  2.0          2.0          0.0   \n",
       "12378                    1.0           3.0  0.0          1.0          0.0   \n",
       "\n",
       "       shaadi_Divorced  shaadi_Married partner  shaadi_Single  \\\n",
       "12374              0.0                     0.0            0.0   \n",
       "12375              0.0                     0.0            1.0   \n",
       "12376              0.0                     1.0            0.0   \n",
       "12377              0.0                     1.0            0.0   \n",
       "12378              0.0                     0.0            0.0   \n",
       "\n",
       "       shaadi_Unmarried partner  shaadi_Widowed  ...  \\\n",
       "12374                       1.0             0.0  ...   \n",
       "12375                       0.0             0.0  ...   \n",
       "12376                       0.0             0.0  ...   \n",
       "12377                       0.0             0.0  ...   \n",
       "12378                       1.0             0.0  ...   \n",
       "\n",
       "       visit_restaurant_with_rating_(avg)_3  \\\n",
       "12374                                   0.0   \n",
       "12375                                   0.0   \n",
       "12376                                   0.0   \n",
       "12377                                   0.0   \n",
       "12378                                   0.0   \n",
       "\n",
       "       visit_restaurant_with_rating_(avg)_4  climate_Spring  climate_Summer  \\\n",
       "12374                                   0.0             0.0             1.0   \n",
       "12375                                   0.0             0.0             1.0   \n",
       "12376                                   0.0             1.0             0.0   \n",
       "12377                                   0.0             0.0             1.0   \n",
       "12378                                   0.0             1.0             0.0   \n",
       "\n",
       "       climate_Winter  drop_location_Location A  drop_location_Location B  \\\n",
       "12374             0.0                       0.0                       1.0   \n",
       "12375             0.0                       0.0                       1.0   \n",
       "12376             0.0                       0.0                       1.0   \n",
       "12377             0.0                       0.0                       0.0   \n",
       "12378             0.0                       1.0                       0.0   \n",
       "\n",
       "       drop_location_Location C  prefer_home_food_0  prefer_home_food_1  \n",
       "12374                       0.0                 1.0                 0.0  \n",
       "12375                       0.0                 1.0                 0.0  \n",
       "12376                       0.0                 0.0                 1.0  \n",
       "12377                       1.0                 1.0                 0.0  \n",
       "12378                       0.0                 0.0                 1.0  \n",
       "\n",
       "[5 rows x 75 columns]"
      ]
     },
     "execution_count": 8,
     "metadata": {},
     "output_type": "execute_result"
    }
   ],
   "source": [
    "X=pd.DataFrame(data=temp,columns=X.columns)\n",
    "X.tail()"
   ]
  },
  {
   "cell_type": "markdown",
   "metadata": {},
   "source": [
    "# Train Test Split"
   ]
  },
  {
   "cell_type": "code",
   "execution_count": 9,
   "metadata": {
    "id": "4d2NnM0XjUt4"
   },
   "outputs": [],
   "source": [
    "X_train, X_test, y_train, y_test = train_test_split(\n",
    "     X, y, \n",
    "    test_size=0.20,\n",
    "    random_state=42,\n",
    "    shuffle=True\n",
    ")"
   ]
  },
  {
   "cell_type": "markdown",
   "metadata": {},
   "source": [
    "# Linear Classifiers"
   ]
  },
  {
   "cell_type": "code",
   "execution_count": 10,
   "metadata": {},
   "outputs": [],
   "source": [
    "classifers=[RidgeClassifier(), LogisticRegression(max_iter=1000), Perceptron()]"
   ]
  },
  {
   "cell_type": "code",
   "execution_count": 11,
   "metadata": {},
   "outputs": [
    {
     "name": "stdout",
     "output_type": "stream",
     "text": [
      "#### RidgeClassifier() ######\n",
      "Emperical/Training Error 0.6060789659699081\n",
      "Genrealisation/Test Error 0.592891760904685\n",
      "Accuracy of 0.596 \n",
      " with a \n",
      " Standard Deviation of 0.007\n",
      "#### LogisticRegression(max_iter=1000) ######\n",
      "Emperical/Training Error 0.607189740482682\n",
      "Genrealisation/Test Error 0.5916801292407108\n",
      "Accuracy of 0.597 \n",
      " with a \n",
      " Standard Deviation of 0.007\n",
      "#### Perceptron() ######\n",
      "Emperical/Training Error 0.5409471877208927\n",
      "Genrealisation/Test Error 0.5468497576736672\n",
      "Accuracy of 0.539 \n",
      " with a \n",
      " Standard Deviation of 0.038\n"
     ]
    }
   ],
   "source": [
    "for clf in classifers:\n",
    "    clf.fit(X_train,y_train)\n",
    "    print('####',clf,'######')\n",
    "    print('Emperical/Training Error',clf.score(X_train,y_train))\n",
    "    print('Genrealisation/Test Error',clf.score(X_test,y_test))\n",
    "    scores = cross_val_score(clf, X, y, cv=5, n_jobs=-1)\n",
    "    print(\"Accuracy of %0.3f \\n with a \\n Standard Deviation of %0.3f\" % (scores.mean(), scores.std()))"
   ]
  },
  {
   "cell_type": "markdown",
   "metadata": {},
   "source": [
    "# Naive Bayes"
   ]
  },
  {
   "cell_type": "code",
   "execution_count": 12,
   "metadata": {},
   "outputs": [],
   "source": [
    "classifers=[GaussianNB(), BernoulliNB(), CategoricalNB(),ComplementNB(),MultinomialNB()]"
   ]
  },
  {
   "cell_type": "code",
   "execution_count": 13,
   "metadata": {},
   "outputs": [
    {
     "name": "stdout",
     "output_type": "stream",
     "text": [
      "#### GaussianNB() ######\n",
      "Emperical/Training Error 0.5610421084519842\n",
      "Genrealisation/Test Error 0.5496768982229402\n",
      "Accuracy of 0.552 \n",
      " with a \n",
      " Standard Deviation of 0.007\n",
      "#### BernoulliNB() ######\n",
      "Emperical/Training Error 0.5943653438352015\n",
      "Genrealisation/Test Error 0.5751211631663974\n",
      "Accuracy of 0.588 \n",
      " with a \n",
      " Standard Deviation of 0.008\n",
      "#### CategoricalNB() ######\n",
      "Emperical/Training Error 0.5953751388468141\n",
      "Genrealisation/Test Error 0.5803715670436187\n",
      "Accuracy of 0.588 \n",
      " with a \n",
      " Standard Deviation of 0.011\n",
      "#### ComplementNB() ######\n",
      "Emperical/Training Error 0.5798242956679794\n",
      "Genrealisation/Test Error 0.5731017770597738\n",
      "Accuracy of 0.573 \n",
      " with a \n",
      " Standard Deviation of 0.006\n",
      "#### MultinomialNB() ######\n",
      "Emperical/Training Error 0.5986064828839746\n",
      "Genrealisation/Test Error 0.5827948303715671\n",
      "Accuracy of 0.590 \n",
      " with a \n",
      " Standard Deviation of 0.005\n"
     ]
    }
   ],
   "source": [
    "for clf in classifers:\n",
    "    clf.fit(X_train,y_train)\n",
    "    print('####',clf,'######')\n",
    "    print('Emperical/Training Error',clf.score(X_train,y_train))\n",
    "    print('Genrealisation/Test Error',clf.score(X_test,y_test))\n",
    "    scores = cross_val_score(clf, X, y, cv=5, n_jobs=-1)\n",
    "    print(\"Accuracy of %0.3f \\n with a \\n Standard Deviation of %0.3f\" % (scores.mean(), scores.std()))"
   ]
  },
  {
   "cell_type": "markdown",
   "metadata": {},
   "source": [
    "# Tree Methods"
   ]
  },
  {
   "cell_type": "code",
   "execution_count": 14,
   "metadata": {
    "id": "KfH1OaJc1czF"
   },
   "outputs": [],
   "source": [
    "classifers=[DecisionTreeClassifier(),ExtraTreeClassifier()]"
   ]
  },
  {
   "cell_type": "code",
   "execution_count": 15,
   "metadata": {
    "id": "TRbam2tE1ctd"
   },
   "outputs": [
    {
     "name": "stdout",
     "output_type": "stream",
     "text": [
      "#### DecisionTreeClassifier() ######\n",
      "Emperical/Training Error 1.0\n",
      "Genrealisation/Test Error 0.529886914378029\n",
      "Accuracy of 0.541 \n",
      " with a \n",
      " Standard Deviation of 0.011\n",
      "#### ExtraTreeClassifier() ######\n",
      "Emperical/Training Error 1.0\n",
      "Genrealisation/Test Error 0.5424071082390953\n",
      "Accuracy of 0.533 \n",
      " with a \n",
      " Standard Deviation of 0.009\n"
     ]
    }
   ],
   "source": [
    "for clf in classifers:\n",
    "    clf.fit(X_train,y_train)\n",
    "    print('####',clf,'######')\n",
    "    print('Emperical/Training Error',clf.score(X_train,y_train))\n",
    "    print('Genrealisation/Test Error',clf.score(X_test,y_test))\n",
    "    scores = cross_val_score(clf, X, y, cv=5, n_jobs=-1)\n",
    "    print(\"Accuracy of %0.3f \\n with a \\n Standard Deviation of %0.3f\" % (scores.mean(), scores.std()))"
   ]
  },
  {
   "cell_type": "markdown",
   "metadata": {},
   "source": [
    "# Ensemble Classifiers"
   ]
  },
  {
   "cell_type": "code",
   "execution_count": 16,
   "metadata": {},
   "outputs": [],
   "source": [
    "classifers=[AdaBoostClassifier(),BaggingClassifier(),\n",
    "            GradientBoostingClassifier(),RandomForestClassifier(),\n",
    "            HistGradientBoostingClassifier()]"
   ]
  },
  {
   "cell_type": "code",
   "execution_count": 17,
   "metadata": {},
   "outputs": [
    {
     "name": "stdout",
     "output_type": "stream",
     "text": [
      "#### AdaBoostClassifier() ######\n",
      "Emperical/Training Error 0.6058770069675856\n",
      "Genrealisation/Test Error 0.5993537964458805\n",
      "Accuracy of 0.597 \n",
      " with a \n",
      " Standard Deviation of 0.007\n",
      "#### BaggingClassifier() ######\n",
      "Emperical/Training Error 0.9857618903362617\n",
      "Genrealisation/Test Error 0.5678513731825525\n",
      "Accuracy of 0.560 \n",
      " with a \n",
      " Standard Deviation of 0.012\n",
      "#### GradientBoostingClassifier() ######\n",
      "Emperical/Training Error 0.6373826113299\n",
      "Genrealisation/Test Error 0.6037964458804523\n",
      "Accuracy of 0.602 \n",
      " with a \n",
      " Standard Deviation of 0.010\n",
      "#### RandomForestClassifier() ######\n",
      "Emperical/Training Error 1.0\n",
      "Genrealisation/Test Error 0.6090468497576736\n",
      "Accuracy of 0.596 \n",
      " with a \n",
      " Standard Deviation of 0.006\n",
      "#### HistGradientBoostingClassifier() ######\n",
      "Emperical/Training Error 0.7614864182570938\n",
      "Genrealisation/Test Error 0.6037964458804523\n",
      "Accuracy of 0.608 \n",
      " with a \n",
      " Standard Deviation of 0.003\n"
     ]
    }
   ],
   "source": [
    "for clf in classifers:\n",
    "    clf.fit(X_train,y_train)\n",
    "    print('####',clf,'######')\n",
    "    print('Emperical/Training Error',clf.score(X_train,y_train))\n",
    "    print('Genrealisation/Test Error',clf.score(X_test,y_test))\n",
    "    scores = cross_val_score(clf, X, y, cv=5, n_jobs=-1)\n",
    "    print(\"Accuracy of %0.3f \\n with a \\n Standard Deviation of %0.3f\" % (scores.mean(), scores.std()))"
   ]
  },
  {
   "cell_type": "markdown",
   "metadata": {},
   "source": [
    "# KNN and Discriminant Analysis"
   ]
  },
  {
   "cell_type": "code",
   "execution_count": 18,
   "metadata": {},
   "outputs": [],
   "source": [
    "classifers=[\n",
    "    # MLPClassifier(max_iter=10000),\n",
    "            KNeighborsClassifier(),LinearDiscriminantAnalysis(),QuadraticDiscriminantAnalysis()]"
   ]
  },
  {
   "cell_type": "code",
   "execution_count": 19,
   "metadata": {},
   "outputs": [
    {
     "name": "stdout",
     "output_type": "stream",
     "text": [
      "#### KNeighborsClassifier() ######\n",
      "Emperical/Training Error 0.7244269413309098\n",
      "Genrealisation/Test Error 0.5646203554119548\n",
      "Accuracy of 0.562 \n",
      " with a \n",
      " Standard Deviation of 0.006\n",
      "#### LinearDiscriminantAnalysis() ######\n",
      "Emperical/Training Error 0.6060789659699081\n",
      "Genrealisation/Test Error 0.5924878836833603\n",
      "Accuracy of 0.597 \n",
      " with a \n",
      " Standard Deviation of 0.007\n",
      "#### QuadraticDiscriminantAnalysis() ######\n",
      "Emperical/Training Error 0.5425628597394729\n",
      "Genrealisation/Test Error 0.5205977382875606\n"
     ]
    },
    {
     "name": "stderr",
     "output_type": "stream",
     "text": [
      "/home/abhinav/py/lib/python3.8/site-packages/sklearn/discriminant_analysis.py:887: UserWarning: Variables are collinear\n",
      "  warnings.warn(\"Variables are collinear\")\n"
     ]
    },
    {
     "name": "stdout",
     "output_type": "stream",
     "text": [
      "Accuracy of 0.514 \n",
      " with a \n",
      " Standard Deviation of 0.024\n"
     ]
    }
   ],
   "source": [
    "for clf in classifers:\n",
    "    clf.fit(X_train,y_train)\n",
    "    print('####',clf,'######')\n",
    "    print('Emperical/Training Error',clf.score(X_train,y_train))\n",
    "    print('Genrealisation/Test Error',clf.score(X_test,y_test))\n",
    "    scores = cross_val_score(clf, X, y, cv=5, n_jobs=-1)\n",
    "    print(\"Accuracy of %0.3f \\n with a \\n Standard Deviation of %0.3f\" % (scores.mean(), scores.std()))"
   ]
  },
  {
   "cell_type": "markdown",
   "metadata": {},
   "source": [
    "# SVC Classifiers"
   ]
  },
  {
   "cell_type": "code",
   "execution_count": 20,
   "metadata": {},
   "outputs": [],
   "source": [
    "classifers=[LinearSVC(max_iter=100000),SVC(),NuSVC()]"
   ]
  },
  {
   "cell_type": "code",
   "execution_count": 21,
   "metadata": {},
   "outputs": [
    {
     "name": "stdout",
     "output_type": "stream",
     "text": [
      "#### LinearSVC(max_iter=100000) ######\n",
      "Emperical/Training Error 0.6061799454710693\n",
      "Genrealisation/Test Error 0.592891760904685\n",
      "Accuracy of 0.596 \n",
      " with a \n",
      " Standard Deviation of 0.007\n",
      "#### SVC() ######\n",
      "Emperical/Training Error 0.6368777138240937\n",
      "Genrealisation/Test Error 0.5876413570274637\n",
      "Accuracy of 0.598 \n",
      " with a \n",
      " Standard Deviation of 0.006\n",
      "#### NuSVC() ######\n",
      "Emperical/Training Error 0.9470867413914975\n",
      "Genrealisation/Test Error 0.5779483037156704\n",
      "Accuracy of 0.566 \n",
      " with a \n",
      " Standard Deviation of 0.007\n"
     ]
    }
   ],
   "source": [
    "for clf in classifers:\n",
    "    clf.fit(X_train,y_train)\n",
    "    print('####',clf,'######')\n",
    "    print('Emperical/Training Error',clf.score(X_train,y_train))\n",
    "    print('Genrealisation/Test Error',clf.score(X_test,y_test))\n",
    "    scores = cross_val_score(clf, X, y, cv=5, n_jobs=-1)\n",
    "    print(\"Accuracy of %0.3f \\n with a \\n Standard Deviation of %0.3f\" % (scores.mean(), scores.std()))"
   ]
  },
  {
   "cell_type": "code",
   "execution_count": null,
   "metadata": {},
   "outputs": [],
   "source": []
  }
 ],
 "metadata": {
  "kernelspec": {
   "display_name": "Python 3 (ipykernel)",
   "language": "python",
   "name": "python3"
  },
  "language_info": {
   "codemirror_mode": {
    "name": "ipython",
    "version": 3
   },
   "file_extension": ".py",
   "mimetype": "text/x-python",
   "name": "python",
   "nbconvert_exporter": "python",
   "pygments_lexer": "ipython3",
   "version": "3.8.10"
  }
 },
 "nbformat": 4,
 "nbformat_minor": 4
}
