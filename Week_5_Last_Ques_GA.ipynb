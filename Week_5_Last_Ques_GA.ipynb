{
 "cells": [
  {
   "cell_type": "code",
   "execution_count": 1,
   "id": "023b10d8-5d96-457f-b66f-a965e3d9f072",
   "metadata": {},
   "outputs": [],
   "source": [
    "import numpy as np\n",
    "import pandas as pd\n",
    "import openml\n",
    "import matplotlib.pyplot as plt"
   ]
  },
  {
   "cell_type": "code",
   "execution_count": 2,
   "id": "a962e8dc-3d44-4b3c-b70f-bf9a814b2dd5",
   "metadata": {},
   "outputs": [],
   "source": [
    "from sklearn.linear_model import Perceptron\n",
    "from sklearn.metrics import ConfusionMatrixDisplay, confusion_matrix"
   ]
  },
  {
   "cell_type": "code",
   "execution_count": 3,
   "id": "5e21f0a6-1043-4ae2-967d-5a2f165e166d",
   "metadata": {},
   "outputs": [],
   "source": [
    "# Get dataset by name\n",
    "dataset = openml.datasets.get_dataset('mnist_784')\n",
    "\n",
    "# Get the data itself as a dataframe (or otherwise)\n",
    "X_pd, y_pd, categorical_indicator, attribute_names = dataset.get_data(\n",
    "    target=dataset.default_target_attribute, dataset_format=\"dataframe\"\n",
    ")"
   ]
  },
  {
   "cell_type": "code",
   "execution_count": 4,
   "id": "33883411-cdf8-4315-aaa1-6b370d8cccc9",
   "metadata": {},
   "outputs": [],
   "source": [
    "# Convert to numpy array\n",
    "X = X_pd.to_numpy()\n",
    "y = y_pd.to_numpy().astype(np.int32)\n",
    "# Train Split\n",
    "X_train=X[:10000]\n",
    "X_test=X[10000:12000]\n",
    "# Test Split\n",
    "y_train=y[:10000]\n",
    "y_test=y[10000:12000]"
   ]
  },
  {
   "cell_type": "code",
   "execution_count": 5,
   "id": "949278df-9cee-4501-8854-19931ea173c4",
   "metadata": {},
   "outputs": [],
   "source": [
    "dig_5_idx = np.where(y_train == 5)[0]\n",
    "dig_3_idx = np.where(y_train == 3)[0]\n",
    "index = np.concatenate((dig_5_idx,dig_3_idx))\n",
    "# get all samples from the index array\n",
    "X_train_53 = X_train[index,:]\n",
    "# create the label vector\n",
    "y_train_53 = np.concatenate(((np.ones(len(dig_5_idx))*1),(np.ones(len(dig_3_idx))*-1)))"
   ]
  },
  {
   "cell_type": "code",
   "execution_count": 6,
   "id": "1a1d1510-bcc8-49ce-912c-4a882681cb30",
   "metadata": {},
   "outputs": [],
   "source": [
    "dig_5_idx_t = np.where(y_test == 5)[0]\n",
    "dig_3_idx_t = np.where(y_test == 3)[0]\n",
    "index = np.concatenate((dig_5_idx_t,dig_3_idx_t))\n",
    "# get all samples from the index array\n",
    "X_test_53 = X_test[index,:]\n",
    "# create the label vector\n",
    "y_test_53 = np.concatenate(((np.ones(len(dig_5_idx_t))*1),(np.ones(len(dig_3_idx_t))*-1)))"
   ]
  },
  {
   "cell_type": "code",
   "execution_count": 7,
   "id": "6a97b1ce-3382-492b-b4ac-d9960beb3b36",
   "metadata": {},
   "outputs": [],
   "source": [
    "clf=Perceptron(random_state=42,\n",
    "               # max_iter=2,\n",
    "               shuffle=False,\n",
    "               max_iter=100)"
   ]
  },
  {
   "cell_type": "code",
   "execution_count": 8,
   "id": "491f8744-923f-4a59-b907-810cd44af809",
   "metadata": {},
   "outputs": [
    {
     "data": {
      "text/html": [
       "<style>#sk-container-id-1 {color: black;background-color: white;}#sk-container-id-1 pre{padding: 0;}#sk-container-id-1 div.sk-toggleable {background-color: white;}#sk-container-id-1 label.sk-toggleable__label {cursor: pointer;display: block;width: 100%;margin-bottom: 0;padding: 0.3em;box-sizing: border-box;text-align: center;}#sk-container-id-1 label.sk-toggleable__label-arrow:before {content: \"▸\";float: left;margin-right: 0.25em;color: #696969;}#sk-container-id-1 label.sk-toggleable__label-arrow:hover:before {color: black;}#sk-container-id-1 div.sk-estimator:hover label.sk-toggleable__label-arrow:before {color: black;}#sk-container-id-1 div.sk-toggleable__content {max-height: 0;max-width: 0;overflow: hidden;text-align: left;background-color: #f0f8ff;}#sk-container-id-1 div.sk-toggleable__content pre {margin: 0.2em;color: black;border-radius: 0.25em;background-color: #f0f8ff;}#sk-container-id-1 input.sk-toggleable__control:checked~div.sk-toggleable__content {max-height: 200px;max-width: 100%;overflow: auto;}#sk-container-id-1 input.sk-toggleable__control:checked~label.sk-toggleable__label-arrow:before {content: \"▾\";}#sk-container-id-1 div.sk-estimator input.sk-toggleable__control:checked~label.sk-toggleable__label {background-color: #d4ebff;}#sk-container-id-1 div.sk-label input.sk-toggleable__control:checked~label.sk-toggleable__label {background-color: #d4ebff;}#sk-container-id-1 input.sk-hidden--visually {border: 0;clip: rect(1px 1px 1px 1px);clip: rect(1px, 1px, 1px, 1px);height: 1px;margin: -1px;overflow: hidden;padding: 0;position: absolute;width: 1px;}#sk-container-id-1 div.sk-estimator {font-family: monospace;background-color: #f0f8ff;border: 1px dotted black;border-radius: 0.25em;box-sizing: border-box;margin-bottom: 0.5em;}#sk-container-id-1 div.sk-estimator:hover {background-color: #d4ebff;}#sk-container-id-1 div.sk-parallel-item::after {content: \"\";width: 100%;border-bottom: 1px solid gray;flex-grow: 1;}#sk-container-id-1 div.sk-label:hover label.sk-toggleable__label {background-color: #d4ebff;}#sk-container-id-1 div.sk-serial::before {content: \"\";position: absolute;border-left: 1px solid gray;box-sizing: border-box;top: 0;bottom: 0;left: 50%;z-index: 0;}#sk-container-id-1 div.sk-serial {display: flex;flex-direction: column;align-items: center;background-color: white;padding-right: 0.2em;padding-left: 0.2em;position: relative;}#sk-container-id-1 div.sk-item {position: relative;z-index: 1;}#sk-container-id-1 div.sk-parallel {display: flex;align-items: stretch;justify-content: center;background-color: white;position: relative;}#sk-container-id-1 div.sk-item::before, #sk-container-id-1 div.sk-parallel-item::before {content: \"\";position: absolute;border-left: 1px solid gray;box-sizing: border-box;top: 0;bottom: 0;left: 50%;z-index: -1;}#sk-container-id-1 div.sk-parallel-item {display: flex;flex-direction: column;z-index: 1;position: relative;background-color: white;}#sk-container-id-1 div.sk-parallel-item:first-child::after {align-self: flex-end;width: 50%;}#sk-container-id-1 div.sk-parallel-item:last-child::after {align-self: flex-start;width: 50%;}#sk-container-id-1 div.sk-parallel-item:only-child::after {width: 0;}#sk-container-id-1 div.sk-dashed-wrapped {border: 1px dashed gray;margin: 0 0.4em 0.5em 0.4em;box-sizing: border-box;padding-bottom: 0.4em;background-color: white;}#sk-container-id-1 div.sk-label label {font-family: monospace;font-weight: bold;display: inline-block;line-height: 1.2em;}#sk-container-id-1 div.sk-label-container {text-align: center;}#sk-container-id-1 div.sk-container {/* jupyter's `normalize.less` sets `[hidden] { display: none; }` but bootstrap.min.css set `[hidden] { display: none !important; }` so we also need the `!important` here to be able to override the default hidden behavior on the sphinx rendered scikit-learn.org. See: https://github.com/scikit-learn/scikit-learn/issues/21755 */display: inline-block !important;position: relative;}#sk-container-id-1 div.sk-text-repr-fallback {display: none;}</style><div id=\"sk-container-id-1\" class=\"sk-top-container\"><div class=\"sk-text-repr-fallback\"><pre>Perceptron(max_iter=100, random_state=42, shuffle=False)</pre><b>In a Jupyter environment, please rerun this cell to show the HTML representation or trust the notebook. <br />On GitHub, the HTML representation is unable to render, please try loading this page with nbviewer.org.</b></div><div class=\"sk-container\" hidden><div class=\"sk-item\"><div class=\"sk-estimator sk-toggleable\"><input class=\"sk-toggleable__control sk-hidden--visually\" id=\"sk-estimator-id-1\" type=\"checkbox\" checked><label for=\"sk-estimator-id-1\" class=\"sk-toggleable__label sk-toggleable__label-arrow\">Perceptron</label><div class=\"sk-toggleable__content\"><pre>Perceptron(max_iter=100, random_state=42, shuffle=False)</pre></div></div></div></div></div>"
      ],
      "text/plain": [
       "Perceptron(max_iter=100, random_state=42, shuffle=False)"
      ]
     },
     "execution_count": 8,
     "metadata": {},
     "output_type": "execute_result"
    }
   ],
   "source": [
    "clf.fit(X_train_53,y_train_53)"
   ]
  },
  {
   "cell_type": "code",
   "execution_count": 9,
   "id": "4c3a626a-6d9c-471e-9f0e-9401c38cab30",
   "metadata": {},
   "outputs": [],
   "source": [
    "y_pred=clf.predict(X_test_53)"
   ]
  },
  {
   "cell_type": "code",
   "execution_count": 10,
   "id": "ef3a1328-7fd7-4ba9-b95f-40439aeded1e",
   "metadata": {},
   "outputs": [
    {
     "data": {
      "text/plain": [
       "<sklearn.metrics._plot.confusion_matrix.ConfusionMatrixDisplay at 0x7fcf1f83fb50>"
      ]
     },
     "execution_count": 10,
     "metadata": {},
     "output_type": "execute_result"
    },
    {
     "data": {
      "image/png": "[encoded data removed]",
      "text/plain": [
       "<Figure size 640x480 with 2 Axes>"
      ]
     },
     "metadata": {},
     "output_type": "display_data"
    }
   ],
   "source": [
    "cp=confusion_matrix(y_test_53,y_pred)\n",
    "disp=ConfusionMatrixDisplay(confusion_matrix=cp,display_labels=clf.classes_)\n",
    "disp.plot()"
   ]
  },
  {
   "cell_type": "code",
   "execution_count": 11,
   "id": "fc9487e7-11d8-47f3-954a-a7ea60e31502",
   "metadata": {},
   "outputs": [],
   "source": [
    "# clf.score(X_train_53,y_train_53)"
   ]
  },
  {
   "cell_type": "code",
   "execution_count": 12,
   "id": "7abb30f5-e63a-4c1a-bbe4-b671b5ca2c0d",
   "metadata": {},
   "outputs": [
    {
     "data": {
      "text/plain": [
       "0.5485564304461942"
      ]
     },
     "execution_count": 12,
     "metadata": {},
     "output_type": "execute_result"
    }
   ],
   "source": [
    "clf.score(X_test_53,y_test_53)"
   ]
  },
  {
   "cell_type": "code",
   "execution_count": 13,
   "id": "86c70e4e-ec36-4733-b00e-64d65531900c",
   "metadata": {},
   "outputs": [
    {
     "name": "stdout",
     "output_type": "stream",
     "text": [
      "accuracy_score 0.5485564304461942\n",
      "precision_score 1.0\n",
      "recall_score 0.07027027027027027\n"
     ]
    }
   ],
   "source": [
    "from sklearn.metrics import accuracy_score, precision_score, recall_score\n",
    "print('accuracy_score',accuracy_score(y_test_53,y_pred))\n",
    "print('precision_score',precision_score(y_test_53,y_pred))\n",
    "print('recall_score',recall_score(y_test_53,y_pred))"
   ]
  }
 ],
 "metadata": {
  "kernelspec": {
   "display_name": "Python 3 (ipykernel)",
   "language": "python",
   "name": "python3"
  },
  "language_info": {
   "codemirror_mode": {
    "name": "ipython",
    "version": 3
   },
   "file_extension": ".py",
   "mimetype": "text/x-python",
   "name": "python",
   "nbconvert_exporter": "python",
   "pygments_lexer": "ipython3",
   "version": "3.8.10"
  }
 },
 "nbformat": 4,
 "nbformat_minor": 5
}
