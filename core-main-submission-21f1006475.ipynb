{
 "cells": [
  {
   "cell_type": "markdown",
   "id": "7c463849",
   "metadata": {
    "papermill": {
     "duration": 0.01086,
     "end_time": "2022-10-20T19:49:47.723506",
     "exception": false,
     "start_time": "2022-10-20T19:49:47.712646",
     "status": "completed"
    },
    "tags": []
   },
   "source": [
    "# Importing Libraries"
   ]
  },
  {
   "cell_type": "code",
   "execution_count": 1,
   "id": "4b13ec24",
   "metadata": {
    "execution": {
     "iopub.execute_input": "2022-10-20T19:49:47.747067Z",
     "iopub.status.busy": "2022-10-20T19:49:47.745649Z",
     "iopub.status.idle": "2022-10-20T19:49:48.946991Z",
     "shell.execute_reply": "2022-10-20T19:49:48.945729Z"
    },
    "papermill": {
     "duration": 1.216099,
     "end_time": "2022-10-20T19:49:48.949930",
     "exception": false,
     "start_time": "2022-10-20T19:49:47.733831",
     "status": "completed"
    },
    "tags": []
   },
   "outputs": [],
   "source": [
    "import pandas as pd \n",
    "import numpy as np\n",
    "import seaborn as sns"
   ]
  },
  {
   "cell_type": "markdown",
   "id": "d6a791d6",
   "metadata": {
    "papermill": {
     "duration": 0.009519,
     "end_time": "2022-10-20T19:49:48.969120",
     "exception": false,
     "start_time": "2022-10-20T19:49:48.959601",
     "status": "completed"
    },
    "tags": []
   },
   "source": [
    " # Sklearn Imports"
   ]
  },
  {
   "cell_type": "code",
   "execution_count": 2,
   "id": "3ead631b",
   "metadata": {
    "execution": {
     "iopub.execute_input": "2022-10-20T19:49:48.992728Z",
     "iopub.status.busy": "2022-10-20T19:49:48.992299Z",
     "iopub.status.idle": "2022-10-20T19:49:49.459529Z",
     "shell.execute_reply": "2022-10-20T19:49:49.458173Z"
    },
    "papermill": {
     "duration": 0.481817,
     "end_time": "2022-10-20T19:49:49.462360",
     "exception": false,
     "start_time": "2022-10-20T19:49:48.980543",
     "status": "completed"
    },
    "tags": []
   },
   "outputs": [],
   "source": [
    "from sklearn.preprocessing import StandardScaler, OrdinalEncoder, MinMaxScaler, LabelEncoder, OneHotEncoder\n",
    "from sklearn.pipeline import Pipeline\n",
    "from sklearn.compose import ColumnTransformer\n",
    "from sklearn.model_selection import train_test_split\n",
    "from sklearn.metrics import confusion_matrix ,ConfusionMatrixDisplay , f1_score ,classification_report\n",
    "from sklearn.ensemble import RandomForestClassifier , AdaBoostClassifier\n",
    "from sklearn.svm import SVC\n",
    "from sklearn.tree import DecisionTreeClassifier\n",
    "from sklearn.neighbors import KNeighborsClassifier\n",
    "from sklearn.neural_network import MLPClassifier\n",
    "from sklearn.naive_bayes import GaussianNB\n",
    "from sklearn.discriminant_analysis import QuadraticDiscriminantAnalysis\n",
    "from sklearn.linear_model import LogisticRegression\n",
    "from sklearn.model_selection import RandomizedSearchCV , GridSearchCV"
   ]
  },
  {
   "cell_type": "markdown",
   "id": "5dd874e7",
   "metadata": {
    "papermill": {
     "duration": 0.009392,
     "end_time": "2022-10-20T19:49:49.481533",
     "exception": false,
     "start_time": "2022-10-20T19:49:49.472141",
     "status": "completed"
    },
    "tags": []
   },
   "source": [
    "# Read CSV "
   ]
  },
  {
   "cell_type": "code",
   "execution_count": 3,
   "id": "95172870",
   "metadata": {
    "execution": {
     "iopub.execute_input": "2022-10-20T19:49:49.502749Z",
     "iopub.status.busy": "2022-10-20T19:49:49.502356Z",
     "iopub.status.idle": "2022-10-20T19:49:49.667033Z",
     "shell.execute_reply": "2022-10-20T19:49:49.665981Z"
    },
    "papermill": {
     "duration": 0.178082,
     "end_time": "2022-10-20T19:49:49.669623",
     "exception": false,
     "start_time": "2022-10-20T19:49:49.491541",
     "status": "completed"
    },
    "tags": []
   },
   "outputs": [],
   "source": [
    "df=pd.read_csv('/kaggle/input/marketing-strategy-personalised-offer/train_data.csv')\n",
    "df_test=pd.read_csv('/kaggle/input/marketing-strategy-personalised-offer/test_data.csv')"
   ]
  },
  {
   "cell_type": "markdown",
   "id": "326e428c",
   "metadata": {
    "papermill": {
     "duration": 0.009928,
     "end_time": "2022-10-20T19:49:49.690142",
     "exception": false,
     "start_time": "2022-10-20T19:49:49.680214",
     "status": "completed"
    },
    "tags": []
   },
   "source": [
    "# Date Cleaning Function"
   ]
  },
  {
   "cell_type": "code",
   "execution_count": 4,
   "id": "4e637e4b",
   "metadata": {
    "execution": {
     "iopub.execute_input": "2022-10-20T19:49:49.711426Z",
     "iopub.status.busy": "2022-10-20T19:49:49.711025Z",
     "iopub.status.idle": "2022-10-20T19:49:49.717699Z",
     "shell.execute_reply": "2022-10-20T19:49:49.716541Z"
    },
    "papermill": {
     "duration": 0.020258,
     "end_time": "2022-10-20T19:49:49.720117",
     "exception": false,
     "start_time": "2022-10-20T19:49:49.699859",
     "status": "completed"
    },
    "tags": []
   },
   "outputs": [],
   "source": [
    "def clean_date(date):\n",
    "    i=0\n",
    "    for x in date:\n",
    "        # print(x)\n",
    "        if x=='2days':\n",
    "            date[i]=48\n",
    "        else:\n",
    "            date[i]=10\n",
    "        i+=1\n",
    "    return date"
   ]
  },
  {
   "cell_type": "markdown",
   "id": "21aa0842",
   "metadata": {
    "papermill": {
     "duration": 0.009368,
     "end_time": "2022-10-20T19:49:49.740369",
     "exception": false,
     "start_time": "2022-10-20T19:49:49.731001",
     "status": "completed"
    },
    "tags": []
   },
   "source": [
    "# Income Cleaning Function"
   ]
  },
  {
   "cell_type": "code",
   "execution_count": 5,
   "id": "ad1960ec",
   "metadata": {
    "execution": {
     "iopub.execute_input": "2022-10-20T19:49:49.761624Z",
     "iopub.status.busy": "2022-10-20T19:49:49.761043Z",
     "iopub.status.idle": "2022-10-20T19:49:49.767444Z",
     "shell.execute_reply": "2022-10-20T19:49:49.766597Z"
    },
    "papermill": {
     "duration": 0.019775,
     "end_time": "2022-10-20T19:49:49.769760",
     "exception": false,
     "start_time": "2022-10-20T19:49:49.749985",
     "status": "completed"
    },
    "tags": []
   },
   "outputs": [],
   "source": [
    "def clean_income(data):    \n",
    "    for i in range(len(data)):\n",
    "        x=data[i]\n",
    "        if x=='₹100000 or More':\n",
    "            data[i]=100000\n",
    "        elif x=='Less than ₹12500':\n",
    "            data[i]=12500\n",
    "        else:\n",
    "            s=x.strip().split('-')\n",
    "            a=float(s[0][1:])\n",
    "            b=float(s[1][2:])\n",
    "            data[i]=float((a+b)*0.5) # average calculation\n",
    "    return data"
   ]
  },
  {
   "cell_type": "markdown",
   "id": "31d0db2d",
   "metadata": {
    "papermill": {
     "duration": 0.009437,
     "end_time": "2022-10-20T19:49:49.789344",
     "exception": false,
     "start_time": "2022-10-20T19:49:49.779907",
     "status": "completed"
    },
    "tags": []
   },
   "source": [
    "# Age Cleaning Function"
   ]
  },
  {
   "cell_type": "code",
   "execution_count": 6,
   "id": "523d1907",
   "metadata": {
    "execution": {
     "iopub.execute_input": "2022-10-20T19:49:49.811061Z",
     "iopub.status.busy": "2022-10-20T19:49:49.810393Z",
     "iopub.status.idle": "2022-10-20T19:49:49.815419Z",
     "shell.execute_reply": "2022-10-20T19:49:49.814538Z"
    },
    "papermill": {
     "duration": 0.018619,
     "end_time": "2022-10-20T19:49:49.817618",
     "exception": false,
     "start_time": "2022-10-20T19:49:49.798999",
     "status": "completed"
    },
    "tags": []
   },
   "outputs": [],
   "source": [
    "def clean_age(age):\n",
    "    i=0\n",
    "    for x in age:\n",
    "        if x==\"50plus\":\n",
    "            age[i]=52\n",
    "        if x==\"below21\":\n",
    "            age[i]=18\n",
    "        i+=1\n",
    "    return age"
   ]
  },
  {
   "cell_type": "markdown",
   "id": "992068f5",
   "metadata": {
    "papermill": {
     "duration": 0.009354,
     "end_time": "2022-10-20T19:49:49.836769",
     "exception": false,
     "start_time": "2022-10-20T19:49:49.827415",
     "status": "completed"
    },
    "tags": []
   },
   "source": [
    "# Calling Cleaning Function"
   ]
  },
  {
   "cell_type": "code",
   "execution_count": 7,
   "id": "e3f574c0",
   "metadata": {
    "execution": {
     "iopub.execute_input": "2022-10-20T19:49:49.858622Z",
     "iopub.status.busy": "2022-10-20T19:49:49.858020Z",
     "iopub.status.idle": "2022-10-20T19:49:49.981402Z",
     "shell.execute_reply": "2022-10-20T19:49:49.980440Z"
    },
    "papermill": {
     "duration": 0.137827,
     "end_time": "2022-10-20T19:49:49.984237",
     "exception": false,
     "start_time": "2022-10-20T19:49:49.846410",
     "status": "completed"
    },
    "tags": []
   },
   "outputs": [],
   "source": [
    "temp=df['offer expiration'].copy()\n",
    "temp=clean_date(temp)\n",
    "df['offer expiration']=temp\n",
    "# temp\n",
    "# For Test Data\n",
    "temp=df_test['offer expiration'].copy()\n",
    "temp=clean_date(temp)\n",
    "df_test['offer expiration']=temp"
   ]
  },
  {
   "cell_type": "code",
   "execution_count": 8,
   "id": "472642f4",
   "metadata": {
    "execution": {
     "iopub.execute_input": "2022-10-20T19:49:50.006321Z",
     "iopub.status.busy": "2022-10-20T19:49:50.005547Z",
     "iopub.status.idle": "2022-10-20T19:49:50.206262Z",
     "shell.execute_reply": "2022-10-20T19:49:50.205214Z"
    },
    "papermill": {
     "duration": 0.214628,
     "end_time": "2022-10-20T19:49:50.209043",
     "exception": false,
     "start_time": "2022-10-20T19:49:49.994415",
     "status": "completed"
    },
    "tags": []
   },
   "outputs": [],
   "source": [
    "temp=df['income_range'].copy()\n",
    "temp=clean_income(temp)\n",
    "df['income_range']=temp\n",
    "# temp\n",
    "# For Test Data\n",
    "temp=df_test['income_range'].copy()\n",
    "temp=clean_income(temp)\n",
    "df_test['income_range']=temp"
   ]
  },
  {
   "cell_type": "code",
   "execution_count": 9,
   "id": "80b90efb",
   "metadata": {
    "execution": {
     "iopub.execute_input": "2022-10-20T19:49:50.231378Z",
     "iopub.status.busy": "2022-10-20T19:49:50.230525Z",
     "iopub.status.idle": "2022-10-20T19:49:50.261802Z",
     "shell.execute_reply": "2022-10-20T19:49:50.260892Z"
    },
    "papermill": {
     "duration": 0.045736,
     "end_time": "2022-10-20T19:49:50.264546",
     "exception": false,
     "start_time": "2022-10-20T19:49:50.218810",
     "status": "completed"
    },
    "tags": []
   },
   "outputs": [],
   "source": [
    "temp=df['age'].copy()\n",
    "temp=clean_age(temp)\n",
    "df['age']=temp\n",
    "# temp\n",
    "# For Test Data\n",
    "temp=df_test['age'].copy()\n",
    "temp=clean_age(temp)\n",
    "df_test['age']=temp"
   ]
  },
  {
   "cell_type": "markdown",
   "id": "7fc0ab4b",
   "metadata": {
    "papermill": {
     "duration": 0.009355,
     "end_time": "2022-10-20T19:49:50.283657",
     "exception": false,
     "start_time": "2022-10-20T19:49:50.274302",
     "status": "completed"
    },
    "tags": []
   },
   "source": [
    "# Cleaned DataSet"
   ]
  },
  {
   "cell_type": "code",
   "execution_count": 10,
   "id": "f7abc8df",
   "metadata": {
    "execution": {
     "iopub.execute_input": "2022-10-20T19:49:50.304741Z",
     "iopub.status.busy": "2022-10-20T19:49:50.304303Z",
     "iopub.status.idle": "2022-10-20T19:49:50.309313Z",
     "shell.execute_reply": "2022-10-20T19:49:50.308251Z"
    },
    "papermill": {
     "duration": 0.0184,
     "end_time": "2022-10-20T19:49:50.311612",
     "exception": false,
     "start_time": "2022-10-20T19:49:50.293212",
     "status": "completed"
    },
    "tags": []
   },
   "outputs": [],
   "source": [
    "# df"
   ]
  },
  {
   "cell_type": "code",
   "execution_count": 11,
   "id": "406f2707",
   "metadata": {
    "execution": {
     "iopub.execute_input": "2022-10-20T19:49:50.333334Z",
     "iopub.status.busy": "2022-10-20T19:49:50.332411Z",
     "iopub.status.idle": "2022-10-20T19:49:50.337638Z",
     "shell.execute_reply": "2022-10-20T19:49:50.336562Z"
    },
    "papermill": {
     "duration": 0.018769,
     "end_time": "2022-10-20T19:49:50.340193",
     "exception": false,
     "start_time": "2022-10-20T19:49:50.321424",
     "status": "completed"
    },
    "tags": []
   },
   "outputs": [],
   "source": [
    "# 2,4,11,13,19,21,25"
   ]
  },
  {
   "cell_type": "code",
   "execution_count": 12,
   "id": "6031695f",
   "metadata": {
    "execution": {
     "iopub.execute_input": "2022-10-20T19:49:50.361325Z",
     "iopub.status.busy": "2022-10-20T19:49:50.360944Z",
     "iopub.status.idle": "2022-10-20T19:49:50.367530Z",
     "shell.execute_reply": "2022-10-20T19:49:50.366148Z"
    },
    "papermill": {
     "duration": 0.019999,
     "end_time": "2022-10-20T19:49:50.369976",
     "exception": false,
     "start_time": "2022-10-20T19:49:50.349977",
     "status": "completed"
    },
    "tags": []
   },
   "outputs": [],
   "source": [
    "target=[]\n",
    "for x in df.columns:\n",
    "    # print(type(x))\n",
    "    # if(df.columns.get_loc(x) not in (2,4,11,13,19,21,25)):\n",
    "    # dicarding extra cloumns for model     \n",
    "    if(df.columns.get_loc(x) not in {2,4,11,13,19,21,25,9,10,3}):\n",
    "        target.append(x)\n",
    "# target"
   ]
  },
  {
   "cell_type": "code",
   "execution_count": 13,
   "id": "ee9d41b1",
   "metadata": {
    "execution": {
     "iopub.execute_input": "2022-10-20T19:49:50.391543Z",
     "iopub.status.busy": "2022-10-20T19:49:50.390737Z",
     "iopub.status.idle": "2022-10-20T19:49:50.423672Z",
     "shell.execute_reply": "2022-10-20T19:49:50.422397Z"
    },
    "papermill": {
     "duration": 0.047202,
     "end_time": "2022-10-20T19:49:50.426959",
     "exception": false,
     "start_time": "2022-10-20T19:49:50.379757",
     "status": "completed"
    },
    "tags": []
   },
   "outputs": [
    {
     "name": "stdout",
     "output_type": "stream",
     "text": [
      "<class 'pandas.core.frame.DataFrame'>\n",
      "RangeIndex: 12379 entries, 0 to 12378\n",
      "Data columns (total 21 columns):\n",
      " #   Column                              Non-Null Count  Dtype \n",
      "---  ------                              --------------  ----- \n",
      " 0   offer expiration                    12379 non-null  object\n",
      " 1   income_range                        12379 non-null  object\n",
      " 2   Marital Status                      12379 non-null  object\n",
      " 3   restaurant type                     12379 non-null  object\n",
      " 4   age                                 12379 non-null  object\n",
      " 5   Prefer western over chinese         12379 non-null  int64 \n",
      " 6   gender                              12379 non-null  object\n",
      " 7   restuarant_same_direction_house     12379 non-null  int64 \n",
      " 8   Cooks regularly                     12379 non-null  int64 \n",
      " 9   Customer type                       12379 non-null  object\n",
      " 10  Qualification                       12379 non-null  object\n",
      " 11  is foodie                           12379 non-null  int64 \n",
      " 12  Job/Job Industry                    12379 non-null  object\n",
      " 13  has Children                        12379 non-null  int64 \n",
      " 14  visit restaurant with rating (avg)  12379 non-null  int64 \n",
      " 15  temperature                         12379 non-null  int64 \n",
      " 16  Travel Time                         12379 non-null  int64 \n",
      " 17  Climate                             12379 non-null  object\n",
      " 18  drop location                       12379 non-null  object\n",
      " 19  Prefer home food                    12379 non-null  int64 \n",
      " 20  Offer Accepted                      12379 non-null  object\n",
      "dtypes: int64(9), object(12)\n",
      "memory usage: 2.0+ MB\n"
     ]
    }
   ],
   "source": [
    "df[target].info()"
   ]
  },
  {
   "cell_type": "markdown",
   "id": "e5895497",
   "metadata": {
    "papermill": {
     "duration": 0.00958,
     "end_time": "2022-10-20T19:49:50.446478",
     "exception": false,
     "start_time": "2022-10-20T19:49:50.436898",
     "status": "completed"
    },
    "tags": []
   },
   "source": [
    "# Renaming Featues -"
   ]
  },
  {
   "cell_type": "code",
   "execution_count": 14,
   "id": "8316815b",
   "metadata": {
    "execution": {
     "iopub.execute_input": "2022-10-20T19:49:50.468964Z",
     "iopub.status.busy": "2022-10-20T19:49:50.468203Z",
     "iopub.status.idle": "2022-10-20T19:49:50.478695Z",
     "shell.execute_reply": "2022-10-20T19:49:50.477381Z"
    },
    "papermill": {
     "duration": 0.024873,
     "end_time": "2022-10-20T19:49:50.481339",
     "exception": false,
     "start_time": "2022-10-20T19:49:50.456466",
     "status": "completed"
    },
    "tags": []
   },
   "outputs": [],
   "source": [
    "df=df[target]\n",
    "# For Test Data\n",
    "temp=target[:-1]\n",
    "df_test=df_test[temp]"
   ]
  },
  {
   "cell_type": "code",
   "execution_count": 15,
   "id": "52470ad6",
   "metadata": {
    "execution": {
     "iopub.execute_input": "2022-10-20T19:49:50.503681Z",
     "iopub.status.busy": "2022-10-20T19:49:50.502489Z",
     "iopub.status.idle": "2022-10-20T19:49:50.511064Z",
     "shell.execute_reply": "2022-10-20T19:49:50.509952Z"
    },
    "papermill": {
     "duration": 0.022328,
     "end_time": "2022-10-20T19:49:50.513586",
     "exception": false,
     "start_time": "2022-10-20T19:49:50.491258",
     "status": "completed"
    },
    "tags": []
   },
   "outputs": [],
   "source": [
    "target[0]=\"offer_expiration(hrs)\"\n",
    "target[1]='income_range'\n",
    "target[2]='shaadi'\n",
    "target[3]='restaurant_type'\n",
    "target[4]='age'\n",
    "target[5]='western/chinese'\n",
    "target[6]='gender'\n",
    "target[7]='restuarant_same_direction_house'\n",
    "target[8]='cooks_regularly'\n",
    "target[9]='customer_type'\n",
    "target[10]='education'\n",
    "target[11]='is_foodie'\n",
    "target[12]='industry'\n",
    "target[13]='children'\n",
    "target[14]='visit_restaurant_with_rating_(avg)'\n",
    "target[15]='temperature'\n",
    "target[16]='travel_time'\n",
    "target[17]='climate'\n",
    "target[18]='drop_location'\n",
    "target[19]='prefer_home_food'\n",
    "target[20]='offer_accepted'"
   ]
  },
  {
   "cell_type": "code",
   "execution_count": 16,
   "id": "a3bb5305",
   "metadata": {
    "execution": {
     "iopub.execute_input": "2022-10-20T19:49:50.535621Z",
     "iopub.status.busy": "2022-10-20T19:49:50.535225Z",
     "iopub.status.idle": "2022-10-20T19:49:50.540904Z",
     "shell.execute_reply": "2022-10-20T19:49:50.539687Z"
    },
    "papermill": {
     "duration": 0.019684,
     "end_time": "2022-10-20T19:49:50.543205",
     "exception": false,
     "start_time": "2022-10-20T19:49:50.523521",
     "status": "completed"
    },
    "tags": []
   },
   "outputs": [],
   "source": [
    "df.columns=target\n",
    "# For Test Data\n",
    "temp=target[:-1]\n",
    "df_test.columns=temp"
   ]
  },
  {
   "cell_type": "markdown",
   "id": "c1f1cac6",
   "metadata": {
    "papermill": {
     "duration": 0.009573,
     "end_time": "2022-10-20T19:49:50.562811",
     "exception": false,
     "start_time": "2022-10-20T19:49:50.553238",
     "status": "completed"
    },
    "tags": []
   },
   "source": [
    "# **Final Dataset After Cleaning**"
   ]
  },
  {
   "cell_type": "code",
   "execution_count": 17,
   "id": "159875f4",
   "metadata": {
    "execution": {
     "iopub.execute_input": "2022-10-20T19:49:50.584624Z",
     "iopub.status.busy": "2022-10-20T19:49:50.584222Z",
     "iopub.status.idle": "2022-10-20T19:49:50.589024Z",
     "shell.execute_reply": "2022-10-20T19:49:50.587753Z"
    },
    "papermill": {
     "duration": 0.018959,
     "end_time": "2022-10-20T19:49:50.591485",
     "exception": false,
     "start_time": "2022-10-20T19:49:50.572526",
     "status": "completed"
    },
    "tags": []
   },
   "outputs": [],
   "source": [
    "# df"
   ]
  },
  {
   "cell_type": "code",
   "execution_count": 18,
   "id": "2be7ebd2",
   "metadata": {
    "execution": {
     "iopub.execute_input": "2022-10-20T19:49:50.613264Z",
     "iopub.status.busy": "2022-10-20T19:49:50.612871Z",
     "iopub.status.idle": "2022-10-20T19:49:50.617468Z",
     "shell.execute_reply": "2022-10-20T19:49:50.616446Z"
    },
    "papermill": {
     "duration": 0.018318,
     "end_time": "2022-10-20T19:49:50.619707",
     "exception": false,
     "start_time": "2022-10-20T19:49:50.601389",
     "status": "completed"
    },
    "tags": []
   },
   "outputs": [],
   "source": [
    "# df_test"
   ]
  },
  {
   "cell_type": "markdown",
   "id": "e66bee79",
   "metadata": {
    "papermill": {
     "duration": 0.009602,
     "end_time": "2022-10-20T19:49:50.639375",
     "exception": false,
     "start_time": "2022-10-20T19:49:50.629773",
     "status": "completed"
    },
    "tags": []
   },
   "source": [
    "Write and Read"
   ]
  },
  {
   "cell_type": "code",
   "execution_count": 19,
   "id": "a255b4ba",
   "metadata": {
    "execution": {
     "iopub.execute_input": "2022-10-20T19:49:50.660780Z",
     "iopub.status.busy": "2022-10-20T19:49:50.660403Z",
     "iopub.status.idle": "2022-10-20T19:49:50.781355Z",
     "shell.execute_reply": "2022-10-20T19:49:50.780234Z"
    },
    "papermill": {
     "duration": 0.134778,
     "end_time": "2022-10-20T19:49:50.784034",
     "exception": false,
     "start_time": "2022-10-20T19:49:50.649256",
     "status": "completed"
    },
    "tags": []
   },
   "outputs": [],
   "source": [
    "df.to_csv('train1.csv',index=False)\n",
    "df=None\n",
    "df=pd.read_csv('./train1.csv')"
   ]
  },
  {
   "cell_type": "markdown",
   "id": "0cbcd81f",
   "metadata": {
    "papermill": {
     "duration": 0.00945,
     "end_time": "2022-10-20T19:49:50.803455",
     "exception": false,
     "start_time": "2022-10-20T19:49:50.794005",
     "status": "completed"
    },
    "tags": []
   },
   "source": [
    "# Split the DataSet into Train and Test"
   ]
  },
  {
   "cell_type": "code",
   "execution_count": 20,
   "id": "692b4b6a",
   "metadata": {
    "execution": {
     "iopub.execute_input": "2022-10-20T19:49:50.824974Z",
     "iopub.status.busy": "2022-10-20T19:49:50.824571Z",
     "iopub.status.idle": "2022-10-20T19:49:50.833286Z",
     "shell.execute_reply": "2022-10-20T19:49:50.832206Z"
    },
    "papermill": {
     "duration": 0.022457,
     "end_time": "2022-10-20T19:49:50.835706",
     "exception": false,
     "start_time": "2022-10-20T19:49:50.813249",
     "status": "completed"
    },
    "tags": []
   },
   "outputs": [],
   "source": [
    "features=df.columns[:-1]\n",
    "target=df.columns[-1]\n",
    "X=df[features]\n",
    "y=df[target]"
   ]
  },
  {
   "cell_type": "code",
   "execution_count": 21,
   "id": "3d572b67",
   "metadata": {
    "execution": {
     "iopub.execute_input": "2022-10-20T19:49:50.858760Z",
     "iopub.status.busy": "2022-10-20T19:49:50.857573Z",
     "iopub.status.idle": "2022-10-20T19:49:50.869299Z",
     "shell.execute_reply": "2022-10-20T19:49:50.867870Z"
    },
    "papermill": {
     "duration": 0.02644,
     "end_time": "2022-10-20T19:49:50.872175",
     "exception": false,
     "start_time": "2022-10-20T19:49:50.845735",
     "status": "completed"
    },
    "tags": []
   },
   "outputs": [],
   "source": [
    "X_train, X_test, y_train, y_test = train_test_split(\n",
    "     X, y, \n",
    "    test_size=0.20,\n",
    "    random_state=42,\n",
    "    shuffle=True\n",
    ")"
   ]
  },
  {
   "cell_type": "markdown",
   "id": "3a35f458",
   "metadata": {
    "papermill": {
     "duration": 0.009648,
     "end_time": "2022-10-20T19:49:50.892103",
     "exception": false,
     "start_time": "2022-10-20T19:49:50.882455",
     "status": "completed"
    },
    "tags": []
   },
   "source": [
    "# PipeLine Declearation"
   ]
  },
  {
   "cell_type": "code",
   "execution_count": 22,
   "id": "42b29a6b",
   "metadata": {
    "execution": {
     "iopub.execute_input": "2022-10-20T19:49:50.913940Z",
     "iopub.status.busy": "2022-10-20T19:49:50.913503Z",
     "iopub.status.idle": "2022-10-20T19:49:50.922606Z",
     "shell.execute_reply": "2022-10-20T19:49:50.921452Z"
    },
    "papermill": {
     "duration": 0.023405,
     "end_time": "2022-10-20T19:49:50.925257",
     "exception": false,
     "start_time": "2022-10-20T19:49:50.901852",
     "status": "completed"
    },
    "tags": []
   },
   "outputs": [],
   "source": [
    "from sklearn.compose import make_column_selector as selector\n",
    "\n",
    "numerical_columns_selector = selector(dtype_exclude=object)\n",
    "categorical_columns_selector = selector(dtype_include=object)\n",
    "\n",
    "numerical_columns = numerical_columns_selector(X)\n",
    "categorical_columns = categorical_columns_selector(X)"
   ]
  },
  {
   "cell_type": "code",
   "execution_count": 23,
   "id": "1cf8929f",
   "metadata": {
    "execution": {
     "iopub.execute_input": "2022-10-20T19:49:50.947978Z",
     "iopub.status.busy": "2022-10-20T19:49:50.947269Z",
     "iopub.status.idle": "2022-10-20T19:49:50.954516Z",
     "shell.execute_reply": "2022-10-20T19:49:50.953625Z"
    },
    "papermill": {
     "duration": 0.021517,
     "end_time": "2022-10-20T19:49:50.956948",
     "exception": false,
     "start_time": "2022-10-20T19:49:50.935431",
     "status": "completed"
    },
    "tags": []
   },
   "outputs": [],
   "source": [
    "categorical_transformer = Pipeline(\n",
    "    steps=[(\n",
    "    \"encoder\",OrdinalEncoder()\n",
    "    )]\n",
    ")\n",
    "numeric_transformer = Pipeline(\n",
    "    steps=[(\"scaler\", StandardScaler())]\n",
    ")\n",
    "preprocessor = ColumnTransformer(\n",
    "    transformers=[\n",
    "        (\"numerical\", numeric_transformer, numerical_columns),\n",
    "        (\"categorical\", categorical_transformer, categorical_columns),\n",
    "    ]\n",
    ")\n",
    "pipe=Pipeline(steps=[\n",
    "    ('preprocess',preprocessor),\n",
    "    ('model',RandomForestClassifier(\n",
    "#         max_iter=10000,\n",
    "        n_jobs=-1\n",
    "    ))\n",
    "])"
   ]
  },
  {
   "cell_type": "markdown",
   "id": "c037c569",
   "metadata": {
    "papermill": {
     "duration": 0.009456,
     "end_time": "2022-10-20T19:49:50.976224",
     "exception": false,
     "start_time": "2022-10-20T19:49:50.966768",
     "status": "completed"
    },
    "tags": []
   },
   "source": [
    "***Label Transform***"
   ]
  },
  {
   "cell_type": "code",
   "execution_count": 24,
   "id": "9fc3cd7e",
   "metadata": {
    "execution": {
     "iopub.execute_input": "2022-10-20T19:49:50.997904Z",
     "iopub.status.busy": "2022-10-20T19:49:50.997266Z",
     "iopub.status.idle": "2022-10-20T19:49:51.005872Z",
     "shell.execute_reply": "2022-10-20T19:49:51.005056Z"
    },
    "papermill": {
     "duration": 0.022263,
     "end_time": "2022-10-20T19:49:51.008241",
     "exception": false,
     "start_time": "2022-10-20T19:49:50.985978",
     "status": "completed"
    },
    "tags": []
   },
   "outputs": [],
   "source": [
    "lb=LabelEncoder()\n",
    "lb.fit(y_train)\n",
    "y_train=lb.transform(y_train)\n",
    "y_test=lb.transform(y_test)"
   ]
  },
  {
   "cell_type": "markdown",
   "id": "2c5cc00b",
   "metadata": {
    "papermill": {
     "duration": 0.01057,
     "end_time": "2022-10-20T19:49:51.028516",
     "exception": false,
     "start_time": "2022-10-20T19:49:51.017946",
     "status": "completed"
    },
    "tags": []
   },
   "source": [
    "# Fitting the Pipeline"
   ]
  },
  {
   "cell_type": "code",
   "execution_count": 25,
   "id": "64d2460f",
   "metadata": {
    "execution": {
     "iopub.execute_input": "2022-10-20T19:49:51.050413Z",
     "iopub.status.busy": "2022-10-20T19:49:51.049497Z",
     "iopub.status.idle": "2022-10-20T19:49:51.859761Z",
     "shell.execute_reply": "2022-10-20T19:49:51.858599Z"
    },
    "papermill": {
     "duration": 0.824047,
     "end_time": "2022-10-20T19:49:51.862409",
     "exception": false,
     "start_time": "2022-10-20T19:49:51.038362",
     "status": "completed"
    },
    "tags": []
   },
   "outputs": [
    {
     "data": {
      "text/plain": [
       "Pipeline(steps=[('preprocess',\n",
       "                 ColumnTransformer(transformers=[('numerical',\n",
       "                                                  Pipeline(steps=[('scaler',\n",
       "                                                                   StandardScaler())]),\n",
       "                                                  ['offer_expiration(hrs)',\n",
       "                                                   'income_range', 'age',\n",
       "                                                   'western/chinese',\n",
       "                                                   'restuarant_same_direction_house',\n",
       "                                                   'cooks_regularly',\n",
       "                                                   'is_foodie', 'children',\n",
       "                                                   'visit_restaurant_with_rating_(avg)',\n",
       "                                                   'temperature', 'travel_time',\n",
       "                                                   'prefer_home_food']),\n",
       "                                                 ('categorical',\n",
       "                                                  Pipeline(steps=[('encoder',\n",
       "                                                                   OrdinalEncoder())]),\n",
       "                                                  ['shaadi', 'restaurant_type',\n",
       "                                                   'gender', 'customer_type',\n",
       "                                                   'education', 'industry',\n",
       "                                                   'climate',\n",
       "                                                   'drop_location'])])),\n",
       "                ('model', RandomForestClassifier(n_jobs=-1))])"
      ]
     },
     "execution_count": 25,
     "metadata": {},
     "output_type": "execute_result"
    }
   ],
   "source": [
    "pipe.fit(X_train,y_train)"
   ]
  },
  {
   "cell_type": "markdown",
   "id": "2f64370c",
   "metadata": {
    "papermill": {
     "duration": 0.010185,
     "end_time": "2022-10-20T19:49:51.885908",
     "exception": false,
     "start_time": "2022-10-20T19:49:51.875723",
     "status": "completed"
    },
    "tags": []
   },
   "source": [
    "# Looking at Training and Testing Errors"
   ]
  },
  {
   "cell_type": "code",
   "execution_count": 26,
   "id": "4a8e1430",
   "metadata": {
    "execution": {
     "iopub.execute_input": "2022-10-20T19:49:51.909031Z",
     "iopub.status.busy": "2022-10-20T19:49:51.907717Z",
     "iopub.status.idle": "2022-10-20T19:49:52.261151Z",
     "shell.execute_reply": "2022-10-20T19:49:52.259992Z"
    },
    "papermill": {
     "duration": 0.368116,
     "end_time": "2022-10-20T19:49:52.263979",
     "exception": false,
     "start_time": "2022-10-20T19:49:51.895863",
     "status": "completed"
    },
    "tags": []
   },
   "outputs": [
    {
     "name": "stdout",
     "output_type": "stream",
     "text": [
      "Emperical/Training Error 1.0\n",
      "Genrealisation/Test Error 0.5852180936995154\n"
     ]
    }
   ],
   "source": [
    "print('Emperical/Training Error',pipe.score(X_train,y_train))\n",
    "print('Genrealisation/Test Error',pipe.score(X_test,y_test))"
   ]
  },
  {
   "cell_type": "markdown",
   "id": "7b0bb519",
   "metadata": {
    "papermill": {
     "duration": 0.009867,
     "end_time": "2022-10-20T19:49:52.284542",
     "exception": false,
     "start_time": "2022-10-20T19:49:52.274675",
     "status": "completed"
    },
    "tags": []
   },
   "source": [
    "# Genrating Submission"
   ]
  },
  {
   "cell_type": "code",
   "execution_count": 27,
   "id": "20c0e1a3",
   "metadata": {
    "execution": {
     "iopub.execute_input": "2022-10-20T19:49:52.306549Z",
     "iopub.status.busy": "2022-10-20T19:49:52.305786Z",
     "iopub.status.idle": "2022-10-20T19:49:52.440041Z",
     "shell.execute_reply": "2022-10-20T19:49:52.438834Z"
    },
    "papermill": {
     "duration": 0.147911,
     "end_time": "2022-10-20T19:49:52.442427",
     "exception": false,
     "start_time": "2022-10-20T19:49:52.294516",
     "status": "completed"
    },
    "tags": []
   },
   "outputs": [
    {
     "data": {
      "text/plain": [
       "array(['No', 'Yes', 'No', ..., 'No', 'No', 'No'], dtype=object)"
      ]
     },
     "execution_count": 27,
     "metadata": {},
     "output_type": "execute_result"
    }
   ],
   "source": [
    "out=pipe.predict(df_test)\n",
    "out=lb.inverse_transform(out)\n",
    "out"
   ]
  },
  {
   "cell_type": "code",
   "execution_count": 28,
   "id": "25c9b5b6",
   "metadata": {
    "execution": {
     "iopub.execute_input": "2022-10-20T19:49:52.465227Z",
     "iopub.status.busy": "2022-10-20T19:49:52.464030Z",
     "iopub.status.idle": "2022-10-20T19:49:52.711328Z",
     "shell.execute_reply": "2022-10-20T19:49:52.710073Z"
    },
    "papermill": {
     "duration": 0.261357,
     "end_time": "2022-10-20T19:49:52.713912",
     "exception": false,
     "start_time": "2022-10-20T19:49:52.452555",
     "status": "completed"
    },
    "tags": []
   },
   "outputs": [
    {
     "data": {
      "text/plain": [
       "<AxesSubplot:xlabel='Offer Accepted', ylabel='count'>"
      ]
     },
     "execution_count": 28,
     "metadata": {},
     "output_type": "execute_result"
    },
    {
     "data": {
      "image/png": "[encoded data removed]",
      "text/plain": [
       "<Figure size 432x288 with 1 Axes>"
      ]
     },
     "metadata": {
      "needs_background": "light"
     },
     "output_type": "display_data"
    }
   ],
   "source": [
    "submission=pd.DataFrame(columns=['id','Offer Accepted'])\n",
    "submission['id']=[i for i in range(len(df_test))]\n",
    "submission['Offer Accepted']=out\n",
    "sns.countplot(x=submission['Offer Accepted'])"
   ]
  },
  {
   "cell_type": "markdown",
   "id": "d48760a2",
   "metadata": {
    "papermill": {
     "duration": 0.011826,
     "end_time": "2022-10-20T19:49:52.737032",
     "exception": false,
     "start_time": "2022-10-20T19:49:52.725206",
     "status": "completed"
    },
    "tags": []
   },
   "source": [
    "**Writing to CSV**"
   ]
  },
  {
   "cell_type": "code",
   "execution_count": 29,
   "id": "311abd0d",
   "metadata": {
    "execution": {
     "iopub.execute_input": "2022-10-20T19:49:52.759735Z",
     "iopub.status.busy": "2022-10-20T19:49:52.759346Z",
     "iopub.status.idle": "2022-10-20T19:49:52.771386Z",
     "shell.execute_reply": "2022-10-20T19:49:52.770436Z"
    },
    "papermill": {
     "duration": 0.026229,
     "end_time": "2022-10-20T19:49:52.773821",
     "exception": false,
     "start_time": "2022-10-20T19:49:52.747592",
     "status": "completed"
    },
    "tags": []
   },
   "outputs": [],
   "source": [
    "submission.to_csv('submission.csv',index=False)"
   ]
  }
 ],
 "metadata": {
  "kernelspec": {
   "display_name": "Python 3",
   "language": "python",
   "name": "python3"
  },
  "language_info": {
   "codemirror_mode": {
    "name": "ipython",
    "version": 3
   },
   "file_extension": ".py",
   "mimetype": "text/x-python",
   "name": "python",
   "nbconvert_exporter": "python",
   "pygments_lexer": "ipython3",
   "version": "3.7.12"
  },
  "papermill": {
   "default_parameters": {},
   "duration": 14.900597,
   "end_time": "2022-10-20T19:49:53.606704",
   "environment_variables": {},
   "exception": null,
   "input_path": "__notebook__.ipynb",
   "output_path": "__notebook__.ipynb",
   "parameters": {},
   "start_time": "2022-10-20T19:49:38.706107",
   "version": "2.3.4"
  }
 },
 "nbformat": 4,
 "nbformat_minor": 5
}
