{
 "cells": [
  {
   "cell_type": "markdown",
   "id": "61287c04",
   "metadata": {
    "papermill": {
     "duration": 0.010669,
     "end_time": "2022-10-19T11:00:05.603504",
     "exception": false,
     "start_time": "2022-10-19T11:00:05.592835",
     "status": "completed"
    },
    "tags": []
   },
   "source": [
    "# Importing Libraries"
   ]
  },
  {
   "cell_type": "code",
   "execution_count": 1,
   "id": "201e4181",
   "metadata": {
    "execution": {
     "iopub.execute_input": "2022-10-19T11:00:05.624887Z",
     "iopub.status.busy": "2022-10-19T11:00:05.624149Z",
     "iopub.status.idle": "2022-10-19T11:00:06.680790Z",
     "shell.execute_reply": "2022-10-19T11:00:06.679657Z"
    },
    "papermill": {
     "duration": 1.070327,
     "end_time": "2022-10-19T11:00:06.683504",
     "exception": false,
     "start_time": "2022-10-19T11:00:05.613177",
     "status": "completed"
    },
    "tags": []
   },
   "outputs": [],
   "source": [
    "import pandas as pd \n",
    "import numpy as np\n",
    "import seaborn as sns"
   ]
  },
  {
   "cell_type": "markdown",
   "id": "745155ce",
   "metadata": {
    "papermill": {
     "duration": 0.00914,
     "end_time": "2022-10-19T11:00:06.702528",
     "exception": false,
     "start_time": "2022-10-19T11:00:06.693388",
     "status": "completed"
    },
    "tags": []
   },
   "source": [
    " # Sklearn Imports"
   ]
  },
  {
   "cell_type": "code",
   "execution_count": 2,
   "id": "96d6436b",
   "metadata": {
    "execution": {
     "iopub.execute_input": "2022-10-19T11:00:06.724498Z",
     "iopub.status.busy": "2022-10-19T11:00:06.724082Z",
     "iopub.status.idle": "2022-10-19T11:00:07.134173Z",
     "shell.execute_reply": "2022-10-19T11:00:07.133208Z"
    },
    "papermill": {
     "duration": 0.423326,
     "end_time": "2022-10-19T11:00:07.136859",
     "exception": false,
     "start_time": "2022-10-19T11:00:06.713533",
     "status": "completed"
    },
    "tags": []
   },
   "outputs": [],
   "source": [
    "from sklearn.preprocessing import StandardScaler, OrdinalEncoder, MinMaxScaler, LabelEncoder, OneHotEncoder\n",
    "from sklearn.pipeline import Pipeline\n",
    "from sklearn.compose import ColumnTransformer\n",
    "from sklearn.model_selection import train_test_split\n",
    "from sklearn.metrics import confusion_matrix ,ConfusionMatrixDisplay , f1_score ,classification_report\n",
    "from sklearn.ensemble import RandomForestClassifier , AdaBoostClassifier\n",
    "from sklearn.svm import SVC\n",
    "from sklearn.tree import DecisionTreeClassifier\n",
    "from sklearn.neighbors import KNeighborsClassifier\n",
    "from sklearn.neural_network import MLPClassifier\n",
    "from sklearn.naive_bayes import GaussianNB\n",
    "from sklearn.discriminant_analysis import QuadraticDiscriminantAnalysis\n",
    "from sklearn.linear_model import LogisticRegression\n",
    "from sklearn.model_selection import RandomizedSearchCV , GridSearchCV"
   ]
  },
  {
   "cell_type": "markdown",
   "id": "85b973cb",
   "metadata": {
    "papermill": {
     "duration": 0.010137,
     "end_time": "2022-10-19T11:00:07.156400",
     "exception": false,
     "start_time": "2022-10-19T11:00:07.146263",
     "status": "completed"
    },
    "tags": []
   },
   "source": [
    "# Read CSV "
   ]
  },
  {
   "cell_type": "code",
   "execution_count": 3,
   "id": "ed9f8019",
   "metadata": {
    "execution": {
     "iopub.execute_input": "2022-10-19T11:00:07.176827Z",
     "iopub.status.busy": "2022-10-19T11:00:07.176452Z",
     "iopub.status.idle": "2022-10-19T11:00:07.323666Z",
     "shell.execute_reply": "2022-10-19T11:00:07.322614Z"
    },
    "papermill": {
     "duration": 0.160534,
     "end_time": "2022-10-19T11:00:07.326293",
     "exception": false,
     "start_time": "2022-10-19T11:00:07.165759",
     "status": "completed"
    },
    "tags": []
   },
   "outputs": [],
   "source": [
    "df=pd.read_csv('/kaggle/input/marketing-strategy-personalised-offer/train_data.csv')\n",
    "df_test=pd.read_csv('/kaggle/input/marketing-strategy-personalised-offer/test_data.csv')"
   ]
  },
  {
   "cell_type": "markdown",
   "id": "e2e1f4e2",
   "metadata": {
    "papermill": {
     "duration": 0.009236,
     "end_time": "2022-10-19T11:00:07.345190",
     "exception": false,
     "start_time": "2022-10-19T11:00:07.335954",
     "status": "completed"
    },
    "tags": []
   },
   "source": [
    "# Date Cleaning Function"
   ]
  },
  {
   "cell_type": "code",
   "execution_count": 4,
   "id": "f85b285a",
   "metadata": {
    "execution": {
     "iopub.execute_input": "2022-10-19T11:00:07.366146Z",
     "iopub.status.busy": "2022-10-19T11:00:07.365706Z",
     "iopub.status.idle": "2022-10-19T11:00:07.372252Z",
     "shell.execute_reply": "2022-10-19T11:00:07.370919Z"
    },
    "papermill": {
     "duration": 0.019861,
     "end_time": "2022-10-19T11:00:07.374564",
     "exception": false,
     "start_time": "2022-10-19T11:00:07.354703",
     "status": "completed"
    },
    "tags": []
   },
   "outputs": [],
   "source": [
    "def clean_date(date):\n",
    "    i=0\n",
    "    for x in date:\n",
    "        # print(x)\n",
    "        if x=='2days':\n",
    "            date[i]=48\n",
    "        else:\n",
    "            date[i]=10\n",
    "        i+=1\n",
    "    return date"
   ]
  },
  {
   "cell_type": "markdown",
   "id": "ad2867aa",
   "metadata": {
    "papermill": {
     "duration": 0.009599,
     "end_time": "2022-10-19T11:00:07.393719",
     "exception": false,
     "start_time": "2022-10-19T11:00:07.384120",
     "status": "completed"
    },
    "tags": []
   },
   "source": [
    "# Income Cleaning Function"
   ]
  },
  {
   "cell_type": "code",
   "execution_count": 5,
   "id": "36b74a87",
   "metadata": {
    "execution": {
     "iopub.execute_input": "2022-10-19T11:00:07.415437Z",
     "iopub.status.busy": "2022-10-19T11:00:07.414612Z",
     "iopub.status.idle": "2022-10-19T11:00:07.422463Z",
     "shell.execute_reply": "2022-10-19T11:00:07.421498Z"
    },
    "papermill": {
     "duration": 0.021676,
     "end_time": "2022-10-19T11:00:07.424897",
     "exception": false,
     "start_time": "2022-10-19T11:00:07.403221",
     "status": "completed"
    },
    "tags": []
   },
   "outputs": [],
   "source": [
    "def clean_income(data):    \n",
    "    for i in range(len(data)):\n",
    "        x=data[i]\n",
    "        if x=='₹100000 or More':\n",
    "            data[i]=100000\n",
    "        elif x=='Less than ₹12500':\n",
    "            data[i]=12500\n",
    "        else:\n",
    "            s=x.strip().split('-')\n",
    "            a=float(s[0][1:])\n",
    "            b=float(s[1][2:])\n",
    "            data[i]=float((a+b)*0.5) # average calculation\n",
    "    return data"
   ]
  },
  {
   "cell_type": "markdown",
   "id": "9185f27e",
   "metadata": {
    "papermill": {
     "duration": 0.009402,
     "end_time": "2022-10-19T11:00:07.444128",
     "exception": false,
     "start_time": "2022-10-19T11:00:07.434726",
     "status": "completed"
    },
    "tags": []
   },
   "source": [
    "# Age Cleaning Function"
   ]
  },
  {
   "cell_type": "code",
   "execution_count": 6,
   "id": "ed0b80aa",
   "metadata": {
    "execution": {
     "iopub.execute_input": "2022-10-19T11:00:07.465692Z",
     "iopub.status.busy": "2022-10-19T11:00:07.464876Z",
     "iopub.status.idle": "2022-10-19T11:00:07.470925Z",
     "shell.execute_reply": "2022-10-19T11:00:07.470138Z"
    },
    "papermill": {
     "duration": 0.019631,
     "end_time": "2022-10-19T11:00:07.473304",
     "exception": false,
     "start_time": "2022-10-19T11:00:07.453673",
     "status": "completed"
    },
    "tags": []
   },
   "outputs": [],
   "source": [
    "def clean_age(age):\n",
    "    i=0\n",
    "    for x in age:\n",
    "        if x==\"50plus\":\n",
    "            age[i]=52\n",
    "        if x==\"below21\":\n",
    "            age[i]=18\n",
    "        i+=1\n",
    "    return age"
   ]
  },
  {
   "cell_type": "markdown",
   "id": "08f7d422",
   "metadata": {
    "papermill": {
     "duration": 0.009294,
     "end_time": "2022-10-19T11:00:07.492119",
     "exception": false,
     "start_time": "2022-10-19T11:00:07.482825",
     "status": "completed"
    },
    "tags": []
   },
   "source": [
    "# Calling Cleaning Function"
   ]
  },
  {
   "cell_type": "code",
   "execution_count": 7,
   "id": "5bbe80a6",
   "metadata": {
    "execution": {
     "iopub.execute_input": "2022-10-19T11:00:07.513414Z",
     "iopub.status.busy": "2022-10-19T11:00:07.512612Z",
     "iopub.status.idle": "2022-10-19T11:00:07.633874Z",
     "shell.execute_reply": "2022-10-19T11:00:07.632694Z"
    },
    "papermill": {
     "duration": 0.135074,
     "end_time": "2022-10-19T11:00:07.636629",
     "exception": false,
     "start_time": "2022-10-19T11:00:07.501555",
     "status": "completed"
    },
    "tags": []
   },
   "outputs": [],
   "source": [
    "temp=df['offer expiration'].copy()\n",
    "temp=clean_date(temp)\n",
    "df['offer expiration']=temp\n",
    "# temp\n",
    "# For Test Data\n",
    "temp=df_test['offer expiration'].copy()\n",
    "temp=clean_date(temp)\n",
    "df_test['offer expiration']=temp"
   ]
  },
  {
   "cell_type": "code",
   "execution_count": 8,
   "id": "04546b99",
   "metadata": {
    "execution": {
     "iopub.execute_input": "2022-10-19T11:00:07.658166Z",
     "iopub.status.busy": "2022-10-19T11:00:07.657400Z",
     "iopub.status.idle": "2022-10-19T11:00:07.851813Z",
     "shell.execute_reply": "2022-10-19T11:00:07.850551Z"
    },
    "papermill": {
     "duration": 0.208177,
     "end_time": "2022-10-19T11:00:07.854583",
     "exception": false,
     "start_time": "2022-10-19T11:00:07.646406",
     "status": "completed"
    },
    "tags": []
   },
   "outputs": [],
   "source": [
    "temp=df['income_range'].copy()\n",
    "temp=clean_income(temp)\n",
    "df['income_range']=temp\n",
    "# temp\n",
    "# For Test Data\n",
    "temp=df_test['income_range'].copy()\n",
    "temp=clean_income(temp)\n",
    "df_test['income_range']=temp"
   ]
  },
  {
   "cell_type": "code",
   "execution_count": 9,
   "id": "51235d25",
   "metadata": {
    "execution": {
     "iopub.execute_input": "2022-10-19T11:00:07.877099Z",
     "iopub.status.busy": "2022-10-19T11:00:07.876372Z",
     "iopub.status.idle": "2022-10-19T11:00:07.907273Z",
     "shell.execute_reply": "2022-10-19T11:00:07.906117Z"
    },
    "papermill": {
     "duration": 0.04432,
     "end_time": "2022-10-19T11:00:07.909800",
     "exception": false,
     "start_time": "2022-10-19T11:00:07.865480",
     "status": "completed"
    },
    "tags": []
   },
   "outputs": [],
   "source": [
    "temp=df['age'].copy()\n",
    "temp=clean_age(temp)\n",
    "df['age']=temp\n",
    "# temp\n",
    "# For Test Data\n",
    "temp=df_test['age'].copy()\n",
    "temp=clean_age(temp)\n",
    "df_test['age']=temp"
   ]
  },
  {
   "cell_type": "markdown",
   "id": "c7e93d47",
   "metadata": {
    "papermill": {
     "duration": 0.009376,
     "end_time": "2022-10-19T11:00:07.928921",
     "exception": false,
     "start_time": "2022-10-19T11:00:07.919545",
     "status": "completed"
    },
    "tags": []
   },
   "source": [
    "# Cleaned DataSet"
   ]
  },
  {
   "cell_type": "code",
   "execution_count": 10,
   "id": "0d1717a7",
   "metadata": {
    "execution": {
     "iopub.execute_input": "2022-10-19T11:00:07.950259Z",
     "iopub.status.busy": "2022-10-19T11:00:07.949491Z",
     "iopub.status.idle": "2022-10-19T11:00:07.953947Z",
     "shell.execute_reply": "2022-10-19T11:00:07.953158Z"
    },
    "papermill": {
     "duration": 0.017616,
     "end_time": "2022-10-19T11:00:07.956178",
     "exception": false,
     "start_time": "2022-10-19T11:00:07.938562",
     "status": "completed"
    },
    "tags": []
   },
   "outputs": [],
   "source": [
    "# df"
   ]
  },
  {
   "cell_type": "code",
   "execution_count": 11,
   "id": "cf33fcbb",
   "metadata": {
    "execution": {
     "iopub.execute_input": "2022-10-19T11:00:07.978720Z",
     "iopub.status.busy": "2022-10-19T11:00:07.977496Z",
     "iopub.status.idle": "2022-10-19T11:00:07.982705Z",
     "shell.execute_reply": "2022-10-19T11:00:07.981889Z"
    },
    "papermill": {
     "duration": 0.018749,
     "end_time": "2022-10-19T11:00:07.984916",
     "exception": false,
     "start_time": "2022-10-19T11:00:07.966167",
     "status": "completed"
    },
    "tags": []
   },
   "outputs": [],
   "source": [
    "# 2,4,11,13,19,21,25"
   ]
  },
  {
   "cell_type": "code",
   "execution_count": 12,
   "id": "3a00b0b1",
   "metadata": {
    "execution": {
     "iopub.execute_input": "2022-10-19T11:00:08.006139Z",
     "iopub.status.busy": "2022-10-19T11:00:08.005719Z",
     "iopub.status.idle": "2022-10-19T11:00:08.011471Z",
     "shell.execute_reply": "2022-10-19T11:00:08.010316Z"
    },
    "papermill": {
     "duration": 0.019349,
     "end_time": "2022-10-19T11:00:08.013840",
     "exception": false,
     "start_time": "2022-10-19T11:00:07.994491",
     "status": "completed"
    },
    "tags": []
   },
   "outputs": [],
   "source": [
    "target=[]\n",
    "for x in df.columns:\n",
    "    # print(type(x))\n",
    "    # if(df.columns.get_loc(x) not in (2,4,11,13,19,21,25)):\n",
    "    # dicarding extra cloumns for model     \n",
    "    if(df.columns.get_loc(x) not in {2,4,11,13,19,21,25,9,10,3}):\n",
    "        target.append(x)\n",
    "# target"
   ]
  },
  {
   "cell_type": "code",
   "execution_count": 13,
   "id": "28a5f197",
   "metadata": {
    "execution": {
     "iopub.execute_input": "2022-10-19T11:00:08.035387Z",
     "iopub.status.busy": "2022-10-19T11:00:08.034592Z",
     "iopub.status.idle": "2022-10-19T11:00:08.066468Z",
     "shell.execute_reply": "2022-10-19T11:00:08.065247Z"
    },
    "papermill": {
     "duration": 0.04619,
     "end_time": "2022-10-19T11:00:08.069625",
     "exception": false,
     "start_time": "2022-10-19T11:00:08.023435",
     "status": "completed"
    },
    "tags": []
   },
   "outputs": [
    {
     "name": "stdout",
     "output_type": "stream",
     "text": [
      "<class 'pandas.core.frame.DataFrame'>\n",
      "RangeIndex: 12379 entries, 0 to 12378\n",
      "Data columns (total 21 columns):\n",
      " #   Column                              Non-Null Count  Dtype \n",
      "---  ------                              --------------  ----- \n",
      " 0   offer expiration                    12379 non-null  object\n",
      " 1   income_range                        12379 non-null  object\n",
      " 2   Marital Status                      12379 non-null  object\n",
      " 3   restaurant type                     12379 non-null  object\n",
      " 4   age                                 12379 non-null  object\n",
      " 5   Prefer western over chinese         12379 non-null  int64 \n",
      " 6   gender                              12379 non-null  object\n",
      " 7   restuarant_same_direction_house     12379 non-null  int64 \n",
      " 8   Cooks regularly                     12379 non-null  int64 \n",
      " 9   Customer type                       12379 non-null  object\n",
      " 10  Qualification                       12379 non-null  object\n",
      " 11  is foodie                           12379 non-null  int64 \n",
      " 12  Job/Job Industry                    12379 non-null  object\n",
      " 13  has Children                        12379 non-null  int64 \n",
      " 14  visit restaurant with rating (avg)  12379 non-null  int64 \n",
      " 15  temperature                         12379 non-null  int64 \n",
      " 16  Travel Time                         12379 non-null  int64 \n",
      " 17  Climate                             12379 non-null  object\n",
      " 18  drop location                       12379 non-null  object\n",
      " 19  Prefer home food                    12379 non-null  int64 \n",
      " 20  Offer Accepted                      12379 non-null  object\n",
      "dtypes: int64(9), object(12)\n",
      "memory usage: 2.0+ MB\n"
     ]
    }
   ],
   "source": [
    "df[target].info()"
   ]
  },
  {
   "cell_type": "markdown",
   "id": "83fc95f5",
   "metadata": {
    "papermill": {
     "duration": 0.009939,
     "end_time": "2022-10-19T11:00:08.089700",
     "exception": false,
     "start_time": "2022-10-19T11:00:08.079761",
     "status": "completed"
    },
    "tags": []
   },
   "source": [
    "# Renaming Featues -"
   ]
  },
  {
   "cell_type": "code",
   "execution_count": 14,
   "id": "8dbe97ee",
   "metadata": {
    "execution": {
     "iopub.execute_input": "2022-10-19T11:00:08.112209Z",
     "iopub.status.busy": "2022-10-19T11:00:08.111559Z",
     "iopub.status.idle": "2022-10-19T11:00:08.122781Z",
     "shell.execute_reply": "2022-10-19T11:00:08.121766Z"
    },
    "papermill": {
     "duration": 0.025516,
     "end_time": "2022-10-19T11:00:08.125316",
     "exception": false,
     "start_time": "2022-10-19T11:00:08.099800",
     "status": "completed"
    },
    "tags": []
   },
   "outputs": [],
   "source": [
    "df=df[target]\n",
    "# For Test Data\n",
    "temp=target[:-1]\n",
    "df_test=df_test[temp]"
   ]
  },
  {
   "cell_type": "code",
   "execution_count": 15,
   "id": "72b0480d",
   "metadata": {
    "execution": {
     "iopub.execute_input": "2022-10-19T11:00:08.147882Z",
     "iopub.status.busy": "2022-10-19T11:00:08.146686Z",
     "iopub.status.idle": "2022-10-19T11:00:08.154571Z",
     "shell.execute_reply": "2022-10-19T11:00:08.153722Z"
    },
    "papermill": {
     "duration": 0.021291,
     "end_time": "2022-10-19T11:00:08.156830",
     "exception": false,
     "start_time": "2022-10-19T11:00:08.135539",
     "status": "completed"
    },
    "tags": []
   },
   "outputs": [],
   "source": [
    "target[0]=\"offer_expiration(hrs)\"\n",
    "target[1]='income_range'\n",
    "target[2]='shaadi'\n",
    "target[3]='restaurant_type'\n",
    "target[4]='age'\n",
    "target[5]='western/chinese'\n",
    "target[6]='gender'\n",
    "target[7]='restuarant_same_direction_house'\n",
    "target[8]='cooks_regularly'\n",
    "target[9]='customer_type'\n",
    "target[10]='education'\n",
    "target[11]='is_foodie'\n",
    "target[12]='industry'\n",
    "target[13]='children'\n",
    "target[14]='visit_restaurant_with_rating_(avg)'\n",
    "target[15]='temperature'\n",
    "target[16]='travel_time'\n",
    "target[17]='climate'\n",
    "target[18]='drop_location'\n",
    "target[19]='prefer_home_food'\n",
    "target[20]='offer_accepted'"
   ]
  },
  {
   "cell_type": "code",
   "execution_count": 16,
   "id": "0cba6e3d",
   "metadata": {
    "execution": {
     "iopub.execute_input": "2022-10-19T11:00:08.178910Z",
     "iopub.status.busy": "2022-10-19T11:00:08.178314Z",
     "iopub.status.idle": "2022-10-19T11:00:08.183017Z",
     "shell.execute_reply": "2022-10-19T11:00:08.182157Z"
    },
    "papermill": {
     "duration": 0.018707,
     "end_time": "2022-10-19T11:00:08.185334",
     "exception": false,
     "start_time": "2022-10-19T11:00:08.166627",
     "status": "completed"
    },
    "tags": []
   },
   "outputs": [],
   "source": [
    "df.columns=target\n",
    "# For Test Data\n",
    "temp=target[:-1]\n",
    "df_test.columns=temp"
   ]
  },
  {
   "cell_type": "markdown",
   "id": "93feceee",
   "metadata": {
    "papermill": {
     "duration": 0.009383,
     "end_time": "2022-10-19T11:00:08.204571",
     "exception": false,
     "start_time": "2022-10-19T11:00:08.195188",
     "status": "completed"
    },
    "tags": []
   },
   "source": [
    "# **Final Dataset After Cleaning**"
   ]
  },
  {
   "cell_type": "code",
   "execution_count": 17,
   "id": "daef5cf8",
   "metadata": {
    "execution": {
     "iopub.execute_input": "2022-10-19T11:00:08.225963Z",
     "iopub.status.busy": "2022-10-19T11:00:08.225348Z",
     "iopub.status.idle": "2022-10-19T11:00:08.229752Z",
     "shell.execute_reply": "2022-10-19T11:00:08.228666Z"
    },
    "papermill": {
     "duration": 0.018059,
     "end_time": "2022-10-19T11:00:08.232238",
     "exception": false,
     "start_time": "2022-10-19T11:00:08.214179",
     "status": "completed"
    },
    "tags": []
   },
   "outputs": [],
   "source": [
    "# df"
   ]
  },
  {
   "cell_type": "code",
   "execution_count": 18,
   "id": "818ba748",
   "metadata": {
    "execution": {
     "iopub.execute_input": "2022-10-19T11:00:08.253507Z",
     "iopub.status.busy": "2022-10-19T11:00:08.253061Z",
     "iopub.status.idle": "2022-10-19T11:00:08.257961Z",
     "shell.execute_reply": "2022-10-19T11:00:08.256896Z"
    },
    "papermill": {
     "duration": 0.018251,
     "end_time": "2022-10-19T11:00:08.260320",
     "exception": false,
     "start_time": "2022-10-19T11:00:08.242069",
     "status": "completed"
    },
    "tags": []
   },
   "outputs": [],
   "source": [
    "# df_test"
   ]
  },
  {
   "cell_type": "markdown",
   "id": "af74cd03",
   "metadata": {
    "papermill": {
     "duration": 0.009509,
     "end_time": "2022-10-19T11:00:08.279778",
     "exception": false,
     "start_time": "2022-10-19T11:00:08.270269",
     "status": "completed"
    },
    "tags": []
   },
   "source": [
    "Write and Read"
   ]
  },
  {
   "cell_type": "code",
   "execution_count": 19,
   "id": "f5464ec3",
   "metadata": {
    "execution": {
     "iopub.execute_input": "2022-10-19T11:00:08.301384Z",
     "iopub.status.busy": "2022-10-19T11:00:08.300959Z",
     "iopub.status.idle": "2022-10-19T11:00:08.421718Z",
     "shell.execute_reply": "2022-10-19T11:00:08.420827Z"
    },
    "papermill": {
     "duration": 0.134347,
     "end_time": "2022-10-19T11:00:08.424170",
     "exception": false,
     "start_time": "2022-10-19T11:00:08.289823",
     "status": "completed"
    },
    "tags": []
   },
   "outputs": [],
   "source": [
    "df.to_csv('train1.csv',index=False)\n",
    "df=None\n",
    "df=pd.read_csv('./train1.csv')"
   ]
  },
  {
   "cell_type": "markdown",
   "id": "c6f012a8",
   "metadata": {
    "papermill": {
     "duration": 0.009917,
     "end_time": "2022-10-19T11:00:08.443978",
     "exception": false,
     "start_time": "2022-10-19T11:00:08.434061",
     "status": "completed"
    },
    "tags": []
   },
   "source": [
    "# Split the DataSet into Train and Test"
   ]
  },
  {
   "cell_type": "code",
   "execution_count": 20,
   "id": "8b7d08be",
   "metadata": {
    "execution": {
     "iopub.execute_input": "2022-10-19T11:00:08.465702Z",
     "iopub.status.busy": "2022-10-19T11:00:08.464755Z",
     "iopub.status.idle": "2022-10-19T11:00:08.472901Z",
     "shell.execute_reply": "2022-10-19T11:00:08.472141Z"
    },
    "papermill": {
     "duration": 0.021391,
     "end_time": "2022-10-19T11:00:08.475154",
     "exception": false,
     "start_time": "2022-10-19T11:00:08.453763",
     "status": "completed"
    },
    "tags": []
   },
   "outputs": [],
   "source": [
    "features=df.columns[:-1]\n",
    "target=df.columns[-1]\n",
    "X=df[features]\n",
    "y=df[target]"
   ]
  },
  {
   "cell_type": "code",
   "execution_count": 21,
   "id": "8907dfb7",
   "metadata": {
    "execution": {
     "iopub.execute_input": "2022-10-19T11:00:08.496394Z",
     "iopub.status.busy": "2022-10-19T11:00:08.495959Z",
     "iopub.status.idle": "2022-10-19T11:00:08.507226Z",
     "shell.execute_reply": "2022-10-19T11:00:08.506132Z"
    },
    "papermill": {
     "duration": 0.024696,
     "end_time": "2022-10-19T11:00:08.509523",
     "exception": false,
     "start_time": "2022-10-19T11:00:08.484827",
     "status": "completed"
    },
    "tags": []
   },
   "outputs": [],
   "source": [
    "X_train, X_test, y_train, y_test = train_test_split(\n",
    "     X, y, \n",
    "    test_size=0.20,\n",
    "    random_state=42,\n",
    "    shuffle=True\n",
    ")"
   ]
  },
  {
   "cell_type": "markdown",
   "id": "b09b1e32",
   "metadata": {
    "papermill": {
     "duration": 0.009225,
     "end_time": "2022-10-19T11:00:08.528381",
     "exception": false,
     "start_time": "2022-10-19T11:00:08.519156",
     "status": "completed"
    },
    "tags": []
   },
   "source": [
    "# PipeLine Declearation"
   ]
  },
  {
   "cell_type": "code",
   "execution_count": 22,
   "id": "075e60f7",
   "metadata": {
    "execution": {
     "iopub.execute_input": "2022-10-19T11:00:08.548870Z",
     "iopub.status.busy": "2022-10-19T11:00:08.548468Z",
     "iopub.status.idle": "2022-10-19T11:00:08.557927Z",
     "shell.execute_reply": "2022-10-19T11:00:08.557108Z"
    },
    "papermill": {
     "duration": 0.022444,
     "end_time": "2022-10-19T11:00:08.560145",
     "exception": false,
     "start_time": "2022-10-19T11:00:08.537701",
     "status": "completed"
    },
    "tags": []
   },
   "outputs": [],
   "source": [
    "from sklearn.compose import make_column_selector as selector\n",
    "\n",
    "numerical_columns_selector = selector(dtype_exclude=object)\n",
    "categorical_columns_selector = selector(dtype_include=object)\n",
    "\n",
    "numerical_columns = numerical_columns_selector(X)\n",
    "categorical_columns = categorical_columns_selector(X)"
   ]
  },
  {
   "cell_type": "code",
   "execution_count": 23,
   "id": "ef5bbe16",
   "metadata": {
    "execution": {
     "iopub.execute_input": "2022-10-19T11:00:08.581981Z",
     "iopub.status.busy": "2022-10-19T11:00:08.580797Z",
     "iopub.status.idle": "2022-10-19T11:00:08.587458Z",
     "shell.execute_reply": "2022-10-19T11:00:08.586683Z"
    },
    "papermill": {
     "duration": 0.019827,
     "end_time": "2022-10-19T11:00:08.589579",
     "exception": false,
     "start_time": "2022-10-19T11:00:08.569752",
     "status": "completed"
    },
    "tags": []
   },
   "outputs": [],
   "source": [
    "categorical_transformer = Pipeline(\n",
    "    steps=[(\n",
    "    \"encoder\",OneHotEncoder()\n",
    "    )]\n",
    ")\n",
    "numeric_transformer = Pipeline(\n",
    "    steps=[(\"scaler\", StandardScaler())]\n",
    ")\n",
    "preprocessor = ColumnTransformer(\n",
    "    transformers=[\n",
    "        (\"numerical\", numeric_transformer, numerical_columns),\n",
    "        (\"categorical\", categorical_transformer, categorical_columns),\n",
    "    ]\n",
    ")\n",
    "pipe=Pipeline(steps=[\n",
    "    ('preprocess',preprocessor),\n",
    "    ('model',RandomForestClassifier(\n",
    "#         max_iter=10000,\n",
    "        n_jobs=-1\n",
    "    ))\n",
    "])"
   ]
  },
  {
   "cell_type": "markdown",
   "id": "9a5d0495",
   "metadata": {
    "papermill": {
     "duration": 0.009239,
     "end_time": "2022-10-19T11:00:08.608242",
     "exception": false,
     "start_time": "2022-10-19T11:00:08.599003",
     "status": "completed"
    },
    "tags": []
   },
   "source": [
    "***Label Transform***"
   ]
  },
  {
   "cell_type": "code",
   "execution_count": 24,
   "id": "baaba1b6",
   "metadata": {
    "execution": {
     "iopub.execute_input": "2022-10-19T11:00:08.629322Z",
     "iopub.status.busy": "2022-10-19T11:00:08.628619Z",
     "iopub.status.idle": "2022-10-19T11:00:08.636865Z",
     "shell.execute_reply": "2022-10-19T11:00:08.636025Z"
    },
    "papermill": {
     "duration": 0.021477,
     "end_time": "2022-10-19T11:00:08.639162",
     "exception": false,
     "start_time": "2022-10-19T11:00:08.617685",
     "status": "completed"
    },
    "tags": []
   },
   "outputs": [],
   "source": [
    "lb=LabelEncoder()\n",
    "lb.fit(y_train)\n",
    "y_train=lb.transform(y_train)\n",
    "y_test=lb.transform(y_test)"
   ]
  },
  {
   "cell_type": "markdown",
   "id": "df30ca12",
   "metadata": {
    "papermill": {
     "duration": 0.009261,
     "end_time": "2022-10-19T11:00:08.658171",
     "exception": false,
     "start_time": "2022-10-19T11:00:08.648910",
     "status": "completed"
    },
    "tags": []
   },
   "source": [
    "# Fitting the Pipeline"
   ]
  },
  {
   "cell_type": "code",
   "execution_count": 25,
   "id": "53df4848",
   "metadata": {
    "execution": {
     "iopub.execute_input": "2022-10-19T11:00:08.679336Z",
     "iopub.status.busy": "2022-10-19T11:00:08.678925Z",
     "iopub.status.idle": "2022-10-19T11:00:09.497946Z",
     "shell.execute_reply": "2022-10-19T11:00:09.496807Z"
    },
    "papermill": {
     "duration": 0.832067,
     "end_time": "2022-10-19T11:00:09.500180",
     "exception": false,
     "start_time": "2022-10-19T11:00:08.668113",
     "status": "completed"
    },
    "tags": []
   },
   "outputs": [
    {
     "data": {
      "text/plain": [
       "Pipeline(steps=[('preprocess',\n",
       "                 ColumnTransformer(transformers=[('numerical',\n",
       "                                                  Pipeline(steps=[('scaler',\n",
       "                                                                   StandardScaler())]),\n",
       "                                                  ['offer_expiration(hrs)',\n",
       "                                                   'income_range', 'age',\n",
       "                                                   'western/chinese',\n",
       "                                                   'restuarant_same_direction_house',\n",
       "                                                   'cooks_regularly',\n",
       "                                                   'is_foodie', 'children',\n",
       "                                                   'visit_restaurant_with_rating_(avg)',\n",
       "                                                   'temperature', 'travel_time',\n",
       "                                                   'prefer_home_food']),\n",
       "                                                 ('categorical',\n",
       "                                                  Pipeline(steps=[('encoder',\n",
       "                                                                   OneHotEncoder())]),\n",
       "                                                  ['shaadi', 'restaurant_type',\n",
       "                                                   'gender', 'customer_type',\n",
       "                                                   'education', 'industry',\n",
       "                                                   'climate',\n",
       "                                                   'drop_location'])])),\n",
       "                ('model', RandomForestClassifier(n_jobs=-1))])"
      ]
     },
     "execution_count": 25,
     "metadata": {},
     "output_type": "execute_result"
    }
   ],
   "source": [
    "pipe.fit(X_train,y_train)"
   ]
  },
  {
   "cell_type": "markdown",
   "id": "41bb12be",
   "metadata": {
    "papermill": {
     "duration": 0.00946,
     "end_time": "2022-10-19T11:00:09.519332",
     "exception": false,
     "start_time": "2022-10-19T11:00:09.509872",
     "status": "completed"
    },
    "tags": []
   },
   "source": [
    "# Looking at Training and Testing Errors"
   ]
  },
  {
   "cell_type": "code",
   "execution_count": 26,
   "id": "995d0274",
   "metadata": {
    "execution": {
     "iopub.execute_input": "2022-10-19T11:00:09.540049Z",
     "iopub.status.busy": "2022-10-19T11:00:09.539377Z",
     "iopub.status.idle": "2022-10-19T11:00:09.804149Z",
     "shell.execute_reply": "2022-10-19T11:00:09.802895Z"
    },
    "papermill": {
     "duration": 0.277673,
     "end_time": "2022-10-19T11:00:09.806413",
     "exception": false,
     "start_time": "2022-10-19T11:00:09.528740",
     "status": "completed"
    },
    "tags": []
   },
   "outputs": [
    {
     "name": "stdout",
     "output_type": "stream",
     "text": [
      "Emperical/Training Error 1.0\n",
      "Genrealisation/Test Error 0.6046042003231018\n"
     ]
    }
   ],
   "source": [
    "print('Emperical/Training Error',pipe.score(X_train,y_train))\n",
    "print('Genrealisation/Test Error',pipe.score(X_test,y_test))"
   ]
  },
  {
   "cell_type": "markdown",
   "id": "570f7831",
   "metadata": {
    "papermill": {
     "duration": 0.009405,
     "end_time": "2022-10-19T11:00:09.825649",
     "exception": false,
     "start_time": "2022-10-19T11:00:09.816244",
     "status": "completed"
    },
    "tags": []
   },
   "source": [
    "# Genrating Submission"
   ]
  },
  {
   "cell_type": "code",
   "execution_count": 27,
   "id": "48d62aa8",
   "metadata": {
    "execution": {
     "iopub.execute_input": "2022-10-19T11:00:09.847213Z",
     "iopub.status.busy": "2022-10-19T11:00:09.846270Z",
     "iopub.status.idle": "2022-10-19T11:00:09.985738Z",
     "shell.execute_reply": "2022-10-19T11:00:09.984455Z"
    },
    "papermill": {
     "duration": 0.153177,
     "end_time": "2022-10-19T11:00:09.988514",
     "exception": false,
     "start_time": "2022-10-19T11:00:09.835337",
     "status": "completed"
    },
    "tags": []
   },
   "outputs": [
    {
     "data": {
      "text/plain": [
       "array(['Yes', 'Yes', 'Yes', ..., 'Yes', 'Yes', 'No'], dtype=object)"
      ]
     },
     "execution_count": 27,
     "metadata": {},
     "output_type": "execute_result"
    }
   ],
   "source": [
    "out=pipe.predict(df_test)\n",
    "out=lb.inverse_transform(out)\n",
    "out"
   ]
  },
  {
   "cell_type": "code",
   "execution_count": 28,
   "id": "16e58b3f",
   "metadata": {
    "execution": {
     "iopub.execute_input": "2022-10-19T11:00:10.010905Z",
     "iopub.status.busy": "2022-10-19T11:00:10.010489Z",
     "iopub.status.idle": "2022-10-19T11:00:10.247917Z",
     "shell.execute_reply": "2022-10-19T11:00:10.247009Z"
    },
    "papermill": {
     "duration": 0.251591,
     "end_time": "2022-10-19T11:00:10.250262",
     "exception": false,
     "start_time": "2022-10-19T11:00:09.998671",
     "status": "completed"
    },
    "tags": []
   },
   "outputs": [
    {
     "data": {
      "text/plain": [
       "<AxesSubplot:xlabel='Offer Accepted', ylabel='count'>"
      ]
     },
     "execution_count": 28,
     "metadata": {},
     "output_type": "execute_result"
    },
    {
     "data": {
      "image/png": "[encoded data removed]",
      "text/plain": [
       "<Figure size 432x288 with 1 Axes>"
      ]
     },
     "metadata": {
      "needs_background": "light"
     },
     "output_type": "display_data"
    }
   ],
   "source": [
    "submission=pd.DataFrame(columns=['id','Offer Accepted'])\n",
    "submission['id']=[i for i in range(len(df_test))]\n",
    "submission['Offer Accepted']=out\n",
    "sns.countplot(x=submission['Offer Accepted'])"
   ]
  },
  {
   "cell_type": "markdown",
   "id": "9f9b4e5a",
   "metadata": {
    "papermill": {
     "duration": 0.010021,
     "end_time": "2022-10-19T11:00:10.270655",
     "exception": false,
     "start_time": "2022-10-19T11:00:10.260634",
     "status": "completed"
    },
    "tags": []
   },
   "source": [
    "**Writing to CSV**"
   ]
  },
  {
   "cell_type": "code",
   "execution_count": 29,
   "id": "037f7fc7",
   "metadata": {
    "execution": {
     "iopub.execute_input": "2022-10-19T11:00:10.293282Z",
     "iopub.status.busy": "2022-10-19T11:00:10.292396Z",
     "iopub.status.idle": "2022-10-19T11:00:10.303808Z",
     "shell.execute_reply": "2022-10-19T11:00:10.302642Z"
    },
    "papermill": {
     "duration": 0.025801,
     "end_time": "2022-10-19T11:00:10.306480",
     "exception": false,
     "start_time": "2022-10-19T11:00:10.280679",
     "status": "completed"
    },
    "tags": []
   },
   "outputs": [],
   "source": [
    "submission.to_csv('submission.csv',index=False)"
   ]
  }
 ],
 "metadata": {
  "kernelspec": {
   "display_name": "Python 3",
   "language": "python",
   "name": "python3"
  },
  "language_info": {
   "codemirror_mode": {
    "name": "ipython",
    "version": 3
   },
   "file_extension": ".py",
   "mimetype": "text/x-python",
   "name": "python",
   "nbconvert_exporter": "python",
   "pygments_lexer": "ipython3",
   "version": "3.7.12"
  },
  "papermill": {
   "default_parameters": {},
   "duration": 15.586819,
   "end_time": "2022-10-19T11:00:11.140128",
   "environment_variables": {},
   "exception": null,
   "input_path": "__notebook__.ipynb",
   "output_path": "__notebook__.ipynb",
   "parameters": {},
   "start_time": "2022-10-19T10:59:55.553309",
   "version": "2.3.4"
  }
 },
 "nbformat": 4,
 "nbformat_minor": 5
}
