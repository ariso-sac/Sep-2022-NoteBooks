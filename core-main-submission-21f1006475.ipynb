{
 "cells": [
  {
   "cell_type": "markdown",
   "id": "4b13f29c",
   "metadata": {
    "papermill": {
     "duration": 0.012002,
     "end_time": "2022-10-19T10:56:03.715059",
     "exception": false,
     "start_time": "2022-10-19T10:56:03.703057",
     "status": "completed"
    },
    "tags": []
   },
   "source": [
    "# Importing Libraries"
   ]
  },
  {
   "cell_type": "code",
   "execution_count": 1,
   "id": "15736b11",
   "metadata": {
    "execution": {
     "iopub.execute_input": "2022-10-19T10:56:03.740027Z",
     "iopub.status.busy": "2022-10-19T10:56:03.739563Z",
     "iopub.status.idle": "2022-10-19T10:56:04.944216Z",
     "shell.execute_reply": "2022-10-19T10:56:04.943091Z"
    },
    "papermill": {
     "duration": 1.220375,
     "end_time": "2022-10-19T10:56:04.947285",
     "exception": false,
     "start_time": "2022-10-19T10:56:03.726910",
     "status": "completed"
    },
    "tags": []
   },
   "outputs": [],
   "source": [
    "import pandas as pd \n",
    "import numpy as np\n",
    "import seaborn as sns"
   ]
  },
  {
   "cell_type": "markdown",
   "id": "a00e4815",
   "metadata": {
    "papermill": {
     "duration": 0.008538,
     "end_time": "2022-10-19T10:56:04.964889",
     "exception": false,
     "start_time": "2022-10-19T10:56:04.956351",
     "status": "completed"
    },
    "tags": []
   },
   "source": [
    " # Sklearn Imports"
   ]
  },
  {
   "cell_type": "code",
   "execution_count": 2,
   "id": "36d68d65",
   "metadata": {
    "execution": {
     "iopub.execute_input": "2022-10-19T10:56:04.984957Z",
     "iopub.status.busy": "2022-10-19T10:56:04.983874Z",
     "iopub.status.idle": "2022-10-19T10:56:05.469103Z",
     "shell.execute_reply": "2022-10-19T10:56:05.467851Z"
    },
    "papermill": {
     "duration": 0.497949,
     "end_time": "2022-10-19T10:56:05.471752",
     "exception": false,
     "start_time": "2022-10-19T10:56:04.973803",
     "status": "completed"
    },
    "tags": []
   },
   "outputs": [],
   "source": [
    "from sklearn.preprocessing import StandardScaler, OrdinalEncoder, MinMaxScaler, LabelEncoder, OneHotEncoder\n",
    "from sklearn.pipeline import Pipeline\n",
    "from sklearn.compose import ColumnTransformer\n",
    "from sklearn.model_selection import train_test_split\n",
    "from sklearn.metrics import confusion_matrix ,ConfusionMatrixDisplay , f1_score ,classification_report\n",
    "from sklearn.ensemble import RandomForestClassifier , AdaBoostClassifier\n",
    "from sklearn.svm import SVC\n",
    "from sklearn.tree import DecisionTreeClassifier\n",
    "from sklearn.neighbors import KNeighborsClassifier\n",
    "from sklearn.neural_network import MLPClassifier\n",
    "from sklearn.naive_bayes import GaussianNB\n",
    "from sklearn.discriminant_analysis import QuadraticDiscriminantAnalysis\n",
    "from sklearn.linear_model import LogisticRegression\n",
    "from sklearn.model_selection import RandomizedSearchCV , GridSearchCV"
   ]
  },
  {
   "cell_type": "markdown",
   "id": "1aee6fbc",
   "metadata": {
    "papermill": {
     "duration": 0.009204,
     "end_time": "2022-10-19T10:56:05.490269",
     "exception": false,
     "start_time": "2022-10-19T10:56:05.481065",
     "status": "completed"
    },
    "tags": []
   },
   "source": [
    "# Read CSV "
   ]
  },
  {
   "cell_type": "code",
   "execution_count": 3,
   "id": "aec4936a",
   "metadata": {
    "execution": {
     "iopub.execute_input": "2022-10-19T10:56:05.513546Z",
     "iopub.status.busy": "2022-10-19T10:56:05.513165Z",
     "iopub.status.idle": "2022-10-19T10:56:05.698092Z",
     "shell.execute_reply": "2022-10-19T10:56:05.696681Z"
    },
    "papermill": {
     "duration": 0.19955,
     "end_time": "2022-10-19T10:56:05.701132",
     "exception": false,
     "start_time": "2022-10-19T10:56:05.501582",
     "status": "completed"
    },
    "tags": []
   },
   "outputs": [],
   "source": [
    "df=pd.read_csv('/kaggle/input/marketing-strategy-personalised-offer/train_data.csv')\n",
    "df_test=pd.read_csv('/kaggle/input/marketing-strategy-personalised-offer/test_data.csv')"
   ]
  },
  {
   "cell_type": "markdown",
   "id": "ccd38d3a",
   "metadata": {
    "papermill": {
     "duration": 0.008679,
     "end_time": "2022-10-19T10:56:05.718982",
     "exception": false,
     "start_time": "2022-10-19T10:56:05.710303",
     "status": "completed"
    },
    "tags": []
   },
   "source": [
    "# Date Cleaning Function"
   ]
  },
  {
   "cell_type": "code",
   "execution_count": 4,
   "id": "f7284a10",
   "metadata": {
    "execution": {
     "iopub.execute_input": "2022-10-19T10:56:05.738622Z",
     "iopub.status.busy": "2022-10-19T10:56:05.738233Z",
     "iopub.status.idle": "2022-10-19T10:56:05.744618Z",
     "shell.execute_reply": "2022-10-19T10:56:05.743200Z"
    },
    "papermill": {
     "duration": 0.018876,
     "end_time": "2022-10-19T10:56:05.746947",
     "exception": false,
     "start_time": "2022-10-19T10:56:05.728071",
     "status": "completed"
    },
    "tags": []
   },
   "outputs": [],
   "source": [
    "def clean_date(date):\n",
    "    i=0\n",
    "    for x in date:\n",
    "        # print(x)\n",
    "        if x=='2days':\n",
    "            date[i]=48\n",
    "        else:\n",
    "            date[i]=10\n",
    "        i+=1\n",
    "    return date"
   ]
  },
  {
   "cell_type": "markdown",
   "id": "703da930",
   "metadata": {
    "papermill": {
     "duration": 0.008648,
     "end_time": "2022-10-19T10:56:05.764581",
     "exception": false,
     "start_time": "2022-10-19T10:56:05.755933",
     "status": "completed"
    },
    "tags": []
   },
   "source": [
    "# Income Cleaning Function"
   ]
  },
  {
   "cell_type": "code",
   "execution_count": 5,
   "id": "5539aab4",
   "metadata": {
    "execution": {
     "iopub.execute_input": "2022-10-19T10:56:05.784284Z",
     "iopub.status.busy": "2022-10-19T10:56:05.783877Z",
     "iopub.status.idle": "2022-10-19T10:56:05.791067Z",
     "shell.execute_reply": "2022-10-19T10:56:05.790070Z"
    },
    "papermill": {
     "duration": 0.019584,
     "end_time": "2022-10-19T10:56:05.793229",
     "exception": false,
     "start_time": "2022-10-19T10:56:05.773645",
     "status": "completed"
    },
    "tags": []
   },
   "outputs": [],
   "source": [
    "def clean_income(data):    \n",
    "    for i in range(len(data)):\n",
    "        x=data[i]\n",
    "        if x=='₹100000 or More':\n",
    "            data[i]=100000\n",
    "        elif x=='Less than ₹12500':\n",
    "            data[i]=12500\n",
    "        else:\n",
    "            s=x.strip().split('-')\n",
    "            a=float(s[0][1:])\n",
    "            b=float(s[1][2:])\n",
    "            data[i]=float((a+b)*0.5) # average calculation\n",
    "    return data"
   ]
  },
  {
   "cell_type": "markdown",
   "id": "42aa64d5",
   "metadata": {
    "papermill": {
     "duration": 0.008768,
     "end_time": "2022-10-19T10:56:05.810992",
     "exception": false,
     "start_time": "2022-10-19T10:56:05.802224",
     "status": "completed"
    },
    "tags": []
   },
   "source": [
    "# Age Cleaning Function"
   ]
  },
  {
   "cell_type": "code",
   "execution_count": 6,
   "id": "8abe5e5d",
   "metadata": {
    "execution": {
     "iopub.execute_input": "2022-10-19T10:56:05.831097Z",
     "iopub.status.busy": "2022-10-19T10:56:05.830490Z",
     "iopub.status.idle": "2022-10-19T10:56:05.836811Z",
     "shell.execute_reply": "2022-10-19T10:56:05.835559Z"
    },
    "papermill": {
     "duration": 0.019235,
     "end_time": "2022-10-19T10:56:05.839097",
     "exception": false,
     "start_time": "2022-10-19T10:56:05.819862",
     "status": "completed"
    },
    "tags": []
   },
   "outputs": [],
   "source": [
    "def clean_age(age):\n",
    "    i=0\n",
    "    for x in age:\n",
    "        if x==\"50plus\":\n",
    "            age[i]=52\n",
    "        if x==\"below21\":\n",
    "            age[i]=18\n",
    "        i+=1\n",
    "    return age"
   ]
  },
  {
   "cell_type": "markdown",
   "id": "1edaafbd",
   "metadata": {
    "papermill": {
     "duration": 0.008586,
     "end_time": "2022-10-19T10:56:05.856566",
     "exception": false,
     "start_time": "2022-10-19T10:56:05.847980",
     "status": "completed"
    },
    "tags": []
   },
   "source": [
    "# Calling Cleaning Function"
   ]
  },
  {
   "cell_type": "code",
   "execution_count": 7,
   "id": "11f66c0b",
   "metadata": {
    "execution": {
     "iopub.execute_input": "2022-10-19T10:56:05.875922Z",
     "iopub.status.busy": "2022-10-19T10:56:05.875528Z",
     "iopub.status.idle": "2022-10-19T10:56:05.995060Z",
     "shell.execute_reply": "2022-10-19T10:56:05.994010Z"
    },
    "papermill": {
     "duration": 0.132646,
     "end_time": "2022-10-19T10:56:05.997988",
     "exception": false,
     "start_time": "2022-10-19T10:56:05.865342",
     "status": "completed"
    },
    "tags": []
   },
   "outputs": [],
   "source": [
    "temp=df['offer expiration'].copy()\n",
    "temp=clean_date(temp)\n",
    "df['offer expiration']=temp\n",
    "# temp\n",
    "# For Test Data\n",
    "temp=df_test['offer expiration'].copy()\n",
    "temp=clean_date(temp)\n",
    "df_test['offer expiration']=temp"
   ]
  },
  {
   "cell_type": "code",
   "execution_count": 8,
   "id": "9c718e06",
   "metadata": {
    "execution": {
     "iopub.execute_input": "2022-10-19T10:56:06.018849Z",
     "iopub.status.busy": "2022-10-19T10:56:06.018414Z",
     "iopub.status.idle": "2022-10-19T10:56:06.213622Z",
     "shell.execute_reply": "2022-10-19T10:56:06.212636Z"
    },
    "papermill": {
     "duration": 0.208694,
     "end_time": "2022-10-19T10:56:06.216430",
     "exception": false,
     "start_time": "2022-10-19T10:56:06.007736",
     "status": "completed"
    },
    "tags": []
   },
   "outputs": [],
   "source": [
    "temp=df['income_range'].copy()\n",
    "temp=clean_income(temp)\n",
    "df['income_range']=temp\n",
    "# temp\n",
    "# For Test Data\n",
    "temp=df_test['income_range'].copy()\n",
    "temp=clean_income(temp)\n",
    "df_test['income_range']=temp"
   ]
  },
  {
   "cell_type": "code",
   "execution_count": 9,
   "id": "53cffd63",
   "metadata": {
    "execution": {
     "iopub.execute_input": "2022-10-19T10:56:06.236094Z",
     "iopub.status.busy": "2022-10-19T10:56:06.235696Z",
     "iopub.status.idle": "2022-10-19T10:56:06.266263Z",
     "shell.execute_reply": "2022-10-19T10:56:06.265000Z"
    },
    "papermill": {
     "duration": 0.043136,
     "end_time": "2022-10-19T10:56:06.268697",
     "exception": false,
     "start_time": "2022-10-19T10:56:06.225561",
     "status": "completed"
    },
    "tags": []
   },
   "outputs": [],
   "source": [
    "temp=df['age'].copy()\n",
    "temp=clean_age(temp)\n",
    "df['age']=temp\n",
    "# temp\n",
    "# For Test Data\n",
    "temp=df_test['age'].copy()\n",
    "temp=clean_age(temp)\n",
    "df_test['age']=temp"
   ]
  },
  {
   "cell_type": "markdown",
   "id": "ee505114",
   "metadata": {
    "papermill": {
     "duration": 0.008781,
     "end_time": "2022-10-19T10:56:06.286868",
     "exception": false,
     "start_time": "2022-10-19T10:56:06.278087",
     "status": "completed"
    },
    "tags": []
   },
   "source": [
    "# Cleaned DataSet"
   ]
  },
  {
   "cell_type": "code",
   "execution_count": 10,
   "id": "62de3d5a",
   "metadata": {
    "execution": {
     "iopub.execute_input": "2022-10-19T10:56:06.306942Z",
     "iopub.status.busy": "2022-10-19T10:56:06.306531Z",
     "iopub.status.idle": "2022-10-19T10:56:06.311213Z",
     "shell.execute_reply": "2022-10-19T10:56:06.310142Z"
    },
    "papermill": {
     "duration": 0.016992,
     "end_time": "2022-10-19T10:56:06.313207",
     "exception": false,
     "start_time": "2022-10-19T10:56:06.296215",
     "status": "completed"
    },
    "tags": []
   },
   "outputs": [],
   "source": [
    "# df"
   ]
  },
  {
   "cell_type": "code",
   "execution_count": 11,
   "id": "6d2d0f3c",
   "metadata": {
    "execution": {
     "iopub.execute_input": "2022-10-19T10:56:06.332753Z",
     "iopub.status.busy": "2022-10-19T10:56:06.332355Z",
     "iopub.status.idle": "2022-10-19T10:56:06.336743Z",
     "shell.execute_reply": "2022-10-19T10:56:06.335664Z"
    },
    "papermill": {
     "duration": 0.016605,
     "end_time": "2022-10-19T10:56:06.338868",
     "exception": false,
     "start_time": "2022-10-19T10:56:06.322263",
     "status": "completed"
    },
    "tags": []
   },
   "outputs": [],
   "source": [
    "# 2,4,11,13,19,21,25"
   ]
  },
  {
   "cell_type": "code",
   "execution_count": 12,
   "id": "129b2a44",
   "metadata": {
    "execution": {
     "iopub.execute_input": "2022-10-19T10:56:06.358448Z",
     "iopub.status.busy": "2022-10-19T10:56:06.358025Z",
     "iopub.status.idle": "2022-10-19T10:56:06.364157Z",
     "shell.execute_reply": "2022-10-19T10:56:06.363087Z"
    },
    "papermill": {
     "duration": 0.018681,
     "end_time": "2022-10-19T10:56:06.366403",
     "exception": false,
     "start_time": "2022-10-19T10:56:06.347722",
     "status": "completed"
    },
    "tags": []
   },
   "outputs": [],
   "source": [
    "target=[]\n",
    "for x in df.columns:\n",
    "    # print(type(x))\n",
    "    # if(df.columns.get_loc(x) not in (2,4,11,13,19,21,25)):\n",
    "    # dicarding extra cloumns for model     \n",
    "    if(df.columns.get_loc(x) not in {2,4,11,13,19,21,25,9,10,3}):\n",
    "        target.append(x)\n",
    "# target"
   ]
  },
  {
   "cell_type": "code",
   "execution_count": 13,
   "id": "8c5cfaee",
   "metadata": {
    "execution": {
     "iopub.execute_input": "2022-10-19T10:56:06.386599Z",
     "iopub.status.busy": "2022-10-19T10:56:06.386202Z",
     "iopub.status.idle": "2022-10-19T10:56:06.421814Z",
     "shell.execute_reply": "2022-10-19T10:56:06.420606Z"
    },
    "papermill": {
     "duration": 0.048886,
     "end_time": "2022-10-19T10:56:06.424725",
     "exception": false,
     "start_time": "2022-10-19T10:56:06.375839",
     "status": "completed"
    },
    "tags": []
   },
   "outputs": [
    {
     "name": "stdout",
     "output_type": "stream",
     "text": [
      "<class 'pandas.core.frame.DataFrame'>\n",
      "RangeIndex: 12379 entries, 0 to 12378\n",
      "Data columns (total 21 columns):\n",
      " #   Column                              Non-Null Count  Dtype \n",
      "---  ------                              --------------  ----- \n",
      " 0   offer expiration                    12379 non-null  object\n",
      " 1   income_range                        12379 non-null  object\n",
      " 2   Marital Status                      12379 non-null  object\n",
      " 3   restaurant type                     12379 non-null  object\n",
      " 4   age                                 12379 non-null  object\n",
      " 5   Prefer western over chinese         12379 non-null  int64 \n",
      " 6   gender                              12379 non-null  object\n",
      " 7   restuarant_same_direction_house     12379 non-null  int64 \n",
      " 8   Cooks regularly                     12379 non-null  int64 \n",
      " 9   Customer type                       12379 non-null  object\n",
      " 10  Qualification                       12379 non-null  object\n",
      " 11  is foodie                           12379 non-null  int64 \n",
      " 12  Job/Job Industry                    12379 non-null  object\n",
      " 13  has Children                        12379 non-null  int64 \n",
      " 14  visit restaurant with rating (avg)  12379 non-null  int64 \n",
      " 15  temperature                         12379 non-null  int64 \n",
      " 16  Travel Time                         12379 non-null  int64 \n",
      " 17  Climate                             12379 non-null  object\n",
      " 18  drop location                       12379 non-null  object\n",
      " 19  Prefer home food                    12379 non-null  int64 \n",
      " 20  Offer Accepted                      12379 non-null  object\n",
      "dtypes: int64(9), object(12)\n",
      "memory usage: 2.0+ MB\n"
     ]
    }
   ],
   "source": [
    "df[target].info()"
   ]
  },
  {
   "cell_type": "markdown",
   "id": "095fe6a8",
   "metadata": {
    "papermill": {
     "duration": 0.008722,
     "end_time": "2022-10-19T10:56:06.442516",
     "exception": false,
     "start_time": "2022-10-19T10:56:06.433794",
     "status": "completed"
    },
    "tags": []
   },
   "source": [
    "# Renaming Featues -"
   ]
  },
  {
   "cell_type": "code",
   "execution_count": 14,
   "id": "1c708b51",
   "metadata": {
    "execution": {
     "iopub.execute_input": "2022-10-19T10:56:06.462627Z",
     "iopub.status.busy": "2022-10-19T10:56:06.462265Z",
     "iopub.status.idle": "2022-10-19T10:56:06.472272Z",
     "shell.execute_reply": "2022-10-19T10:56:06.471387Z"
    },
    "papermill": {
     "duration": 0.022881,
     "end_time": "2022-10-19T10:56:06.474447",
     "exception": false,
     "start_time": "2022-10-19T10:56:06.451566",
     "status": "completed"
    },
    "tags": []
   },
   "outputs": [],
   "source": [
    "df=df[target]\n",
    "# For Test Data\n",
    "temp=target[:-1]\n",
    "df_test=df_test[temp]"
   ]
  },
  {
   "cell_type": "code",
   "execution_count": 15,
   "id": "d40992b1",
   "metadata": {
    "execution": {
     "iopub.execute_input": "2022-10-19T10:56:06.495018Z",
     "iopub.status.busy": "2022-10-19T10:56:06.494335Z",
     "iopub.status.idle": "2022-10-19T10:56:06.501699Z",
     "shell.execute_reply": "2022-10-19T10:56:06.500624Z"
    },
    "papermill": {
     "duration": 0.020285,
     "end_time": "2022-10-19T10:56:06.503923",
     "exception": false,
     "start_time": "2022-10-19T10:56:06.483638",
     "status": "completed"
    },
    "tags": []
   },
   "outputs": [],
   "source": [
    "target[0]=\"offer_expiration(hrs)\"\n",
    "target[1]='income_range'\n",
    "target[2]='shaadi'\n",
    "target[3]='restaurant_type'\n",
    "target[4]='age'\n",
    "target[5]='western/chinese'\n",
    "target[6]='gender'\n",
    "target[7]='restuarant_same_direction_house'\n",
    "target[8]='cooks_regularly'\n",
    "target[9]='customer_type'\n",
    "target[10]='education'\n",
    "target[11]='is_foodie'\n",
    "target[12]='industry'\n",
    "target[13]='children'\n",
    "target[14]='visit_restaurant_with_rating_(avg)'\n",
    "target[15]='temperature'\n",
    "target[16]='travel_time'\n",
    "target[17]='climate'\n",
    "target[18]='drop_location'\n",
    "target[19]='prefer_home_food'\n",
    "target[20]='offer_accepted'"
   ]
  },
  {
   "cell_type": "code",
   "execution_count": 16,
   "id": "d660c587",
   "metadata": {
    "execution": {
     "iopub.execute_input": "2022-10-19T10:56:06.526040Z",
     "iopub.status.busy": "2022-10-19T10:56:06.525352Z",
     "iopub.status.idle": "2022-10-19T10:56:06.530440Z",
     "shell.execute_reply": "2022-10-19T10:56:06.529386Z"
    },
    "papermill": {
     "duration": 0.019561,
     "end_time": "2022-10-19T10:56:06.532918",
     "exception": false,
     "start_time": "2022-10-19T10:56:06.513357",
     "status": "completed"
    },
    "tags": []
   },
   "outputs": [],
   "source": [
    "df.columns=target\n",
    "# For Test Data\n",
    "temp=target[:-1]\n",
    "df_test.columns=temp"
   ]
  },
  {
   "cell_type": "markdown",
   "id": "4b3f0075",
   "metadata": {
    "papermill": {
     "duration": 0.008658,
     "end_time": "2022-10-19T10:56:06.550910",
     "exception": false,
     "start_time": "2022-10-19T10:56:06.542252",
     "status": "completed"
    },
    "tags": []
   },
   "source": [
    "# **Final Dataset After Cleaning**"
   ]
  },
  {
   "cell_type": "code",
   "execution_count": 17,
   "id": "96277264",
   "metadata": {
    "execution": {
     "iopub.execute_input": "2022-10-19T10:56:06.570633Z",
     "iopub.status.busy": "2022-10-19T10:56:06.570253Z",
     "iopub.status.idle": "2022-10-19T10:56:06.574774Z",
     "shell.execute_reply": "2022-10-19T10:56:06.573555Z"
    },
    "papermill": {
     "duration": 0.016966,
     "end_time": "2022-10-19T10:56:06.576901",
     "exception": false,
     "start_time": "2022-10-19T10:56:06.559935",
     "status": "completed"
    },
    "tags": []
   },
   "outputs": [],
   "source": [
    "# df"
   ]
  },
  {
   "cell_type": "code",
   "execution_count": 18,
   "id": "ee06c857",
   "metadata": {
    "execution": {
     "iopub.execute_input": "2022-10-19T10:56:06.596611Z",
     "iopub.status.busy": "2022-10-19T10:56:06.596214Z",
     "iopub.status.idle": "2022-10-19T10:56:06.600866Z",
     "shell.execute_reply": "2022-10-19T10:56:06.599659Z"
    },
    "papermill": {
     "duration": 0.017165,
     "end_time": "2022-10-19T10:56:06.603084",
     "exception": false,
     "start_time": "2022-10-19T10:56:06.585919",
     "status": "completed"
    },
    "tags": []
   },
   "outputs": [],
   "source": [
    "# df_test"
   ]
  },
  {
   "cell_type": "code",
   "execution_count": 19,
   "id": "0aa106d3",
   "metadata": {
    "execution": {
     "iopub.execute_input": "2022-10-19T10:56:06.623041Z",
     "iopub.status.busy": "2022-10-19T10:56:06.622686Z",
     "iopub.status.idle": "2022-10-19T10:56:06.744890Z",
     "shell.execute_reply": "2022-10-19T10:56:06.743579Z"
    },
    "papermill": {
     "duration": 0.135529,
     "end_time": "2022-10-19T10:56:06.747693",
     "exception": false,
     "start_time": "2022-10-19T10:56:06.612164",
     "status": "completed"
    },
    "tags": []
   },
   "outputs": [],
   "source": [
    "df.to_csv('train1.csv',index=False)\n",
    "df=None\n",
    "df=pd.read_csv('./train1.csv')"
   ]
  },
  {
   "cell_type": "markdown",
   "id": "517b6b29",
   "metadata": {
    "papermill": {
     "duration": 0.008659,
     "end_time": "2022-10-19T10:56:06.765571",
     "exception": false,
     "start_time": "2022-10-19T10:56:06.756912",
     "status": "completed"
    },
    "tags": []
   },
   "source": [
    "# Split the DataSet into Train and Test"
   ]
  },
  {
   "cell_type": "code",
   "execution_count": 20,
   "id": "77de70c5",
   "metadata": {
    "execution": {
     "iopub.execute_input": "2022-10-19T10:56:06.785568Z",
     "iopub.status.busy": "2022-10-19T10:56:06.785172Z",
     "iopub.status.idle": "2022-10-19T10:56:06.794207Z",
     "shell.execute_reply": "2022-10-19T10:56:06.793356Z"
    },
    "papermill": {
     "duration": 0.0215,
     "end_time": "2022-10-19T10:56:06.796210",
     "exception": false,
     "start_time": "2022-10-19T10:56:06.774710",
     "status": "completed"
    },
    "tags": []
   },
   "outputs": [],
   "source": [
    "features=df.columns[:-1]\n",
    "target=df.columns[-1]\n",
    "X=df[features]\n",
    "y=df[target]"
   ]
  },
  {
   "cell_type": "code",
   "execution_count": 21,
   "id": "05436fb1",
   "metadata": {
    "execution": {
     "iopub.execute_input": "2022-10-19T10:56:06.816524Z",
     "iopub.status.busy": "2022-10-19T10:56:06.815888Z",
     "iopub.status.idle": "2022-10-19T10:56:06.825791Z",
     "shell.execute_reply": "2022-10-19T10:56:06.824947Z"
    },
    "papermill": {
     "duration": 0.022743,
     "end_time": "2022-10-19T10:56:06.828081",
     "exception": false,
     "start_time": "2022-10-19T10:56:06.805338",
     "status": "completed"
    },
    "tags": []
   },
   "outputs": [],
   "source": [
    "X_train, X_test, y_train, y_test = train_test_split(\n",
    "     X, y, \n",
    "    test_size=0.20,\n",
    "    random_state=42,\n",
    "    shuffle=True\n",
    ")"
   ]
  },
  {
   "cell_type": "markdown",
   "id": "bd391915",
   "metadata": {
    "papermill": {
     "duration": 0.008691,
     "end_time": "2022-10-19T10:56:06.846025",
     "exception": false,
     "start_time": "2022-10-19T10:56:06.837334",
     "status": "completed"
    },
    "tags": []
   },
   "source": [
    "# PipeLine Declearation"
   ]
  },
  {
   "cell_type": "code",
   "execution_count": 22,
   "id": "e0075d7e",
   "metadata": {
    "execution": {
     "iopub.execute_input": "2022-10-19T10:56:06.866343Z",
     "iopub.status.busy": "2022-10-19T10:56:06.865907Z",
     "iopub.status.idle": "2022-10-19T10:56:06.874889Z",
     "shell.execute_reply": "2022-10-19T10:56:06.873761Z"
    },
    "papermill": {
     "duration": 0.022385,
     "end_time": "2022-10-19T10:56:06.877414",
     "exception": false,
     "start_time": "2022-10-19T10:56:06.855029",
     "status": "completed"
    },
    "tags": []
   },
   "outputs": [],
   "source": [
    "from sklearn.compose import make_column_selector as selector\n",
    "\n",
    "numerical_columns_selector = selector(dtype_exclude=object)\n",
    "categorical_columns_selector = selector(dtype_include=object)\n",
    "\n",
    "numerical_columns = numerical_columns_selector(X)\n",
    "categorical_columns = categorical_columns_selector(X)"
   ]
  },
  {
   "cell_type": "code",
   "execution_count": 23,
   "id": "88554d2c",
   "metadata": {
    "execution": {
     "iopub.execute_input": "2022-10-19T10:56:06.897925Z",
     "iopub.status.busy": "2022-10-19T10:56:06.897553Z",
     "iopub.status.idle": "2022-10-19T10:56:06.904511Z",
     "shell.execute_reply": "2022-10-19T10:56:06.903368Z"
    },
    "papermill": {
     "duration": 0.019932,
     "end_time": "2022-10-19T10:56:06.906926",
     "exception": false,
     "start_time": "2022-10-19T10:56:06.886994",
     "status": "completed"
    },
    "tags": []
   },
   "outputs": [],
   "source": [
    "categorical_transformer = Pipeline(\n",
    "    steps=[(\n",
    "    \"encoder\",OneHotEncoder()\n",
    "    )]\n",
    ")\n",
    "numeric_transformer = Pipeline(\n",
    "    steps=[(\"scaler\", StandardScaler())]\n",
    ")\n",
    "preprocessor = ColumnTransformer(\n",
    "    transformers=[\n",
    "        (\"numerical\", numeric_transformer, numerical_columns),\n",
    "        (\"categorical\", categorical_transformer, categorical_columns),\n",
    "    ]\n",
    ")\n",
    "pipe=Pipeline(steps=[\n",
    "    ('preprocess',preprocessor),\n",
    "    ('model',RandomForestClassifier(\n",
    "#         max_iter=10000,\n",
    "        n_jobs=-1\n",
    "    ))\n",
    "])"
   ]
  },
  {
   "cell_type": "markdown",
   "id": "143d7770",
   "metadata": {
    "papermill": {
     "duration": 0.008725,
     "end_time": "2022-10-19T10:56:06.924998",
     "exception": false,
     "start_time": "2022-10-19T10:56:06.916273",
     "status": "completed"
    },
    "tags": []
   },
   "source": [
    "***Label Transform***"
   ]
  },
  {
   "cell_type": "code",
   "execution_count": 24,
   "id": "41634670",
   "metadata": {
    "execution": {
     "iopub.execute_input": "2022-10-19T10:56:06.945055Z",
     "iopub.status.busy": "2022-10-19T10:56:06.944648Z",
     "iopub.status.idle": "2022-10-19T10:56:06.953883Z",
     "shell.execute_reply": "2022-10-19T10:56:06.952508Z"
    },
    "papermill": {
     "duration": 0.021861,
     "end_time": "2022-10-19T10:56:06.956137",
     "exception": false,
     "start_time": "2022-10-19T10:56:06.934276",
     "status": "completed"
    },
    "tags": []
   },
   "outputs": [],
   "source": [
    "lb=LabelEncoder()\n",
    "lb.fit(y_train)\n",
    "y_train=lb.transform(y_train)\n",
    "y_test=lb.transform(y_test)"
   ]
  },
  {
   "cell_type": "code",
   "execution_count": 25,
   "id": "2869f7a7",
   "metadata": {
    "execution": {
     "iopub.execute_input": "2022-10-19T10:56:06.975984Z",
     "iopub.status.busy": "2022-10-19T10:56:06.975568Z",
     "iopub.status.idle": "2022-10-19T10:56:07.800795Z",
     "shell.execute_reply": "2022-10-19T10:56:07.799664Z"
    },
    "papermill": {
     "duration": 0.838096,
     "end_time": "2022-10-19T10:56:07.803389",
     "exception": false,
     "start_time": "2022-10-19T10:56:06.965293",
     "status": "completed"
    },
    "tags": []
   },
   "outputs": [
    {
     "data": {
      "text/plain": [
       "Pipeline(steps=[('preprocess',\n",
       "                 ColumnTransformer(transformers=[('numerical',\n",
       "                                                  Pipeline(steps=[('scaler',\n",
       "                                                                   StandardScaler())]),\n",
       "                                                  ['offer_expiration(hrs)',\n",
       "                                                   'income_range', 'age',\n",
       "                                                   'western/chinese',\n",
       "                                                   'restuarant_same_direction_house',\n",
       "                                                   'cooks_regularly',\n",
       "                                                   'is_foodie', 'children',\n",
       "                                                   'visit_restaurant_with_rating_(avg)',\n",
       "                                                   'temperature', 'travel_time',\n",
       "                                                   'prefer_home_food']),\n",
       "                                                 ('categorical',\n",
       "                                                  Pipeline(steps=[('encoder',\n",
       "                                                                   OneHotEncoder())]),\n",
       "                                                  ['shaadi', 'restaurant_type',\n",
       "                                                   'gender', 'customer_type',\n",
       "                                                   'education', 'industry',\n",
       "                                                   'climate',\n",
       "                                                   'drop_location'])])),\n",
       "                ('model', RandomForestClassifier(n_jobs=-1))])"
      ]
     },
     "execution_count": 25,
     "metadata": {},
     "output_type": "execute_result"
    }
   ],
   "source": [
    "pipe.fit(X_train,y_train)"
   ]
  },
  {
   "cell_type": "code",
   "execution_count": 26,
   "id": "05f7fae5",
   "metadata": {
    "execution": {
     "iopub.execute_input": "2022-10-19T10:56:07.824305Z",
     "iopub.status.busy": "2022-10-19T10:56:07.823880Z",
     "iopub.status.idle": "2022-10-19T10:56:08.087516Z",
     "shell.execute_reply": "2022-10-19T10:56:08.086174Z"
    },
    "papermill": {
     "duration": 0.277962,
     "end_time": "2022-10-19T10:56:08.091189",
     "exception": false,
     "start_time": "2022-10-19T10:56:07.813227",
     "status": "completed"
    },
    "tags": []
   },
   "outputs": [
    {
     "name": "stdout",
     "output_type": "stream",
     "text": [
      "Emperical/Training Error 1.0\n",
      "Genrealisation/Test Error 0.6094507269789984\n"
     ]
    }
   ],
   "source": [
    "print('Emperical/Training Error',pipe.score(X_train,y_train))\n",
    "print('Genrealisation/Test Error',pipe.score(X_test,y_test))"
   ]
  },
  {
   "cell_type": "code",
   "execution_count": 27,
   "id": "2953b00e",
   "metadata": {
    "execution": {
     "iopub.execute_input": "2022-10-19T10:56:08.112877Z",
     "iopub.status.busy": "2022-10-19T10:56:08.111925Z",
     "iopub.status.idle": "2022-10-19T10:56:08.249741Z",
     "shell.execute_reply": "2022-10-19T10:56:08.248349Z"
    },
    "papermill": {
     "duration": 0.151061,
     "end_time": "2022-10-19T10:56:08.252328",
     "exception": false,
     "start_time": "2022-10-19T10:56:08.101267",
     "status": "completed"
    },
    "tags": []
   },
   "outputs": [
    {
     "data": {
      "text/plain": [
       "array(['Yes', 'Yes', 'Yes', ..., 'Yes', 'No', 'No'], dtype=object)"
      ]
     },
     "execution_count": 27,
     "metadata": {},
     "output_type": "execute_result"
    }
   ],
   "source": [
    "out=pipe.predict(df_test)\n",
    "out=lb.inverse_transform(out)\n",
    "out"
   ]
  },
  {
   "cell_type": "code",
   "execution_count": 28,
   "id": "99fa743d",
   "metadata": {
    "execution": {
     "iopub.execute_input": "2022-10-19T10:56:08.273621Z",
     "iopub.status.busy": "2022-10-19T10:56:08.273246Z",
     "iopub.status.idle": "2022-10-19T10:56:08.456223Z",
     "shell.execute_reply": "2022-10-19T10:56:08.455011Z"
    },
    "papermill": {
     "duration": 0.196155,
     "end_time": "2022-10-19T10:56:08.458694",
     "exception": false,
     "start_time": "2022-10-19T10:56:08.262539",
     "status": "completed"
    },
    "tags": []
   },
   "outputs": [
    {
     "data": {
      "text/plain": [
       "<AxesSubplot:xlabel='Offer Accepted', ylabel='count'>"
      ]
     },
     "execution_count": 28,
     "metadata": {},
     "output_type": "execute_result"
    },
    {
     "data": {
      "image/png": "[encoded data removed]",
      "text/plain": [
       "<Figure size 432x288 with 1 Axes>"
      ]
     },
     "metadata": {
      "needs_background": "light"
     },
     "output_type": "display_data"
    }
   ],
   "source": [
    "submission=pd.DataFrame(columns=['id','Offer Accepted'])\n",
    "submission['id']=[i for i in range(len(df_test))]\n",
    "submission['Offer Accepted']=out\n",
    "sns.countplot(x=submission['Offer Accepted'])"
   ]
  },
  {
   "cell_type": "code",
   "execution_count": 29,
   "id": "b1b7cd64",
   "metadata": {
    "execution": {
     "iopub.execute_input": "2022-10-19T10:56:08.480541Z",
     "iopub.status.busy": "2022-10-19T10:56:08.479750Z",
     "iopub.status.idle": "2022-10-19T10:56:08.491945Z",
     "shell.execute_reply": "2022-10-19T10:56:08.491025Z"
    },
    "papermill": {
     "duration": 0.026068,
     "end_time": "2022-10-19T10:56:08.494670",
     "exception": false,
     "start_time": "2022-10-19T10:56:08.468602",
     "status": "completed"
    },
    "tags": []
   },
   "outputs": [],
   "source": [
    "submission.to_csv('submission.csv',index=False)"
   ]
  }
 ],
 "metadata": {
  "kernelspec": {
   "display_name": "Python 3",
   "language": "python",
   "name": "python3"
  },
  "language_info": {
   "codemirror_mode": {
    "name": "ipython",
    "version": 3
   },
   "file_extension": ".py",
   "mimetype": "text/x-python",
   "name": "python",
   "nbconvert_exporter": "python",
   "pygments_lexer": "ipython3",
   "version": "3.7.12"
  },
  "papermill": {
   "default_parameters": {},
   "duration": 15.261327,
   "end_time": "2022-10-19T10:56:09.328555",
   "environment_variables": {},
   "exception": null,
   "input_path": "__notebook__.ipynb",
   "output_path": "__notebook__.ipynb",
   "parameters": {},
   "start_time": "2022-10-19T10:55:54.067228",
   "version": "2.3.4"
  }
 },
 "nbformat": 4,
 "nbformat_minor": 5
}
