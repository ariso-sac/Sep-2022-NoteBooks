{
 "cells": [
  {
   "cell_type": "code",
   "execution_count": 1,
   "id": "c5b93cad-be89-4155-81ca-551bfe46de6d",
   "metadata": {},
   "outputs": [],
   "source": [
    "import pandas as pd \n",
    "import numpy as np\n",
    "import matplotlib.pyplot as plt\n",
    "import seaborn as sns"
   ]
  },
  {
   "cell_type": "code",
   "execution_count": 2,
   "id": "d643cbc6-c3a2-4668-8a65-39aa5e6520f4",
   "metadata": {},
   "outputs": [],
   "source": [
    "from sklearn.model_selection import train_test_split\n",
    "from sklearn.linear_model import SGDRegressor\n",
    "from sklearn.metrics import r2_score , mean_squared_error"
   ]
  },
  {
   "cell_type": "code",
   "execution_count": 3,
   "id": "ad647c12-d5c1-4920-9654-d66f4d10359f",
   "metadata": {},
   "outputs": [],
   "source": [
    "url = 'https://drive.google.com/file/d/1v-uxWEgTI0GDCOTZOX3shUMkTf1a_CL7/view?usp=sharing'\n",
    "path = 'https://drive.google.com/uc?export=download&id='+url.split('/')[-2]\n",
    "df = pd.read_csv(path)"
   ]
  },
  {
   "cell_type": "code",
   "execution_count": 4,
   "id": "f48d7217-d781-4249-9a61-ec4da0653355",
   "metadata": {},
   "outputs": [
    {
     "data": {
      "text/html": [
       "<div>\n",
       "<style scoped>\n",
       "    .dataframe tbody tr th:only-of-type {\n",
       "        vertical-align: middle;\n",
       "    }\n",
       "\n",
       "    .dataframe tbody tr th {\n",
       "        vertical-align: top;\n",
       "    }\n",
       "\n",
       "    .dataframe thead th {\n",
       "        text-align: right;\n",
       "    }\n",
       "</style>\n",
       "<table border=\"1\" class=\"dataframe\">\n",
       "  <thead>\n",
       "    <tr style=\"text-align: right;\">\n",
       "      <th></th>\n",
       "      <th>Feature-1</th>\n",
       "      <th>Feature-2</th>\n",
       "      <th>Feature-3</th>\n",
       "      <th>Feature-4</th>\n",
       "      <th>Feature-5</th>\n",
       "      <th>Feature-6</th>\n",
       "      <th>Feature-7</th>\n",
       "      <th>Feature-8</th>\n",
       "      <th>Feature-9</th>\n",
       "      <th>Feature-10</th>\n",
       "      <th>Target</th>\n",
       "    </tr>\n",
       "  </thead>\n",
       "  <tbody>\n",
       "    <tr>\n",
       "      <th>0</th>\n",
       "      <td>-1.580</td>\n",
       "      <td>1.0500</td>\n",
       "      <td>1.060</td>\n",
       "      <td>-0.440</td>\n",
       "      <td>0.451</td>\n",
       "      <td>-0.0348</td>\n",
       "      <td>0.643</td>\n",
       "      <td>0.2650</td>\n",
       "      <td>0.268</td>\n",
       "      <td>-0.851</td>\n",
       "      <td>84.7</td>\n",
       "    </tr>\n",
       "    <tr>\n",
       "      <th>1</th>\n",
       "      <td>-0.832</td>\n",
       "      <td>-0.8660</td>\n",
       "      <td>-1.340</td>\n",
       "      <td>0.138</td>\n",
       "      <td>1.180</td>\n",
       "      <td>0.7330</td>\n",
       "      <td>-1.410</td>\n",
       "      <td>0.1350</td>\n",
       "      <td>-0.088</td>\n",
       "      <td>-1.550</td>\n",
       "      <td>-211.0</td>\n",
       "    </tr>\n",
       "    <tr>\n",
       "      <th>2</th>\n",
       "      <td>-0.237</td>\n",
       "      <td>2.0900</td>\n",
       "      <td>-3.930</td>\n",
       "      <td>0.296</td>\n",
       "      <td>0.352</td>\n",
       "      <td>-0.5010</td>\n",
       "      <td>0.961</td>\n",
       "      <td>-0.0287</td>\n",
       "      <td>1.820</td>\n",
       "      <td>0.938</td>\n",
       "      <td>-96.9</td>\n",
       "    </tr>\n",
       "    <tr>\n",
       "      <th>3</th>\n",
       "      <td>-1.170</td>\n",
       "      <td>-1.1300</td>\n",
       "      <td>-1.090</td>\n",
       "      <td>1.120</td>\n",
       "      <td>0.312</td>\n",
       "      <td>0.1830</td>\n",
       "      <td>0.448</td>\n",
       "      <td>-0.8190</td>\n",
       "      <td>-1.010</td>\n",
       "      <td>-1.080</td>\n",
       "      <td>-152.0</td>\n",
       "    </tr>\n",
       "    <tr>\n",
       "      <th>4</th>\n",
       "      <td>0.260</td>\n",
       "      <td>-0.0273</td>\n",
       "      <td>0.925</td>\n",
       "      <td>-1.150</td>\n",
       "      <td>-1.390</td>\n",
       "      <td>0.0251</td>\n",
       "      <td>0.627</td>\n",
       "      <td>0.0950</td>\n",
       "      <td>-0.280</td>\n",
       "      <td>-0.848</td>\n",
       "      <td>-57.7</td>\n",
       "    </tr>\n",
       "  </tbody>\n",
       "</table>\n",
       "</div>"
      ],
      "text/plain": [
       "   Feature-1  Feature-2  Feature-3  Feature-4  Feature-5  Feature-6  \\\n",
       "0     -1.580     1.0500      1.060     -0.440      0.451    -0.0348   \n",
       "1     -0.832    -0.8660     -1.340      0.138      1.180     0.7330   \n",
       "2     -0.237     2.0900     -3.930      0.296      0.352    -0.5010   \n",
       "3     -1.170    -1.1300     -1.090      1.120      0.312     0.1830   \n",
       "4      0.260    -0.0273      0.925     -1.150     -1.390     0.0251   \n",
       "\n",
       "   Feature-7  Feature-8  Feature-9  Feature-10  Target  \n",
       "0      0.643     0.2650      0.268      -0.851    84.7  \n",
       "1     -1.410     0.1350     -0.088      -1.550  -211.0  \n",
       "2      0.961    -0.0287      1.820       0.938   -96.9  \n",
       "3      0.448    -0.8190     -1.010      -1.080  -152.0  \n",
       "4      0.627     0.0950     -0.280      -0.848   -57.7  "
      ]
     },
     "execution_count": 4,
     "metadata": {},
     "output_type": "execute_result"
    }
   ],
   "source": [
    "df.head()"
   ]
  },
  {
   "cell_type": "code",
   "execution_count": 5,
   "id": "62bf39bc-430a-45cd-8260-3e521fb96540",
   "metadata": {},
   "outputs": [
    {
     "data": {
      "text/html": [
       "<div>\n",
       "<style scoped>\n",
       "    .dataframe tbody tr th:only-of-type {\n",
       "        vertical-align: middle;\n",
       "    }\n",
       "\n",
       "    .dataframe tbody tr th {\n",
       "        vertical-align: top;\n",
       "    }\n",
       "\n",
       "    .dataframe thead th {\n",
       "        text-align: right;\n",
       "    }\n",
       "</style>\n",
       "<table border=\"1\" class=\"dataframe\">\n",
       "  <thead>\n",
       "    <tr style=\"text-align: right;\">\n",
       "      <th></th>\n",
       "      <th>Feature-1</th>\n",
       "      <th>Feature-2</th>\n",
       "      <th>Feature-3</th>\n",
       "      <th>Feature-4</th>\n",
       "      <th>Feature-5</th>\n",
       "      <th>Feature-6</th>\n",
       "      <th>Feature-7</th>\n",
       "      <th>Feature-8</th>\n",
       "      <th>Feature-9</th>\n",
       "      <th>Feature-10</th>\n",
       "      <th>Target</th>\n",
       "    </tr>\n",
       "  </thead>\n",
       "  <tbody>\n",
       "    <tr>\n",
       "      <th>count</th>\n",
       "      <td>90000.000000</td>\n",
       "      <td>90000.000000</td>\n",
       "      <td>90000.000000</td>\n",
       "      <td>90000.000000</td>\n",
       "      <td>90000.000000</td>\n",
       "      <td>90000.000000</td>\n",
       "      <td>90000.000000</td>\n",
       "      <td>90000.000000</td>\n",
       "      <td>90000.000000</td>\n",
       "      <td>90000.000000</td>\n",
       "      <td>90000.000000</td>\n",
       "    </tr>\n",
       "    <tr>\n",
       "      <th>mean</th>\n",
       "      <td>0.000979</td>\n",
       "      <td>0.004667</td>\n",
       "      <td>-0.001799</td>\n",
       "      <td>0.010889</td>\n",
       "      <td>-0.003583</td>\n",
       "      <td>-0.000144</td>\n",
       "      <td>-0.005320</td>\n",
       "      <td>-0.004313</td>\n",
       "      <td>-0.004774</td>\n",
       "      <td>0.001181</td>\n",
       "      <td>-0.514561</td>\n",
       "    </tr>\n",
       "    <tr>\n",
       "      <th>std</th>\n",
       "      <td>1.001620</td>\n",
       "      <td>0.994640</td>\n",
       "      <td>1.001201</td>\n",
       "      <td>0.998378</td>\n",
       "      <td>0.999458</td>\n",
       "      <td>0.996845</td>\n",
       "      <td>0.998903</td>\n",
       "      <td>1.002483</td>\n",
       "      <td>1.000408</td>\n",
       "      <td>1.001353</td>\n",
       "      <td>193.868576</td>\n",
       "    </tr>\n",
       "    <tr>\n",
       "      <th>min</th>\n",
       "      <td>-4.280000</td>\n",
       "      <td>-4.000000</td>\n",
       "      <td>-4.210000</td>\n",
       "      <td>-4.200000</td>\n",
       "      <td>-4.200000</td>\n",
       "      <td>-3.970000</td>\n",
       "      <td>-5.190000</td>\n",
       "      <td>-4.050000</td>\n",
       "      <td>-4.430000</td>\n",
       "      <td>-4.480000</td>\n",
       "      <td>-790.000000</td>\n",
       "    </tr>\n",
       "    <tr>\n",
       "      <th>25%</th>\n",
       "      <td>-0.676000</td>\n",
       "      <td>-0.665000</td>\n",
       "      <td>-0.678000</td>\n",
       "      <td>-0.656000</td>\n",
       "      <td>-0.677000</td>\n",
       "      <td>-0.673000</td>\n",
       "      <td>-0.676000</td>\n",
       "      <td>-0.682000</td>\n",
       "      <td>-0.680000</td>\n",
       "      <td>-0.678000</td>\n",
       "      <td>-131.000000</td>\n",
       "    </tr>\n",
       "    <tr>\n",
       "      <th>50%</th>\n",
       "      <td>0.002295</td>\n",
       "      <td>0.004175</td>\n",
       "      <td>-0.003510</td>\n",
       "      <td>0.007945</td>\n",
       "      <td>0.000272</td>\n",
       "      <td>0.001840</td>\n",
       "      <td>-0.003535</td>\n",
       "      <td>-0.000602</td>\n",
       "      <td>-0.006185</td>\n",
       "      <td>0.002725</td>\n",
       "      <td>0.164500</td>\n",
       "    </tr>\n",
       "    <tr>\n",
       "      <th>75%</th>\n",
       "      <td>0.674000</td>\n",
       "      <td>0.674000</td>\n",
       "      <td>0.676000</td>\n",
       "      <td>0.685000</td>\n",
       "      <td>0.673000</td>\n",
       "      <td>0.673000</td>\n",
       "      <td>0.666000</td>\n",
       "      <td>0.672000</td>\n",
       "      <td>0.667000</td>\n",
       "      <td>0.676000</td>\n",
       "      <td>130.000000</td>\n",
       "    </tr>\n",
       "    <tr>\n",
       "      <th>max</th>\n",
       "      <td>4.100000</td>\n",
       "      <td>4.190000</td>\n",
       "      <td>4.380000</td>\n",
       "      <td>4.380000</td>\n",
       "      <td>4.730000</td>\n",
       "      <td>4.440000</td>\n",
       "      <td>4.600000</td>\n",
       "      <td>4.280000</td>\n",
       "      <td>4.190000</td>\n",
       "      <td>4.260000</td>\n",
       "      <td>810.000000</td>\n",
       "    </tr>\n",
       "  </tbody>\n",
       "</table>\n",
       "</div>"
      ],
      "text/plain": [
       "          Feature-1     Feature-2     Feature-3     Feature-4     Feature-5  \\\n",
       "count  90000.000000  90000.000000  90000.000000  90000.000000  90000.000000   \n",
       "mean       0.000979      0.004667     -0.001799      0.010889     -0.003583   \n",
       "std        1.001620      0.994640      1.001201      0.998378      0.999458   \n",
       "min       -4.280000     -4.000000     -4.210000     -4.200000     -4.200000   \n",
       "25%       -0.676000     -0.665000     -0.678000     -0.656000     -0.677000   \n",
       "50%        0.002295      0.004175     -0.003510      0.007945      0.000272   \n",
       "75%        0.674000      0.674000      0.676000      0.685000      0.673000   \n",
       "max        4.100000      4.190000      4.380000      4.380000      4.730000   \n",
       "\n",
       "          Feature-6     Feature-7     Feature-8     Feature-9    Feature-10  \\\n",
       "count  90000.000000  90000.000000  90000.000000  90000.000000  90000.000000   \n",
       "mean      -0.000144     -0.005320     -0.004313     -0.004774      0.001181   \n",
       "std        0.996845      0.998903      1.002483      1.000408      1.001353   \n",
       "min       -3.970000     -5.190000     -4.050000     -4.430000     -4.480000   \n",
       "25%       -0.673000     -0.676000     -0.682000     -0.680000     -0.678000   \n",
       "50%        0.001840     -0.003535     -0.000602     -0.006185      0.002725   \n",
       "75%        0.673000      0.666000      0.672000      0.667000      0.676000   \n",
       "max        4.440000      4.600000      4.280000      4.190000      4.260000   \n",
       "\n",
       "             Target  \n",
       "count  90000.000000  \n",
       "mean      -0.514561  \n",
       "std      193.868576  \n",
       "min     -790.000000  \n",
       "25%     -131.000000  \n",
       "50%        0.164500  \n",
       "75%      130.000000  \n",
       "max      810.000000  "
      ]
     },
     "execution_count": 5,
     "metadata": {},
     "output_type": "execute_result"
    }
   ],
   "source": [
    "df.describe()"
   ]
  },
  {
   "cell_type": "code",
   "execution_count": 6,
   "id": "719819b9-8fa3-4f87-af81-9e97cba6ee19",
   "metadata": {},
   "outputs": [],
   "source": [
    "features=df.columns[:-1]\n",
    "target=df.columns[-1]"
   ]
  },
  {
   "cell_type": "code",
   "execution_count": 7,
   "id": "61fe62b2-b102-4579-a270-bd2be802709b",
   "metadata": {},
   "outputs": [],
   "source": [
    "X=df[features]\n",
    "y=df[target]"
   ]
  },
  {
   "cell_type": "code",
   "execution_count": 8,
   "id": "c020725d-2ee9-4d73-88f8-1fa6089021b5",
   "metadata": {},
   "outputs": [],
   "source": [
    "X_train , X_test , y_train, y_test = train_test_split(X,y,\n",
    "                                                          random_state=10, test_size=0.3)"
   ]
  },
  {
   "cell_type": "code",
   "execution_count": 9,
   "id": "d6471c86-cf70-49d0-a534-0d4b11a68935",
   "metadata": {},
   "outputs": [],
   "source": [
    "reg=SGDRegressor(random_state=10)"
   ]
  },
  {
   "cell_type": "code",
   "execution_count": 10,
   "id": "c39d6b0a-5034-4f08-b268-f28ce38fb737",
   "metadata": {},
   "outputs": [
    {
     "data": {
      "text/plain": [
       "(63000, 10)"
      ]
     },
     "execution_count": 10,
     "metadata": {},
     "output_type": "execute_result"
    }
   ],
   "source": [
    "X_train.shape"
   ]
  },
  {
   "cell_type": "code",
   "execution_count": 11,
   "id": "811773c1-ab92-4c91-a429-0c2c72b39ead",
   "metadata": {},
   "outputs": [],
   "source": [
    "c=0\n",
    "i=0\n",
    "f = open(\"logreg.txt\", \"w\")\n",
    "for q in range(int(X_train.shape[0]/90)):\n",
    "    temp_X=X_train[c:c+90]\n",
    "    temp_y=y_train[c:c+90]\n",
    "    reg.partial_fit(temp_X,temp_y)\n",
    "    # print('For the itreation',i+1,' Intercept\\t',reg.intercept_,'\\nCofficient ',reg.coef_)\n",
    "    print('For the itreation',i+1,' Intercept\\t',reg.intercept_,'\\nCofficient ',reg.coef_,file=f)\n",
    "    c+=90\n",
    "    i+=1\n",
    "f.close()"
   ]
  },
  {
   "cell_type": "code",
   "execution_count": 12,
   "id": "e516f9ae-019d-4a4b-9352-5a81a1a809bc",
   "metadata": {},
   "outputs": [
    {
     "data": {
      "text/plain": [
       "63000"
      ]
     },
     "execution_count": 12,
     "metadata": {},
     "output_type": "execute_result"
    }
   ],
   "source": [
    "c"
   ]
  },
  {
   "cell_type": "code",
   "execution_count": 13,
   "id": "17f1ead0-5cdb-46c9-adfe-22183c63e604",
   "metadata": {},
   "outputs": [
    {
     "name": "stdout",
     "output_type": "stream",
     "text": [
      "Intercept\t [-0.0054532] \n",
      "Cofficient  [51.3212522  22.26535893 81.23762868 53.19615839 76.46565732 71.47204651\n",
      " 93.45092409 51.92198178 30.03910055 40.95656774]\n"
     ]
    }
   ],
   "source": [
    "print('Intercept\\t',reg.intercept_,'\\nCofficient ',reg.coef_)"
   ]
  },
  {
   "cell_type": "code",
   "execution_count": 14,
   "id": "c98445b6-2ded-4f0e-b699-7d78271335ce",
   "metadata": {},
   "outputs": [
    {
     "name": "stdout",
     "output_type": "stream",
     "text": [
      "Score of  Feature-1 \tscore\t 51.321252202404324\n",
      "Score of  Feature-2 \tscore\t 22.265358927203536\n",
      "Score of  Feature-3 \tscore\t 81.2376286796651\n",
      "Score of  Feature-4 \tscore\t 53.19615838585807\n",
      "Score of  Feature-5 \tscore\t 76.46565731934268\n",
      "Score of  Feature-6 \tscore\t 71.47204651461398\n",
      "Score of  Feature-7 \tscore\t 93.4509240886525\n",
      "Score of  Feature-8 \tscore\t 51.92198177723062\n",
      "Score of  Feature-9 \tscore\t 30.039100547136528\n",
      "Score of  Feature-10 \tscore\t 40.95656773978229\n"
     ]
    }
   ],
   "source": [
    "for i,j in zip(X_test.columns,reg.coef_):\n",
    "    print('Score of ',i,'\\tscore\\t',j)"
   ]
  },
  {
   "cell_type": "code",
   "execution_count": 15,
   "id": "1f4d6392-6f73-474c-bac5-f86ae069d5ab",
   "metadata": {},
   "outputs": [
    {
     "data": {
      "text/plain": [
       "0.9999919793766233"
      ]
     },
     "execution_count": 15,
     "metadata": {},
     "output_type": "execute_result"
    }
   ],
   "source": [
    "r2_score(y_test,reg.predict(X_test))"
   ]
  },
  {
   "cell_type": "code",
   "execution_count": 16,
   "id": "27b2cdb0-2313-4fbd-90f8-a278250dd1ec",
   "metadata": {},
   "outputs": [
    {
     "data": {
      "text/plain": [
       "0.9999919793766233"
      ]
     },
     "execution_count": 16,
     "metadata": {},
     "output_type": "execute_result"
    }
   ],
   "source": [
    "reg.score(X_test,y_test)"
   ]
  },
  {
   "cell_type": "code",
   "execution_count": null,
   "id": "6b282ceb-fb08-4288-bc9b-0e97c29c19fb",
   "metadata": {},
   "outputs": [],
   "source": []
  },
  {
   "cell_type": "code",
   "execution_count": null,
   "id": "802cf641-321c-4f9c-b382-e5eaefff8626",
   "metadata": {},
   "outputs": [],
   "source": []
  },
  {
   "cell_type": "code",
   "execution_count": null,
   "id": "1f7ff46d-1af9-4863-beb3-1b21aac597bd",
   "metadata": {},
   "outputs": [],
   "source": []
  },
  {
   "cell_type": "code",
   "execution_count": null,
   "id": "b185c902-5d32-4134-aeb5-5391185d050c",
   "metadata": {},
   "outputs": [],
   "source": []
  },
  {
   "cell_type": "code",
   "execution_count": null,
   "id": "341a27a8-45c3-46f5-95d0-e93389df61fb",
   "metadata": {},
   "outputs": [],
   "source": []
  }
 ],
 "metadata": {
  "kernelspec": {
   "display_name": "Python 3 (ipykernel)",
   "language": "python",
   "name": "python3"
  },
  "language_info": {
   "codemirror_mode": {
    "name": "ipython",
    "version": 3
   },
   "file_extension": ".py",
   "mimetype": "text/x-python",
   "name": "python",
   "nbconvert_exporter": "python",
   "pygments_lexer": "ipython3",
   "version": "3.8.10"
  }
 },
 "nbformat": 4,
 "nbformat_minor": 5
}
